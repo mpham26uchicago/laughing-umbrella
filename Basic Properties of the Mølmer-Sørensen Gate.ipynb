{
 "cells": [
  {
   "cell_type": "markdown",
   "metadata": {},
   "source": [
    "The Mølmer-Sørensen is parameterized two-qubits gate given by the unitary matrix\n",
    "\n",
    "\\begin{align} \\text{MS}(\\theta) = \n",
    "\\begin{pmatrix}\n",
    "\\cos \\big(\\frac{\\theta}{2} \\big) & 0 & 0 & i\\sin \\big(\\frac{\\theta}{2} \\big) \\\\\n",
    "0 & \\cos \\big(\\frac{\\theta}{2} \\big) & -i\\sin \\big(\\frac{\\theta}{2} \\big) & 0 \\\\\n",
    "0 & -i\\sin \\big(\\frac{\\theta}{2} \\big) & \\cos \\big(\\frac{\\theta}{2} \\big) & 0 \\\\\n",
    "i\\sin \\big(\\frac{\\theta}{2} \\big) & 0 & 0 & \\cos \\big(\\frac{\\theta}{2} \\big) \\\\\n",
    "\\end{pmatrix}\n",
    "\\end{align}"
   ]
  },
  {
   "cell_type": "code",
   "execution_count": 52,
   "metadata": {},
   "outputs": [],
   "source": [
    "from sympy import *"
   ]
  },
  {
   "cell_type": "code",
   "execution_count": 53,
   "metadata": {},
   "outputs": [],
   "source": [
    "theta = symbols('theta', real = True)"
   ]
  },
  {
   "cell_type": "code",
   "execution_count": 54,
   "metadata": {},
   "outputs": [],
   "source": [
    "MS = Matrix([[cos(theta/2), 0, 0, I*sin(theta/2)], \n",
    "        [0, cos(theta/2), -I*sin(theta/2), 0], \n",
    "        [0, -I*sin(theta/2), cos(theta/2), 0], \n",
    "        [I*sin(theta/2), 0, 0, cos(theta/2)]])"
   ]
  },
  {
   "cell_type": "code",
   "execution_count": 55,
   "metadata": {},
   "outputs": [],
   "source": [
    "M = simplify(MS.T@MS)"
   ]
  },
  {
   "cell_type": "code",
   "execution_count": 88,
   "metadata": {},
   "outputs": [],
   "source": [
    "P, D = M.diagonalize()"
   ]
  },
  {
   "cell_type": "code",
   "execution_count": 89,
   "metadata": {
    "scrolled": true
   },
   "outputs": [
    {
     "data": {
      "text/latex": [
       "$\\displaystyle \\left[\\begin{matrix}\\cos{\\left(\\theta \\right)} - i \\left|{\\sin{\\left(\\theta \\right)}}\\right| & 0 & 0 & 0\\\\0 & \\cos{\\left(\\theta \\right)} - i \\left|{\\sin{\\left(\\theta \\right)}}\\right| & 0 & 0\\\\0 & 0 & \\cos{\\left(\\theta \\right)} + i \\left|{\\sin{\\left(\\theta \\right)}}\\right| & 0\\\\0 & 0 & 0 & \\cos{\\left(\\theta \\right)} + i \\left|{\\sin{\\left(\\theta \\right)}}\\right|\\end{matrix}\\right]$"
      ],
      "text/plain": [
       "Matrix([\n",
       "[cos(theta) - I*Abs(sin(theta)),                              0,                              0,                              0],\n",
       "[                             0, cos(theta) - I*Abs(sin(theta)),                              0,                              0],\n",
       "[                             0,                              0, cos(theta) + I*Abs(sin(theta)),                              0],\n",
       "[                             0,                              0,                              0, cos(theta) + I*Abs(sin(theta))]])"
      ]
     },
     "execution_count": 89,
     "metadata": {},
     "output_type": "execute_result"
    }
   ],
   "source": [
    "simplify(D)"
   ]
  },
  {
   "cell_type": "code",
   "execution_count": 77,
   "metadata": {},
   "outputs": [],
   "source": [
    "C = Matrix([[1, 1, 1], \n",
    "              [-1, 1, -1], \n",
    "              [1, -1, -1]]) # Coefficient Matrix"
   ]
  },
  {
   "cell_type": "code",
   "execution_count": 78,
   "metadata": {},
   "outputs": [
    {
     "data": {
      "text/latex": [
       "$\\displaystyle \\left[\\begin{matrix}0 & -1 & 0 & 1\\\\1 & 0 & -1 & 0\\\\1 & 0 & 1 & 0\\\\0 & 1 & 0 & 1\\end{matrix}\\right]$"
      ],
      "text/plain": [
       "Matrix([\n",
       "[0, -1,  0, 1],\n",
       "[1,  0, -1, 0],\n",
       "[1,  0,  1, 0],\n",
       "[0,  1,  0, 1]])"
      ]
     },
     "execution_count": 78,
     "metadata": {},
     "output_type": "execute_result"
    }
   ],
   "source": [
    "P.subs([(theta, pi/2)])"
   ]
  },
  {
   "cell_type": "code",
   "execution_count": 148,
   "metadata": {},
   "outputs": [],
   "source": [
    "YY = lambda theta: Matrix([[cos(theta/2), 0, 0, I*sin(theta/2)], \n",
    "        [0, cos(theta/2), -I*sin(theta/2), 0], \n",
    "        [0, -I*sin(theta/2), cos(theta/2), 0], \n",
    "        [I*sin(theta/2), 0, 0, cos(theta/2)]])\n",
    "\n",
    "XX = lambda theta: Matrix([[cos(theta/2), 0, 0, -I*sin(theta/2)], \n",
    "        [0, cos(theta/2), -I*sin(theta/2), 0], \n",
    "        [0, -I*sin(theta/2), cos(theta/2), 0], \n",
    "        [-I*sin(theta/2), 0, 0, cos(theta/2)]])"
   ]
  },
  {
   "cell_type": "code",
   "execution_count": 149,
   "metadata": {},
   "outputs": [],
   "source": [
    "from sympy.physics.quantum import TensorProduct"
   ]
  },
  {
   "cell_type": "code",
   "execution_count": 150,
   "metadata": {},
   "outputs": [],
   "source": [
    "L = 1/2*Matrix([[-1, 1, 1, -1], \n",
    "                [1, 1, -1, -1], \n",
    "                [1, -1, 1, -1], \n",
    "                [-1, -1, -1, -1]])"
   ]
  },
  {
   "cell_type": "code",
   "execution_count": 151,
   "metadata": {},
   "outputs": [],
   "source": [
    "Y = Matrix([[0, -I], \n",
    "            [I, 0]])"
   ]
  },
  {
   "cell_type": "code",
   "execution_count": 152,
   "metadata": {},
   "outputs": [],
   "source": [
    "P, D = Y.diagonalize()"
   ]
  },
  {
   "cell_type": "code",
   "execution_count": 153,
   "metadata": {},
   "outputs": [],
   "source": [
    "P = Matrix([[-I, I], \n",
    "            [1, 1]])*1/sqrt(2)"
   ]
  },
  {
   "cell_type": "code",
   "execution_count": 154,
   "metadata": {},
   "outputs": [],
   "source": [
    "H = 1/sqrt(2)*Matrix([[1, 1], [1, -1]])"
   ]
  },
  {
   "cell_type": "code",
   "execution_count": 155,
   "metadata": {},
   "outputs": [],
   "source": [
    "A = H@P.inv()"
   ]
  },
  {
   "cell_type": "code",
   "execution_count": 156,
   "metadata": {},
   "outputs": [
    {
     "data": {
      "text/latex": [
       "$\\displaystyle \\left[\\begin{matrix}0 & 1\\\\1 & 0\\end{matrix}\\right]$"
      ],
      "text/plain": [
       "Matrix([\n",
       "[0, 1],\n",
       "[1, 0]])"
      ]
     },
     "execution_count": 156,
     "metadata": {},
     "output_type": "execute_result"
    }
   ],
   "source": [
    "A@Y@A.inv()"
   ]
  },
  {
   "cell_type": "code",
   "execution_count": 158,
   "metadata": {},
   "outputs": [],
   "source": [
    "LA = I/sqrt(2)*Matrix([[I, -1], [I, 1]])"
   ]
  },
  {
   "cell_type": "code",
   "execution_count": 159,
   "metadata": {},
   "outputs": [
    {
     "data": {
      "text/latex": [
       "$\\displaystyle \\left[\\begin{matrix}\\cos{\\left(\\frac{\\theta}{2} \\right)} & 0 & 0 & i \\sin{\\left(\\frac{\\theta}{2} \\right)}\\\\0 & \\cos{\\left(\\frac{\\theta}{2} \\right)} & - i \\sin{\\left(\\frac{\\theta}{2} \\right)} & 0\\\\0 & - i \\sin{\\left(\\frac{\\theta}{2} \\right)} & \\cos{\\left(\\frac{\\theta}{2} \\right)} & 0\\\\i \\sin{\\left(\\frac{\\theta}{2} \\right)} & 0 & 0 & \\cos{\\left(\\frac{\\theta}{2} \\right)}\\end{matrix}\\right]$"
      ],
      "text/plain": [
       "Matrix([\n",
       "[  cos(theta/2),               0,               0, I*sin(theta/2)],\n",
       "[             0,    cos(theta/2), -I*sin(theta/2),              0],\n",
       "[             0, -I*sin(theta/2),    cos(theta/2),              0],\n",
       "[I*sin(theta/2),               0,               0,   cos(theta/2)]])"
      ]
     },
     "execution_count": 159,
     "metadata": {},
     "output_type": "execute_result"
    }
   ],
   "source": [
    "simplify(TensorProduct(LA, LA)@XX(theta)@TensorProduct(LA, LA).inv())"
   ]
  },
  {
   "cell_type": "markdown",
   "metadata": {},
   "source": [
    "\\begin{align} \\text{MS}(\\theta) = \n",
    "\\begin{pmatrix}\n",
    "\\cos \\big(\\frac{\\theta}{2} \\big) & 0 & 0 & i\\sin \\big(\\frac{\\theta}{2} \\big) \\\\\n",
    "0 & \\cos \\big(\\frac{\\theta}{2} \\big) & -i\\sin \\big(\\frac{\\theta}{2} \\big) & 0 \\\\\n",
    "0 & -i\\sin \\big(\\frac{\\theta}{2} \\big) & \\cos \\big(\\frac{\\theta}{2} \\big) & 0 \\\\\n",
    "i\\sin \\big(\\frac{\\theta}{2} \\big) & 0 & 0 & \\cos \\big(\\frac{\\theta}{2} \\big) \\\\\n",
    "\\end{pmatrix}\n",
    "\\end{align}"
   ]
  },
  {
   "cell_type": "code",
   "execution_count": 98,
   "metadata": {},
   "outputs": [],
   "source": [
    "ID = eye(2)\n",
    "Z = Matrix([[1, 0], [0, -1]])"
   ]
  },
  {
   "cell_type": "code",
   "execution_count": 99,
   "metadata": {},
   "outputs": [
    {
     "data": {
      "text/latex": [
       "$\\displaystyle \\left[\\begin{matrix}-1 & 0 & 0 & 0\\\\0 & -1 & 0 & 0\\\\0 & 0 & 1 & 0\\\\0 & 0 & 0 & 1\\end{matrix}\\right]$"
      ],
      "text/plain": [
       "Matrix([\n",
       "[-1,  0, 0, 0],\n",
       "[ 0, -1, 0, 0],\n",
       "[ 0,  0, 1, 0],\n",
       "[ 0,  0, 0, 1]])"
      ]
     },
     "execution_count": 99,
     "metadata": {},
     "output_type": "execute_result"
    }
   ],
   "source": [
    "-TensorProduct(Z, ID)"
   ]
  },
  {
   "cell_type": "code",
   "execution_count": null,
   "metadata": {},
   "outputs": [],
   "source": []
  }
 ],
 "metadata": {
  "kernelspec": {
   "display_name": "Python 3.10",
   "language": "python",
   "name": "python3.10"
  },
  "language_info": {
   "codemirror_mode": {
    "name": "ipython",
    "version": 3
   },
   "file_extension": ".py",
   "mimetype": "text/x-python",
   "name": "python",
   "nbconvert_exporter": "python",
   "pygments_lexer": "ipython3",
   "version": "3.10.4"
  }
 },
 "nbformat": 4,
 "nbformat_minor": 2
}
