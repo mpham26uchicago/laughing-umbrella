{
 "cells": [
  {
   "cell_type": "code",
   "execution_count": 53,
   "metadata": {},
   "outputs": [],
   "source": [
    "import numpy as np\n",
    "from scipy.linalg import pinv\n",
    "from sympy import Matrix"
   ]
  },
  {
   "cell_type": "code",
   "execution_count": 3,
   "metadata": {},
   "outputs": [],
   "source": [
    "ID = np.identity(2)\n",
    "X = np.array([[0, 1], [1, 0]])\n",
    "Y = np.array([[0, -1j], [1j, 0]])\n",
    "Z = np.array([[1, 0], [0, -1]])"
   ]
  },
  {
   "cell_type": "code",
   "execution_count": 5,
   "metadata": {},
   "outputs": [],
   "source": [
    "one_qubit_basis = [1j/2*X, 1j/2*Y, 1j/2*Z]"
   ]
  },
  {
   "cell_type": "code",
   "execution_count": 11,
   "metadata": {
    "scrolled": true
   },
   "outputs": [
    {
     "name": "stdout",
     "output_type": "stream",
     "text": [
      "1j/2*np.kron(ID, ID), 1j/2*np.kron(ID, X), 1j/2*np.kron(ID, Y), 1j/2*np.kron(ID, Z), 1j/2*np.kron(X, ID), 1j/2*np.kron(X, X), 1j/2*np.kron(X, Y), 1j/2*np.kron(X, Z), 1j/2*np.kron(Y, ID), 1j/2*np.kron(Y, X), 1j/2*np.kron(Y, Y), 1j/2*np.kron(Y, Z), 1j/2*np.kron(Z, ID), 1j/2*np.kron(Z, X), 1j/2*np.kron(Z, Y), 1j/2*np.kron(Z, Z), "
     ]
    }
   ],
   "source": [
    "for base1 in ['ID', 'X', 'Y', 'Z']:\n",
    "    for base2 in ['ID', 'X', 'Y', 'Z']:\n",
    "        print(f\"1j/2*np.kron({base1}, {base2})\", end = \", \")"
   ]
  },
  {
   "cell_type": "code",
   "execution_count": 152,
   "metadata": {},
   "outputs": [],
   "source": [
    "two_qubit_basis = [\n",
    "    1j/ 2 * np.kron(X, ID), 1j/ 2 * np.kron(Y, ID), 1j/ 2 * np.kron(Z, ID),\n",
    "    1j/ 2 * np.kron(ID, X), 1j/ 2 * np.kron(ID, Y), 1j/ 2 * np.kron(ID, Z),    \n",
    "    1j/ 2 * np.kron(X, X), 1j/ 2 * np.kron(X, Y), 1j/ 2 * np.kron(X, Z),\n",
    "    1j/ 2 * np.kron(Y, X), 1j/ 2 * np.kron(Y, Y), 1j/ 2 * np.kron(Y, Z),\n",
    "    1j/ 2 * np.kron(Z, X), 1j/ 2 * np.kron(Z, Y), 1j/ 2 * np.kron(Z, Z)\n",
    "]"
   ]
  },
  {
   "cell_type": "code",
   "execution_count": 153,
   "metadata": {},
   "outputs": [],
   "source": [
    "lbk = lambda a, b: a@b-b@a #Lie bracket"
   ]
  },
  {
   "cell_type": "code",
   "execution_count": 170,
   "metadata": {},
   "outputs": [],
   "source": [
    "# This implementation is correct except for the fact that the sign are flipped.\n",
    "\n",
    "B = pinv(np.hstack([basis.reshape(16, 1) for basis in two_qubit_basis]))\n",
    "\n",
    "scm = [] # Structure Constant Matrix\n",
    "\n",
    "for Xj in two_qubit_basis:\n",
    "    L = np.hstack([lbk(Xj, Xk).reshape(16, 1) for Xk in two_qubit_basis])\n",
    "    scm.append(np.round(B@L, 15))"
   ]
  },
  {
   "cell_type": "code",
   "execution_count": 178,
   "metadata": {},
   "outputs": [],
   "source": [
    "from sympy import *"
   ]
  },
  {
   "cell_type": "code",
   "execution_count": 184,
   "metadata": {},
   "outputs": [],
   "source": [
    "# Compute the root system symbolically\n",
    "\n",
    "c1, c2, c3 = symbols('c1, c2, c3', real = True)\n",
    "M = Matrix(c1*scm[6]+ c2*scm[10]+c3*scm[14])\n",
    "\n",
    "P, D = M.diagonalize()"
   ]
  },
  {
   "cell_type": "code",
   "execution_count": 185,
   "metadata": {},
   "outputs": [
    {
     "data": {
      "text/latex": [
       "$\\displaystyle \\left[\\begin{array}{ccccccccccccccc}0 & 0 & 0 & 0 & 0 & 0 & 0 & 0 & 0 & 0 & 0 & 0 & 0 & 0 & 0\\\\0 & 0 & 0 & 0 & 0 & 0 & 0 & 0 & 0 & 0 & 0 & 0 & 0 & 0 & 0\\\\0 & 0 & 0 & 0 & 0 & 0 & 0 & 0 & 0 & 0 & 0 & 0 & 0 & 0 & 0\\\\0 & 0 & 0 & - i \\left(c_{1} - c_{2}\\right) & 0 & 0 & 0 & 0 & 0 & 0 & 0 & 0 & 0 & 0 & 0\\\\0 & 0 & 0 & 0 & i \\left(c_{1} - c_{2}\\right) & 0 & 0 & 0 & 0 & 0 & 0 & 0 & 0 & 0 & 0\\\\0 & 0 & 0 & 0 & 0 & - i \\left(c_{1} + c_{2}\\right) & 0 & 0 & 0 & 0 & 0 & 0 & 0 & 0 & 0\\\\0 & 0 & 0 & 0 & 0 & 0 & i \\left(c_{1} + c_{2}\\right) & 0 & 0 & 0 & 0 & 0 & 0 & 0 & 0\\\\0 & 0 & 0 & 0 & 0 & 0 & 0 & - i \\left(c_{1} - c_{3}\\right) & 0 & 0 & 0 & 0 & 0 & 0 & 0\\\\0 & 0 & 0 & 0 & 0 & 0 & 0 & 0 & i \\left(c_{1} - c_{3}\\right) & 0 & 0 & 0 & 0 & 0 & 0\\\\0 & 0 & 0 & 0 & 0 & 0 & 0 & 0 & 0 & - i \\left(c_{1} + c_{3}\\right) & 0 & 0 & 0 & 0 & 0\\\\0 & 0 & 0 & 0 & 0 & 0 & 0 & 0 & 0 & 0 & i \\left(c_{1} + c_{3}\\right) & 0 & 0 & 0 & 0\\\\0 & 0 & 0 & 0 & 0 & 0 & 0 & 0 & 0 & 0 & 0 & - i \\left(c_{2} - c_{3}\\right) & 0 & 0 & 0\\\\0 & 0 & 0 & 0 & 0 & 0 & 0 & 0 & 0 & 0 & 0 & 0 & i \\left(c_{2} - c_{3}\\right) & 0 & 0\\\\0 & 0 & 0 & 0 & 0 & 0 & 0 & 0 & 0 & 0 & 0 & 0 & 0 & - i \\left(c_{2} + c_{3}\\right) & 0\\\\0 & 0 & 0 & 0 & 0 & 0 & 0 & 0 & 0 & 0 & 0 & 0 & 0 & 0 & i \\left(c_{2} + c_{3}\\right)\\end{array}\\right]$"
      ],
      "text/plain": [
       "Matrix([\n",
       "[0, 0, 0,            0,           0,            0,           0,            0,           0,            0,           0,            0,           0,            0,           0],\n",
       "[0, 0, 0,            0,           0,            0,           0,            0,           0,            0,           0,            0,           0,            0,           0],\n",
       "[0, 0, 0,            0,           0,            0,           0,            0,           0,            0,           0,            0,           0,            0,           0],\n",
       "[0, 0, 0, -I*(c1 - c2),           0,            0,           0,            0,           0,            0,           0,            0,           0,            0,           0],\n",
       "[0, 0, 0,            0, I*(c1 - c2),            0,           0,            0,           0,            0,           0,            0,           0,            0,           0],\n",
       "[0, 0, 0,            0,           0, -I*(c1 + c2),           0,            0,           0,            0,           0,            0,           0,            0,           0],\n",
       "[0, 0, 0,            0,           0,            0, I*(c1 + c2),            0,           0,            0,           0,            0,           0,            0,           0],\n",
       "[0, 0, 0,            0,           0,            0,           0, -I*(c1 - c3),           0,            0,           0,            0,           0,            0,           0],\n",
       "[0, 0, 0,            0,           0,            0,           0,            0, I*(c1 - c3),            0,           0,            0,           0,            0,           0],\n",
       "[0, 0, 0,            0,           0,            0,           0,            0,           0, -I*(c1 + c3),           0,            0,           0,            0,           0],\n",
       "[0, 0, 0,            0,           0,            0,           0,            0,           0,            0, I*(c1 + c3),            0,           0,            0,           0],\n",
       "[0, 0, 0,            0,           0,            0,           0,            0,           0,            0,           0, -I*(c2 - c3),           0,            0,           0],\n",
       "[0, 0, 0,            0,           0,            0,           0,            0,           0,            0,           0,            0, I*(c2 - c3),            0,           0],\n",
       "[0, 0, 0,            0,           0,            0,           0,            0,           0,            0,           0,            0,           0, -I*(c2 + c3),           0],\n",
       "[0, 0, 0,            0,           0,            0,           0,            0,           0,            0,           0,            0,           0,            0, I*(c2 + c3)]])"
      ]
     },
     "execution_count": 185,
     "metadata": {},
     "output_type": "execute_result"
    }
   ],
   "source": [
    "D"
   ]
  }
 ],
 "metadata": {
  "kernelspec": {
   "display_name": "Python 3.10",
   "language": "python",
   "name": "python3.10"
  },
  "language_info": {
   "codemirror_mode": {
    "name": "ipython",
    "version": 3
   },
   "file_extension": ".py",
   "mimetype": "text/x-python",
   "name": "python",
   "nbconvert_exporter": "python",
   "pygments_lexer": "ipython3",
   "version": "3.10.4"
  }
 },
 "nbformat": 4,
 "nbformat_minor": 2
}
