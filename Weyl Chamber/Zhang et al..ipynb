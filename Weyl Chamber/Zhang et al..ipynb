{
 "cells": [
  {
   "cell_type": "markdown",
   "metadata": {},
   "source": []
  },
  {
   "cell_type": "markdown",
   "metadata": {},
   "source": [
    "This notebook summarizes and implements results from [A geometric theory of non-local two-qubit operations](https://arxiv.org/pdf/quant-ph/0209120.pdf) by Zhang et al. ."
   ]
  },
  {
   "cell_type": "markdown",
   "metadata": {},
   "source": [
    "### 1. Background"
   ]
  },
  {
   "cell_type": "markdown",
   "metadata": {},
   "source": [
    "**Definition (Conjugation Map):** The **conjugation map** from the Lie group $G$ to $G$ given by $a_g(h) = ghg^{-1}$, where $g, h \\in G$."
   ]
  },
  {
   "cell_type": "markdown",
   "metadata": {},
   "source": [
    "**Definition (Adjoint Representation):** The **adjoint representation** $\\text{Ad}_g$ is a map from the Lie algebra $\\mathfrak{g}$ to $\\mathfrak{g}$ which is the differential of the conjugation map $a_g$. For matrix Lie algebras, $\\text{Ad}_g(Y)=gYg^{-1}$ where $g \\in G$ and $Y \\in \\mathfrak{g}$."
   ]
  },
  {
   "cell_type": "markdown",
   "metadata": {},
   "source": [
    "**Definition (Lie Bracket):** The differential of the adjoint representation $\\text{ad}_X$ is a map from the lie algebra $\\mathfrak{g}$ to $\\mathfrak{g}$ given by the Lie bracket with $X$, that is, $\\text{ad}_X(Y)=[X, Y]$, where $X, Y \\in \\mathfrak{g}$."
   ]
  },
  {
   "cell_type": "markdown",
   "metadata": {},
   "source": [
    "**Definition (Killing Form):** The inner product on $\\mathfrak{g}$ is given by the **Killing form** $B(X, Y) = \\text{tr}(\\text{ad}_X\\text{ad}_Y)$. Since $\\text{ad}_X$ and $\\text{ad}_Y$ are both linear maps, the Killing form is the trace of their composition."
   ]
  },
  {
   "cell_type": "markdown",
   "metadata": {},
   "source": [
    "**Definition (Structure Constants):** Let $\\{X_1, ..., X_n\\}$ be a basis for $\\mathfrak{g}$. The numbers $C_{jk}^{i} \\in \\mathbb{C}$ such that\n",
    "\n",
    "$$[X_j, X_k] = \\sum_{i=1}^n C_{jk}^{i}X_i$$\n",
    "\n",
    "are the **structure constants** of the Lie algebra $\\mathfrak{g}$ with respect to the basis, where $j, k$ run from $1$ to $n$. Consider the vectorized expression\n",
    "\n",
    "\\begin{align}\\text{ad}_{X_j}[X_1, ..., X_n] \n",
    "&= [\\sum_{i=1}^n C_{j1}^{i}X_i, ..., \\sum_{i=1}^n C_{jn}^{i}X_i] \\\\\n",
    "&= [X_1, ..., X_n]\\begin{bmatrix}C_{j1}^1 & \\ldots & C_{jn}^1 \\\\ \\vdots & & \\vdots \\\\ C_{j1}^n & \\ldots & C_{jn}^n \\end{bmatrix}\\end{align}\n",
    "\n",
    "Hence, the matrix represenation of $\\text{ad}_{X_j}$ with respect to the basis is \n",
    "\n",
    "\\begin{bmatrix}C_{j1}^1 & \\ldots & C_{jn}^1 \\\\ \\vdots & & \\vdots \\\\ C_{j1}^n & \\ldots & C_{jn}^n \\end{bmatrix}"
   ]
  },
  {
   "cell_type": "markdown",
   "metadata": {},
   "source": [
    "Thus the Killing form $B(X_j, X_k)$ is $\\sum_{a, b = 1}^n C_{jb}^a C_{ka}^b$, which is the $jk$-th enetry of the matrix of the quadratic form $B(, )$ or $x^T(\\text{ad}_X\\text{ad}_Y)x$. "
   ]
  },
  {
   "cell_type": "markdown",
   "metadata": {},
   "source": [
    "**Definition (Semisimple):** The Lie algebra $\\mathfrak{g}$ is **semisimple** if and only if the Killing form is nondegenerate"
   ]
  },
  {
   "cell_type": "markdown",
   "metadata": {},
   "source": [
    "**Defintion (Root):** Given a semisimple Lie algebra $\\mathfrak{g}$ and its Cartan decomposition $\\mathfrak{g} = \\mathfrak{p} \\oplus \\mathfrak{l}$, let $\\mathfrak{a}$ be a Cartan sublagebra of the pair $(\\mathfrak{g}, \\mathfrak{l})$. For $X \\in \\mathfrak{a}$, let $W \\in \\mathfrak{g}$ be an eigenvector of $\\text{ad}_X$ and $\\alpha(X)$ the corresponding eigenvalue, i.e., \n",
    "\n",
    "$$[X, W] = \\langle \\alpha, X\\rangle \\cdot W$$\n",
    "\n",
    "The linear map $\\alpha$ is called a **root** of $\\mathfrak{g}$ with respect to $\\mathfrak{a}$. In other words, they are the eigenvalues of the matrix $\\text{ad}_X$. \n",
    "\n",
    "Let $\\Delta$ denote the set of nonzero roots, and $\\Delta_{\\mathfrak{p}} \\subseteq \\Delta$ denote the set of roots in which do not vanish identically on $\\mathfrak{a}$:\n",
    "\n",
    "\\begin{align} \\Delta &= \\{\\alpha \\ : \\ [X, W] = \\langle \\alpha, X\\rangle \\cdot W, \\text{where } W \\in \\mathfrak{g}\\} \\\\\n",
    "\\Delta_{\\mathfrak{p}} &= \\{\\alpha \\ : \\ [X, W] = \\langle \\alpha, X\\rangle \\cdot W, \\text{where } W \\in \\mathfrak{a}\\}\n",
    "\\end{align}"
   ]
  },
  {
   "cell_type": "markdown",
   "metadata": {},
   "source": [
    "**Definition (Centralizer):** The **centralizer** of $\\mathfrak{a}$ in $K$ is the set \n",
    "\n",
    "$$M = \\{k \\in K : \\text{Ad}_k(X) = X \\text{ for each } X \\in \\mathfrak{a}\\}$$\n",
    "\n",
    "Since $kXk^{-1} = X$, this implies that $kX = Xk$. In other words, the **centralizer** is the set of elements in $K$ that commutes with everything in $\\mathfrak{a}$."
   ]
  },
  {
   "cell_type": "markdown",
   "metadata": {},
   "source": [
    "**Definition (Normalizer):** The **normalizer** of $\\mathfrak{a}$ in $K$ is the set \n",
    "\n",
    "$$M^{\\prime} = \\{k \\in K : \\text{Ad}_k(\\mathfrak{a}) \\subseteq \\mathfrak{a}\\}$$\n",
    "\n",
    "In other words, the **normalizer** is the set of elements in $K$ whose $\\mathfrak{a}$-adjoint action is closed in $\\mathfrak{a}$."
   ]
  },
  {
   "cell_type": "markdown",
   "metadata": {},
   "source": [
    "**Definition (Weyl group):** The **Weyl group** $W(G, K)$ is the quotient group $M^\\prime / M$. One can show that $W(G, K)$ is a finite group. This comes from the fact that $\\mathfrak{g}$ is a finite dimensional vector space."
   ]
  },
  {
   "cell_type": "markdown",
   "metadata": {},
   "source": [
    "**Definition (Weyl chamber):** Each $\\alpha \\in \\Delta_{\\mathfrak{p}}$ defines a hyperplane $\\langle\\alpha, X\\rangle = 0$ in the vector space $\\mathfrak{a}$. These hyper planes divide the space $\\mathfrak{a}$ into finitely many connected components, called the **Weyl chambers**."
   ]
  },
  {
   "cell_type": "markdown",
   "metadata": {},
   "source": [
    "**Proposition (Generation of the Weyl group)**: For each $\\alpha \\in \\Delta_{\\mathfrak{p}}$, let $s_\\alpha$ denote the reflection with respect to the hyperplane $\\langle \\alpha, X\\rangle = 0$ in $\\mathfrak{a}$. The Weyl group is **generated** by the reflections $s_\\alpha, \\alpha \\in \\Delta_{\\mathfrak{p}}$."
   ]
  },
  {
   "cell_type": "markdown",
   "metadata": {},
   "source": [
    "### 2. Applications to $\\mathfrak{su}(2)$"
   ]
  },
  {
   "cell_type": "markdown",
   "metadata": {},
   "source": [
    "From computing the structure constants $C^i_{jk}$, we can evaluate the Killing form"
   ]
  },
  {
   "cell_type": "markdown",
   "metadata": {},
   "source": [
    "$$B(X_j, X_k) = \\sum_{a=1}^{2^n-1} \\sum_{b=1}^{2^n-1} C^a_{jb}C^b_{ka} = -2n \\cdot \\delta_{jk}$$"
   ]
  },
  {
   "cell_type": "markdown",
   "metadata": {},
   "source": [
    "It is easy to verify that $\\text{tr}(X_j X_k) = -\\delta_{jk}$, thus the Killing form of $\\mathfrak{su}(n)$ is $B(X, Y) = 2n\\cdot \\text{tr}(XY)$."
   ]
  },
  {
   "cell_type": "code",
   "execution_count": 156,
   "metadata": {},
   "outputs": [],
   "source": [
    "import numpy as np\n",
    "from sympy import Matrix, symbols, I, eye, expand, simplify\n",
    "from itertools import product"
   ]
  },
  {
   "cell_type": "code",
   "execution_count": 157,
   "metadata": {},
   "outputs": [],
   "source": [
    "X0 = np.array([[1, 0], [0, 1]])\n",
    "X1 = np.array([[0, 1], [1, 0]])\n",
    "X2 = np.array([[0, 1j], [-1j, 0]])\n",
    "X3 = np.array([[1, 0], [0, -1]])\n",
    "\n",
    "pauli = [X0, X1, X2, X3]\n",
    "\n",
    "Lie_bracket = lambda x, y: x@y-y@x"
   ]
  },
  {
   "cell_type": "code",
   "execution_count": 214,
   "metadata": {},
   "outputs": [],
   "source": [
    "def generate_pauli_bases(num_qubits):\n",
    "    if num_qubits == 1:\n",
    "        return [1j/2*basis for basis in pauli[1:]]\n",
    "    else: # Divide by two to help normalize the Lie bracket\n",
    "        return [\n",
    "            1j / 2 * np.kron(*basis)\n",
    "            for basis in product(pauli, repeat=num_qubits)\n",
    "        ][1:]"
   ]
  },
  {
   "cell_type": "code",
   "execution_count": 217,
   "metadata": {
    "code_folding": []
   },
   "outputs": [],
   "source": [
    "def structure_constant(X, method = \"partial\"):\n",
    "    \"\"\"Generate Structure Constant Matrix for a given set of bases\"\"\"\n",
    "    \n",
    "    n = X[0].shape[0] # Size of Matrix\n",
    "    m = len(X) # Size of the Basis Set\n",
    "    sc_mat = np.zeros((m, m, m)) # Empty Structure Constant Matrix\n",
    "\n",
    "    for j in range(m): # Loop over j (first index)\n",
    "        for i in range(m): # Loop over i (second index)\n",
    "            for k in range(m): # Loop over k (third index)\n",
    "                if np.allclose(Lie_bracket(X[j], X[k])@np.linalg.inv(X[i]), np.eye(n)):\n",
    "                    sc_mat[j][i][k] = 1\n",
    "                elif np.allclose(Lie_bracket(X[j], X[k])@np.linalg.inv(X[i]), -np.eye(n)):\n",
    "                    sc_mat[j][i][k] = -1\n",
    "                else:\n",
    "                    sc_mat[j][i][k] = 0\n",
    "                    \n",
    "    return sc_mat"
   ]
  },
  {
   "cell_type": "code",
   "execution_count": 320,
   "metadata": {},
   "outputs": [],
   "source": [
    "X = generate_pauli_bases(1)\n",
    "\n",
    "S = structure_constant(X)"
   ]
  },
  {
   "cell_type": "markdown",
   "metadata": {},
   "source": [
    "##### Root Finding"
   ]
  },
  {
   "cell_type": "markdown",
   "metadata": {},
   "source": [
    "To find the root of the linear map $\\text{ad_X}:\n",
    "\n",
    "1. Find the matrix representation of $\\text{ad_X}$ with respect to the basis\n",
    "\n",
    "2. Find the eigenvalues of the basis\n",
    "\n",
    "3. Find the eigenvectors of the basis"
   ]
  },
  {
   "cell_type": "code",
   "execution_count": 327,
   "metadata": {},
   "outputs": [],
   "source": [
    "H = 1/(np.sqrt(2)*2)*np.array([[1, 1], [1, -1]])"
   ]
  },
  {
   "cell_type": "code",
   "execution_count": 328,
   "metadata": {},
   "outputs": [
    {
     "data": {
      "text/plain": [
       "array([[0.+0.j        , 0.-0.35355339j],\n",
       "       [0.+0.35355339j, 0.+0.j        ]])"
      ]
     },
     "execution_count": 328,
     "metadata": {},
     "output_type": "execute_result"
    }
   ],
   "source": [
    "Lie_bracket(1j/2*X1, H)"
   ]
  },
  {
   "cell_type": "code",
   "execution_count": 329,
   "metadata": {},
   "outputs": [
    {
     "data": {
      "text/plain": [
       "array([[-0.35355339+0.j,  0.35355339+0.j],\n",
       "       [ 0.35355339+0.j,  0.35355339+0.j]])"
      ]
     },
     "execution_count": 329,
     "metadata": {},
     "output_type": "execute_result"
    }
   ],
   "source": [
    "Lie_bracket(1j/2*X2, H)"
   ]
  },
  {
   "cell_type": "code",
   "execution_count": 330,
   "metadata": {},
   "outputs": [
    {
     "data": {
      "text/plain": [
       "array([[0.+0.j        , 0.+0.35355339j],\n",
       "       [0.-0.35355339j, 0.+0.j        ]])"
      ]
     },
     "execution_count": 330,
     "metadata": {},
     "output_type": "execute_result"
    }
   ],
   "source": [
    "Lie_bracket(1j/2*X3, H)"
   ]
  },
  {
   "cell_type": "code",
   "execution_count": 311,
   "metadata": {},
   "outputs": [],
   "source": [
    "M = np.array([[0, 0, 0], \n",
    "              [1, 0, -1j], \n",
    "              [0, -1, 0]])"
   ]
  },
  {
   "cell_type": "code",
   "execution_count": 312,
   "metadata": {},
   "outputs": [],
   "source": [
    "D, P = np.linalg.eig(M)"
   ]
  },
  {
   "cell_type": "code",
   "execution_count": 313,
   "metadata": {},
   "outputs": [
    {
     "data": {
      "text/plain": [
       "array([ 0.70710678+0.70710678j, -0.70710678-0.70710678j,\n",
       "        0.        +0.j        ])"
      ]
     },
     "execution_count": 313,
     "metadata": {},
     "output_type": "execute_result"
    }
   ],
   "source": [
    "D"
   ]
  },
  {
   "cell_type": "code",
   "execution_count": 314,
   "metadata": {},
   "outputs": [
    {
     "data": {
      "text/latex": [
       "$\\displaystyle \\left[\\begin{matrix}0 & 0 & 0.70710678118655\\\\0.70710678118655 & 0.5 + 0.5 i & 0\\\\-0.5 + 0.5 i & 0.70710678118655 & - 0.70710678118655 i\\end{matrix}\\right]$"
      ],
      "text/plain": [
       "Matrix([\n",
       "[               0,                0,    0.70710678118655],\n",
       "[0.70710678118655,      0.5 + 0.5*I,                   0],\n",
       "[    -0.5 + 0.5*I, 0.70710678118655, -0.70710678118655*I]])"
      ]
     },
     "execution_count": 314,
     "metadata": {},
     "output_type": "execute_result"
    }
   ],
   "source": [
    "Matrix(np.round(P, 14))"
   ]
  },
  {
   "cell_type": "code",
   "execution_count": 317,
   "metadata": {},
   "outputs": [],
   "source": [
    "W = 1/np.sqrt(2)*X3 + (0.5+0.5j)*X2"
   ]
  },
  {
   "cell_type": "code",
   "execution_count": 318,
   "metadata": {},
   "outputs": [
    {
     "data": {
      "text/plain": [
       "array([[ 0.5       -0.5j, -1.20710678+0.5j],\n",
       "       [ 0.20710678+0.5j, -0.5       +0.5j]])"
      ]
     },
     "execution_count": 318,
     "metadata": {},
     "output_type": "execute_result"
    }
   ],
   "source": [
    "Lie_bracket(H, W)"
   ]
  },
  {
   "cell_type": "code",
   "execution_count": 319,
   "metadata": {},
   "outputs": [
    {
     "data": {
      "text/plain": [
       "array([[ 0.5       +0.5j, -0.70710678+0.j ],\n",
       "       [ 0.70710678+0.j , -0.5       -0.5j]])"
      ]
     },
     "execution_count": 319,
     "metadata": {},
     "output_type": "execute_result"
    }
   ],
   "source": [
    "W * D[0]"
   ]
  }
 ],
 "metadata": {
  "kernelspec": {
   "display_name": "Python 3.10",
   "language": "python",
   "name": "python3.10"
  },
  "language_info": {
   "codemirror_mode": {
    "name": "ipython",
    "version": 3
   },
   "file_extension": ".py",
   "mimetype": "text/x-python",
   "name": "python",
   "nbconvert_exporter": "python",
   "pygments_lexer": "ipython3",
   "version": "3.10.4"
  }
 },
 "nbformat": 4,
 "nbformat_minor": 2
}
