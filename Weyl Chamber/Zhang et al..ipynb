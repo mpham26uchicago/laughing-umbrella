{
 "cells": [
  {
   "cell_type": "markdown",
   "metadata": {},
   "source": []
  },
  {
   "cell_type": "markdown",
   "metadata": {},
   "source": [
    "This notebook summarizes and implements results from [A geometric theory of non-local two-qubit operations](https://arxiv.org/pdf/quant-ph/0209120.pdf) by Zhang et al. ."
   ]
  },
  {
   "cell_type": "markdown",
   "metadata": {},
   "source": [
    "### 1. Background"
   ]
  },
  {
   "cell_type": "markdown",
   "metadata": {},
   "source": [
    "**Definition (Conjugation Map):** The **conjugation map** from the Lie group $G$ to $G$ given by $a_g(h) = ghg^{-1}$, where $g, h \\in G$."
   ]
  },
  {
   "cell_type": "markdown",
   "metadata": {},
   "source": [
    "**Definition (Adjoint Representation):** The **adjoint representation** $\\text{Ad}_g$ is a map from the Lie algebra $\\mathfrak{g}$ to $\\mathfrak{g}$ which is the differential of the conjugation map $a_g$. For matrix Lie algebras, $\\text{Ad}_g(Y)=gYg^{-1}$ where $g \\in G$ and $Y \\in \\mathfrak{g}$."
   ]
  },
  {
   "cell_type": "markdown",
   "metadata": {},
   "source": [
    "**Definition (Lie Bracket):** The differential of the adjoint representation $\\text{ad}_X$ is a map from the lie algebra $\\mathfrak{g}$ to $\\mathfrak{g}$ given by the Lie bracket with $X$, that is, $\\text{ad}_X(Y)=[X, Y]$, where $X, Y \\in \\mathfrak{g}$."
   ]
  },
  {
   "cell_type": "markdown",
   "metadata": {},
   "source": [
    "**Definition (Killing Form):** The inner product on $\\mathfrak{g}$ is given by the **Killing form** $B(X, Y) = \\text{tr}(\\text{ad}_X\\text{ad}_Y)$. Since $\\text{ad}_X$ and $\\text{ad}_Y$ are both linear maps, the Killing form is the trace of their composition."
   ]
  },
  {
   "cell_type": "markdown",
   "metadata": {},
   "source": [
    "**Definition (Structure Constants):** Let $\\{X_1, ..., X_n\\}$ be a basis for $\\mathfrak{g}$. The numbers $C_{jk}^{i} \\in \\mathbb{C}$ such that\n",
    "\n",
    "$$[X_j, X_k] = \\sum_{i=1}^n C_{jk}^{i}X_i$$\n",
    "\n",
    "are the **structure constants** of the Lie algebra $\\mathfrak{g}$ with respect to the basis, where $j, k$ run from $1$ to $n$. Consider the vectorized expression\n",
    "\n",
    "\\begin{align}\\text{ad}_{X_j}[X_1, ..., X_n] \n",
    "&= [\\sum_{i=1}^n C_{j1}^{i}X_i, ..., \\sum_{i=1}^n C_{jn}^{i}X_i] \\\\\n",
    "&= [X_1, ..., X_n]\\begin{bmatrix}C_{j1}^1 & \\ldots & C_{jn}^1 \\\\ \\vdots & & \\vdots \\\\ C_{j1}^n & \\ldots & C_{jn}^n \\end{bmatrix}\\end{align}\n",
    "\n",
    "Hence, the matrix represenation of $\\text{ad}_{X_j}$ with respect to the basis is \n",
    "\n",
    "\\begin{bmatrix}C_{j1}^1 & \\ldots & C_{jn}^1 \\\\ \\vdots & & \\vdots \\\\ C_{j1}^n & \\ldots & C_{jn}^n \\end{bmatrix}"
   ]
  },
  {
   "cell_type": "markdown",
   "metadata": {},
   "source": [
    "Thus the Killing form $B(X_j, X_k)$ is $\\sum_{a, b = 1}^n C_{jb}^a C_{ka}^b$, which is the $jk$-th enetry of the matrix of the quadratic form $B(, )$ or $x^T(\\text{ad}_X\\text{ad}_Y)x$. "
   ]
  },
  {
   "cell_type": "markdown",
   "metadata": {},
   "source": [
    "**Killing Form of $\\mathfrak{su}(2^n)$:** From computing the structure constants $C^i_{jk}$, we can evaluate the Killing form\n",
    "\n",
    "$$B(X_j, X_k) = \\sum_{a=1}^{2^n-1} \\sum_{b=1}^{2^n-1} C^a_{jb}C^b_{ka} = -2n \\cdot \\delta_{jk}$$\n",
    "\n",
    "It is easy to verify that $\\text{tr}(X_j X_k) = -\\delta_{jk}$, thus the Killing form of $\\mathfrak{su}(n)$ is $B(X, Y) = 2n\\cdot \\text{tr}(XY)$."
   ]
  },
  {
   "cell_type": "markdown",
   "metadata": {},
   "source": [
    "**Definition (Semisimple):** The Lie algebra $\\mathfrak{g}$ is **semisimple** if and only if the Killing form is nondegenerate"
   ]
  },
  {
   "cell_type": "markdown",
   "metadata": {},
   "source": [
    "**Defintion (Root):** Given a semisimple Lie algebra $\\mathfrak{g}$ and its Cartan decomposition $\\mathfrak{g} = \\mathfrak{p} \\oplus \\mathfrak{l}$, let $\\mathfrak{a}$ be a Cartan sublagebra of the pair $(\\mathfrak{g}, \\mathfrak{l})$. For all $H \\in \\mathfrak{a}$, let $X \\in \\mathfrak{g}$ be an eigenvector of $\\text{ad}_H$ and $\\alpha(H)$ the corresponding eigenvalue, i.e., \n",
    "\n",
    "$$\\text{ad}_H(X) = [H, X] = \\alpha(H) \\cdot X = \\langle \\alpha, H \\rangle \\cdot X$$\n",
    "\n",
    "The linear map $\\alpha$ is called a **root** of $\\mathfrak{g}$ with respect to $\\mathfrak{a}$. In other words, $\\langle \\alpha, H \\rangle$ are the eigenvalues of the matrix $\\text{ad}_H$. \n",
    "\n",
    "Let $\\Delta$ denote the set of nonzero roots, and $\\Delta_{\\mathfrak{p}} \\subseteq \\Delta$ denote the set of roots in which do not vanish identically on $\\mathfrak{a}$:\n",
    "\n",
    "\\begin{align} \\Delta &= \\{\\alpha \\ : \\ [H, X] = \\alpha(H) \\cdot X, \\text{where } X \\in \\mathfrak{g}\\} \\\\\n",
    "\\Delta_{\\mathfrak{p}} &= \\{\\alpha \\ : \\ [H, X] = \\alpha(H) \\cdot X, \\text{where } X \\in \\mathfrak{a}\\}\n",
    "\\end{align}"
   ]
  },
  {
   "cell_type": "markdown",
   "metadata": {},
   "source": [
    "**Definition (Centralizer):** The **centralizer** of $\\mathfrak{a}$ in $K$ is the set \n",
    "\n",
    "$$M = \\{k \\in K : \\text{Ad}_k(X) = X \\text{ for each } X \\in \\mathfrak{a}\\}$$\n",
    "\n",
    "Since $kXk^{-1} = X$, this implies that $kX = Xk$. In other words, the **centralizer** is the set of elements in $K$ that commutes with everything in $\\mathfrak{a}$."
   ]
  },
  {
   "cell_type": "markdown",
   "metadata": {},
   "source": [
    "**Definition (Normalizer):** The **normalizer** of $\\mathfrak{a}$ in $K$ is the set \n",
    "\n",
    "$$M^{\\prime} = \\{k \\in K : \\text{Ad}_k(\\mathfrak{a}) \\subseteq \\mathfrak{a}\\}$$\n",
    "\n",
    "In other words, the **normalizer** is the set of elements in $K$ whose $\\mathfrak{a}$-adjoint action is closed in $\\mathfrak{a}$."
   ]
  },
  {
   "cell_type": "markdown",
   "metadata": {},
   "source": [
    "**Definition (Weyl group):** The **Weyl group** $W(G, K)$ is the quotient group $M^\\prime / M$. One can show that $W(G, K)$ is a finite group. This comes from the fact that $\\mathfrak{g}$ is a finite dimensional vector space."
   ]
  },
  {
   "cell_type": "markdown",
   "metadata": {},
   "source": [
    "**Definition (Weyl chamber):** Each $\\alpha \\in \\Delta_{\\mathfrak{p}}$ defines a hyperplane $\\alpha(X) = 0$ in the vector space $\\mathfrak{a}$. These hyper planes divide the space $\\mathfrak{a}$ into finitely many connected components, called the **Weyl chambers**."
   ]
  },
  {
   "cell_type": "markdown",
   "metadata": {},
   "source": [
    "**Proposition (Generation of the Weyl group)**: For each $\\alpha \\in \\Delta_{\\mathfrak{p}}$, let $s_\\alpha$ denote the reflection with respect to the hyperplane $\\alpha(X) = 0$ in $\\mathfrak{a}$. The Weyl group is **generated** by the reflections $s_\\alpha, \\alpha \\in \\Delta_{\\mathfrak{p}}$. This means that \n",
    "\n",
    "$$M^\\prime / M \\cong \\langle\\{s_\\alpha: \\alpha \\in \\Delta_\\mathfrak{p} \\}\\rangle$$"
   ]
  },
  {
   "cell_type": "markdown",
   "metadata": {},
   "source": [
    "### 2. Computing the Weyl Group $W(G, K)$"
   ]
  },
  {
   "cell_type": "markdown",
   "metadata": {},
   "source": [
    "Each $H \\in \\mathfrak{a}$ can be written as a linear combination in the product operator basis, $H = \\sum c_i E_i$. Let $\\phi: \\mathfrak{a}, B(, ) \\to \\mathbb{R}^3,  Dot(, )$ be the direct coordinate isomorphism, where $\\phi(H) = [c_i]^T$. Observe that $\\phi$ is angle preserving.\n",
    "\n",
    "\\begin{align}\n",
    "B(H, K) \n",
    "&= B \\big(\\sum_{i}^n c_i E_i, \\sum_j^n d_j E_j \\big) \\\\\n",
    "&= 2n \\text{tr} \\big(\\sum_{i}^n c_i E_i \\big)\\big( \\sum_j^n d_j E_j \\big) \\\\\n",
    "&= 2n \\sum_{i, j}^n c_i d_j \\text{tr}(E_iE_j) \\\\\n",
    "&= 2n \\sum_{i, j}^n c_i d_j \\frac{n}{2} \\delta_{ij} \\\\\n",
    "&= n^2 \\sum_{i, j}^n c_i d_i \\\\\n",
    "&= n^2 Dot(\\phi(H), \\phi(K)) \\\\\n",
    "&= n^2 \\phi(H)^T\\phi(K)\n",
    "\\end{align}\n",
    "\n",
    "Thus, for a root $\\alpha \\in \\Delta_\\mathfrak{p}$, the hyperplane $\\{H: B(\\alpha, H) = 0\\}$ is in direct correspondence with $\\{h: \\phi(\\alpha)^T h\\}$. Now, let us compute the Weyl group $W(G, K)$."
   ]
  },
  {
   "cell_type": "markdown",
   "metadata": {},
   "source": [
    "Let $h = \\phi(H) = [c_1, c_2, c_3]^T$. The eigenvalues of the matrix $\\text{ad}_H$ are\n",
    "\n",
    "\\begin{align}\n",
    "\\sigma_\\mathfrak{p} = \\ &i\\{c_1-c_2, -c_1-c_2, -c_1-c_3, c_1-c_3, c_2-c_3, c_2+c_3, \\\\\n",
    "&-c_1+c_2, c_1+c_2, c_1+c_3, -c_1+c_3, -c_2+c_3, -c_2-c_3\\}\n",
    "\\end{align}"
   ]
  },
  {
   "cell_type": "markdown",
   "metadata": {},
   "source": [
    "Using the computation of the Killing form on linear combinations of product operator basis above we can find the corresponding root system:\n",
    "\n",
    "\\begin{align}\n",
    "\\phi(\\Delta_\\mathfrak{p}) = \\ &i\\{[1, -1, 0]^T, [-1, -1, 0]^T, [-1, 0, -1]^T, [1, 0, -1]^T, [0, 1, -1]^T, [0, 1, 1]^T, \\\\\n",
    "&[-1, 1, 0]^T, [1, 1, 0]^T, [1, 0, 1]^T, [-1, 0, 1]^T, [0, -1, 1]^T, [0, -1, -1]^T\\}\n",
    "\\end{align}"
   ]
  },
  {
   "cell_type": "markdown",
   "metadata": {},
   "source": [
    "The reflection of $h = [c_1, c_2, c_3]^T$ with respect to the plane $\\langle\\phi(\\alpha), h\\rangle = 0$ is \n",
    "\n",
    "$$s_{\\phi(\\alpha)}(h) = h - 2\\frac{\\phi(\\alpha)^Th}{||\\phi(\\alpha)||^2} \\cdot \\phi(\\alpha)$$\n",
    "\n",
    "The derivation for this formula follows from vector projection. Let $u, v$ be non-zero vector. Suppose we want to reflect $v$ by the hyperplane orthogonal to $u$. Intuitively, we can decompose $v$ into two components: one perpendicular and one parallel to $u$.\n",
    "\n",
    "$$v = v_{\\perp} + v_{\\parallel}$$\n",
    "\n",
    "Using vector projection, we can find $v_\\parallel$\n",
    "\n",
    "$$v_\\parallel = \\frac{u^T v}{\\parallel u \\parallel^2} u$$\n",
    "\n",
    "Then the reflection of $v$ is \n",
    "\n",
    "\\begin{align}\n",
    "v_\\text{r} \n",
    "&= v_{\\perp} - v_{\\parallel} \\\\\n",
    "&= v - 2v_{\\parallel} \\\\\n",
    "&= v - 2\\frac{u^T v}{\\parallel u \\parallel^2} u \\\\\n",
    "&= v - 2\\frac{u u^T}{\\parallel u \\parallel^2} v \\\\\n",
    "&= \\big( I - 2\\frac{u u^T}{\\parallel u \\parallel^2} \\big) v\n",
    "\\end{align}\n",
    "\n",
    "We call $\\big( I - 2\\frac{u u^T}{\\parallel u \\parallel^2} \\big)$, the reflection matrix by the plane orthogonal to $u$. Recall the diffusion operator in Grover's search algorithm! "
   ]
  },
  {
   "cell_type": "markdown",
   "metadata": {},
   "source": [
    "From here, we can compute all the reflections $s_\\sigma$ as follows:\n",
    "\n",
    "\\begin{align}\n",
    "s_{i(-c_2+c_3)}(h) = [c_1, c_3, c_2]^T, \\quad s_{i(c_2+c_3)}(h) = [c_1, -c_3, -c_2]^T \\\\\n",
    "s_{i(-c_1+c_2)}(h) = [c_2, c_1, c_2]^T, \\quad s_{i(c_1+c_2)}(h) = [-c_2, -c_1, c_3]^T \\\\\n",
    "s_{i(-c_3+c_1)}(h) = [c_3, c_2, c_1]^T, \\quad s_{i(c_1+c_3)}(h) = [-c_3, c_2, -c_1] ^T\\\\\n",
    "\\end{align}\n",
    "\n",
    "The reflections $s_\\alpha$ are equivalent to either permutations of the elements of $[c_1, c_2, c_3]^T$, or permutations with sign flips of two elements."
   ]
  },
  {
   "cell_type": "code",
   "execution_count": 810,
   "metadata": {},
   "outputs": [],
   "source": [
    "disp = lambda mat: Matrix(np.round(mat, 14))\n",
    "k_form = lambda X, Y: 2*X.shape[0]*np.trace(X@Y)"
   ]
  },
  {
   "cell_type": "code",
   "execution_count": 811,
   "metadata": {},
   "outputs": [],
   "source": [
    "# 1. Get matrix and bases (include I*n)\n",
    "# 2. Unpack the basis column wise and stack them horizontally into a matrix\n",
    "# 3. Find the inverse of this matrix\n",
    "# 4. Compute the Lie bracket of the matrix along each basis\n",
    "# 5. Unpack these Lie bracket horizontally and multiply them by the inverse.\n",
    "# This gives the coefficient vector\n",
    "# 6. Reshape this vector horizontally and stack it vertically into a matrix\n",
    "# 7. This is the structure constant matrix of adX"
   ]
  },
  {
   "cell_type": "code",
   "execution_count": 838,
   "metadata": {},
   "outputs": [
    {
     "data": {
      "text/latex": [
       "$\\displaystyle \\left[\\begin{matrix}5.40254792857558 i\\\\- 5.40254792857558 i\\\\0\\end{matrix}\\right]$"
      ],
      "text/plain": [
       "Matrix([\n",
       "[ 5.40254792857558*I],\n",
       "[-5.40254792857558*I],\n",
       "[                  0]])"
      ]
     },
     "execution_count": 838,
     "metadata": {},
     "output_type": "execute_result"
    }
   ],
   "source": [
    "# 1. Get matrix and bases (include I*n)\n",
    "\n",
    "c1, c2, c3 = np.random.uniform(-2*np.pi, 2*np.pi, 3)\n",
    "\n",
    "H = c1*1j/2*np.kron(X1, X1)+c2*1j/2*np.kron(X2, X2)+c3*1j/2*np.kron(X3, X3)\n",
    "H = c3*1j/2*X3\n",
    "n = H.shape[0]\n",
    "\n",
    "bases = generate_pauli_bases(int(np.log2(n)))\n",
    "\n",
    "# 2. and 3.\n",
    "Pinv = pinv(np.hstack([basis.reshape(basis.size, 1) for basis in bases]))\n",
    "\n",
    "bk_vec = np.hstack([Lie_bracket(basis,  H).reshape(n*n, 1) for basis in bases])\n",
    "\n",
    "adH_matrix = (Pinv@bk_vec).T\n",
    "\n",
    "D, P = np.linalg.eig(adH_matrix)\n",
    "\n",
    "disp(D)"
   ]
  },
  {
   "cell_type": "code",
   "execution_count": 839,
   "metadata": {},
   "outputs": [
    {
     "data": {
      "text/plain": [
       "-5.402547928575579"
      ]
     },
     "execution_count": 839,
     "metadata": {},
     "output_type": "execute_result"
    }
   ],
   "source": [
    "i*c3"
   ]
  },
  {
   "cell_type": "code",
   "execution_count": 833,
   "metadata": {},
   "outputs": [
    {
     "data": {
      "text/plain": [
       "-6.835505038188928"
      ]
     },
     "execution_count": 833,
     "metadata": {},
     "output_type": "execute_result"
    }
   ],
   "source": [
    "i*(c1-c2)"
   ]
  },
  {
   "cell_type": "code",
   "execution_count": 822,
   "metadata": {},
   "outputs": [
    {
     "data": {
      "text/latex": [
       "$\\displaystyle \\left[\\begin{array}{ccccccccccccccc}0.5 & 0.5 & 0.5 i & 0.5 & 0 & 0 & 0 & 0 & 0 & 0 & 0 & 0 & 0 & 0 & 0\\\\0 & 0 & 0 & 0 & 0.5 & 0 & -0.5 & 0 & -1.0 \\cdot 10^{-14} & - 0.5 i & 0.5 i & 1.0 \\cdot 10^{-14} i & 0 & 0 & 0\\\\0 & 0 & 0 & 0 & 0 & 0.5 & 0 & 0.5 & 0.5 & 0 & - 1.0 \\cdot 10^{-14} i & 0.5 i & 0 & 0 & 0\\\\-0.5 & -0.5 & 0.5 i & 0.5 & 0 & 0 & 0 & 0 & 0 & 0 & 0 & 0 & 0 & 0 & 0\\\\0 & 0 & 0 & 0 & 0 & 0 & 0 & 0 & 0 & 0 & 0 & 0 & 1.0 & 0 & 0\\\\0 & 0 & 0 & 0 & 0 & 0.5 i & 0 & - 0.5 i & 0.5 i & 0 & -1.0 \\cdot 10^{-14} & 0.5 & 0 & 0 & 0\\\\0 & 0 & 0 & 0 & - 0.5 i & 0 & - 0.5 i & 0 & - 1.0 \\cdot 10^{-14} i & 0.5 & 0.5 & 1.0 \\cdot 10^{-14} & 0 & 0 & 0\\\\0 & 0 & 0 & 0 & -0.5 & 0 & 0.5 & 0 & -1.0 \\cdot 10^{-14} & - 0.5 i & 0.5 i & 1.0 \\cdot 10^{-14} i & 0 & 0 & 0\\\\0 & 0 & 0 & 0 & 0 & - 0.5 i & 0 & 0.5 i & 0.5 i & 0 & -1.0 \\cdot 10^{-14} & 0.5 & 0 & 0 & 0\\\\0 & 0 & 0 & 0 & 0 & 0 & 0 & 0 & 0 & 0 & 0 & 0 & 0 & 1.0 & 0\\\\0.5 i & - 0.5 i & 0.5 & 0.5 i & 0 & 0 & 0 & 0 & 0 & 0 & 0 & 0 & 0 & 0 & 0\\\\0 & 0 & 0 & 0 & 0 & -0.5 & 0 & -0.5 & 0.5 & 0 & - 1.0 \\cdot 10^{-14} i & 0.5 i & 0 & 0 & 0\\\\0 & 0 & 0 & 0 & 0.5 i & 0 & 0.5 i & 0 & - 1.0 \\cdot 10^{-14} i & 0.5 & 0.5 & 1.0 \\cdot 10^{-14} & 0 & 0 & 0\\\\- 0.5 i & 0.5 i & 0.5 & 0.5 i & 0 & 0 & 0 & 0 & 0 & 0 & 0 & 0 & 0 & 0 & 0\\\\0 & 0 & 0 & 0 & 0 & 0 & 0 & 0 & 0 & 0 & 0 & 0 & 0 & 0 & 1.0\\end{array}\\right]$"
      ],
      "text/plain": [
       "Matrix([\n",
       "[   0.5,    0.5, 0.5*I,   0.5,      0,      0,      0,      0,          0,      0,          0,         0,   0,   0,   0],\n",
       "[     0,      0,     0,     0,    0.5,      0,   -0.5,      0,   -1.0e-14, -0.5*I,      0.5*I, 1.0e-14*I,   0,   0,   0],\n",
       "[     0,      0,     0,     0,      0,    0.5,      0,    0.5,        0.5,      0, -1.0e-14*I,     0.5*I,   0,   0,   0],\n",
       "[  -0.5,   -0.5, 0.5*I,   0.5,      0,      0,      0,      0,          0,      0,          0,         0,   0,   0,   0],\n",
       "[     0,      0,     0,     0,      0,      0,      0,      0,          0,      0,          0,         0, 1.0,   0,   0],\n",
       "[     0,      0,     0,     0,      0,  0.5*I,      0, -0.5*I,      0.5*I,      0,   -1.0e-14,       0.5,   0,   0,   0],\n",
       "[     0,      0,     0,     0, -0.5*I,      0, -0.5*I,      0, -1.0e-14*I,    0.5,        0.5,   1.0e-14,   0,   0,   0],\n",
       "[     0,      0,     0,     0,   -0.5,      0,    0.5,      0,   -1.0e-14, -0.5*I,      0.5*I, 1.0e-14*I,   0,   0,   0],\n",
       "[     0,      0,     0,     0,      0, -0.5*I,      0,  0.5*I,      0.5*I,      0,   -1.0e-14,       0.5,   0,   0,   0],\n",
       "[     0,      0,     0,     0,      0,      0,      0,      0,          0,      0,          0,         0,   0, 1.0,   0],\n",
       "[ 0.5*I, -0.5*I,   0.5, 0.5*I,      0,      0,      0,      0,          0,      0,          0,         0,   0,   0,   0],\n",
       "[     0,      0,     0,     0,      0,   -0.5,      0,   -0.5,        0.5,      0, -1.0e-14*I,     0.5*I,   0,   0,   0],\n",
       "[     0,      0,     0,     0,  0.5*I,      0,  0.5*I,      0, -1.0e-14*I,    0.5,        0.5,   1.0e-14,   0,   0,   0],\n",
       "[-0.5*I,  0.5*I,   0.5, 0.5*I,      0,      0,      0,      0,          0,      0,          0,         0,   0,   0,   0],\n",
       "[     0,      0,     0,     0,      0,      0,      0,      0,          0,      0,          0,         0,   0,   0, 1.0]])"
      ]
     },
     "execution_count": 822,
     "metadata": {},
     "output_type": "execute_result"
    }
   ],
   "source": [
    "disp(P)"
   ]
  }
 ],
 "metadata": {
  "kernelspec": {
   "display_name": "Python 3.10",
   "language": "python",
   "name": "python3.10"
  },
  "language_info": {
   "codemirror_mode": {
    "name": "ipython",
    "version": 3
   },
   "file_extension": ".py",
   "mimetype": "text/x-python",
   "name": "python",
   "nbconvert_exporter": "python",
   "pygments_lexer": "ipython3",
   "version": "3.10.4"
  }
 },
 "nbformat": 4,
 "nbformat_minor": 2
}
