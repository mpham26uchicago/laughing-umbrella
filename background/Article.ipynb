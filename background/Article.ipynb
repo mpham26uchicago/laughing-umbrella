{
 "cells": [
  {
   "cell_type": "markdown",
   "metadata": {},
   "source": [
    "Before we get start, two facts about the determinant:\n",
    "\n",
    "1. $\\det(AB) = \\det(A)\\det(B)$\n",
    "\n",
    "2. The determinant of a diagonal matrix is the product of the diagonal"
   ]
  },
  {
   "cell_type": "markdown",
   "metadata": {},
   "source": [
    "Given a two-qubit unitary matrix $U \\in U(4)$, we can decompose them into \n",
    "\n",
    "$$U = e^{i\\phi}K_1 A K_2$$\n",
    "\n",
    "where $e^{i\\phi}$ is a global phase\n",
    "\n",
    "$K_1, K_2$ are local gates ($K_1 = A_1 \\otimes B_1$ and $K_2 = A_2 \\otimes B_2$ for single qubit $A_1, A_2, B_1, B_2$).\n",
    "\n",
    "and $A = e^{\\frac{i}{2}(k_X \\sigma_X^2 + k_Y\\sigma_Y^2 + k_Z \\sigma_Z^2)}$ for canonical parameters $k_X, k_Y, k_Z \\in [0, \\pi]$"
   ]
  },
  {
   "cell_type": "markdown",
   "metadata": {},
   "source": [
    "### 1. Global Phase"
   ]
  },
  {
   "cell_type": "markdown",
   "metadata": {},
   "source": [
    "First, we want normalize the determinant of the matrix to make sure $U \\in SU(4)$. \n",
    "\n",
    "- Since $\\det(\\alpha A) =\\alpha^{\\dim(A)}\\det(A)$, we set $\\alpha = \\det(A)^{-\\frac{1}{\\dim(A)}}$ to ensure $\\det(\\alpha A) = 1$. \n",
    "\n",
    "In other words, $e^{i\\phi} = \\det(A)^{-\\frac{1}{\\dim(A)}}$"
   ]
  },
  {
   "cell_type": "markdown",
   "metadata": {},
   "source": [
    "### 2. KAK Decomposition"
   ]
  },
  {
   "cell_type": "markdown",
   "metadata": {},
   "source": [
    "We use an important theorem from Lie algebra called the Cartan decomposition, which states the following:\n",
    "\n",
    "Fact 1. Given $U \\in SU(4)$, $U = KM$ for $K \\in SO(4)$ and $M = e^{i(a_1 IZ + a_2 ZI + a_3 ZZ + ...)}$ (more Pauli tensor product terms)\n",
    "\n",
    "Fact 2. The term $M$ can be further decomposed (by conjugation) $M = K_2^\\dagger A K_2$ where $K_2 \\in SO(4)$ and $A = e^{i(a_1 IZ + a_2 ZI + a_3 ZZ)}$\n",
    "\n",
    "Combine these two facts, we get the decomposition \n",
    "\n",
    "$$U = KK_2^\\dagger A K_2 = K_1 A K_2$$"
   ]
  },
  {
   "cell_type": "markdown",
   "metadata": {},
   "source": [
    "To find these blocks, we make use of the Cartan function (involution) $\\Theta$. This function detects whether a unitary matrix falls into the $K$-type or the $M$-type.\n",
    "\n",
    "$$\\Theta(U) = \\begin{cases}U \\quad &\\text{ if } U \\text{ is $K$-type} \\\\ U^\\dagger \\quad &\\text{ if } U \\text{ is $M$-type}\\end{cases}$$\n",
    "\n",
    "For two-qubit unitary matrices, $\\Theta(U) = U^\\ast$. We can isolate $M$ with the product $\\Theta(U^\\dagger)U$:\n",
    "\n",
    "\\begin{align}\\Theta(U^\\dagger)U &= \\Theta(M^\\dagger K^\\dagger)KM \\\\ &= \\Theta (M^\\dagger) \\Theta(K^\\dagger) KM \\\\ &= (MK^\\dagger)K M \\\\ &= M^2\\end{align}\n",
    "\n",
    "In our case, $\\Theta(U^\\dagger)U  = U^TU$ (**explain**)"
   ]
  },
  {
   "cell_type": "markdown",
   "metadata": {},
   "source": [
    "In Fact 2, observe that $A$ is a diagonal matrix (**explain**). So we can easily find $A$ from $M$ by diagonalization. \n",
    "\n",
    "$$M^2 = P D P^\\dagger$$\n",
    "\n",
    "It is obvious that $K_2 = P^\\dagger$ and $A = \\sqrt D$ (**explain** what the square root mean). Since $U = K_1 A K_2$, $K_1 = U K_2^\\dagger A^\\dagger$. There you go, KAK decomposition"
   ]
  },
  {
   "cell_type": "markdown",
   "metadata": {},
   "source": [
    "### 3. Canonical Parameters"
   ]
  },
  {
   "cell_type": "markdown",
   "metadata": {},
   "source": [
    "Again from Fact 2, $A = e^{i(a_1 IZ + a_2 ZI + a_3 ZZ)}$. Expanding this fully, we get\n",
    "\n",
    "\\begin{align}A = \n",
    "\\begin{pmatrix} \n",
    "e^{i(a_0+a_1+a_2)} & 0 & 0 & 0 \\\\\n",
    "0 & e^{i(-a_0+a_1-a_2)} & 0 & 0 \\\\\n",
    "0 & 0 & e^{i(a_0-a_1-a_2)} & 0 \\\\\n",
    "0 & 0 & 0 & e^{i(-a_0-a_1+a_2)} \\\\\n",
    "\\end{pmatrix} &=\n",
    "\\begin{pmatrix} \n",
    "e^{i\\theta_0} & 0 & 0 & 0 \\\\\n",
    "0 & e^{i\\theta_1} & 0 & 0 \\\\\n",
    "0 & 0 & e^{i\\theta_2} & 0 \\\\\n",
    "0 & 0 & 0 & e^{-i(\\theta_0 + \\theta_1 + \\theta_2)} \\\\\n",
    "\\end{pmatrix}\n",
    "\\end{align}\n",
    "\n",
    "The final matrix is obtained by diagonalization $A = \\sqrt D$ from before. \n",
    "explain the structure of this matrix."
   ]
  },
  {
   "cell_type": "markdown",
   "metadata": {},
   "source": [
    "Equating the phase to each other\n",
    "\n",
    "\\begin{align}\n",
    "a_0+a_1+a_2 &= \\theta_0 \\\\\n",
    "-a_0+a_1-a_2 &= \\theta_1 \\\\\n",
    "a_0-a_1-a_2 &= \\theta_2 \\\\\n",
    "-a_0-a_1+a_2 &= -(\\theta_0 + \\theta_1 + \\theta_2)\n",
    "\\end{align}\n",
    "\n",
    "Notice that the last equation is just the negative of the sum of the first three equations, therefore it is redundant. Hence, we have three equations on three variables. This means that we can set up a matrix equation and solve by taking the inverse.\n",
    "\n",
    "$$\\underbrace{\\begin{pmatrix} \n",
    "1 & 1 & 1 \\\\\n",
    "-1 & 1 & -1 \\\\\n",
    "1 & -1 & -1\n",
    "\\end{pmatrix}}_{C} \n",
    "\\underbrace{\\begin{pmatrix}\n",
    "a_0 \\\\ a_1 \\\\ a_2\n",
    "\\end{pmatrix}}_{\\vec{a}} = \n",
    "\\underbrace{\\begin{pmatrix}\n",
    "\\theta_0 \\\\ \\theta_1 \\\\ \\theta_2\n",
    "\\end{pmatrix}}_{\\vec{c}}$$\n",
    "\n",
    "Then the desired parameters are simply $\\vec{a} = C^{-1} \\vec{\\theta}$. In fact, we give the explicit expression for $C^{-1}$:\n",
    "\n",
    "$$C^{-1} = \\frac{1}{2} \\begin{pmatrix} 1 & 0 & 1 \\\\ 1 & 1 & 0 \\\\ 0 & -1 & -1 \\end{pmatrix}$$"
   ]
  },
  {
   "cell_type": "markdown",
   "metadata": {},
   "source": [
    "This gives us the canonical parameters"
   ]
  },
  {
   "cell_type": "markdown",
   "metadata": {},
   "source": [
    "### 4. Magic Basis"
   ]
  },
  {
   "cell_type": "markdown",
   "metadata": {},
   "source": [
    "So far, we obtain the KAK decomposition \n",
    "\n",
    "$$U = K_1 A K_2$$\n",
    "\n",
    "where $K_1, K_2 \\in SO(4)$ and $A = e^{\\frac{i}{2}(a_1 IZ + a_2 ZI + a_3 ZZ)}$.\n",
    "\n",
    "However, we want\n",
    "\n",
    "$K_1, K_2 \\in SU(2) \\otimes SU(2)$ and $A = e^{\\frac{i}{2}(c_1 XX + c_2 YY + c_3 ZZ)}$"
   ]
  },
  {
   "cell_type": "markdown",
   "metadata": {},
   "source": [
    "Fortunately, we can make use of what's called a \"magic-basis\" that allows us to easily translate between these two.\n",
    "\n",
    "$$B = \\frac{1}{\\sqrt2}\n",
    "\\begin{pmatrix} \n",
    "1 & 0 & 0 & i \\\\\n",
    "0 & i & 1 & 0 \\\\\n",
    "0 & i & -1 & 0 \\\\\n",
    "1 & 0 & 0 & -i\n",
    "\\end{pmatrix}$$\n",
    "\n",
    "Fact 3. $B^\\dagger SO(4) B \\to SU(2)\\otimes SU(2)$. That is if we conjugate a $SO(4)$ matrix, we get another matrix that is separable into tensor product of $SU(2)$."
   ]
  },
  {
   "cell_type": "markdown",
   "metadata": {},
   "source": [
    "Fact 4. $B^\\dagger e^{i(a_1 IZ + a_2 ZI + a_3 ZZ)}B = e^{\\frac{i}{2}(c_1 XX + c_2 YY + c_3 ZZ)}$, where $c_{0} = 2a_1, c_{1} = -2a_0, c_{2} = 2a_2$."
   ]
  },
  {
   "cell_type": "markdown",
   "metadata": {},
   "source": [
    "Combine these two facts, we get\n",
    "\n",
    "\\begin{align} U\n",
    "&= B^\\dagger \\cdot SO(4) \\cdot e^{i(a_1 IZ + a_2 ZI + a_3 ZZ)} \\cdot SO(4) \\cdot B \\\\\n",
    "&= \\big(B^\\dagger SO(4) B \\big) \\big(B^\\dagger e^{i(a_1 IZ + a_2 ZI + a_3 ZZ)} B \\big) \\big(B^\\dagger SO(4) B\\big) \\\\\n",
    "&= \\big(SU(2) \\otimes SU(2) \\big)e^{\\frac{i}{2}(c_1 XX + c_2 YY + c_3 ZZ)}\\big(SU(2) \\otimes SU(2) \\big)\n",
    "\\end{align}"
   ]
  },
  {
   "cell_type": "markdown",
   "metadata": {},
   "source": [
    "Talk about adjoint orbit theorem, how the local gates has 6 parameters, \n",
    "\n",
    "Explain the formation of the chamber as equivalence class from period\n",
    "\n",
    "Explain the purpose of symmetry reduction as unique representation, equivalence class\n",
    "\n",
    "As gate how there is local gates corresponding to them (tucci) and combinations of these gates from the Weyl group.\n",
    "\n",
    "Then how there is 6 planes from symmetry. Go through the motion of division and choosing euqivalence class. "
   ]
  },
  {
   "cell_type": "markdown",
   "metadata": {},
   "source": [
    "Last time, we derive a scheme for decomposing a two-qubit unitary into local gates and a canonical gate.\n",
    "\n",
    "\\begin{align} U = \\big(SU(2) \\otimes SU(2) \\big)e^{\\frac{i}{2}(c_1 XX + c_2 YY + c_3 ZZ)}\\big(SU(2) \\otimes SU(2) \\big)\n",
    "\\end{align}"
   ]
  },
  {
   "cell_type": "markdown",
   "metadata": {},
   "source": [
    "From now, I will refer to this as the canonical gate\n",
    "\n",
    "$$CAN(c_1, c_2, c_3) = e^{\\frac{i}{2}(c_1 XX + c_2 YY + c_3 ZZ)}$$"
   ]
  },
  {
   "cell_type": "markdown",
   "metadata": {},
   "source": [
    "We also come up with a method to determnine the canonical parameters $c_1, c_2, c_3$ using linear algebra. Motivated by experimental difficulty in implementing non-local gates, we investigate further the structure of the canonical gates.\n",
    "\n",
    "However, there is an inherent flaw with our result so far, because these parameters $c_1, c_2, c_3$ is not unique. To make this clearer, we'll introduce the concept of local equivalence:\n",
    "\n",
    "Two gates are **locally equivalent**, if one can be transform into another by pre (and post) composition of local gates. \n",
    "\n",
    "So our problem is that there are multiple sets of parameters which construct the locally equivalent gates!\n",
    "\n",
    "For example, if you add $\\pi$ in the $c_1$, you will observe that\n",
    "\n",
    "$$\\exp{\\frac{i}{2}\\big[(c_1+\\pi) \\sigma_x^{1, 2} + c_2 \\sigma_y^{1, 2} + c_3 \\sigma_z^{1, 2}\\big]} = i\\sigma_x^{1, 2} \\cdot \\exp{\\frac{i}{2}\\big[c_1 \\sigma_x^{1, 2} + c_2 \\sigma_y^{1, 2} + c_3 \\sigma_z^{1, 2}\\big]}$$\n",
    "\n",
    "Our goal is to come up with a scheme to characterize all these locally equivalent two-qubit gates, and essentially resprent them uniquely.\n",
    "\n",
    "Before, doing that, I want to introduce an anlogous problem from modular arithmetic.\n",
    "\n",
    "- Introduce mod, and equivalence class - quotient set, also representation of set [a]."
   ]
  },
  {
   "cell_type": "markdown",
   "metadata": {},
   "source": [
    "We shall proceed in a similar fashion. \n",
    "\n",
    "Recall the Fact 2. from last time, which states that:\n",
    "\n",
    "The term $M$ can be further decomposed (by conjugation) $M = K_2^\\dagger A K_2$ where $K_2 \\in SO(4)$ and $A = e^{i(a_1 IZ + a_2 ZI + a_3 ZZ)}$. \n",
    "\n",
    "Also, recall Fact 3. from last time, which states that: $B^\\dagger SO(4) B \\to SU(2)\\otimes SU(2)$\n",
    "\n",
    "Combining these two facts, we can deduce that $SO(4)$ has 6 degrees of freedom (3 from each $SU(2)$). Just keep this number in mind for a moment.\n",
    "\n",
    "First, we need to identify the space of our canonical parameters. Ok, so $c_1, c_2, c_3$, what are they? They are angles, so they are just real number. So right now, they live in $\\mathbb{R}^3$. But notice, that if we add $\\pi$ to any parameter and compute the matrix exponential, we get a locally equivalent gate. This reveals a \"periodicity\" of the canonical gate. To gate some more familiarity on this, let's look at the cosine function...\n",
    "\n",
    "This periodicity tells us that if we look at the region $[0, 1] \\times [0, 1] \\times [0, 1]$, we get all the information about the whole space, so let's focus our attention to that. Very simply, this is a cube at the positive x, y, z quadrant with side length 1.\n",
    "\n",
    "Now, we can start our \"symmetry-reduction\" of this cube into the tetrahedron!\n",
    "\n",
    "As the name suggest, we should look at symmetry of the canonical gate. One of the thing, we can try is to swap the position of any two parameters, for example\n",
    "\n",
    "$$[c_1, c_2, c_3] \\to [c_2, c_1, c_3]$$\n",
    "\n",
    "Computing the matrix exponential, we find that\n",
    "\n",
    "$$\\exp{\\frac{i}{2}\\big[\\mathbf{c_2} \\sigma_x^{1, 2} + \\mathbf{c_1} \\sigma_y^{1, 2} + c_3 \\sigma_z^{1, 2}\\big]} = \\exp -\\frac{i\\pi}{4} \\big(\\sigma_z^1 + \\sigma_z^2 \\big) \\cdot  \\exp{\\frac{i}{2}\\big[c_1 \\sigma_x^{1, 2} + c_2 \\sigma_y^{1, 2} + c_3 \\sigma_z^{1, 2}\\big]} \\cdot \\exp \\frac{i\\pi}{4} \\big(\\sigma_z^1 + \\sigma_z^2 \\big)$$\n",
    "\n",
    "Another thing, we can do is to flip two parameters and negate them. For example,\n",
    "\n",
    "$$[c_1, c_2, c_3] \\to [-c_2, -c_1, c_3]$$\n",
    "\n",
    "It's your turn to show that this is locally equivalent to the original gate.\n",
    "\n",
    "Let's see these transformation geometrically"
   ]
  },
  {
   "cell_type": "code",
   "execution_count": 36,
   "metadata": {},
   "outputs": [],
   "source": [
    "a0, b0, c0, d0 = np.triu(np.random.rand(4, 4, 4))"
   ]
  },
  {
   "cell_type": "code",
   "execution_count": 34,
   "metadata": {},
   "outputs": [],
   "source": [
    "b = lambda x, y: x@y-y@x"
   ]
  },
  {
   "cell_type": "code",
   "execution_count": 43,
   "metadata": {},
   "outputs": [],
   "source": [
    "a1 = b(a0, b0)"
   ]
  },
  {
   "cell_type": "code",
   "execution_count": 44,
   "metadata": {},
   "outputs": [],
   "source": [
    "b1 = b(c0, d0)"
   ]
  },
  {
   "cell_type": "code",
   "execution_count": 46,
   "metadata": {},
   "outputs": [],
   "source": [
    "a2 = b(a1, b1)"
   ]
  },
  {
   "cell_type": "code",
   "execution_count": 47,
   "metadata": {},
   "outputs": [
    {
     "data": {
      "text/plain": [
       "array([[0.        , 0.        , 0.        , 0.00151333],\n",
       "       [0.        , 0.        , 0.        , 0.        ],\n",
       "       [0.        , 0.        , 0.        , 0.        ],\n",
       "       [0.        , 0.        , 0.        , 0.        ]])"
      ]
     },
     "execution_count": 47,
     "metadata": {},
     "output_type": "execute_result"
    }
   ],
   "source": [
    "b(a1, a2)"
   ]
  },
  {
   "cell_type": "code",
   "execution_count": 48,
   "metadata": {},
   "outputs": [
    {
     "data": {
      "text/plain": [
       "array([[ 0.        , -0.0011966 , -0.5156578 , -0.42806602],\n",
       "       [ 0.        ,  0.        , -0.10980098, -0.23509923],\n",
       "       [ 0.        ,  0.        ,  0.        ,  0.08114093],\n",
       "       [ 0.        ,  0.        ,  0.        ,  0.        ]])"
      ]
     },
     "execution_count": 48,
     "metadata": {},
     "output_type": "execute_result"
    }
   ],
   "source": [
    "a1"
   ]
  },
  {
   "cell_type": "code",
   "execution_count": 49,
   "metadata": {},
   "outputs": [
    {
     "data": {
      "text/plain": [
       "array([[ 0.        ,  0.        , -0.01929257,  0.18692308],\n",
       "       [ 0.        ,  0.        ,  0.        ,  0.04353146],\n",
       "       [ 0.        ,  0.        ,  0.        ,  0.        ],\n",
       "       [ 0.        ,  0.        ,  0.        ,  0.        ]])"
      ]
     },
     "execution_count": 49,
     "metadata": {},
     "output_type": "execute_result"
    }
   ],
   "source": [
    "a2"
   ]
  },
  {
   "cell_type": "code",
   "execution_count": null,
   "metadata": {},
   "outputs": [],
   "source": []
  }
 ],
 "metadata": {
  "kernelspec": {
   "display_name": "Python 3 (ipykernel)",
   "language": "python",
   "name": "python3"
  },
  "language_info": {
   "codemirror_mode": {
    "name": "ipython",
    "version": 3
   },
   "file_extension": ".py",
   "mimetype": "text/x-python",
   "name": "python",
   "nbconvert_exporter": "python",
   "pygments_lexer": "ipython3",
   "version": "3.7.4"
  }
 },
 "nbformat": 4,
 "nbformat_minor": 2
}
