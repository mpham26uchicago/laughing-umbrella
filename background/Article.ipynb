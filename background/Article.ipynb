{
 "cells": [
  {
   "cell_type": "markdown",
   "metadata": {},
   "source": [
    "**bolded** terms are defined in the glossary at the end and *italicized* terms are important."
   ]
  },
  {
   "cell_type": "markdown",
   "metadata": {},
   "source": [
    "Let's say you want to implement an arbitrary quantum gates on two qubit given by a matrix $U$. And let's say your elementary operations are Controlled-Not and single qubit gates. We would like to build a sequence of gates that implements all two-qubit gates simply by shifting the parameters in the one qubit gate.\n",
    "\n",
    "(Insert picture Canonical decomposition as a circuit)\n",
    "\n",
    "To do so, we will take advantage of a very deep theorem from a field of math called Lie algebra, called the Cartan decomposition. It splits our arbitrary quantum gate into two different \"blocks\", each of which is easily decomposed into quantum gates.\n",
    "\n",
    "(Insert picture of )\n",
    "\n",
    "Specifically, given a unitary matrix $U$, the Cartan decomposition states that \n",
    "\n",
    "$$U = e^{i\\phi}(K_1 \\otimes K_2) e^{i(k_X \\sigma_X^2 + k_Y\\sigma_Y^2 + k_Z \\sigma_Z^2)} (K_3 \\otimes K_3),$$\n",
    "\n",
    "where $e^{i\\phi}$ is a global phase\n",
    "\n",
    "$K_1, K_2, K_3, K_4$ are single qubit gates gates \n",
    "\n",
    "$k_X, k_Y, k_Z$ are *canonical parameters*"
   ]
  },
  {
   "cell_type": "markdown",
   "metadata": {},
   "source": [
    "Remark: $\\sigma_X, \\sigma_Y, \\sigma_Z$ are Pauli $X$, $Y$, $Z$ matrices respectively and $\\sigma_X^2, \\sigma_Y^2, \\sigma_Z^2$ means $\\sigma_X \\otimes \\sigma_X, \\sigma_Y \\otimes \\sigma_Y, \\sigma_Z \\otimes \\sigma_Z$ respectively."
   ]
  },
  {
   "cell_type": "markdown",
   "metadata": {},
   "source": [
    "Our main goal is to compute these *canonical parameters*. But before we do that, let's explain how they are used in the expression $e^{i(k_X \\sigma_X^2 + k_Y\\sigma_Y^2 + k_Z \\sigma_Z^2)}$. This is a matrix exponential, which is computed by taking the Taylor series of exponent matrix.\n",
    "\n",
    "$$e^A = \\sum_{k=0}^\\infty \\frac{A^k}{k!}$$\n",
    "\n",
    "In our case, we can make use of **diagonalization** to simplify this computation. In additon, all of $\\sigma_X^2, \\sigma_Y^2, \\sigma_Z^2$ commutes with each other, we can split up the exponential into three components.\n",
    "\n",
    "\\begin{align}e^{i(k_X \\sigma_X^2 + k_Y\\sigma_Y^2 + k_Z \\sigma_Z^2)}\n",
    "&= e^{ik_X \\sigma_X^2}\\cdot e^{ik_Y \\sigma_X^2}\\cdot e^{ik_Z \\sigma_X^2}\n",
    "\\end{align}\n",
    "\n",
    "Diagonalizing each component individually\n",
    "\n",
    "$$= \\big(R_y(\\pi/2)e^{ik_X \\sigma_Z^2}R_y(-\\pi/2) \\big) \\cdot \\\n",
    "\\big(R_x(\\pi/2)e^{ik_Y \\sigma_Z^2}R_x(-\\pi/2)\\big) \\cdot e^{ik_X \\sigma_Z^2}$$\n",
    " "
   ]
  },
  {
   "cell_type": "code",
   "execution_count": null,
   "metadata": {},
   "outputs": [],
   "source": []
  }
 ],
 "metadata": {
  "kernelspec": {
   "display_name": "Python 3.10",
   "language": "python",
   "name": "python3.10"
  },
  "language_info": {
   "codemirror_mode": {
    "name": "ipython",
    "version": 3
   },
   "file_extension": ".py",
   "mimetype": "text/x-python",
   "name": "python",
   "nbconvert_exporter": "python",
   "pygments_lexer": "ipython3",
   "version": "3.10.4"
  }
 },
 "nbformat": 4,
 "nbformat_minor": 2
}
