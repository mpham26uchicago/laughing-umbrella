{
 "cells": [
  {
   "cell_type": "markdown",
   "metadata": {},
   "source": [
    "This notebook summarizes and implements results from [Constructive quantum Shannon decomposition from Cartan involutions](https://iopscience.iop.org/article/10.1088/1751-8113/41/39/395305/pdf) by Byron Drury and Peter Love. There are four sections: "
   ]
  },
  {
   "cell_type": "code",
   "execution_count": 1,
   "metadata": {},
   "outputs": [],
   "source": [
    "import numpy as np\n",
    "from scipy.stats import unitary_group\n",
    "from scipy.linalg import expm, logm"
   ]
  },
  {
   "cell_type": "markdown",
   "metadata": {},
   "source": [
    "## 1. Background"
   ]
  },
  {
   "cell_type": "markdown",
   "metadata": {},
   "source": [
    "**Definition (Lie algebra):** A **Lie algebra** $A$ is a vector space with an additional operation called a Lie bracket, denoted as $[x, y]$. The Lie bracket is an alternating bilinear map $A \\times A \\to A$ that satisfies the Jacobi identity, i.e for $x, y, z \\in A$,\n",
    "\n",
    "$$[x, [y, z]] + [y, [z, x]] + [z, [x, y]] = 0$$\n",
    "\n"
   ]
  },
  {
   "cell_type": "markdown",
   "metadata": {},
   "source": [
    "**Definition (Lie Bracket for matrix algebra):** For matrix $a, b$, the **Lie bracket** is the commutator\n",
    "\n",
    "$$[a, b] = ab-ba$$"
   ]
  },
  {
   "cell_type": "markdown",
   "metadata": {},
   "source": [
    "**Definition (Derived algebra):** The **derived algebra** of $A$, denoted $[AA]$, is the linear combinations of all brackets $[x, y]$ with $x, y \\in A$"
   ]
  },
  {
   "cell_type": "markdown",
   "metadata": {},
   "source": [
    "**Definition (Subalgebra):** A subspace $S \\subseteq A$ is a **subalgebra** if it is closed under the Lie bracket, i.e\n",
    "\n",
    "$$[A, A] \\subseteq A $$"
   ]
  },
  {
   "cell_type": "markdown",
   "metadata": {},
   "source": [
    "**Definition (Ideal):** Let $A$ be a Lie algebra. A subalgebra $I\\subseteq A$ is an **ideal** if \n",
    "\n",
    "$$[A, I] \\subseteq I$$"
   ]
  },
  {
   "cell_type": "markdown",
   "metadata": {},
   "source": [
    "**Definition (Non-Abelian Lie algebra):** A Lie algebra $A$ is **non-abelian** if \n",
    "\n",
    "$$[AA] \\neq 0$$"
   ]
  },
  {
   "cell_type": "markdown",
   "metadata": {},
   "source": [
    "**Definition (Simple algebra):** A non-Abelian Lie algebra $A$ in which the only ideals are $0$ and $A$ is called **simple**. Any algebra $A$ where $[AA] = A$ is simple."
   ]
  },
  {
   "cell_type": "markdown",
   "metadata": {},
   "source": [
    "**Definition (Solvable algebra):** The derived series of an algebra $A$ is defined as \n",
    "\n",
    "$$A^{(0)} = A,\\quad A^{(1)} = [AA], \\quad A^{(2)} = [A^{(1)}A^{(1)}], \\quad A^{(i)} = [A^{(i-1)}A^{(i-1)}], \\ ...$$\n",
    "\n",
    "Observe that $A^{(n+1)} \\subseteq A^n$. If $A$ is finite dimensional, then the series eventually stabilizes, that is there exists an $n$ where $A^{(m)} = A^{(n)}$ for all $m\\geq n$. If the series stabilizes to $0$, then $A$ is called **solvable**.\n",
    "\n",
    "All abelian algebras are solvable, while all simple algebras are non-solvable. "
   ]
  },
  {
   "cell_type": "markdown",
   "metadata": {},
   "source": [
    "**Definition (Radical):** Every Lie algebra contains a a unique maximal solvable ideal, referred to as the **radical** of the algebra. Maximal means that no larger solvable ideal contains it. "
   ]
  },
  {
   "cell_type": "markdown",
   "metadata": {},
   "source": [
    "**Definition (Direct sum):** Let $B, C$ be subalgebra of $A$. Then, $A$ is the direct sum of $B$ and $C$, denoted $A = B \\oplus C$, if $A = B+C$ and $B \\cap C = 0$."
   ]
  },
  {
   "cell_type": "markdown",
   "metadata": {},
   "source": [
    "**Definition (Semi-simple algebra):** A non-zero Lie algebra $A$ is **semi-simple** if Rad $A = 0$. Equivalently, $A$ can be written as direct sum of simple subalgebra, that is \n",
    "\n",
    "$$A = A_1 \\oplus ... \\oplus A_n$$"
   ]
  },
  {
   "cell_type": "markdown",
   "metadata": {},
   "source": [
    "**Definition (Real vector space):** A **real vector space** is a vector space over $\\mathbb{R}$ (scalars are strictly real)."
   ]
  },
  {
   "cell_type": "markdown",
   "metadata": {},
   "source": [
    "**Definition (Cartan involution):** A **Cartan involution**, denoted $\\theta$, is a non-identity automorphism on the Lie algebra $\\mathfrak{g}$ such that $\\theta^2$ is the identity. It partitions $\\mathfrak{g}$ into a direct sum of eigencespaces corresponding to the $\\pm 1$ eigenvalues. So we write $\\mathfrak{g} = \\mathfrak{m} \\oplus \\mathfrak{k}$, where\n",
    "\n",
    "$$\\theta(u) = \\begin{cases} u \\quad &u \\in \\mathfrak{k} \\\\ -u \\quad &u \\in \\mathfrak{m}\\end{cases}$$\n",
    "\n",
    "These two eigenspaces must both exist because of the following:\n",
    "\n",
    "1. If only $\\mathfrak{k}$ exists, then $\\theta(u) = u$ for all $u\\in \\mathfrak{g}$, thus is $\\theta$ is the identity map.\n",
    "\n",
    "2. If only $\\mathfrak{m}$ exists, then\n",
    "\n",
    "\n",
    "$$\\begin{align}\\theta[\\mathfrak{m}, \\mathfrak{m}] &= [\\theta(\\mathfrak{m}), \\theta(\\mathfrak{m})] \\\\ &=[\\mathfrak{m}, \\mathfrak{m}] \\\\ &\\subseteq \\mathfrak{k}\\end{align}$$\n",
    "\n",
    "The second equality results from the bilinearity of the Lie bracket and the third equality shows that $[\\mathfrak{m}, \\mathfrak{m}]$ has $+1$ eigenvalue. This shows that $\\mathfrak{m}$ cannot be a subalgebra.\n",
    "\n",
    "The Cartan involution directly leads to the Cartan decomposition discussed below."
   ]
  },
  {
   "cell_type": "markdown",
   "metadata": {},
   "source": [
    "**Theorem (Cartan decomposition on Lie algebra):** A **Cartan decomposition** of a real semi-simple Lie algebra $\\mathfrak g$ is a decomposition $\\mathfrak{g} = \\mathfrak{k} \\oplus \\mathfrak{m}$ where $\\mathfrak{m} = \\mathfrak{k}^\\perp$, for which $\\mathfrak{m}$ and $\\mathfrak{k}$ statisfy the commutation relations\n",
    "\n",
    "$$[\\mathfrak{k}, \\mathfrak{k}] \\subseteq \\mathfrak{k}, \\quad [\\mathfrak{m}, \\mathfrak{k}] = \\mathfrak{m}, \\quad [\\mathfrak{m}, \\mathfrak{m}] \\subseteq \\mathfrak{k}$$\n",
    "\n",
    "Since $\\mathfrak{k}$ is closed under the Lie bracket, it is a subalgebra of $\\mathfrak{g}$. Suppose $\\mathfrak{h}$ is a subalgebra of $\\mathfrak{m}$, we have $[\\mathfrak{h}, \\mathfrak{h}] \\subseteq \\mathfrak{h} \\subseteq \\mathfrak{m}$ and $ \\mathfrak{m} \\cap \\mathfrak{k} = 0$ implies that \n",
    "\n",
    "$$ [\\mathfrak{h}, \\mathfrak{h}] = 0$$\n",
    "\n",
    "Thus all subalgebra of $\\mathfrak{m}$ is abelian. The maximal subalgebra is called the Cartan subalgebra."
   ]
  },
  {
   "cell_type": "markdown",
   "metadata": {},
   "source": [
    "**Definition (Adjoint action):** The Lie group $G$ acts on its Lie algebra $\\mathfrak{g}$ through a conjugation, known as the **adjoint action**, $Ad_G: \\mathfrak{g} \\to \\mathfrak{g}$ defined by \n",
    "\n",
    "$$Ad_u(X) = u^\\dagger X u$$\n",
    "\n",
    "for $u \\in G$ and $X \\in \\mathfrak{g}$."
   ]
  },
  {
   "cell_type": "markdown",
   "metadata": {},
   "source": [
    "**Definition (Adjoint orbit):** For $K = \\exp(\\mathfrak{k})$, the **adjoint orbit** of X is defined to be\n",
    "\n",
    "$$Ad_K X = \\bigcup_{k\\in K} Ad_k X$$"
   ]
  },
  {
   "cell_type": "markdown",
   "metadata": {},
   "source": [
    "**Theorem ($\\mathfrak{h}$-adjoint theorem):** For any two maximal Abelian subalgebras $\\mathfrak{h}$ and $\\mathfrak{h}^\\prime$ in $\\mathfrak{m}$, there is an element $k\\in K$ such that $Ad_k(\\mathfrak{h}) = \\mathfrak{h}^\\prime$. Furthermore, the adjoint orbit of $\\mathfrak{h}$ is equal to $\\mathfrak{m}$, i.e.\n",
    "\n",
    "$$\\mathfrak{m} = \\bigcup_{k\\in K} Ad_k \\mathfrak{h}$$\n",
    "\n",
    "($\\subseteq$) All elements of $\\mathfrak{m}$ is in a maximal Abelian subalgebra of $\\mathfrak{m}$\n",
    "\n",
    "($\\supseteq$) All subalgebra adjoint to one a maximal Abelian subalgebra of $\\mathfrak{m}$ is included in $\\mathfrak{m}$"
   ]
  },
  {
   "cell_type": "markdown",
   "metadata": {},
   "source": [
    "**Theorem (Global Cartan decomposition):** For a semi-simple Lie algebra $\\mathfrak{g}$ with Cartan decomposition $\\mathfrak{g} = \\mathfrak{k} \\oplus \\mathfrak{m}$ and a Cartan subalgebra $\\mathfrak{m}$, let $A = \\exp(\\mathfrak{h})$ and $K = \\exp(\\mathfrak{k})$, then \n",
    "\n",
    "$$G=K A K$$\n",
    "\n",
    "is called the global Cartan decomposition of the Lie group $G = \\exp(\\mathfrak{g})$.\n",
    "\n",
    "**Proof.** Taking the exponential map of the Cartan decomposition, we have\n",
    "\n",
    "\\begin{align}G &= \\exp(\\mathfrak{g}) \\\\ &= \\exp(\\mathfrak{m} \\oplus \\mathfrak{k}) \\\\ &= \\exp(\\mathfrak{m})\\exp(\\mathfrak{k}) \\\\ &= KM\\end{align}\n",
    "\n",
    "Let $\\mathfrak{h}$ be a maximal abelian subalgebra of $\\mathfrak{m}$. By the adjoint orbit theorem, \n",
    "\n",
    "\\begin{align} \\exp(\\mathfrak{m}) &= \\bigcup_{k\\in K} \\exp(k^\\dagger \\mathfrak{h} k) \\\\ &= \\bigcup_{k\\in K}  k^\\dagger \\exp(\\mathfrak{m}) k \\\\ &= K^\\dagger A K \\end{align}\n",
    "\n",
    "\n",
    "Since $\\mathfrak{k}$ is a subspace, $K$ is closed under multiplication. Substituting into the original decomposition\n",
    "\n",
    "\\begin{align} G &= KM \\\\ &= K(K^\\dagger A K) \\\\ &= KAK \\quad\\quad\\quad\\quad\\square\\end{align}  \n",
    "\n"
   ]
  },
  {
   "cell_type": "markdown",
   "metadata": {},
   "source": [
    "**Definition (Global Cartan involution):** The **global Cartan involution** $\\Theta$ has the following properties on the Lie group $G = \\exp(\\mathfrak{g})$\n",
    "\n",
    "$$\\Theta(U) = \\begin{cases}U \\quad &U \\in \\exp(\\mathfrak{k}) \\\\ U^\\dagger \\quad &U \\in \\exp(\\mathfrak{m}) \\end{cases}$$\n",
    "\n",
    "For unitary group, whose elements satisfy the condition $U^{-1} = U^\\dagger$, the global Cartan involution is given by\n",
    "\n",
    "$$\\Theta(\\exp(\\mathfrak{g})) = \\exp(\\theta(\\mathfrak{g}))$$\n",
    "\n",
    "In the case of $\\mathfrak{su}(n)$, there are only three classes of Cartan decomposition, denoted **AI**, **AII**, **AIII**. The $\\mathfrak{k}$ subalgebras of $\\mathfrak{su}(n)$ are isomorphic to $\\mathfrak{so}(n)$, $\\mathfrak{sp}(\\frac{n}{2})$ and $\\mathfrak{s}[\\mathfrak{u}(p) + \\mathfrak{u}(q)]$ for any $p+q=n$ ($n$ even) for **AI**, **AII**, **AIII** decompositions, respectively."
   ]
  },
  {
   "cell_type": "markdown",
   "metadata": {},
   "source": [
    "**Remark ($\\mathfrak{k}$-subalgebra of $\\mathfrak{su}(n)$):** \n",
    "\n",
    "| Cartan Type | $\\mathfrak{k}$-Subalgebra | Properties | $K$-Subgroup | Properties | Dimension |\n",
    "| :- | :- | :- | :- | :- | :- |\n",
    "| **AI** | $\\mathfrak{so}(n)$ | Real Skew-Symmetric | $SO(n)$ | Special Orthogonal | $\\frac{n(n-1)}{2}$ |\n",
    "| **AII** | $\\mathfrak{sp}\\big(\\frac{n}{2}\\big)$ | ... | $Sp\\big(\\frac{n}{2}\\big)$ | Sympletic | ... |\n",
    "| **AIII** | $\\mathfrak{s}[\\mathfrak{u}(p)$$\\oplus\\mathfrak{u}(q)]$ | Traceless Block Skew-Hermitian | $S[U(p)$$\\oplus$$U(q)]$ | Special Block Unitary | $p^2$$+ q^2$$- 1$ |\n",
    "| **A*** | $\\mathfrak{su}(n)$ | Complex Traceless Skew-Hermitian | $SU(n)$ | Special Unitary | $n^2-1$ |"
   ]
  },
  {
   "cell_type": "markdown",
   "metadata": {},
   "source": [
    "Observe that $\\mathfrak{k}$-subalgebra of Type AI Cartan involution satisfies \n",
    "\n",
    "$$u \\in \\mathfrak{k}_{\\mathbf{AI}} \\iff \\theta_{\\mathbf{AI}}(u) = -u^T = u \\iff u^T = -u \\iff u\\text{ is skew-symmetric} \\iff u \\in \\mathfrak{so}(n)$$"
   ]
  },
  {
   "cell_type": "markdown",
   "metadata": {},
   "source": [
    "**Theorem ($M$-factoring theorem):** For any $U \\in SU(2^n)$, with the Cartan decomposition $U = KM$, $M^2$ is uniquely determined by\n",
    "\n",
    "$$M^2 = \\Theta(U^\\dagger)U$$\n",
    "\n",
    "**Proof.**\n",
    "\n",
    "\\begin{align}\\Theta(G^\\dagger)G &= \\Theta(M^\\dagger K^\\dagger)KM \\\\ &= \\Theta (M^\\dagger) \\Theta(K^\\dagger) KM \\\\ &= (MK^\\dagger)K M \\\\ &= M^2\\quad\\quad\\quad\\quad\\square\\end{align}"
   ]
  },
  {
   "cell_type": "markdown",
   "metadata": {},
   "source": [
    "## 2. Single-Qubit Unitary"
   ]
  },
  {
   "cell_type": "markdown",
   "metadata": {},
   "source": [
    "The Lie algebra $\\mathfrak{su}(2)$ is given by\n",
    "\n",
    "$$\\mathfrak{su}(2) = \\text{span}_\\mathbb{R}i\\{X, Y, Z\\}$$\n",
    "\n",
    "For choice of Cartan involution, we have a different Cartan decomposition."
   ]
  },
  {
   "cell_type": "markdown",
   "metadata": {},
   "source": [
    "### Type AI"
   ]
  },
  {
   "cell_type": "markdown",
   "metadata": {},
   "source": [
    "For $u \\in \\mathfrak{su}(2)$, type **AI** Cartan involution is given by \n",
    "\n",
    "$$\\theta(u) = -u^T$$\n",
    "\n",
    "Applying $\\theta$ on each of the basis, we get the Cartan decomposition\n",
    "\n",
    "$$\\mathfrak{k} = \\text{span}_\\mathbb{R} i \\{Y\\}, \\quad \\mathfrak{m} = \\text{span}_\\mathbb{R} i\\{X, Z\\} $$\n",
    "\n",
    "Furthermore, each of $\\text{span}_\\mathbb{R} i \\{X\\}$ and $\\text{span}_\\mathbb{R} i \\{Y\\}$ is a maximal abelian subalgebra of $\\mathfrak{su}(2)$ contained in $\\mathfrak{m}$. They are related through the adjoint action.\n",
    "\n",
    "$$\\text{span}_\\mathbb{R} i \\{Z\\} = e^{i\\frac{\\pi}{4}Y} \\cdot \\text{span}_\\mathbb{R} i \\{X\\} \\cdot e^{-i\\frac{\\pi}{4}Y} $$\n",
    "\n",
    "We choose $\\mathfrak{h} = \\text{span}_\\mathbb{R} i \\{Z\\}$\n",
    "\n",
    "Taking the exponential, we get type **AI** global Cartan involution\n",
    "\n",
    "\\begin{align}\\Theta(U) &= \\exp(\\theta(u)) \\\\ &= \\exp(-u^T) \\\\ &= (U^\\dagger)^T \\\\ &= U^\\ast \\end{align}"
   ]
  },
  {
   "cell_type": "markdown",
   "metadata": {},
   "source": [
    "### Type AIII"
   ]
  },
  {
   "cell_type": "markdown",
   "metadata": {},
   "source": [
    "For $u \\in \\mathfrak{su}(2)$, type **AIII** Cartan involution is given by \n",
    "\n",
    "$$\\theta(u) = YuY$$\n",
    "\n",
    "Applying $\\theta$ on each of the basis, we get the same Cartan decomposition (as above)\n",
    "\n",
    "Taking the exponential, we get type **AIII** global Cartan involution\n",
    "\n",
    "$$\\Theta(U) = YUY$$"
   ]
  },
  {
   "cell_type": "markdown",
   "metadata": {},
   "source": [
    "### Procedure"
   ]
  },
  {
   "cell_type": "markdown",
   "metadata": {},
   "source": [
    "**Step 1.** We use $M$-factoring theorem to calculate $\\Theta(U^\\dagger)U = M^2 $"
   ]
  },
  {
   "cell_type": "markdown",
   "metadata": {},
   "source": [
    "**Step 2.** Diagonalize $M^2 = PDP^\\dagger$. Since $D$ is diagonal, $D$ must be of the form $e^{i\\alpha Z}$, that is $D \\in \\exp(\\mathfrak{h})$. Furthermore, by $\\mathfrak{h}$-adjoint theorem, $P \\in \\exp(\\mathfrak{k})$."
   ]
  },
  {
   "cell_type": "markdown",
   "metadata": {},
   "source": [
    "**Step 3.** We have $M = PD^{1/2}P^\\dagger$, thus $A = D^{1/2}$ and $K_2 = P^\\dagger$. So \n",
    "\n",
    "$$U = K^\\prime M = K^\\prime (K_2^\\dagger A K_2)$$\n",
    "\n",
    "Then $K^\\prime = UM^\\dagger$. Thus $K_1 = K^\\prime K_2^\\dagger$"
   ]
  },
  {
   "cell_type": "markdown",
   "metadata": {},
   "source": [
    "**Step 4.** We want to decompose $K_1, A, K_2$ into $e^{i\\alpha Y}, e^{i\\beta Z}, e^{i\\gamma Y}$ respectively. This corresponds to finding $\\alpha, \\beta, \\gamma$. We have the following closed form for the exponential of $Y$ and $Z$.\n",
    "\n",
    "$$e^{i\\theta Y} = \\begin{pmatrix} \\cos\\theta & \\sin\\theta \\\\ -\\sin\\theta & \\cos\\theta \\end{pmatrix}, \\quad e^{i\\theta Z} = \\begin{pmatrix} e^{i\\theta} & 0 \\\\ 0 & e^{-i\\theta} \\end{pmatrix}$$"
   ]
  },
  {
   "cell_type": "markdown",
   "metadata": {},
   "source": [
    "#### YZY decomposition"
   ]
  },
  {
   "cell_type": "markdown",
   "metadata": {},
   "source": [
    "We can generate a random element $U \\in U(2)$ but we want it to be unimodular. \n",
    "\n",
    "So we let $U^\\prime = aU$. To find $a$, note that \n",
    "\n",
    "$$\\det(aU) = a^m det(U)$$\n",
    "\n",
    "where $m = \\dim(U)$. We want that $a^m = \\frac{1}{\\det(U)}$. So $a = \\det(U)^{-\\frac{1}{m}}$."
   ]
  },
  {
   "cell_type": "code",
   "execution_count": 2,
   "metadata": {},
   "outputs": [],
   "source": [
    "# Helper functions\n",
    "\n",
    "# Define dagger\n",
    "dagger = lambda U: np.conj(U).T\n",
    "\n",
    "# Pauli matrices\n",
    "I = np.identity(2)\n",
    "X = np.array([[0, 1], [1, 0]])\n",
    "Y = np.array([[0, -1j], [1j, 0]])\n",
    "Z = np.array([[1, 0], [0, -1]])"
   ]
  },
  {
   "cell_type": "code",
   "execution_count": 3,
   "metadata": {},
   "outputs": [],
   "source": [
    "# Define Type AI Global Cartan involution\n",
    "AI_Theta = lambda U: np.conj(U)\n",
    "\n",
    "# Define Type AIII Global Cartan involution\n",
    "AIII_Theta = lambda U: Y@U@Y"
   ]
  },
  {
   "cell_type": "code",
   "execution_count": 4,
   "metadata": {},
   "outputs": [],
   "source": [
    "# Generate Random SU(2)\n",
    "U = unitary_group.rvs(2)\n",
    "U /= np.sqrt(np.linalg.det(U)) # Normalize the determinant"
   ]
  },
  {
   "cell_type": "code",
   "execution_count": 5,
   "metadata": {},
   "outputs": [
    {
     "name": "stdout",
     "output_type": "stream",
     "text": [
      "Equality Check: True\n"
     ]
    }
   ],
   "source": [
    "# Step 1: Theta(Udagger)U = M^2\n",
    "M_squared = AIII_Theta(dagger(U))@U\n",
    "\n",
    "# Step 2: Diagonalize M^2\n",
    "D, P = np.linalg.eig(M_squared)\n",
    "D = np.diag(D)\n",
    "\n",
    "# Step 3: A = sqrt(D), K2 = Pdagger, Kprime = UMdagger, K1 = Kprime K2dagger\n",
    "A = np.sqrt(D)\n",
    "K2 = dagger(P)\n",
    "\n",
    "M = P@A@dagger(P)\n",
    "K_prime = U@dagger(M)\n",
    "\n",
    "K1 = K_prime @ dagger(K2)\n",
    "\n",
    "print(f\"Equality Check: {np.allclose(K1@A@K2, U)}\")"
   ]
  },
  {
   "cell_type": "code",
   "execution_count": 6,
   "metadata": {},
   "outputs": [],
   "source": [
    "# Extract angle using arctan2 to preserve quadrant\n",
    "alpha = np.arctan2(np.real(K1[0, 1]), np.real(K1[1, 1]))\n",
    "gamma = np.arctan2(np.real(K2[0, 1]), np.real(K2[1, 1]))\n",
    "\n",
    "# Extract angle of the complex number\n",
    "beta = np.angle(A[0, 0])"
   ]
  },
  {
   "cell_type": "code",
   "execution_count": 7,
   "metadata": {},
   "outputs": [
    {
     "name": "stdout",
     "output_type": "stream",
     "text": [
      "K1: True\n",
      "A: True\n",
      "K2: True\n",
      "U: True\n"
     ]
    }
   ],
   "source": [
    "# Verify decomposition\n",
    "print(f\"K1: {np.allclose(expm(1j*alpha*Y), K1)}\")\n",
    "print(f\"A: {np.allclose(expm(1j*beta*Z), A)}\")\n",
    "print(f\"K2: {np.allclose(expm(1j*gamma*Y), K2)}\")\n",
    "print(f\"U: {np.allclose(expm(1j*alpha*Y)@expm(1j*beta*Z)@expm(1j*gamma*Y), U)}\")"
   ]
  },
  {
   "cell_type": "markdown",
   "metadata": {},
   "source": [
    "#### X+Y+Z decomposition"
   ]
  },
  {
   "cell_type": "code",
   "execution_count": 8,
   "metadata": {},
   "outputs": [],
   "source": [
    "# Matrix logarithm for x+y+z decomposition\n",
    "# this is a complex traceless skew-hermitian matrix\n",
    "u = np.round(logm(U), 14)"
   ]
  },
  {
   "cell_type": "code",
   "execution_count": 9,
   "metadata": {},
   "outputs": [],
   "source": [
    "# Extract parameters, these must be real\n",
    "ax = np.real(u[1, 0]/1j)\n",
    "ay = np.imag(u[1, 0]/1j)\n",
    "az = u[0, 0]/1j"
   ]
  },
  {
   "cell_type": "code",
   "execution_count": 10,
   "metadata": {
    "scrolled": true
   },
   "outputs": [
    {
     "name": "stdout",
     "output_type": "stream",
     "text": [
      "U: True\n"
     ]
    }
   ],
   "source": [
    "# Verify decomposition\n",
    "print(f\"U: {np.allclose(expm(1j*(ax*X + ay*Y + az*Z)), U)}\")"
   ]
  },
  {
   "cell_type": "markdown",
   "metadata": {},
   "source": [
    "## 3. Two-Qubits Unitary"
   ]
  },
  {
   "cell_type": "markdown",
   "metadata": {},
   "source": [
    "The Lie algebra $\\mathfrak{su}(4)$ is given by\n",
    "\n",
    "$$\\mathfrak{su}(4) = \\text{span}_\\mathbb{R}i \\{ \\text{IX, IY, IZ}, \\mathbf{XI}, \\mathbf{XX}, \\mathbf{XY}, \\mathbf{XZ}, \\text{YI, YX, YY, YZ}, \\mathbf{ZI}, \\mathbf{ZX}, \\mathbf{ZY}, \\mathbf{ZZ} \\}$$\n",
    "\n",
    "Note that $\\text{I}^{\\otimes 2}$ is not included because the its exponential is the global phase. \n",
    "\n",
    "For reasons that will become clear, we choose type **AI** Cartan involution.\n",
    "\n",
    "For $u \\in \\mathfrak{su}(4)$, type **AI** Cartan involution is given by\n",
    "\n",
    "$$\\theta(u) = -u^T$$\n",
    "\n",
    "with its global Cartan involution being $\\Theta(U) = U^\\ast$.\n",
    "\n",
    "Observe the action of $\\theta$ on $\\mathfrak{k}$ and $\\mathfrak{m}$ subspaces.\n",
    "\n",
    "$$\\theta(\\mathfrak{k}) = -\\mathfrak{k}^T = \\mathfrak{k}, \\quad \\theta(\\mathfrak{m}) = -\\mathfrak{m}^T = -\\mathfrak{m}$$\n",
    "\n",
    "It follows that $\\mathfrak{k}^T = -\\mathfrak{k}$ and $\\mathfrak{m}^T = \\mathfrak{m}$. Thus $\\mathfrak{k}$ is skew-symmetric and $\\mathfrak{m}$ is symmetric. Then, one can check that"
   ]
  },
  {
   "cell_type": "markdown",
   "metadata": {},
   "source": [
    "$$\\mathfrak{k} = \\text{span}_\\mathbb{R}i\\{\\text{IY, XY, ZY}, \\mathbf{YI}, \\mathbf{YX}, \\mathbf{YZ}\\}, \\quad \\mathfrak{m} = \\text{span}_\\mathbb{R}i\\{\\text{IX, IY, IZ}, \\mathbf{XI}, \\mathbf{XX}, \\mathbf{XZ}, \\text{ZI, ZX, ZZ}, \\mathbf{YY}\\}$$"
   ]
  },
  {
   "cell_type": "markdown",
   "metadata": {},
   "source": [
    "We choose our Cartan subalgebra to be $\\mathfrak{h} = \\text{span}_\\mathbb{R}i\\{\\text{IZ, ZI, ZZ}\\}$."
   ]
  },
  {
   "cell_type": "markdown",
   "metadata": {},
   "source": [
    "**Step 1.** Compute $M^2 = \\Theta(U^\\dagger)U = U^T U$\n",
    "\n",
    "**Step 2.** Diagonalize $M^2 = PDP^\\dagger$. Since $D$ is diagonal, we have that $D \\in \\exp(\\mathfrak{h})$. Furthermore, by $\\mathfrak{h}$-adjoint theorem, $P \\in \\exp(\\mathfrak{k})$.\n",
    "\n",
    "**Step 3.** We have $M = PD^{1/2}P^\\dagger$, thus $A = D^{1/2}$ and $K_2 = P^\\dagger$. So \n",
    "\n",
    "$$U = K^\\prime M = K^\\prime (K_2^\\dagger A K_2)$$\n",
    "\n",
    "Then $K^\\prime = UM^\\dagger$. Thus $K_1 = K^\\prime K_2^\\dagger$"
   ]
  },
  {
   "cell_type": "markdown",
   "metadata": {},
   "source": [
    "**Step 4.** Observe that the dimension of $SO(4)$ and $SU(2) \\otimes SU(2)$ coincides. As such, there is a homomorphism between the two Lie algebra (and Lie group) by the conjugation of the \"magic basis\"\n",
    "\n",
    "$$Ad_B (\\mathfrak{so}(4)) = \\mathfrak{su}(2) \\oplus \\mathfrak{su}(2)$$\n",
    "\n",
    "where $B$ is the matrix (up to switching columns)\n",
    "\n",
    "$$B = \\frac{1}{\\sqrt2}\n",
    "\\begin{pmatrix} \n",
    "1 & 0 & 0 & i \\\\\n",
    "0 & i & 1 & 0 \\\\\n",
    "0 & i & -1 & 0 \\\\\n",
    "1 & 0 & 0 & -i\n",
    "\\end{pmatrix}$$"
   ]
  },
  {
   "cell_type": "markdown",
   "metadata": {},
   "source": [
    "Importantly, $Ad_B$ maps $\\mathfrak{h}$ to another Cartan subalgebra by\n",
    "\n",
    "$$Ad_B(\\text{IZ}) = -\\text{YY}, \\quad Ad_B(\\text{ZI}) = \\text{XX}, \\quad Ad_B(\\text{ZZ}) = \\text{ZZ}$$\n",
    "\n",
    "We can also check the $\\mathfrak{k}$-subalgebra homomorphism.\n",
    "\n",
    "\\begin{align}\n",
    "Ad_B(\\text{IY}) = -\\text{IX}, \\quad Ad_B(\\text{XY}) = -\\text{ZI}, \\quad Ad_B(\\text{ZY}) = -\\text{XI} \\\\\n",
    "Ad_B(\\text{YI}) = -\\text{YI}, \\quad Ad_B(\\text{YX}) = -\\text{IZ}, \\quad Ad_B(\\text{YZ}) = \\text{IY} \\\\\n",
    "\\end{align}"
   ]
  },
  {
   "cell_type": "code",
   "execution_count": 11,
   "metadata": {},
   "outputs": [],
   "source": [
    "# Helper Functions\n",
    "def decompose_one_qubit_product(\n",
    "    U: np.ndarray, validate_input: bool = True, atol: float = 1e-8, rtol: float = 1e-5\n",
    "):\n",
    "    \"\"\"\n",
    "    Decompose a 4x4 unitary matrix to two 2x2 unitary matrices.\n",
    "    Args:\n",
    "        U (np.ndarray): input 4x4 unitary matrix to decompose.\n",
    "        validate_input (bool): if check input.\n",
    "    Returns:\n",
    "        phase (float): global phase.\n",
    "        U1 (np.ndarray): decomposed unitary matrix U1.\n",
    "        U2 (np.ndarray): decomposed unitary matrix U2.\n",
    "        atol (float): absolute tolerance of loss.\n",
    "        rtol (float): relative tolerance of loss.\n",
    "    Raises:\n",
    "        AssertionError: if the input is not a 4x4 unitary or\n",
    "        cannot be decomposed.\n",
    "    \"\"\"\n",
    "\n",
    "    \"\"\"if validate_input:\n",
    "        assert np.allclose(\n",
    "            makhlin_invariants(U, atol=atol, rtol=rtol), (1, 0, 3), atol=atol, rtol=rtol\n",
    "        )\"\"\"\n",
    "\n",
    "    i, j = np.unravel_index(np.argmax(U, axis=None), U.shape)\n",
    "\n",
    "    def u1_set(i):\n",
    "        return (1, 3) if i % 2 else (0, 2)\n",
    "\n",
    "    def u2_set(i):\n",
    "        return (0, 1) if i < 2 else (2, 3)\n",
    "\n",
    "    u1 = U[np.ix_(u1_set(i), u1_set(j))]\n",
    "    u2 = U[np.ix_(u2_set(i), u2_set(j))]\n",
    "\n",
    "    u1 = to_su(u1)\n",
    "    u2 = to_su(u2)\n",
    "\n",
    "    phase = U[i, j] / (u1[i // 2, j // 2] * u2[i % 2, j % 2])\n",
    "\n",
    "    return phase, u1, u2\n",
    "\n",
    "def to_su(u: np.ndarray) -> np.ndarray:\n",
    "    \"\"\"\n",
    "    Given a unitary in U(N), return the\n",
    "    unitary in SU(N).\n",
    "    Args:\n",
    "        u (np.ndarray): The unitary in U(N).\n",
    "    Returns:\n",
    "        np.ndarray: The unitary in SU(N)\n",
    "    \"\"\"\n",
    "\n",
    "    return u * complex(np.linalg.det(u)) ** (-1 / np.shape(u)[0])"
   ]
  },
  {
   "cell_type": "code",
   "execution_count": 12,
   "metadata": {},
   "outputs": [],
   "source": [
    "from numpy.linalg import det"
   ]
  },
  {
   "cell_type": "code",
   "execution_count": 13,
   "metadata": {},
   "outputs": [],
   "source": [
    "# Magic Basis\n",
    "B = 1/np.sqrt(2) * np.array([[1, 0, 0, 1j], \n",
    "                             [0, 1j, 1, 0], \n",
    "                             [0, 1j, -1, 0], \n",
    "                             [1, 0, 0, -1j]])"
   ]
  },
  {
   "cell_type": "markdown",
   "metadata": {},
   "source": [
    "Line 15-18, 22-24 that's it!"
   ]
  },
  {
   "cell_type": "code",
   "execution_count": 26,
   "metadata": {},
   "outputs": [],
   "source": [
    "# Generate Random SU(4)\n",
    "U = unitary_group.rvs(4, random_state = 18)\n",
    "\n",
    "U = U/ np.linalg.det(U)**0.25  # Normalize the determinant\n",
    "\n",
    "U_prime = dagger(B) @ U @ B\n",
    "\n",
    "# Step 1 M^2=U^TU\n",
    "M_squared = U_prime.T @ U_prime\n",
    "\n",
    "M_squared = np.round(M_squared, 14)\n",
    "\n",
    "# Step 2 M^2 = PDPdagger\n",
    "D, P = np.linalg.eig(M_squared)\n",
    "D = np.diag(D)\n",
    "\n",
    "if np.isclose(np.linalg.det(P), -1):\n",
    "    P[:, [0, 1]] = P[:, [1, 0]]  # det(P) = 1\n",
    "    D[[0, 1]] = D[[1, 0]] \n",
    "    D[:, [0, 1]] = D[:, [1, 0]] # det(D) = 1\n",
    "\n",
    "# Step 3 A = sqrtD, K2 = Pdagger, M = P A Pdagger,\n",
    "# Kprime = UMdagger, K1 = Kprime K2dagger\n",
    "A = np.sqrt(D)\n",
    "if np.isclose(np.linalg.det(A), -1):\n",
    "    A[0, 0] *= - 1 # det(A) = 1\n",
    "\n",
    "K2 = dagger(P)\n",
    "\n",
    "M = P @ A @ dagger(P)\n",
    "\n",
    "K = U_prime @ dagger(M)\n",
    "\n",
    "K1 = K @ dagger(K2)\n",
    "\n",
    "assert np.allclose(K1, np.real(K1)), \"K1 not orthogonal\"\n",
    "assert np.allclose(K2, np.real(K2)), \"K2 not orthogonal\"\n",
    "assert np.isclose(np.linalg.det(A), 1), \"det(A) not 1\"\n",
    "assert np.isclose(np.linalg.det(K1), 1), \"det(K1) not 1\"\n",
    "assert np.isclose(np.linalg.det(K2), 1), \"det(K2) not 1\"\n",
    "assert np.allclose(K1@A@K2, U_prime), \"KAK not equal U\"\n",
    "\n",
    "# Step 4 Extract the parameters\n",
    "# Taking the elements of the maximal torus\n",
    "# Reducing it back to Lie algebra form\n",
    "# Since the torus has rank 3, we can ignore the last angle\n",
    "torus = np.angle(np.diag(A))[:3]\n",
    "\n",
    "# The coefficient matrix of the maximal torus is given by\n",
    "coef_mat = np.array([[1, 1, 1], [-1, 1, -1], [1, -1, -1]])\n",
    "\n",
    "# Multiply the inverse with the torus to give the torus parameter\n",
    "a, b, c = np.linalg.inv(coef_mat) @ torus\n",
    "\n",
    "# Multiply it with the appropriate IZ, ZI, ZZ terms\n",
    "assert np.allclose(\n",
    "    expm(1j * (a * np.kron(I, Z) + b * np.kron(Z, I) + c * np.kron(Z, Z))), A), \"IZ, ZI, ZZ\"\n",
    "\n",
    "yy_term, xx_term, zz_term = -a, b, c # Unpack xx, yy, zz parameter\n",
    "\n",
    "L = B@K1@dagger(B) # Left local term\n",
    "R = B@K2@dagger(B) # Right local term\n",
    "CAN = B@A@dagger(B) # XX+YY+ZZ term\n",
    "\n",
    "# Check Canonical Representation\n",
    "assert np.allclose(\n",
    "    expm(1j * (xx_term * np.kron(X, X) + yy_term * np.kron(Y, Y) +\n",
    "               zz_term * np.kron(Z, Z))), CAN), \"XX, YY, ZZ\"\n",
    "\n",
    "phase1, l1, l2 = decompose_one_qubit_product(L) # Decompose into SU(2) x SU(2)\n",
    "phase2, r1, r2 = decompose_one_qubit_product(R) # Decompose into SU(2) x SU(2)\n",
    "\n",
    "if not np.isclose(phase1, 1) and not np.isclose(phase2, 1):\n",
    "    pboth +=1\n",
    "\n",
    "assert np.allclose(phase1*np.kron(l1, l2), L), \"L\"\n",
    "assert np.allclose(phase2*np.kron(r1, r2), R), \"R\"\n",
    "\n",
    "assert np.allclose(phase1*phase2*np.kron(l1, l2)@expm(1j * (xx_term * np.kron(X, X) + yy_term * np.kron(Y, Y) +\n",
    "               zz_term * np.kron(Z, Z)))@np.kron(r1, r2), U), \"Uh oh...\""
   ]
  },
  {
   "cell_type": "code",
   "execution_count": 44,
   "metadata": {},
   "outputs": [
    {
     "data": {
      "text/plain": [
       "(1.3692494801887862, -0.7426011592249738, 0.5892432100321542)"
      ]
     },
     "execution_count": 44,
     "metadata": {},
     "output_type": "execute_result"
    }
   ],
   "source": [
    "xx_term, yy_term, zz_term"
   ]
  },
  {
   "cell_type": "code",
   "execution_count": null,
   "metadata": {},
   "outputs": [],
   "source": []
  }
 ],
 "metadata": {
  "kernelspec": {
   "display_name": "Python 3.10",
   "language": "python",
   "name": "python3.10"
  },
  "language_info": {
   "codemirror_mode": {
    "name": "ipython",
    "version": 3
   },
   "file_extension": ".py",
   "mimetype": "text/x-python",
   "name": "python",
   "nbconvert_exporter": "python",
   "pygments_lexer": "ipython3",
   "version": "3.10.4"
  }
 },
 "nbformat": 4,
 "nbformat_minor": 2
}
