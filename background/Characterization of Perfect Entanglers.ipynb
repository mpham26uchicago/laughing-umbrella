{
 "cells": [
  {
   "cell_type": "markdown",
   "metadata": {},
   "source": [
    "For a two-qubit state $\\psi$, define a quadratic function $\\text{Ent } \\psi = \\psi^TP\\psi$, where $P = -\\frac{1}{2}\\sigma_y^1\\sigma_y^2$. It can be shown that \n",
    "\n",
    "- $\\max_\\psi | \\text{Ent } \\psi | = \\frac{1}{2}$\n",
    "\n",
    "Let $|\\psi\\rangle = ( a,  b,  c,  d )^T$. We want to maximize $\\text{Ent } \\psi = |ad-bc|$ under the normalization constraint $|a|^2 + |b|^2 + |c|^2 + |d|^2 = 1$. To do so, we use the method of the Lagrange's multiplier.\n",
    "\n",
    "- $\\text{Ent } \\psi = 0$ if and only if $\\psi$ is an unentangled state. \n",
    "\n",
    "We have the following chain of equivalences:\n",
    "\n",
    "\\begin{align}\\text{Ent } \\psi = 0 \n",
    "&\\iff ad - bc = 0 \\\\\n",
    "&\\iff ad = bc \\\\\n",
    "&\\iff a = \\alpha \\alpha^\\prime, b = \\alpha \\beta^\\prime, c = \\beta\\alpha^\\prime, d = \\beta \\beta^\\prime \\\\\n",
    "&\\iff \\psi = (\\alpha |0\\rangle + \\beta|1\\rangle) \\otimes (\\alpha^\\prime |0\\rangle + \\beta^\\prime |1\\rangle)\n",
    "\\end{align}"
   ]
  },
  {
   "cell_type": "markdown",
   "metadata": {},
   "source": [
    "The function $\\text{Ent}$ thus define a measure of entanglement for pure state. \n",
    "\n",
    "**Definition (maximally entangled state):** If $|\\text{Ent } \\psi| = \\frac{1}{2}$, we call $\\psi$ a maximally entangled state."
   ]
  },
  {
   "cell_type": "markdown",
   "metadata": {},
   "source": [
    "**Definition (Perfect entangler):** A two-qubit gate $U$ is called a perfect entangler if there exists $\\psi$ such that $|\\text{Ent } \\psi| = 0$ and $|\\text{Ent } U\\psi| = \\frac{1}{2}$. In other words, it can produce a maximally entangled state from an unentangled one."
   ]
  },
  {
   "cell_type": "markdown",
   "metadata": {},
   "source": [
    "**Definition (Convex hull):** The convex hull $C$ of $N$ points $p_1, ..., p_N$ in $\\mathbb{R}^n$ is given by\n",
    "\n",
    "$$C = \\bigg\\{ \\sum_{j=1}^N \\theta_j p_j \\ \\big| \\ \\theta_j \\geq 0 \\text{ for all } j \\text{ and } \\sum_{j=1}^N \\theta_j = 1 \\bigg \\}$$\n",
    "\n",
    "In other words, this is the set of all convex combination of points $p_1, ..., p_N$ in $\\mathbb{R}^n$. "
   ]
  },
  {
   "cell_type": "markdown",
   "metadata": {},
   "source": [
    "**Theorem (Condition for perfect entangler):** A two-qubit gate $U$ is a perfect entangler if and only if the convex hull of eigenvalues of $m(U)$ contains zero. Since $\\mathbb{C} \\sim \\mathbb{R}^2$, we can treat the real and imaginary separately. We have that $0 \\in C(\\lambda_1, ..., \\lambda_N)$ if there exists $p_1, ..., p_N$ such that\n",
    "\n",
    "$$\\sum_{j=1}^N p_j \\lambda_j = 0$$"
   ]
  },
  {
   "cell_type": "markdown",
   "metadata": {},
   "source": [
    "The proof of this makes use of the explicit form of the spectrum of the 3-Torus. In the forward direction, from the Cartan decomposition of $\\mathfrak{su}(4)$, any two-qubit gate $U \\in U(4)$ can be written in the following form\n",
    "\n",
    "$$U = e^{i\\alpha}k_1Ak_2 = e^{i\\alpha} k_1 \\exp \\big\\{ \\frac{i}{2} (c_1 \\sigma_x^{1,2} + c_2 \\sigma_y^{1, 2} + c_3 \\sigma_z^{1, 2} ) \\big \\}k_2$$\n",
    "\n",
    "where $k_1, k_2 \\in SU(2) \\otimes SU(2)$. For any arbitrary unentangled state $\\psi_0$, we have \n",
    "\n",
    "\\begin{align}\\text{Ent }U\\psi_0 \n",
    "&= \\text{Ent }e^{i\\alpha}k_1Ak_2 \\psi_0 \\\\\n",
    "&= -\\frac{1}{2} \\big ( \\psi_0^T k_2^T A^T k_1^T \\big ) P  \\big(k_1 A k_2 \\psi_0 \\big) \\\\\n",
    "\\end{align}\n",
    "\n",
    "Using Euler decomposition, we can remove $k_1$ from the equation:\n",
    "\n",
    "\\begin{align} k_1^T \\sigma_y^{1, 2} k_1\n",
    "&= \\big(Y_\\alpha Z Y_\\beta \\big)^T \\sigma_y^{1, 2} \\big(Y_\\alpha Z Y_\\beta \\big) \\\\\n",
    "&= \\big(Y_\\beta^T Z^T Y_\\alpha^T \\big) \\sigma_y^{1, 2} \\big(Y_\\alpha Z Y_\\beta \\big) \\\\\n",
    "&= \\big(Y_\\beta^{-1} Z^T Y_\\alpha^{-1} \\big) \\sigma_y^{1, 2} \\big(Y_\\alpha Z Y_\\beta \\big) \\\\\n",
    "&= \\big(Y_\\beta^{-1} \\sigma_y^{1, 2} \\big) \\big( \\sigma_y^{1, 2} Z^T \\sigma_Y^{1, 2}\\big) \\big(Z Y_\\beta \\big) \\\\\n",
    "&= \\big(Y_\\beta^{-1} \\sigma_y^{1, 2} \\big) \\big(Z^{-1} Z \\big) \\big(Y_\\beta \\big) \\\\\n",
    "&= \\sigma_y^{1, 2}\n",
    "\\end{align}\n",
    "\n",
    "So now we have \n",
    "\n",
    "$$\\text{Ent }U\\psi_0 = e^{2i\\alpha} \\text{Ent }A \\psi$$\n",
    "\n",
    "where $\\psi = k_2\\psi_0$ is again an unentangled state. Therefore, $U$ is a perfect entangler if and only if $A$ is a perfect entangler. Furthermore, we have \n",
    "\n",
    "\\begin{align} \\text{Ent }A\\psi \n",
    "&= \\big(\\psi^T A^T\\big) P \\big) A \\psi\\big) \\\\\n",
    "&= \\big(Q^\\dagger \\psi \\big)^T \\big(Q^\\dagger A Q \\big)^T \\big(Q^T P Q \\big) \\big(Q^\\dagger A Q \\big) \\big(Q^\\dagger \\psi \\big) \\\\\n",
    "&= \\frac{1}{2} \\big(Q^\\dagger \\psi\\big)^T F^2 \\big(Q^\\dagger \\psi \\big),\n",
    "\\end{align}\n",
    "\n",
    "where $Q^2 = P$ and $F = Q^\\dagger A Q$. The last equality holds since $Q^TPQ = \\frac{1}{2}I$.\n",
    "\n",
    "Let $\\phi = Q^\\dagger \\psi$. Since $\\psi$ is an unentangled state, we get $\\text{Ent }\\psi = 0$. Hence, \n",
    "\n",
    "$$\\text{Ent }\\psi = \\psi^TP\\psi = \\phi^T \\big(Q^TPQ)\\phi = \\frac{1}{2}\\phi^T\\phi = \\frac{1}{2} \\big(\\phi_1^2 + \\phi_2^2 + \\phi_3^2 + \\phi_4^2 \\big) = 0$$\n",
    "\n",
    "Since $\\phi^\\dagger \\phi = 1$, we have \n",
    "\n",
    "$$|\\phi_1|^2 + |\\phi_2|^2 + |\\phi_3|^2 + |\\phi_4|^2 = 1.$$\n",
    "\n",
    "Recall that the spectrum of $F$ is given by\n",
    "\n",
    "$$F = \\text{diag}\\big\\{e^{i\\frac{c_1-c_2+c_3}{2}}, e^{i\\frac{c_1+c_2-c_3}{2}}, e^{-i\\frac{c_1+c_2+c_3}{2}}, e^{i\\frac{-c_1+c_2+c_3}{2}} \\big\\}.$$\n",
    "\n",
    "For simplicity, we denote the eigenvalues of $F$ as $\\{\\lambda_k\\}_{k=1}^4$. Then the eigenvalues of $m(U)$ are just $\\{\\lambda_k^2\\}_{k=1}^4$. We have \n",
    "\n",
    "$$\\text{Ent }A\\psi = \\frac{1}{2}(Q^\\dagger\\psi)^TF^2(Q^\\dagger\\psi) = \\frac{1}{2}\\phi^TF^2\\phi = \\frac{1}{2}\\sum_{k=1}^4 \\lambda_k^2 \\phi_k^2.$$\n",
    "\n",
    "If $A$ is a perfect entangler, we have \n",
    "\n",
    "\\begin{align}\\frac{1}{2}\n",
    "&= |\\text{Ent }A\\psi| = \\frac{1}{2}|\\lambda_1^2 \\phi_1^2 + \\lambda_2^2\\phi_2^2 + \\lambda_3^2\\phi_3^2 + \\lambda_4^2\\phi_4^2| \\\\\n",
    "&\\leq \\frac{1}{2}\\big(|\\lambda_1^2 \\phi_1^2| + |\\lambda_2^2\\phi_2^2| + |\\lambda_3^2\\phi_3^2| + |\\lambda_4^2\\phi_4^2| \\\\\n",
    "&= \\frac{1}{2} \\big(|\\phi_1^2| + |\\phi_2^2| + |\\phi_3^2| + |\\phi_4^2|\\big) = \\frac {1}{2}.\n",
    "\\end{align}\n",
    "\n",
    "Since, the maximum value of the entanglement measure is $\\frac{1}{2}$, the triangle inequality becomes an equality. This holds if and only if there exists an angle $\\theta \\in [0, 2\\pi)$ such that\n",
    "\n",
    "$$\\lambda_1^2\\phi_1^2 = |\\phi_1|^2 e^{i2\\theta}, \\quad \\lambda_2^2\\phi_2^2 = |\\phi_2|^2 e^{i2\\theta}, \\quad \\lambda_3^2\\phi_3^2 = |\\phi_3|^2 e^{i2\\theta}, \\quad \\lambda_4^2\\phi_4^2 = |\\phi_4|^2 e^{i2\\theta}.$$\n",
    "\n",
    "After rearrangement, we obtain\n",
    "\n",
    "$$\\phi_1^2 + \\phi_2^2 + \\phi_3^2 + \\phi_4^2 = e^{i2\\theta} \\bigg(\\frac{|\\phi_1|^2}{\\lambda_1^2} + \\frac{|\\phi_2|^2}{\\lambda_2^2} + \\frac{|\\phi_3|^2}{\\lambda_3^2} + \\frac{|\\phi_4|^2}{\\lambda_4^2} \\bigg) = 0.$$\n",
    "\n",
    "Taking the complex conjugate of both sides, we get\n",
    "\n",
    "$$\\lambda_1^2|\\phi_1|^2 + \\lambda_2^2 |\\phi_2|^2 + \\lambda_3^2 |\\phi_3|^2 + \\lambda_4^2 |\\phi_4|^2 = 0.$$\n",
    "\n",
    "By finding the convexity factors $|\\phi_k|^2$, we conclude that if $U$ is a perfect entangler, the convex hull of the spectrum of $m(U)$ contains zero.\n",
    "\n",
    "Conversely, suppose the convex hull of the eigenvalues of $m(U)$ contains zero, that is, there exist $\\{\\alpha_k\\}_{k=1}^4 \\subseteq [0, 1]$ such that\n",
    "\n",
    "$$\\alpha_1^2 \\lambda_1^2 + \\alpha_2^2 \\lambda_2^2 + \\alpha_3^2 \\lambda_3^2 + \\alpha_4^2 \\lambda_4^2 = 0,$$\n",
    "$$\\alpha_1^2 + \\alpha_2^2 + \\alpha_3^2 + \\alpha_4^2 = 1.$$\n",
    "\n",
    "Let\n",
    "\n",
    "$$\\phi = \\bigg( \\frac{\\alpha_1}{\\lambda_1}, \\frac{\\alpha_2}{\\lambda_2}, \\frac{\\alpha_3}{\\lambda_3}, \\frac{\\alpha_4}{\\lambda_4} \\bigg)^T,$$\n",
    "\n",
    "and $\\psi = Q\\phi$. Compute\n",
    "\n",
    "$$\\text{Ent }\\psi = \\frac{1}{2}\\phi^T\\phi = \\frac{1}{2} \\bigg(\\frac{\\alpha_1^2}{\\lambda_1^2} + \\frac{\\alpha_2^2}{\\lambda_2^2} + \\frac{\\alpha_3^2}{\\lambda_3^2} + \\frac{\\alpha_4^2}{\\lambda_4^2} \\bigg) = 0.$$\n",
    "\n",
    "Hence $\\psi$ is an unentangled state. We derive \n",
    "\n",
    "$$\\text{Ent }A\\psi = \\frac{1}{2}\\phi^T F^2\\phi = \\frac{1}{2} (\\alpha_1^2 + \\alpha_2^2 + \\alpha_3^2 + \\alpha_4^2) = \\frac{1}{2}.$$\n",
    "\n",
    "Therefore, $U$ is a perfect entangler."
   ]
  },
  {
   "cell_type": "code",
   "execution_count": null,
   "metadata": {},
   "outputs": [],
   "source": []
  },
  {
   "cell_type": "code",
   "execution_count": null,
   "metadata": {},
   "outputs": [],
   "source": []
  },
  {
   "cell_type": "code",
   "execution_count": 8,
   "metadata": {},
   "outputs": [],
   "source": [
    "from sympy import *\n",
    "from sympy.physics.quantum import TensorProduct as tp"
   ]
  },
  {
   "cell_type": "code",
   "execution_count": 4,
   "metadata": {},
   "outputs": [],
   "source": [
    "a, b, c, d = symbols('a, b, c, d')\n",
    "psi = Matrix([[a], [b], [c], [d]])\n",
    "Y = Matrix([[0, -I], [I, 0]])\n",
    "\n"
   ]
  },
  {
   "cell_type": "code",
   "execution_count": 6,
   "metadata": {},
   "outputs": [
    {
     "data": {
      "text/latex": [
       "$\\displaystyle \\left[\\begin{matrix}- 2 a d + 2 b c\\end{matrix}\\right]$"
      ],
      "text/plain": [
       "Matrix([[-2*a*d + 2*b*c]])"
      ]
     },
     "execution_count": 6,
     "metadata": {},
     "output_type": "execute_result"
    }
   ],
   "source": [
    "psi.T@tp(Y, Y)@psi"
   ]
  }
 ],
 "metadata": {
  "kernelspec": {
   "display_name": "Python 3.10",
   "language": "python",
   "name": "python3.10"
  },
  "language_info": {
   "codemirror_mode": {
    "name": "ipython",
    "version": 3
   },
   "file_extension": ".py",
   "mimetype": "text/x-python",
   "name": "python",
   "nbconvert_exporter": "python",
   "pygments_lexer": "ipython3",
   "version": "3.10.4"
  }
 },
 "nbformat": 4,
 "nbformat_minor": 2
}
