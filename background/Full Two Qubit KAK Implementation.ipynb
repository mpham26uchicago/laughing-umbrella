{
 "cells": [
  {
   "cell_type": "markdown",
   "metadata": {},
   "source": [
    "This notebook details the full implementation of KAK on two-qubit (with Weyl chamber)! More background is provided in the other two notebooks (Cartan Decomposition - KAK & Weyl Chamber)."
   ]
  },
  {
   "cell_type": "markdown",
   "metadata": {},
   "source": [
    "### I. Background"
   ]
  },
  {
   "cell_type": "markdown",
   "metadata": {},
   "source": [
    "The Lie algebra $\\mathfrak{su}(4)$ is given by\n",
    "\n",
    "$$\\mathfrak{su}(4) = \\text{span}_\\mathbb{R}i \\{ \\text{IX, IY, IZ}, \\mathbf{XI}, \\mathbf{XX}, \\mathbf{XY}, \\mathbf{XZ}, \\text{YI, YX, YY, YZ}, \\mathbf{ZI}, \\mathbf{ZX}, \\mathbf{ZY}, \\mathbf{ZZ} \\}$$\n",
    "\n",
    "Note that $\\text{I}^{\\otimes 2}$ is not included because the its exponential is the global phase. \n",
    "\n",
    "For reasons that will become clear, we choose type **AI** Cartan involution.\n",
    "\n",
    "For $u \\in \\mathfrak{su}(4)$, type **AI** Cartan involution is given by\n",
    "\n",
    "$$\\theta(u) = -u^T$$\n",
    "\n",
    "with its global Cartan involution being $\\Theta(U) = U^\\ast$.\n",
    "\n",
    "Observe the action of $\\theta$ on $\\mathfrak{k}$ and $\\mathfrak{m}$ subspaces.\n",
    "\n",
    "$$\\theta(\\mathfrak{k}) = -\\mathfrak{k}^T = \\mathfrak{k}, \\quad \\theta(\\mathfrak{m}) = -\\mathfrak{m}^T = -\\mathfrak{m}$$\n",
    "\n",
    "It follows that $\\mathfrak{k}^T = -\\mathfrak{k}$ and $\\mathfrak{m}^T = \\mathfrak{m}$. Thus $\\mathfrak{k}$ is skew-symmetric and $\\mathfrak{m}$ is symmetric. Then, one can check that"
   ]
  },
  {
   "cell_type": "markdown",
   "metadata": {},
   "source": [
    "$$\\mathfrak{k} = \\text{span}_\\mathbb{R}i\\{\\text{IY, XY, ZY}, \\mathbf{YI}, \\mathbf{YX}, \\mathbf{YZ}\\}, \\quad \\mathfrak{m} = \\text{span}_\\mathbb{R}i\\{\\text{IX, IY, IZ}, \\mathbf{XI}, \\mathbf{XX}, \\mathbf{XZ}, \\text{ZI, ZX, ZZ}, \\mathbf{YY}\\}$$"
   ]
  },
  {
   "cell_type": "markdown",
   "metadata": {},
   "source": [
    "We choose our Cartan subalgebra to be $\\mathfrak{h} = \\text{span}_\\mathbb{R}i\\{\\text{IZ, ZI, ZZ}\\}$."
   ]
  },
  {
   "cell_type": "markdown",
   "metadata": {},
   "source": [
    "Observe that the dimension of $\\mathfrak{k} = SO(4)$ and $SU(2) \\otimes SU(2)$ coincides. As such, there is a homomorphism between the two Lie algebra (and Lie group) by the conjugation of the \"magic basis\"\n",
    "\n",
    "$$Ad_B (\\mathfrak{so}(4)) = \\mathfrak{su}(2) \\oplus \\mathfrak{su}(2)$$\n",
    "\n",
    "where $B$ is the matrix (up to switching columns)\n",
    "\n",
    "$$B = \\frac{1}{\\sqrt2}\n",
    "\\begin{pmatrix} \n",
    "1 & 0 & 0 & i \\\\\n",
    "0 & i & 1 & 0 \\\\\n",
    "0 & i & -1 & 0 \\\\\n",
    "1 & 0 & 0 & -i\n",
    "\\end{pmatrix}$$"
   ]
  },
  {
   "cell_type": "markdown",
   "metadata": {},
   "source": [
    "Importantly, $Ad_B$ maps $\\mathfrak{h}$ to another Cartan subalgebra by\n",
    "\n",
    "$$Ad_B(\\text{IZ}) = -\\text{YY}, \\quad Ad_B(\\text{ZI}) = \\text{XX}, \\quad Ad_B(\\text{ZZ}) = \\text{ZZ}$$\n",
    "\n",
    "We can also check the $\\mathfrak{k}$-subalgebra homomorphism.\n",
    "\n",
    "\\begin{align}\n",
    "Ad_B(\\text{IY}) = -\\text{IX}, \\quad Ad_B(\\text{XY}) = -\\text{ZI}, \\quad Ad_B(\\text{ZY}) = -\\text{XI} \\\\\n",
    "Ad_B(\\text{YI}) = -\\text{YI}, \\quad Ad_B(\\text{YX}) = -\\text{IZ}, \\quad Ad_B(\\text{YZ}) = \\text{IY} \\\\\n",
    "\\end{align}"
   ]
  },
  {
   "cell_type": "markdown",
   "metadata": {},
   "source": [
    "### II. Demonstration"
   ]
  },
  {
   "cell_type": "code",
   "execution_count": 1,
   "metadata": {},
   "outputs": [],
   "source": [
    "# Import\n",
    "import numpy as np\n",
    "from scipy.stats import unitary_group\n",
    "from sympy import Matrix\n",
    "from scipy.linalg import expm\n",
    "from typing import Tuple"
   ]
  },
  {
   "cell_type": "markdown",
   "metadata": {},
   "source": [
    "#### Helper Functions"
   ]
  },
  {
   "cell_type": "code",
   "execution_count": 2,
   "metadata": {},
   "outputs": [],
   "source": [
    "# Helper Functions\n",
    "\n",
    "I = np.identity(2)\n",
    "X = np.array([[0, 1], [1, 0]])\n",
    "Y = np.array([[0, -1j], [1j, 0]])\n",
    "Z = np.array([[1, 0], [0, -1]])\n",
    "\n",
    "def decompose_one_qubit_product(\n",
    "    U: np.ndarray, validate_input: bool = True, atol: float = 1e-8, rtol: float = 1e-5\n",
    "):\n",
    "    \"\"\"\n",
    "    Decompose a 4x4 unitary matrix to two 2x2 unitary matrices.\n",
    "    Args:\n",
    "        U (np.ndarray): input 4x4 unitary matrix to decompose.\n",
    "        validate_input (bool): if check input.\n",
    "    Returns:\n",
    "        phase (float): global phase.\n",
    "        U1 (np.ndarray): decomposed unitary matrix U1.\n",
    "        U2 (np.ndarray): decomposed unitary matrix U2.\n",
    "        atol (float): absolute tolerance of loss.\n",
    "        rtol (float): relative tolerance of loss.\n",
    "    Raises:\n",
    "        AssertionError: if the input is not a 4x4 unitary or\n",
    "        cannot be decomposed.\n",
    "    \"\"\"\n",
    "\n",
    "    \"\"\"if validate_input:\n",
    "        assert np.allclose(\n",
    "            makhlin_invariants(U, atol=atol, rtol=rtol), (1, 0, 3), atol=atol, rtol=rtol\n",
    "        )\"\"\"\n",
    "\n",
    "    i, j = np.unravel_index(np.argmax(U, axis=None), U.shape)\n",
    "\n",
    "    def u1_set(i):\n",
    "        return (1, 3) if i % 2 else (0, 2)\n",
    "\n",
    "    def u2_set(i):\n",
    "        return (0, 1) if i < 2 else (2, 3)\n",
    "\n",
    "    u1 = U[np.ix_(u1_set(i), u1_set(j))]\n",
    "    u2 = U[np.ix_(u2_set(i), u2_set(j))]\n",
    "\n",
    "    u1 = to_su(u1)\n",
    "    u2 = to_su(u2)\n",
    "\n",
    "    phase = U[i, j] / (u1[i // 2, j // 2] * u2[i % 2, j % 2])\n",
    "\n",
    "    return phase, u1, u2\n",
    "\n",
    "def to_su(u: np.ndarray) -> np.ndarray:\n",
    "    \"\"\"\n",
    "    Given a unitary in U(N), return the\n",
    "    unitary in SU(N).\n",
    "    Args:\n",
    "        u (np.ndarray): The unitary in U(N).\n",
    "    Returns:\n",
    "        np.ndarray: The unitary in SU(N)\n",
    "    \"\"\"\n",
    "\n",
    "    return u * complex(np.linalg.det(u)) ** (-1 / np.shape(u)[0])"
   ]
  },
  {
   "cell_type": "markdown",
   "metadata": {},
   "source": [
    "#### Step 0. Generating $U \\in SU(4)$"
   ]
  },
  {
   "cell_type": "markdown",
   "metadata": {},
   "source": [
    "First, we generate a random matrix in $U(4)$."
   ]
  },
  {
   "cell_type": "code",
   "execution_count": 3,
   "metadata": {},
   "outputs": [],
   "source": [
    "U = unitary_group.rvs(4, random_state = 18)"
   ]
  },
  {
   "cell_type": "markdown",
   "metadata": {},
   "source": [
    "Now, we want normalize the determinant of the matrix to make sure $U \\in SU(4)$. \n",
    "\n",
    "Since $\\det(\\alpha A) =\\alpha^{\\dim(A)}\\det(A)$, we set $\\alpha = \\det(A)^{-\\frac{1}{\\dim(A)}}$ to ensure $\\det(\\alpha A) = 1$."
   ]
  },
  {
   "cell_type": "code",
   "execution_count": 4,
   "metadata": {},
   "outputs": [],
   "source": [
    "U = U / np.linalg.det(U)**0.25 "
   ]
  },
  {
   "cell_type": "markdown",
   "metadata": {},
   "source": [
    "#### Step 1. Magic Basis Unconjugation"
   ]
  },
  {
   "cell_type": "markdown",
   "metadata": {},
   "source": [
    "Define the following \"magic basis\" matrix"
   ]
  },
  {
   "cell_type": "markdown",
   "metadata": {},
   "source": [
    "To make use of the $SO(4) \\to SU(2) \\otimes SU(2)$ homomorphism later, let $U^\\prime = B^\\dagger U B$."
   ]
  },
  {
   "cell_type": "code",
   "execution_count": 5,
   "metadata": {},
   "outputs": [],
   "source": [
    "# Magic Basis\n",
    "B = 1/np.sqrt(2) * np.array([[1, 0, 0, 1j], \n",
    "                             [0, 1j, 1, 0], \n",
    "                             [0, 1j, -1, 0], \n",
    "                             [1, 0, 0, -1j]])"
   ]
  },
  {
   "cell_type": "code",
   "execution_count": 6,
   "metadata": {},
   "outputs": [],
   "source": [
    "U_prime = np.conj(B).T@U@B"
   ]
  },
  {
   "cell_type": "markdown",
   "metadata": {},
   "source": [
    "#### Step 2. Isolating the Maximal Torus"
   ]
  },
  {
   "cell_type": "markdown",
   "metadata": {},
   "source": [
    "Define Type **AI** global Cartan involution"
   ]
  },
  {
   "cell_type": "code",
   "execution_count": 7,
   "metadata": {},
   "outputs": [],
   "source": [
    "Theta = lambda U: np.conj(U)"
   ]
  },
  {
   "cell_type": "markdown",
   "metadata": {},
   "source": [
    "By Cartan decomposition, we have $U = KM$, where $K \\in \\exp(\\mathfrak{k})$ and $M \\in \\exp(\\mathfrak{m})$. Observe that \n",
    "\n",
    "\\begin{align}\n",
    "\\Theta(U^\\dagger)U \n",
    "&= \\Theta(M^\\dagger K^\\dagger)KM \\\\\n",
    "&= M K^\\dagger K M \\\\\n",
    "&= M^2.\n",
    "\\end{align}\n",
    "\n",
    "In our case, $\\Theta(U^\\dagger)U  = U^TU$."
   ]
  },
  {
   "cell_type": "code",
   "execution_count": 8,
   "metadata": {},
   "outputs": [],
   "source": [
    "M_squared = Theta(np.conj(U_prime).T)@U_prime\n",
    "\n",
    "M_squared = np.round(M_squared, 14) # For numerical stability"
   ]
  },
  {
   "cell_type": "markdown",
   "metadata": {},
   "source": [
    "#### Step 3. Extracting $K_2$"
   ]
  },
  {
   "cell_type": "markdown",
   "metadata": {},
   "source": [
    "Recall that the maximal torus in $SU(n)$ is isomorphic to $T^{n-1}$. Incidentally, the group $T^{n-1}$ consists of diagonal matrices with determinant $1$, that is \n",
    "\n",
    "$$T^{n-1} \\cong \\exp(\\mathfrak{h}) = A$$\n",
    "\n",
    "Furthermore, by adjoint orbit theorem, $M$ are conjugate of $A$ under some element of $P \\in \\exp(\\mathfrak{k})$. Specifically,\n",
    "\n",
    "$$M = Ad_P(A)$$"
   ]
  },
  {
   "cell_type": "markdown",
   "metadata": {},
   "source": [
    "Diagonalizing $M^2$, we get\n",
    "\n",
    "$$M^2 = PDP^\\dagger$$"
   ]
  },
  {
   "cell_type": "code",
   "execution_count": 9,
   "metadata": {},
   "outputs": [],
   "source": [
    "D, P = np.linalg.eig(M_squared)"
   ]
  },
  {
   "cell_type": "markdown",
   "metadata": {},
   "source": [
    "Note that $M$ will share the same eigenvectors as $M^2$. This means that $P \\in SO(4)$."
   ]
  },
  {
   "cell_type": "markdown",
   "metadata": {},
   "source": [
    "**<span style=\"color:red\">Warning:</span>** Sometimes computing the diagonalization of $M^2$ leaves $P$ with determinant of $-1$ instead of $+1$. When this happens, the magic basis homomorphism cannot map $P$ to $SU(2) \\otimes SU(2)$. We can fix this by simply **multiplying the first column of $P$ by -1**."
   ]
  },
  {
   "cell_type": "code",
   "execution_count": 10,
   "metadata": {},
   "outputs": [
    {
     "name": "stdout",
     "output_type": "stream",
     "text": [
      "Determinant of P: -1.0\n"
     ]
    }
   ],
   "source": [
    "print(f\"Determinant of P: {np.round(np.linalg.det(P).real, 14)}\")"
   ]
  },
  {
   "cell_type": "code",
   "execution_count": 11,
   "metadata": {},
   "outputs": [],
   "source": [
    "if np.isclose(np.linalg.det(P), -1):\n",
    "    P[:, 0]*=-1  # Multiply the first eigenvector by -1"
   ]
  },
  {
   "cell_type": "markdown",
   "metadata": {},
   "source": [
    "Verify that $P \\in SO(4)$"
   ]
  },
  {
   "cell_type": "code",
   "execution_count": 12,
   "metadata": {},
   "outputs": [
    {
     "name": "stdout",
     "output_type": "stream",
     "text": [
      "P is orthogonal: True\n",
      "det(P) = 1: True\n"
     ]
    }
   ],
   "source": [
    "print(f\"P is orthogonal: {np.allclose(P.T@P, np.identity(4))}\")\n",
    "print(f\"det(P) = 1: {np.isclose(np.linalg.det(P), 1)}\")"
   ]
  },
  {
   "cell_type": "markdown",
   "metadata": {},
   "source": [
    "And now we can let $K_2 = P^\\dagger$."
   ]
  },
  {
   "cell_type": "code",
   "execution_count": 13,
   "metadata": {},
   "outputs": [],
   "source": [
    "K2 = np.conj(P).T"
   ]
  },
  {
   "cell_type": "markdown",
   "metadata": {},
   "source": [
    "#### Step 4: Extracting $A$"
   ]
  },
  {
   "cell_type": "markdown",
   "metadata": {},
   "source": [
    "Now, we find that $M = PD^{1/2}P^\\dagger$. Recall that all maximal torus in $SU(n)$ are isomorphic to $\\mathbb{T}^{n-1}$, which is the group of diagonal matrix with unit determinant. Since we have that $P \\in \\mathfrak{k} = SO(4)$, if we can ensure that $A = D^{1/2} \\in \\mathbb{T}^{n-1}$ , then by adjoint orbit theorem, $M = \\exp(\\mathfrak{m})$ as desired."
   ]
  },
  {
   "cell_type": "code",
   "execution_count": 14,
   "metadata": {},
   "outputs": [],
   "source": [
    "A = np.sqrt(D)"
   ]
  },
  {
   "cell_type": "markdown",
   "metadata": {},
   "source": [
    "**<span style=\"color:red\">Warning:</span>** Similar to above, sometimes taking the square root of $D$ leaves a matrix with determinant $-1$. To fix this, we just need to **multiply the first eigenvalue by $-1$**. Doing so will correct the determinant, but still preserve the condition $A^2 = D$."
   ]
  },
  {
   "cell_type": "code",
   "execution_count": 15,
   "metadata": {
    "scrolled": true
   },
   "outputs": [
    {
     "name": "stdout",
     "output_type": "stream",
     "text": [
      "Determinant of A: -1.0\n"
     ]
    }
   ],
   "source": [
    "print(f\"Determinant of A: {np.round(np.prod(A).real, 14)}\")"
   ]
  },
  {
   "cell_type": "code",
   "execution_count": 16,
   "metadata": {},
   "outputs": [],
   "source": [
    "if np.isclose(np.prod(A), -1):\n",
    "    A[0] *= -1 # Multiply the first eigenvalue by -1\n",
    "    \n",
    "A = np.diag(A) # Turn the list of eigenvalues into a diagonal matrix"
   ]
  },
  {
   "cell_type": "markdown",
   "metadata": {},
   "source": [
    "Verify that $\\det(A) = 1$"
   ]
  },
  {
   "cell_type": "code",
   "execution_count": 17,
   "metadata": {},
   "outputs": [
    {
     "name": "stdout",
     "output_type": "stream",
     "text": [
      "det(A) = 1: True\n"
     ]
    }
   ],
   "source": [
    "print(f\"det(A) = 1: {np.isclose(np.linalg.det(A), 1)}\")"
   ]
  },
  {
   "cell_type": "markdown",
   "metadata": {},
   "source": [
    "#### Step 5: Extracting $K_1$"
   ]
  },
  {
   "cell_type": "markdown",
   "metadata": {},
   "source": [
    "So far, we have $U^\\prime = KM = KK_2^\\dagger A K_2$. It is easy to see that $K_1 = KK_2^\\dagger$. Thus $K_1 = U^\\prime K_2^\\dagger A^\\dagger$. To show that $K_1 \\in SO(4)$ check\n",
    "\n",
    "\\begin{align}\n",
    "K_1^T K_1 \n",
    "&= U^\\prime K_2^\\dagger A^\\dagger (U^\\prime K_2^\\dagger A^\\dagger)^T \\\\\n",
    "&= U^\\prime K_2^\\dagger A^\\dagger A^\\ast K_2^\\ast (U^\\prime)^T \\\\ \n",
    "&= U^\\prime K_2^T A^\\ast A^\\ast K_2 (U^\\prime)^T \\quad \\big( K_2 \\in SO(4) \\big)\\\\\n",
    "&= U^\\prime K_2^T (A^\\ast)^2 K_2 (U^\\prime)^T\n",
    "\\end{align}"
   ]
  },
  {
   "cell_type": "markdown",
   "metadata": {},
   "source": [
    "Moving both the $U$ terms to the LHS,\n",
    "\n",
    "\\begin{align}\n",
    "(U^\\prime)^\\dagger K_1^T K_1 \\big((U^\\prime)^T\\big)^\\dagger\n",
    "&= K_2^T (A^\\ast)^2 K_2(U^\\prime)^T\n",
    "\\end{align}\n",
    "\n",
    "Taking the inverse of both sides\n",
    "\n",
    "\\begin{align}\n",
    "\\bigg((U^\\prime)^\\dagger K_1^T K_1 \\big((U^\\prime)^T\\big)^\\dagger \\bigg)^\\dagger\n",
    "&= \\big(K_2^T (A^\\ast)^2 K_2) \\big)^\\dagger\n",
    "\\end{align}"
   ]
  },
  {
   "cell_type": "markdown",
   "metadata": {},
   "source": [
    "This is equivalent to\n",
    "\n",
    "\\begin{align}\n",
    "(U^\\prime)^T K_1^T K_1 U^\\prime \n",
    "&= K_2^T A^2 K_2 \\\\\n",
    "&=(U^\\prime)^T U^\\prime \\quad \\big( A^2 = D, K_2^\\dagger = P \\big)\n",
    "\\end{align}\n",
    "\n",
    "This implies that $K_1^T K_1 = I_4$. Taking the transpose of both sides, we have $K_1 K_1^T = I_4$.\n",
    "\n",
    "To show that $\\det(K_1) = 1$, observe that\n",
    "\n",
    "\\begin{align}\n",
    "\\det(K_1) \n",
    "&= \\det(U^\\prime K_2^\\dagger A^\\dagger) \\\\\n",
    "&= \\det(U^\\prime) \\det(K_2^\\dagger) \\det(A^\\dagger) \\\\\n",
    "&= 1\n",
    "\\end{align}\n",
    "\n",
    "as desired. Thus $K_1 \\in SO(4)$."
   ]
  },
  {
   "cell_type": "code",
   "execution_count": 18,
   "metadata": {},
   "outputs": [],
   "source": [
    "K1 = U_prime @ np.conj(K2).T @ np.conj(A).T"
   ]
  },
  {
   "cell_type": "markdown",
   "metadata": {},
   "source": [
    "Verify $K_1 \\in SO(4)$."
   ]
  },
  {
   "cell_type": "code",
   "execution_count": 19,
   "metadata": {
    "scrolled": true
   },
   "outputs": [
    {
     "name": "stdout",
     "output_type": "stream",
     "text": [
      "K1 is orthogonal: True\n",
      "det(K1) = 1: True\n"
     ]
    }
   ],
   "source": [
    "print(f\"K1 is orthogonal: {np.allclose(K1.T@K1, np.identity(4))}\")\n",
    "print(f\"det(K1) = 1: {np.isclose(np.linalg.det(K1), 1)}\")"
   ]
  },
  {
   "cell_type": "markdown",
   "metadata": {},
   "source": [
    "Now that we have all the pieces, let's verify that \n",
    "\n",
    "$$U^\\prime = K_1 A K_2 $$"
   ]
  },
  {
   "cell_type": "code",
   "execution_count": 20,
   "metadata": {},
   "outputs": [
    {
     "name": "stdout",
     "output_type": "stream",
     "text": [
      "KAK = U': True\n"
     ]
    }
   ],
   "source": [
    "print(f\"KAK = U': {np.allclose(U_prime, K1@A@K2)}\")"
   ]
  },
  {
   "cell_type": "markdown",
   "metadata": {},
   "source": [
    "#### Step 6: Extracting Local Gates"
   ]
  },
  {
   "cell_type": "markdown",
   "metadata": {},
   "source": [
    "Recall that $U^\\prime = B^\\dagger U B$, this means that\n",
    "\n",
    "\\begin{align}\n",
    "U \n",
    "&= B K_1 A K_2 B^\\dagger \\\\\n",
    "&= (B K_1 B^\\dagger) (BAB^\\dagger) (B K_2 B^\\dagger) \\\\\n",
    "\\end{align}\n",
    "\n",
    "Since $K_1, K_2 \\in SO(4)$, the magic basis homomorphism ensures that $BK_1 B^\\dagger, BK_2 B^\\dagger \\in SU(2) \\otimes SU(2)$. Let $L = BK_1 B^\\dagger$ and $R = BK_2 B^\\dagger$. Then,\n",
    "\n",
    "$$L = L_1 \\otimes L_2, \\quad R = R_1 \\otimes R_2$$"
   ]
  },
  {
   "cell_type": "code",
   "execution_count": 21,
   "metadata": {},
   "outputs": [],
   "source": [
    "L = B@K1@np.conj(B).T # Left Local Product\n",
    "R = B@K2@np.conj(B).T # Right Local Product\n",
    "\n",
    "phase1, L1, L2 = decompose_one_qubit_product(L) # L1 (top), L2(bottom)\n",
    "phase2, R1, R2 = decompose_one_qubit_product(R) # R1 (top), R2(bottom)"
   ]
  },
  {
   "cell_type": "markdown",
   "metadata": {},
   "source": [
    "Verify correctness"
   ]
  },
  {
   "cell_type": "code",
   "execution_count": 22,
   "metadata": {},
   "outputs": [
    {
     "name": "stdout",
     "output_type": "stream",
     "text": [
      "L Correct: True\n",
      "R Correct: True\n"
     ]
    }
   ],
   "source": [
    "print(f\"R Correct: {np.allclose(phase2*np.kron(R1, R2), R)}\")"
   ]
  },
  {
   "cell_type": "markdown",
   "metadata": {},
   "source": [
    "#### Step 7: Extracting the Canoncial Parameters"
   ]
  },
  {
   "cell_type": "markdown",
   "metadata": {},
   "source": [
    "We want to find the canonical parameters $a_0, a_1, a_2$ such that \n",
    "\n",
    "$$\\exp i(a_0 IZ + a_1 ZI + a_2 ZZ) = A$$\n",
    "\n",
    "Expanding both sides into matrix form, recall that $A$ is a diagonal matrix and both sides each has unit determinant."
   ]
  },
  {
   "cell_type": "markdown",
   "metadata": {},
   "source": [
    "\\begin{align}\n",
    "\\begin{pmatrix} \n",
    "e^{i(a_0+a_1+a_2)} & 0 & 0 & 0 \\\\\n",
    "0 & e^{i(-a_0+a_1-a_2)} & 0 & 0 \\\\\n",
    "0 & 0 & e^{i(a_0-a_1-a_2)} & 0 \\\\\n",
    "0 & 0 & 0 & e^{i(-a_0-a_1+a_2)} \\\\\n",
    "\\end{pmatrix} &=\n",
    "\\begin{pmatrix} \n",
    "e^{i\\theta_0} & 0 & 0 & 0 \\\\\n",
    "0 & e^{i\\theta_1} & 0 & 0 \\\\\n",
    "0 & 0 & e^{i\\theta_2} & 0 \\\\\n",
    "0 & 0 & 0 & e^{-i(\\theta_0 + \\theta_1 + \\theta_2)} \\\\\n",
    "\\end{pmatrix}\n",
    "\\end{align}"
   ]
  },
  {
   "cell_type": "markdown",
   "metadata": {},
   "source": [
    "We have four linear equations\n",
    "\n",
    "\\begin{align}\n",
    "a_0+a_1+a_2 &= \\theta_0 \\\\\n",
    "-a_0+a_1-a_2 &= \\theta_1 \\\\\n",
    "a_0-a_1-a_2 &= \\theta_2 \\\\\n",
    "-a_0-a_1+a_2 &= -(\\theta_0 + \\theta_1 + \\theta_2)\n",
    "\\end{align}\n",
    "\n",
    "Notice that the last equation is just the negative of the sum of the first three equations, therefore it is redundant. Hence, we have three equations on three variables. This means that we can set up a matrix equation and solve by taking the inverse.\n",
    "\n",
    "$$\\underbrace{\\begin{pmatrix} \n",
    "1 & 1 & 1 \\\\\n",
    "-1 & 1 & -1 \\\\\n",
    "1 & -1 & -1\n",
    "\\end{pmatrix}}_{C} \n",
    "\\underbrace{\\begin{pmatrix}\n",
    "a_0 \\\\ a_1 \\\\ a_2\n",
    "\\end{pmatrix}}_{\\vec{a}} = \n",
    "\\underbrace{\\begin{pmatrix}\n",
    "\\theta_0 \\\\ \\theta_1 \\\\ \\theta_2\n",
    "\\end{pmatrix}}_{\\vec{\\theta}}$$\n",
    "\n",
    "Then the desired parameters are simply $\\vec{a} = C^{-1} \\vec{\\theta}$. In fact, we give the explicit expression for $C^{-1}$:\n",
    "\n",
    "$$C^{-1} = \\frac{1}{2} \\begin{pmatrix} 1 & 0 & 1 \\\\ 1 & 1 & 0 \\\\ 0 & -1 & -1 \\end{pmatrix}$$"
   ]
  },
  {
   "cell_type": "code",
   "execution_count": 23,
   "metadata": {},
   "outputs": [],
   "source": [
    "C = np.array([[1, 1, 1], \n",
    "              [-1, 1, -1], \n",
    "              [1, -1, -1]]) # Coefficient Matrix"
   ]
  },
  {
   "cell_type": "code",
   "execution_count": 24,
   "metadata": {},
   "outputs": [],
   "source": [
    "theta_vec = np.angle(np.diag(A))[:3] # theta vector\n",
    "a0, a1, a2 = np.linalg.inv(C)@theta_vec # Computing the \"a\"-vector"
   ]
  },
  {
   "cell_type": "markdown",
   "metadata": {},
   "source": [
    "Verify that $\\exp i(a_0 IZ + a_1 ZI + a_2 ZZ) = A$"
   ]
  },
  {
   "cell_type": "code",
   "execution_count": 25,
   "metadata": {},
   "outputs": [
    {
     "name": "stdout",
     "output_type": "stream",
     "text": [
      "e^i(a.h)=A: True\n"
     ]
    }
   ],
   "source": [
    "print(\n",
    "    f\"e^i(a.h)=A: {np.allclose(A, expm(1j*(a0*np.kron(I, Z) + a1*np.kron(Z, I) + a2*np.kron(Z, Z))))}\"\n",
    ")"
   ]
  },
  {
   "cell_type": "markdown",
   "metadata": {},
   "source": [
    "Recall that $Ad_B$ maps $\\mathfrak{h}$ to another Cartan subalgebra by\n",
    "\n",
    "$$Ad_B(\\text{IZ}) = -\\text{YY}, \\quad Ad_B(\\text{ZI}) = \\text{XX}, \\quad Ad_B(\\text{ZZ}) = \\text{ZZ}$$"
   ]
  },
  {
   "cell_type": "markdown",
   "metadata": {},
   "source": [
    "Thus, the canonical parameters of this Cartan subalgebra is given by\n",
    "\n",
    "$$c_{0} = 2a_1, \\quad c_{1} = -2a_0, \\quad c_{2} = 2a_2$$\n",
    "\n",
    "which means that\n",
    "\n",
    "$$\\exp \\frac{i}{2}(c_0 XX + c_1 YY + c_2 ZZ) = B A B^\\dagger$$\n",
    "\n",
    "We call the $\\text{CAN}(c_0, c_1, c_2)$ gate."
   ]
  },
  {
   "cell_type": "code",
   "execution_count": 26,
   "metadata": {},
   "outputs": [],
   "source": [
    "# Define the Canonical gate\n",
    "CAN = lambda c0, c1, c2: expm(1j/2*(c0*np.kron(X, X) + c1*np.kron(Y, Y) + c2*np.kron(Z, Z)))"
   ]
  },
  {
   "cell_type": "code",
   "execution_count": 27,
   "metadata": {},
   "outputs": [],
   "source": [
    "c0, c1, c2 = 2*a1, -2*a0, 2*a2 # Unpack parameters"
   ]
  },
  {
   "cell_type": "markdown",
   "metadata": {},
   "source": [
    "Verify that $\\text{CAN}(c_0, c_1, c_2) = BAB^\\dagger$"
   ]
  },
  {
   "cell_type": "code",
   "execution_count": 35,
   "metadata": {},
   "outputs": [
    {
     "name": "stdout",
     "output_type": "stream",
     "text": [
      "CAN = BAB^†: True\n"
     ]
    }
   ],
   "source": [
    "print(f\"CAN = BAB^†: {np.allclose(B@A@np.conj(B).T, CAN(c0, c1, c2))}\")"
   ]
  },
  {
   "cell_type": "markdown",
   "metadata": {},
   "source": [
    "Putting everything together, we have\n",
    "\n",
    "$$U = (L_1 \\otimes L_2) \\ \\text{CAN}(c_0, c_1, c_2) \\ (R_1 \\otimes R_2)$$"
   ]
  },
  {
   "cell_type": "markdown",
   "metadata": {},
   "source": [
    "Verify this"
   ]
  },
  {
   "cell_type": "code",
   "execution_count": 36,
   "metadata": {},
   "outputs": [
    {
     "name": "stdout",
     "output_type": "stream",
     "text": [
      "U = L.CAN.R: True\n"
     ]
    }
   ],
   "source": [
    "print(f\"U = L.CAN.R: {np.allclose(U, (phase1*np.kron(L1, L2))@CAN(c0, c1, c2)@(phase2*np.kron(R1, R2)))}\")"
   ]
  },
  {
   "cell_type": "markdown",
   "metadata": {},
   "source": [
    "### III. Method"
   ]
  },
  {
   "cell_type": "code",
   "execution_count": 144,
   "metadata": {},
   "outputs": [],
   "source": [
    "def weyl_chamber(c):\n",
    "    \"\"\"Bring coordinates vector into the Weyl chamber\"\"\"\n",
    "\n",
    "    # Step 0: work in terms of multiple of pi\n",
    "    c /= np.pi\n",
    "\n",
    "    # Step 1: Bring everything into [0, 1)\n",
    "    c -= np.floor(c)\n",
    "\n",
    "    # Step 2: Sort c1 >= c2 >= c3\n",
    "    c = np.sort(c)[::-1]\n",
    "\n",
    "    # Step 3: if c1 + c2 >= 1, transform (c1, c2, c3) -> (1-c2, 1-c1, c3)\n",
    "    if c[0]+c[1] >=1:\n",
    "        c = np.sort(np.array([1-c[1], 1-c[0], c[2]]))[::-1]\n",
    "\n",
    "    # Step 4: if c3 = 0 and c1>1/2, transform (c1, c2, 0) -> (1-c1, c2, 0)\n",
    "    if (c[0] > 1/2) and np.isclose(c[2], 0):\n",
    "        c = np.array([1-c[0], c[1], 0])\n",
    "\n",
    "    # Step 5: Turn it back into radians\n",
    "    c *= np.pi\n",
    "    \n",
    "    return c\n",
    "\n",
    "def KAK_2q(\n",
    "    U: np.ndarray,\n",
    "    rounding: int = 19\n",
    ") -> Tuple[float, np.ndarray, np.ndarray, float, np.ndarray, np.ndarray, float,\n",
    "           float, float]:\n",
    "    \"\"\"\n",
    "    Decomposes a 2-qubit unitary matrix into the product of three matrices:\n",
    "    KAK = L @ CAN(theta_vec) @ R where L and R are two-qubit local unitaries, \n",
    "    CAN is a 3-parameter canonical matrix, and theta_vec is a vector of 3 angles.\n",
    "\n",
    "    Args:\n",
    "        U (np.ndarray): 2-qubit unitary matrix\n",
    "        rounding (int): Number of decimal places to round intermediate \n",
    "        matrices to (default 14)\n",
    "\n",
    "    Returns:\n",
    "        Tuple of 9 values:\n",
    "            - phase1 (float): Global phase factor for left local unitary L\n",
    "            - L1 (np.ndarray): Top 2x2 matrix of left local unitary L\n",
    "            - L2 (np.ndarray): Bottom 2x2 matrix of left local unitary L\n",
    "            - phase2 (float): Global phase factor for right local unitary R\n",
    "            - R1 (np.ndarray): Top 2x2 matrix of right local unitary R\n",
    "            - R2 (np.ndarray): Bottom 2x2 matrix of right local unitary R\n",
    "            - c0 (float): XX canonical parameter in the Weyl chamber\n",
    "            - c1 (float): YY canonical parameter in the Weyl chamber\n",
    "            - c2 (float): ZZ canonical parameter in the Weyl chamber\n",
    "    \"\"\"\n",
    "\n",
    "    # 0. Map U(4) to SU(4) (and phase)\n",
    "    global_phase = np.linalg.det(U)**0.25\n",
    "    U /= global_phase\n",
    "\n",
    "    assert np.isclose(np.linalg.det(U), 1), \"Determinant of U is not 1\"\n",
    "\n",
    "    # 1. Unconjugate U into the magic basis\n",
    "    B = 1 / np.sqrt(2) * np.array([[1, 0, 0, 1j], [0, 1j, 1, 0],\n",
    "                                   [0, 1j, -1, 0], [1, 0, 0, -1j]]) # Magic Basis\n",
    "    U_prime = np.conj(B).T @ U @ B\n",
    "\n",
    "    # Isolating the maximal torus\n",
    "    M_squared = Theta(np.conj(U_prime).T) @ U_prime\n",
    "\n",
    "    if rounding is not None:\n",
    "        M_squared = np.round(M_squared, rounding)  # For numerical stability\n",
    "\n",
    "    ## 2. Diagonalizing M^2\n",
    "    D, P = np.linalg.eig(M_squared)\n",
    "\n",
    "    ## Check and correct for det(P) = -1\n",
    "    if np.isclose(np.linalg.det(P), -1):\n",
    "        P[:, 0] *= -1  # Multiply the first eigenvector by -1\n",
    "\n",
    "    # 3. Extracting K2\n",
    "    K2 = np.conj(P).T\n",
    "\n",
    "    assert np.allclose(K2 @ K2.T, np.identity(4)), \"K2 is not orthogonal\"\n",
    "    assert np.isclose(np.linalg.det(K2), 1), \"Determinant of K2 is not 1\"\n",
    "\n",
    "    # 4. Extracting A\n",
    "    A = np.sqrt(D)\n",
    "\n",
    "    ## Check and correct for det(A) = -1\n",
    "    if np.isclose(np.prod(A), -1):\n",
    "        A[0] *= -1  # Multiply the first eigenvalue by -1\n",
    "\n",
    "    A = np.diag(A)  # Turn the list of eigenvalues into a diagonal matrix\n",
    "\n",
    "    assert np.isclose(np.linalg.det(A), 1), \"Determinant of A is not 1\"\n",
    "\n",
    "    # 5. Extracting K1\n",
    "    K1 = U_prime @ np.conj(K2).T @ np.conj(A).T\n",
    "\n",
    "    assert np.allclose(K1 @ K1.T, np.identity(4)), \"K1 is not orthogonal\"\n",
    "    assert np.isclose(np.linalg.det(K1), 1), \"Determinant of K1 is not 1\"\n",
    "\n",
    "    # 6. Extracting Local Gates\n",
    "    L = B @ K1 @ np.conj(B).T  # Left Local Product\n",
    "    R = B @ K2 @ np.conj(B).T  # Right Local Product\n",
    "\n",
    "    phase1, L1, L2 = decompose_one_qubit_product(L)  # L1 (top), L2(bottom)\n",
    "    phase2, R1, R2 = decompose_one_qubit_product(R)  # R1 (top), R2(bottom)\n",
    "\n",
    "    # 7. Extracting the Canonical Parameters\n",
    "    C = np.array([[1, 1, 1], [-1, 1, -1], [1, -1, -1]])  # Coefficient Matrix\n",
    "\n",
    "    theta_vec = np.angle(np.diag(A))[:3]  # theta vector\n",
    "    a0, a1, a2 = np.linalg.inv(C) @ theta_vec  # Computing the \"a\"-vector\n",
    "\n",
    "    # 8. Unpack Parameters and Put into Weyl chamber\n",
    "    c0, c1, c2 = weyl_chamber(np.array([2 * a1, -2 * a0, 2 * a2])) \n",
    "    \n",
    "    assert np.allclose(U, (phase1 * np.kron(L1, L2)) @ CAN(c0, c1, c2)\n",
    "                       @ (phase2 * np.kron(R1, R2))), \"U does not equal KAK\"\n",
    "\n",
    "    return phase1, L1, L2, phase2, R1, R2, c0, c1, c2"
   ]
  },
  {
   "cell_type": "code",
   "execution_count": 5,
   "metadata": {},
   "outputs": [],
   "source": [
    "from sympy import *"
   ]
  },
  {
   "cell_type": "code",
   "execution_count": 6,
   "metadata": {},
   "outputs": [],
   "source": [
    "theta, phi_0, phi_1 = symbols('theta, phi0, phi1')\n"
   ]
  },
  {
   "cell_type": "code",
   "execution_count": 43,
   "metadata": {},
   "outputs": [],
   "source": [
    "aams = Matrix(\n",
    "    [\n",
    "        [cos(theta / 2), 0, 0, -I * exp(-I * (phi_0 + phi_1)) * sin(theta / 2)],\n",
    "        [0, cos(theta / 2), -I * exp(-I * (phi_0 - phi_1)) * sin(theta / 2), 0],\n",
    "        [0, -I * exp(I * (phi_0 - phi_1)) * sin(theta / 2), cos(theta / 2), 0],\n",
    "        [-I * exp(I * (phi_0 + phi_1)) * sin(theta / 2), 0, 0, cos(theta / 2)],\n",
    "    ]\n",
    ")"
   ]
  },
  {
   "cell_type": "code",
   "execution_count": 89,
   "metadata": {},
   "outputs": [],
   "source": [
    "ms = aams_matrix.subs({\"theta\": pi / 2})\n",
    "xx = aams_matrix.subs([(phi_0, 0), (phi_1, 0)])"
   ]
  },
  {
   "cell_type": "code",
   "execution_count": 90,
   "metadata": {},
   "outputs": [
    {
     "data": {
      "text/latex": [
       "$\\displaystyle \\left[\\begin{matrix}\\cos{\\left(\\frac{\\theta}{2} \\right)} & 0 & 0 & - i \\sin{\\left(\\frac{\\theta}{2} \\right)}\\\\0 & \\cos{\\left(\\frac{\\theta}{2} \\right)} & - i \\sin{\\left(\\frac{\\theta}{2} \\right)} & 0\\\\0 & - i \\sin{\\left(\\frac{\\theta}{2} \\right)} & \\cos{\\left(\\frac{\\theta}{2} \\right)} & 0\\\\- i \\sin{\\left(\\frac{\\theta}{2} \\right)} & 0 & 0 & \\cos{\\left(\\frac{\\theta}{2} \\right)}\\end{matrix}\\right]$"
      ],
      "text/plain": [
       "Matrix([\n",
       "[   cos(theta/2),               0,               0, -I*sin(theta/2)],\n",
       "[              0,    cos(theta/2), -I*sin(theta/2),               0],\n",
       "[              0, -I*sin(theta/2),    cos(theta/2),               0],\n",
       "[-I*sin(theta/2),               0,               0,    cos(theta/2)]])"
      ]
     },
     "execution_count": 90,
     "metadata": {},
     "output_type": "execute_result"
    }
   ],
   "source": [
    "xx"
   ]
  },
  {
   "cell_type": "code",
   "execution_count": 91,
   "metadata": {},
   "outputs": [],
   "source": [
    "B = 1/sqrt(2) * Matrix([[1, 0, 0, I], [0, I, 1, 0], [0, I, -1, 0], [1, 0, 0, -I]])"
   ]
  },
  {
   "cell_type": "code",
   "execution_count": 92,
   "metadata": {},
   "outputs": [],
   "source": [
    "U_prime = B.conjugate().T@xx@B"
   ]
  },
  {
   "cell_type": "code",
   "execution_count": 93,
   "metadata": {},
   "outputs": [],
   "source": [
    "M_squared = simplify(U_prime.T@U_prime)"
   ]
  },
  {
   "cell_type": "code",
   "execution_count": 99,
   "metadata": {},
   "outputs": [
    {
     "data": {
      "text/latex": [
       "$\\displaystyle \\left[\\begin{matrix}- 1.0 i & 0 & 0 & 0\\\\0 & - 1.0 i & 0 & 0\\\\0 & 0 & 1.0 i & 0\\\\0 & 0 & 0 & 1.0 i\\end{matrix}\\right]$"
      ],
      "text/plain": [
       "Matrix([\n",
       "[-1.0*I,      0,     0,     0],\n",
       "[     0, -1.0*I,     0,     0],\n",
       "[     0,      0, 1.0*I,     0],\n",
       "[     0,      0,     0, 1.0*I]])"
      ]
     },
     "execution_count": 99,
     "metadata": {},
     "output_type": "execute_result"
    }
   ],
   "source": [
    "M_squared.subs(theta, pi/2).evalf()"
   ]
  },
  {
   "cell_type": "code",
   "execution_count": 94,
   "metadata": {
    "scrolled": true
   },
   "outputs": [
    {
     "ename": "MatrixError",
     "evalue": "Matrix is not diagonalizable",
     "output_type": "error",
     "traceback": [
      "\u001b[0;31m---------------------------------------------------------------------------\u001b[0m",
      "\u001b[0;31mMatrixError\u001b[0m                               Traceback (most recent call last)",
      "\u001b[0;32m/var/folders/yv/8vjt838n16v9vhqf2x_pqcpw0000gn/T/ipykernel_42617/3150589828.py\u001b[0m in \u001b[0;36m<module>\u001b[0;34m\u001b[0m\n\u001b[0;32m----> 1\u001b[0;31m \u001b[0mP\u001b[0m\u001b[0;34m,\u001b[0m \u001b[0mD\u001b[0m \u001b[0;34m=\u001b[0m \u001b[0mM_squared\u001b[0m\u001b[0;34m.\u001b[0m\u001b[0mdiagonalize\u001b[0m\u001b[0;34m(\u001b[0m\u001b[0;34m)\u001b[0m\u001b[0;34m\u001b[0m\u001b[0;34m\u001b[0m\u001b[0m\n\u001b[0m",
      "\u001b[0;32m~/opt/anaconda3/lib/python3.7/site-packages/sympy/matrices/matrices.py\u001b[0m in \u001b[0;36mdiagonalize\u001b[0;34m(self, reals_only, sort, normalize)\u001b[0m\n\u001b[1;32m   1146\u001b[0m \u001b[0;34m\u001b[0m\u001b[0m\n\u001b[1;32m   1147\u001b[0m         \u001b[0;32mif\u001b[0m \u001b[0;32mnot\u001b[0m \u001b[0mself\u001b[0m\u001b[0;34m.\u001b[0m\u001b[0mis_diagonalizable\u001b[0m\u001b[0;34m(\u001b[0m\u001b[0mreals_only\u001b[0m\u001b[0;34m=\u001b[0m\u001b[0mreals_only\u001b[0m\u001b[0;34m)\u001b[0m\u001b[0;34m:\u001b[0m\u001b[0;34m\u001b[0m\u001b[0;34m\u001b[0m\u001b[0m\n\u001b[0;32m-> 1148\u001b[0;31m             \u001b[0;32mraise\u001b[0m \u001b[0mMatrixError\u001b[0m\u001b[0;34m(\u001b[0m\u001b[0;34m\"Matrix is not diagonalizable\"\u001b[0m\u001b[0;34m)\u001b[0m\u001b[0;34m\u001b[0m\u001b[0;34m\u001b[0m\u001b[0m\n\u001b[0m\u001b[1;32m   1149\u001b[0m \u001b[0;34m\u001b[0m\u001b[0m\n\u001b[1;32m   1150\u001b[0m         \u001b[0meigenvecs\u001b[0m \u001b[0;34m=\u001b[0m \u001b[0mself\u001b[0m\u001b[0;34m.\u001b[0m\u001b[0meigenvects\u001b[0m\u001b[0;34m(\u001b[0m\u001b[0msimplify\u001b[0m\u001b[0;34m=\u001b[0m\u001b[0;32mTrue\u001b[0m\u001b[0;34m)\u001b[0m\u001b[0;34m\u001b[0m\u001b[0;34m\u001b[0m\u001b[0m\n",
      "\u001b[0;31mMatrixError\u001b[0m: Matrix is not diagonalizable"
     ]
    }
   ],
   "source": [
    "P, D = M_squared.diagonalize()"
   ]
  },
  {
   "cell_type": "code",
   "execution_count": null,
   "metadata": {},
   "outputs": [],
   "source": [
    "simplify(D)"
   ]
  },
  {
   "cell_type": "code",
   "execution_count": 53,
   "metadata": {},
   "outputs": [],
   "source": [
    "lam = symbols('lambda')"
   ]
  },
  {
   "cell_type": "code",
   "execution_count": null,
   "metadata": {},
   "outputs": [],
   "source": []
  },
  {
   "cell_type": "code",
   "execution_count": 79,
   "metadata": {},
   "outputs": [
    {
     "data": {
      "text/latex": [
       "$\\displaystyle \\left[\\begin{matrix}- \\frac{i e^{i \\left(\\phi_{0} + \\phi_{1}\\right)} \\sin{\\left(\\theta \\right)}}{2} + \\cos{\\left(\\theta \\right)} - \\frac{i e^{- i \\left(\\phi_{0} + \\phi_{1}\\right)} \\sin{\\left(\\theta \\right)}}{2} & 0 & 0 & i \\sin{\\left(\\theta \\right)} \\sin{\\left(\\phi_{0} + \\phi_{1} \\right)}\\\\0 & - \\frac{i e^{i \\left(\\phi_{0} - \\phi_{1}\\right)} \\sin{\\left(\\theta \\right)}}{2} + \\cos{\\left(\\theta \\right)} - \\frac{i e^{- i \\left(\\phi_{0} - \\phi_{1}\\right)} \\sin{\\left(\\theta \\right)}}{2} & - \\frac{\\left(e^{2 i \\phi_{0}} - e^{2 i \\phi_{1}}\\right) e^{- i \\left(\\phi_{0} + \\phi_{1}\\right)} \\sin{\\left(\\theta \\right)}}{2} & 0\\\\0 & - \\frac{\\left(e^{2 i \\phi_{0}} - e^{2 i \\phi_{1}}\\right) e^{- i \\left(\\phi_{0} + \\phi_{1}\\right)} \\sin{\\left(\\theta \\right)}}{2} & \\frac{i e^{i \\left(- \\phi_{0} + \\phi_{1}\\right)} \\sin{\\left(\\theta \\right)}}{2} + \\frac{i e^{i \\left(\\phi_{0} - \\phi_{1}\\right)} \\sin{\\left(\\theta \\right)}}{2} + \\cos{\\left(\\theta \\right)} & 0\\\\i \\sin{\\left(\\theta \\right)} \\sin{\\left(\\phi_{0} + \\phi_{1} \\right)} & 0 & 0 & \\frac{i e^{i \\left(\\phi_{0} + \\phi_{1}\\right)} \\sin{\\left(\\theta \\right)}}{2} + \\cos{\\left(\\theta \\right)} + \\frac{i e^{- i \\left(\\phi_{0} + \\phi_{1}\\right)} \\sin{\\left(\\theta \\right)}}{2}\\end{matrix}\\right]$"
      ],
      "text/plain": [
       "Matrix([\n",
       "[-I*exp(I*(phi0 + phi1))*sin(theta)/2 + cos(theta) - I*exp(-I*(phi0 + phi1))*sin(theta)/2,                                                                                        0,                                                                                       0,                                                           I*sin(theta)*sin(phi0 + phi1)],\n",
       "[                                                                                       0, -I*exp(I*(phi0 - phi1))*sin(theta)/2 + cos(theta) - I*exp(-I*(phi0 - phi1))*sin(theta)/2,                     -(exp(2*I*phi0) - exp(2*I*phi1))*exp(-I*(phi0 + phi1))*sin(theta)/2,                                                                                       0],\n",
       "[                                                                                       0,                      -(exp(2*I*phi0) - exp(2*I*phi1))*exp(-I*(phi0 + phi1))*sin(theta)/2, I*exp(I*(-phi0 + phi1))*sin(theta)/2 + I*exp(I*(phi0 - phi1))*sin(theta)/2 + cos(theta),                                                                                       0],\n",
       "[                                                           I*sin(theta)*sin(phi0 + phi1),                                                                                        0,                                                                                       0, I*exp(I*(phi0 + phi1))*sin(theta)/2 + cos(theta) + I*exp(-I*(phi0 + phi1))*sin(theta)/2]])"
      ]
     },
     "execution_count": 79,
     "metadata": {},
     "output_type": "execute_result"
    }
   ],
   "source": [
    "simplify(M_squared)"
   ]
  },
  {
   "cell_type": "code",
   "execution_count": 85,
   "metadata": {},
   "outputs": [
    {
     "ename": "KeyboardInterrupt",
     "evalue": "",
     "output_type": "error",
     "traceback": [
      "\u001b[0;31m---------------------------------------------------------------------------\u001b[0m",
      "\u001b[0;31mKeyboardInterrupt\u001b[0m                         Traceback (most recent call last)",
      "\u001b[0;32m/var/folders/yv/8vjt838n16v9vhqf2x_pqcpw0000gn/T/ipykernel_42617/3125804773.py\u001b[0m in \u001b[0;36m<module>\u001b[0;34m\u001b[0m\n\u001b[0;32m----> 1\u001b[0;31m \u001b[0msimplify\u001b[0m\u001b[0;34m(\u001b[0m\u001b[0mdet\u001b[0m\u001b[0;34m(\u001b[0m\u001b[0mM_squared\u001b[0m \u001b[0;34m-\u001b[0m \u001b[0mlam\u001b[0m\u001b[0;34m*\u001b[0m\u001b[0meye\u001b[0m\u001b[0;34m(\u001b[0m\u001b[0;36m4\u001b[0m\u001b[0;34m)\u001b[0m\u001b[0;34m)\u001b[0m\u001b[0;34m)\u001b[0m\u001b[0;34m\u001b[0m\u001b[0;34m\u001b[0m\u001b[0m\n\u001b[0m",
      "\u001b[0;32m~/opt/anaconda3/lib/python3.7/site-packages/sympy/matrices/expressions/determinant.py\u001b[0m in \u001b[0;36mdet\u001b[0;34m(matexpr)\u001b[0m\n\u001b[1;32m     55\u001b[0m     \"\"\"\n\u001b[1;32m     56\u001b[0m \u001b[0;34m\u001b[0m\u001b[0m\n\u001b[0;32m---> 57\u001b[0;31m     \u001b[0;32mreturn\u001b[0m \u001b[0mDeterminant\u001b[0m\u001b[0;34m(\u001b[0m\u001b[0mmatexpr\u001b[0m\u001b[0;34m)\u001b[0m\u001b[0;34m.\u001b[0m\u001b[0mdoit\u001b[0m\u001b[0;34m(\u001b[0m\u001b[0;34m)\u001b[0m\u001b[0;34m\u001b[0m\u001b[0;34m\u001b[0m\u001b[0m\n\u001b[0m\u001b[1;32m     58\u001b[0m \u001b[0;34m\u001b[0m\u001b[0m\n\u001b[1;32m     59\u001b[0m \u001b[0;34m\u001b[0m\u001b[0m\n",
      "\u001b[0;32m~/opt/anaconda3/lib/python3.7/site-packages/sympy/matrices/expressions/determinant.py\u001b[0m in \u001b[0;36mdoit\u001b[0;34m(self, expand)\u001b[0m\n\u001b[1;32m     37\u001b[0m     \u001b[0;32mdef\u001b[0m \u001b[0mdoit\u001b[0m\u001b[0;34m(\u001b[0m\u001b[0mself\u001b[0m\u001b[0;34m,\u001b[0m \u001b[0mexpand\u001b[0m\u001b[0;34m=\u001b[0m\u001b[0;32mFalse\u001b[0m\u001b[0;34m)\u001b[0m\u001b[0;34m:\u001b[0m\u001b[0;34m\u001b[0m\u001b[0;34m\u001b[0m\u001b[0m\n\u001b[1;32m     38\u001b[0m         \u001b[0;32mtry\u001b[0m\u001b[0;34m:\u001b[0m\u001b[0;34m\u001b[0m\u001b[0;34m\u001b[0m\u001b[0m\n\u001b[0;32m---> 39\u001b[0;31m             \u001b[0;32mreturn\u001b[0m \u001b[0mself\u001b[0m\u001b[0;34m.\u001b[0m\u001b[0marg\u001b[0m\u001b[0;34m.\u001b[0m\u001b[0m_eval_determinant\u001b[0m\u001b[0;34m(\u001b[0m\u001b[0;34m)\u001b[0m\u001b[0;34m\u001b[0m\u001b[0;34m\u001b[0m\u001b[0m\n\u001b[0m\u001b[1;32m     40\u001b[0m         \u001b[0;32mexcept\u001b[0m \u001b[0;34m(\u001b[0m\u001b[0mAttributeError\u001b[0m\u001b[0;34m,\u001b[0m \u001b[0mNotImplementedError\u001b[0m\u001b[0;34m)\u001b[0m\u001b[0;34m:\u001b[0m\u001b[0;34m\u001b[0m\u001b[0;34m\u001b[0m\u001b[0m\n\u001b[1;32m     41\u001b[0m             \u001b[0;32mreturn\u001b[0m \u001b[0mself\u001b[0m\u001b[0;34m\u001b[0m\u001b[0;34m\u001b[0m\u001b[0m\n",
      "\u001b[0;32m~/opt/anaconda3/lib/python3.7/site-packages/sympy/matrices/matrices.py\u001b[0m in \u001b[0;36m_eval_determinant\u001b[0;34m(self)\u001b[0m\n\u001b[1;32m    268\u001b[0m         \"\"\"Assumed to exist by matrix expressions; If we subclass\n\u001b[1;32m    269\u001b[0m         MatrixDeterminant, we can fully evaluate determinants.\"\"\"\n\u001b[0;32m--> 270\u001b[0;31m         \u001b[0;32mreturn\u001b[0m \u001b[0mself\u001b[0m\u001b[0;34m.\u001b[0m\u001b[0mdet\u001b[0m\u001b[0;34m(\u001b[0m\u001b[0;34m)\u001b[0m\u001b[0;34m\u001b[0m\u001b[0;34m\u001b[0m\u001b[0m\n\u001b[0m\u001b[1;32m    271\u001b[0m \u001b[0;34m\u001b[0m\u001b[0m\n\u001b[1;32m    272\u001b[0m     \u001b[0;32mdef\u001b[0m \u001b[0madjugate\u001b[0m\u001b[0;34m(\u001b[0m\u001b[0mself\u001b[0m\u001b[0;34m,\u001b[0m \u001b[0mmethod\u001b[0m\u001b[0;34m=\u001b[0m\u001b[0;34m\"berkowitz\"\u001b[0m\u001b[0;34m)\u001b[0m\u001b[0;34m:\u001b[0m\u001b[0;34m\u001b[0m\u001b[0;34m\u001b[0m\u001b[0m\n",
      "\u001b[0;32m~/opt/anaconda3/lib/python3.7/site-packages/sympy/matrices/matrices.py\u001b[0m in \u001b[0;36mdet\u001b[0;34m(self, method, iszerofunc)\u001b[0m\n\u001b[1;32m    470\u001b[0m \u001b[0;34m\u001b[0m\u001b[0m\n\u001b[1;32m    471\u001b[0m         \u001b[0;32mif\u001b[0m \u001b[0mmethod\u001b[0m \u001b[0;34m==\u001b[0m \u001b[0;34m\"bareiss\"\u001b[0m\u001b[0;34m:\u001b[0m\u001b[0;34m\u001b[0m\u001b[0;34m\u001b[0m\u001b[0m\n\u001b[0;32m--> 472\u001b[0;31m             \u001b[0;32mreturn\u001b[0m \u001b[0mself\u001b[0m\u001b[0;34m.\u001b[0m\u001b[0m_eval_det_bareiss\u001b[0m\u001b[0;34m(\u001b[0m\u001b[0miszerofunc\u001b[0m\u001b[0;34m=\u001b[0m\u001b[0miszerofunc\u001b[0m\u001b[0;34m)\u001b[0m\u001b[0;34m\u001b[0m\u001b[0;34m\u001b[0m\u001b[0m\n\u001b[0m\u001b[1;32m    473\u001b[0m         \u001b[0;32melif\u001b[0m \u001b[0mmethod\u001b[0m \u001b[0;34m==\u001b[0m \u001b[0;34m\"berkowitz\"\u001b[0m\u001b[0;34m:\u001b[0m\u001b[0;34m\u001b[0m\u001b[0;34m\u001b[0m\u001b[0m\n\u001b[1;32m    474\u001b[0m             \u001b[0;32mreturn\u001b[0m \u001b[0mself\u001b[0m\u001b[0;34m.\u001b[0m\u001b[0m_eval_det_berkowitz\u001b[0m\u001b[0;34m(\u001b[0m\u001b[0;34m)\u001b[0m\u001b[0;34m\u001b[0m\u001b[0;34m\u001b[0m\u001b[0m\n",
      "\u001b[0;32m~/opt/anaconda3/lib/python3.7/site-packages/sympy/matrices/matrices.py\u001b[0m in \u001b[0;36m_eval_det_bareiss\u001b[0;34m(self, iszerofunc)\u001b[0m\n\u001b[1;32m    211\u001b[0m             \u001b[0;32mreturn\u001b[0m \u001b[0msign\u001b[0m\u001b[0;34m*\u001b[0m\u001b[0mbareiss\u001b[0m\u001b[0;34m(\u001b[0m\u001b[0mself\u001b[0m\u001b[0;34m.\u001b[0m\u001b[0m_new\u001b[0m\u001b[0;34m(\u001b[0m\u001b[0mmat\u001b[0m\u001b[0;34m.\u001b[0m\u001b[0mrows\u001b[0m \u001b[0;34m-\u001b[0m \u001b[0;36m1\u001b[0m\u001b[0;34m,\u001b[0m \u001b[0mmat\u001b[0m\u001b[0;34m.\u001b[0m\u001b[0mcols\u001b[0m \u001b[0;34m-\u001b[0m \u001b[0;36m1\u001b[0m\u001b[0;34m,\u001b[0m \u001b[0mentry\u001b[0m\u001b[0;34m)\u001b[0m\u001b[0;34m,\u001b[0m \u001b[0mpivot_val\u001b[0m\u001b[0;34m)\u001b[0m\u001b[0;34m\u001b[0m\u001b[0;34m\u001b[0m\u001b[0m\n\u001b[1;32m    212\u001b[0m \u001b[0;34m\u001b[0m\u001b[0m\n\u001b[0;32m--> 213\u001b[0;31m         \u001b[0;32mreturn\u001b[0m \u001b[0mcancel\u001b[0m\u001b[0;34m(\u001b[0m\u001b[0mbareiss\u001b[0m\u001b[0;34m(\u001b[0m\u001b[0mself\u001b[0m\u001b[0;34m)\u001b[0m\u001b[0;34m)\u001b[0m\u001b[0;34m\u001b[0m\u001b[0;34m\u001b[0m\u001b[0m\n\u001b[0m\u001b[1;32m    214\u001b[0m \u001b[0;34m\u001b[0m\u001b[0m\n\u001b[1;32m    215\u001b[0m     \u001b[0;32mdef\u001b[0m \u001b[0m_eval_det_berkowitz\u001b[0m\u001b[0;34m(\u001b[0m\u001b[0mself\u001b[0m\u001b[0;34m)\u001b[0m\u001b[0;34m:\u001b[0m\u001b[0;34m\u001b[0m\u001b[0;34m\u001b[0m\u001b[0m\n",
      "\u001b[0;32m~/opt/anaconda3/lib/python3.7/site-packages/sympy/matrices/matrices.py\u001b[0m in \u001b[0;36mbareiss\u001b[0;34m(mat, cumm)\u001b[0m\n\u001b[1;32m    209\u001b[0m                 \u001b[0;32mreturn\u001b[0m \u001b[0mret\u001b[0m\u001b[0;34m\u001b[0m\u001b[0;34m\u001b[0m\u001b[0m\n\u001b[1;32m    210\u001b[0m \u001b[0;34m\u001b[0m\u001b[0m\n\u001b[0;32m--> 211\u001b[0;31m             \u001b[0;32mreturn\u001b[0m \u001b[0msign\u001b[0m\u001b[0;34m*\u001b[0m\u001b[0mbareiss\u001b[0m\u001b[0;34m(\u001b[0m\u001b[0mself\u001b[0m\u001b[0;34m.\u001b[0m\u001b[0m_new\u001b[0m\u001b[0;34m(\u001b[0m\u001b[0mmat\u001b[0m\u001b[0;34m.\u001b[0m\u001b[0mrows\u001b[0m \u001b[0;34m-\u001b[0m \u001b[0;36m1\u001b[0m\u001b[0;34m,\u001b[0m \u001b[0mmat\u001b[0m\u001b[0;34m.\u001b[0m\u001b[0mcols\u001b[0m \u001b[0;34m-\u001b[0m \u001b[0;36m1\u001b[0m\u001b[0;34m,\u001b[0m \u001b[0mentry\u001b[0m\u001b[0;34m)\u001b[0m\u001b[0;34m,\u001b[0m \u001b[0mpivot_val\u001b[0m\u001b[0;34m)\u001b[0m\u001b[0;34m\u001b[0m\u001b[0;34m\u001b[0m\u001b[0m\n\u001b[0m\u001b[1;32m    212\u001b[0m \u001b[0;34m\u001b[0m\u001b[0m\n\u001b[1;32m    213\u001b[0m         \u001b[0;32mreturn\u001b[0m \u001b[0mcancel\u001b[0m\u001b[0;34m(\u001b[0m\u001b[0mbareiss\u001b[0m\u001b[0;34m(\u001b[0m\u001b[0mself\u001b[0m\u001b[0;34m)\u001b[0m\u001b[0;34m)\u001b[0m\u001b[0;34m\u001b[0m\u001b[0;34m\u001b[0m\u001b[0m\n",
      "\u001b[0;32m~/opt/anaconda3/lib/python3.7/site-packages/sympy/matrices/matrices.py\u001b[0m in \u001b[0;36mbareiss\u001b[0;34m(mat, cumm)\u001b[0m\n\u001b[1;32m    209\u001b[0m                 \u001b[0;32mreturn\u001b[0m \u001b[0mret\u001b[0m\u001b[0;34m\u001b[0m\u001b[0;34m\u001b[0m\u001b[0m\n\u001b[1;32m    210\u001b[0m \u001b[0;34m\u001b[0m\u001b[0m\n\u001b[0;32m--> 211\u001b[0;31m             \u001b[0;32mreturn\u001b[0m \u001b[0msign\u001b[0m\u001b[0;34m*\u001b[0m\u001b[0mbareiss\u001b[0m\u001b[0;34m(\u001b[0m\u001b[0mself\u001b[0m\u001b[0;34m.\u001b[0m\u001b[0m_new\u001b[0m\u001b[0;34m(\u001b[0m\u001b[0mmat\u001b[0m\u001b[0;34m.\u001b[0m\u001b[0mrows\u001b[0m \u001b[0;34m-\u001b[0m \u001b[0;36m1\u001b[0m\u001b[0;34m,\u001b[0m \u001b[0mmat\u001b[0m\u001b[0;34m.\u001b[0m\u001b[0mcols\u001b[0m \u001b[0;34m-\u001b[0m \u001b[0;36m1\u001b[0m\u001b[0;34m,\u001b[0m \u001b[0mentry\u001b[0m\u001b[0;34m)\u001b[0m\u001b[0;34m,\u001b[0m \u001b[0mpivot_val\u001b[0m\u001b[0;34m)\u001b[0m\u001b[0;34m\u001b[0m\u001b[0;34m\u001b[0m\u001b[0m\n\u001b[0m\u001b[1;32m    212\u001b[0m \u001b[0;34m\u001b[0m\u001b[0m\n\u001b[1;32m    213\u001b[0m         \u001b[0;32mreturn\u001b[0m \u001b[0mcancel\u001b[0m\u001b[0;34m(\u001b[0m\u001b[0mbareiss\u001b[0m\u001b[0;34m(\u001b[0m\u001b[0mself\u001b[0m\u001b[0;34m)\u001b[0m\u001b[0;34m)\u001b[0m\u001b[0;34m\u001b[0m\u001b[0;34m\u001b[0m\u001b[0m\n",
      "\u001b[0;32m~/opt/anaconda3/lib/python3.7/site-packages/sympy/matrices/matrices.py\u001b[0m in \u001b[0;36mbareiss\u001b[0;34m(mat, cumm)\u001b[0m\n\u001b[1;32m    209\u001b[0m                 \u001b[0;32mreturn\u001b[0m \u001b[0mret\u001b[0m\u001b[0;34m\u001b[0m\u001b[0;34m\u001b[0m\u001b[0m\n\u001b[1;32m    210\u001b[0m \u001b[0;34m\u001b[0m\u001b[0m\n\u001b[0;32m--> 211\u001b[0;31m             \u001b[0;32mreturn\u001b[0m \u001b[0msign\u001b[0m\u001b[0;34m*\u001b[0m\u001b[0mbareiss\u001b[0m\u001b[0;34m(\u001b[0m\u001b[0mself\u001b[0m\u001b[0;34m.\u001b[0m\u001b[0m_new\u001b[0m\u001b[0;34m(\u001b[0m\u001b[0mmat\u001b[0m\u001b[0;34m.\u001b[0m\u001b[0mrows\u001b[0m \u001b[0;34m-\u001b[0m \u001b[0;36m1\u001b[0m\u001b[0;34m,\u001b[0m \u001b[0mmat\u001b[0m\u001b[0;34m.\u001b[0m\u001b[0mcols\u001b[0m \u001b[0;34m-\u001b[0m \u001b[0;36m1\u001b[0m\u001b[0;34m,\u001b[0m \u001b[0mentry\u001b[0m\u001b[0;34m)\u001b[0m\u001b[0;34m,\u001b[0m \u001b[0mpivot_val\u001b[0m\u001b[0;34m)\u001b[0m\u001b[0;34m\u001b[0m\u001b[0;34m\u001b[0m\u001b[0m\n\u001b[0m\u001b[1;32m    212\u001b[0m \u001b[0;34m\u001b[0m\u001b[0m\n\u001b[1;32m    213\u001b[0m         \u001b[0;32mreturn\u001b[0m \u001b[0mcancel\u001b[0m\u001b[0;34m(\u001b[0m\u001b[0mbareiss\u001b[0m\u001b[0;34m(\u001b[0m\u001b[0mself\u001b[0m\u001b[0;34m)\u001b[0m\u001b[0;34m)\u001b[0m\u001b[0;34m\u001b[0m\u001b[0;34m\u001b[0m\u001b[0m\n",
      "\u001b[0;32m~/opt/anaconda3/lib/python3.7/site-packages/sympy/matrices/immutable.py\u001b[0m in \u001b[0;36m_new\u001b[0;34m(cls, *args, **kwargs)\u001b[0m\n\u001b[1;32m     53\u001b[0m             \u001b[0mrows\u001b[0m\u001b[0;34m,\u001b[0m \u001b[0mcols\u001b[0m\u001b[0;34m,\u001b[0m \u001b[0mflat_list\u001b[0m \u001b[0;34m=\u001b[0m \u001b[0margs\u001b[0m\u001b[0;34m\u001b[0m\u001b[0;34m\u001b[0m\u001b[0m\n\u001b[1;32m     54\u001b[0m         \u001b[0;32melse\u001b[0m\u001b[0;34m:\u001b[0m\u001b[0;34m\u001b[0m\u001b[0;34m\u001b[0m\u001b[0m\n\u001b[0;32m---> 55\u001b[0;31m             \u001b[0mrows\u001b[0m\u001b[0;34m,\u001b[0m \u001b[0mcols\u001b[0m\u001b[0;34m,\u001b[0m \u001b[0mflat_list\u001b[0m \u001b[0;34m=\u001b[0m \u001b[0mcls\u001b[0m\u001b[0;34m.\u001b[0m\u001b[0m_handle_creation_inputs\u001b[0m\u001b[0;34m(\u001b[0m\u001b[0;34m*\u001b[0m\u001b[0margs\u001b[0m\u001b[0;34m,\u001b[0m \u001b[0;34m**\u001b[0m\u001b[0mkwargs\u001b[0m\u001b[0;34m)\u001b[0m\u001b[0;34m\u001b[0m\u001b[0;34m\u001b[0m\u001b[0m\n\u001b[0m\u001b[1;32m     56\u001b[0m             \u001b[0mflat_list\u001b[0m \u001b[0;34m=\u001b[0m \u001b[0mlist\u001b[0m\u001b[0;34m(\u001b[0m\u001b[0mflat_list\u001b[0m\u001b[0;34m)\u001b[0m \u001b[0;31m# create a shallow copy\u001b[0m\u001b[0;34m\u001b[0m\u001b[0;34m\u001b[0m\u001b[0m\n\u001b[1;32m     57\u001b[0m         \u001b[0mrows\u001b[0m \u001b[0;34m=\u001b[0m \u001b[0mInteger\u001b[0m\u001b[0;34m(\u001b[0m\u001b[0mrows\u001b[0m\u001b[0;34m)\u001b[0m\u001b[0;34m\u001b[0m\u001b[0;34m\u001b[0m\u001b[0m\n",
      "\u001b[0;32m~/opt/anaconda3/lib/python3.7/site-packages/sympy/matrices/matrices.py\u001b[0m in \u001b[0;36m_handle_creation_inputs\u001b[0;34m(cls, *args, **kwargs)\u001b[0m\n\u001b[1;32m   2337\u001b[0m                     flat_list.extend(\n\u001b[1;32m   2338\u001b[0m                         [cls._sympify(op(cls._sympify(i), cls._sympify(j)))\n\u001b[0;32m-> 2339\u001b[0;31m                          for j in range(cols)])\n\u001b[0m\u001b[1;32m   2340\u001b[0m \u001b[0;34m\u001b[0m\u001b[0m\n\u001b[1;32m   2341\u001b[0m             \u001b[0;31m# Matrix(2, 2, [1, 2, 3, 4])\u001b[0m\u001b[0;34m\u001b[0m\u001b[0;34m\u001b[0m\u001b[0;34m\u001b[0m\u001b[0m\n",
      "\u001b[0;32m~/opt/anaconda3/lib/python3.7/site-packages/sympy/matrices/matrices.py\u001b[0m in \u001b[0;36m<listcomp>\u001b[0;34m(.0)\u001b[0m\n\u001b[1;32m   2337\u001b[0m                     flat_list.extend(\n\u001b[1;32m   2338\u001b[0m                         [cls._sympify(op(cls._sympify(i), cls._sympify(j)))\n\u001b[0;32m-> 2339\u001b[0;31m                          for j in range(cols)])\n\u001b[0m\u001b[1;32m   2340\u001b[0m \u001b[0;34m\u001b[0m\u001b[0m\n\u001b[1;32m   2341\u001b[0m             \u001b[0;31m# Matrix(2, 2, [1, 2, 3, 4])\u001b[0m\u001b[0;34m\u001b[0m\u001b[0;34m\u001b[0m\u001b[0;34m\u001b[0m\u001b[0m\n",
      "\u001b[0;32m~/opt/anaconda3/lib/python3.7/site-packages/sympy/matrices/matrices.py\u001b[0m in \u001b[0;36mentry\u001b[0;34m(i, j)\u001b[0m\n\u001b[1;32m    206\u001b[0m                 \u001b[0mret\u001b[0m \u001b[0;34m=\u001b[0m \u001b[0;34m(\u001b[0m\u001b[0mpivot_val\u001b[0m\u001b[0;34m*\u001b[0m\u001b[0mtmp_mat\u001b[0m\u001b[0;34m[\u001b[0m\u001b[0mi\u001b[0m\u001b[0;34m,\u001b[0m \u001b[0mj\u001b[0m \u001b[0;34m+\u001b[0m \u001b[0;36m1\u001b[0m\u001b[0;34m]\u001b[0m \u001b[0;34m-\u001b[0m \u001b[0mmat\u001b[0m\u001b[0;34m[\u001b[0m\u001b[0mpivot_pos\u001b[0m\u001b[0;34m,\u001b[0m \u001b[0mj\u001b[0m \u001b[0;34m+\u001b[0m \u001b[0;36m1\u001b[0m\u001b[0;34m]\u001b[0m\u001b[0;34m*\u001b[0m\u001b[0mtmp_mat\u001b[0m\u001b[0;34m[\u001b[0m\u001b[0mi\u001b[0m\u001b[0;34m,\u001b[0m \u001b[0;36m0\u001b[0m\u001b[0;34m]\u001b[0m\u001b[0;34m)\u001b[0m \u001b[0;34m/\u001b[0m \u001b[0mcumm\u001b[0m\u001b[0;34m\u001b[0m\u001b[0;34m\u001b[0m\u001b[0m\n\u001b[1;32m    207\u001b[0m                 \u001b[0;32mif\u001b[0m \u001b[0;32mnot\u001b[0m \u001b[0mret\u001b[0m\u001b[0;34m.\u001b[0m\u001b[0mis_Atom\u001b[0m\u001b[0;34m:\u001b[0m\u001b[0;34m\u001b[0m\u001b[0;34m\u001b[0m\u001b[0m\n\u001b[0;32m--> 208\u001b[0;31m                     \u001b[0;32mreturn\u001b[0m \u001b[0mcancel\u001b[0m\u001b[0;34m(\u001b[0m\u001b[0mret\u001b[0m\u001b[0;34m)\u001b[0m\u001b[0;34m\u001b[0m\u001b[0;34m\u001b[0m\u001b[0m\n\u001b[0m\u001b[1;32m    209\u001b[0m                 \u001b[0;32mreturn\u001b[0m \u001b[0mret\u001b[0m\u001b[0;34m\u001b[0m\u001b[0;34m\u001b[0m\u001b[0m\n\u001b[1;32m    210\u001b[0m \u001b[0;34m\u001b[0m\u001b[0m\n",
      "\u001b[0;32m~/opt/anaconda3/lib/python3.7/site-packages/sympy/polys/polytools.py\u001b[0m in \u001b[0;36mcancel\u001b[0;34m(f, *gens, **args)\u001b[0m\n\u001b[1;32m   6615\u001b[0m \u001b[0;34m\u001b[0m\u001b[0m\n\u001b[1;32m   6616\u001b[0m     \u001b[0;32mtry\u001b[0m\u001b[0;34m:\u001b[0m\u001b[0;34m\u001b[0m\u001b[0;34m\u001b[0m\u001b[0m\n\u001b[0;32m-> 6617\u001b[0;31m         \u001b[0;34m(\u001b[0m\u001b[0mF\u001b[0m\u001b[0;34m,\u001b[0m \u001b[0mG\u001b[0m\u001b[0;34m)\u001b[0m\u001b[0;34m,\u001b[0m \u001b[0mopt\u001b[0m \u001b[0;34m=\u001b[0m \u001b[0mparallel_poly_from_expr\u001b[0m\u001b[0;34m(\u001b[0m\u001b[0;34m(\u001b[0m\u001b[0mp\u001b[0m\u001b[0;34m,\u001b[0m \u001b[0mq\u001b[0m\u001b[0;34m)\u001b[0m\u001b[0;34m,\u001b[0m \u001b[0;34m*\u001b[0m\u001b[0mgens\u001b[0m\u001b[0;34m,\u001b[0m \u001b[0;34m**\u001b[0m\u001b[0margs\u001b[0m\u001b[0;34m)\u001b[0m\u001b[0;34m\u001b[0m\u001b[0;34m\u001b[0m\u001b[0m\n\u001b[0m\u001b[1;32m   6618\u001b[0m     \u001b[0;32mexcept\u001b[0m \u001b[0mPolificationFailed\u001b[0m\u001b[0;34m:\u001b[0m\u001b[0;34m\u001b[0m\u001b[0;34m\u001b[0m\u001b[0m\n\u001b[1;32m   6619\u001b[0m         \u001b[0;32mif\u001b[0m \u001b[0;32mnot\u001b[0m \u001b[0misinstance\u001b[0m\u001b[0;34m(\u001b[0m\u001b[0mf\u001b[0m\u001b[0;34m,\u001b[0m \u001b[0;34m(\u001b[0m\u001b[0mtuple\u001b[0m\u001b[0;34m,\u001b[0m \u001b[0mTuple\u001b[0m\u001b[0;34m)\u001b[0m\u001b[0;34m)\u001b[0m\u001b[0;34m:\u001b[0m\u001b[0;34m\u001b[0m\u001b[0;34m\u001b[0m\u001b[0m\n",
      "\u001b[0;32m~/opt/anaconda3/lib/python3.7/site-packages/sympy/polys/polytools.py\u001b[0m in \u001b[0;36mparallel_poly_from_expr\u001b[0;34m(exprs, *gens, **args)\u001b[0m\n\u001b[1;32m   4307\u001b[0m     \u001b[0;34m\"\"\"Construct polynomials from expressions. \"\"\"\u001b[0m\u001b[0;34m\u001b[0m\u001b[0;34m\u001b[0m\u001b[0m\n\u001b[1;32m   4308\u001b[0m     \u001b[0mopt\u001b[0m \u001b[0;34m=\u001b[0m \u001b[0moptions\u001b[0m\u001b[0;34m.\u001b[0m\u001b[0mbuild_options\u001b[0m\u001b[0;34m(\u001b[0m\u001b[0mgens\u001b[0m\u001b[0;34m,\u001b[0m \u001b[0margs\u001b[0m\u001b[0;34m)\u001b[0m\u001b[0;34m\u001b[0m\u001b[0;34m\u001b[0m\u001b[0m\n\u001b[0;32m-> 4309\u001b[0;31m     \u001b[0;32mreturn\u001b[0m \u001b[0m_parallel_poly_from_expr\u001b[0m\u001b[0;34m(\u001b[0m\u001b[0mexprs\u001b[0m\u001b[0;34m,\u001b[0m \u001b[0mopt\u001b[0m\u001b[0;34m)\u001b[0m\u001b[0;34m\u001b[0m\u001b[0;34m\u001b[0m\u001b[0m\n\u001b[0m\u001b[1;32m   4310\u001b[0m \u001b[0;34m\u001b[0m\u001b[0m\n\u001b[1;32m   4311\u001b[0m \u001b[0;34m\u001b[0m\u001b[0m\n",
      "\u001b[0;32m~/opt/anaconda3/lib/python3.7/site-packages/sympy/polys/polytools.py\u001b[0m in \u001b[0;36m_parallel_poly_from_expr\u001b[0;34m(exprs, opt)\u001b[0m\n\u001b[1;32m   4346\u001b[0m \u001b[0;34m\u001b[0m\u001b[0m\n\u001b[1;32m   4347\u001b[0m                 \u001b[0;32mif\u001b[0m \u001b[0mopt\u001b[0m\u001b[0;34m.\u001b[0m\u001b[0mexpand\u001b[0m\u001b[0;34m:\u001b[0m\u001b[0;34m\u001b[0m\u001b[0;34m\u001b[0m\u001b[0m\n\u001b[0;32m-> 4348\u001b[0;31m                     \u001b[0mexpr\u001b[0m \u001b[0;34m=\u001b[0m \u001b[0mexpr\u001b[0m\u001b[0;34m.\u001b[0m\u001b[0mexpand\u001b[0m\u001b[0;34m(\u001b[0m\u001b[0;34m)\u001b[0m\u001b[0;34m\u001b[0m\u001b[0;34m\u001b[0m\u001b[0m\n\u001b[0m\u001b[1;32m   4349\u001b[0m         \u001b[0;32melse\u001b[0m\u001b[0;34m:\u001b[0m\u001b[0;34m\u001b[0m\u001b[0;34m\u001b[0m\u001b[0m\n\u001b[1;32m   4350\u001b[0m             \u001b[0mfailed\u001b[0m \u001b[0;34m=\u001b[0m \u001b[0;32mTrue\u001b[0m\u001b[0;34m\u001b[0m\u001b[0;34m\u001b[0m\u001b[0m\n",
      "\u001b[0;32m~/opt/anaconda3/lib/python3.7/site-packages/sympy/core/expr.py\u001b[0m in \u001b[0;36mexpand\u001b[0;34m(self, deep, modulus, power_base, power_exp, mul, log, multinomial, basic, **hints)\u001b[0m\n\u001b[1;32m   3189\u001b[0m             \u001b[0;32mif\u001b[0m \u001b[0muse_hint\u001b[0m\u001b[0;34m:\u001b[0m\u001b[0;34m\u001b[0m\u001b[0;34m\u001b[0m\u001b[0m\n\u001b[1;32m   3190\u001b[0m                 \u001b[0mhint\u001b[0m \u001b[0;34m=\u001b[0m \u001b[0;34m'_eval_expand_'\u001b[0m \u001b[0;34m+\u001b[0m \u001b[0mhint\u001b[0m\u001b[0;34m\u001b[0m\u001b[0;34m\u001b[0m\u001b[0m\n\u001b[0;32m-> 3191\u001b[0;31m                 \u001b[0mexpr\u001b[0m\u001b[0;34m,\u001b[0m \u001b[0mhit\u001b[0m \u001b[0;34m=\u001b[0m \u001b[0mExpr\u001b[0m\u001b[0;34m.\u001b[0m\u001b[0m_expand_hint\u001b[0m\u001b[0;34m(\u001b[0m\u001b[0mexpr\u001b[0m\u001b[0;34m,\u001b[0m \u001b[0mhint\u001b[0m\u001b[0;34m,\u001b[0m \u001b[0mdeep\u001b[0m\u001b[0;34m=\u001b[0m\u001b[0mdeep\u001b[0m\u001b[0;34m,\u001b[0m \u001b[0;34m**\u001b[0m\u001b[0mhints\u001b[0m\u001b[0;34m)\u001b[0m\u001b[0;34m\u001b[0m\u001b[0;34m\u001b[0m\u001b[0m\n\u001b[0m\u001b[1;32m   3192\u001b[0m \u001b[0;34m\u001b[0m\u001b[0m\n\u001b[1;32m   3193\u001b[0m         \u001b[0;32mwhile\u001b[0m \u001b[0;32mTrue\u001b[0m\u001b[0;34m:\u001b[0m\u001b[0;34m\u001b[0m\u001b[0;34m\u001b[0m\u001b[0m\n",
      "\u001b[0;32m~/opt/anaconda3/lib/python3.7/site-packages/sympy/core/expr.py\u001b[0m in \u001b[0;36m_expand_hint\u001b[0;34m(expr, hint, deep, **hints)\u001b[0m\n\u001b[1;32m   3130\u001b[0m \u001b[0;34m\u001b[0m\u001b[0m\n\u001b[1;32m   3131\u001b[0m         \u001b[0;32mif\u001b[0m \u001b[0mhasattr\u001b[0m\u001b[0;34m(\u001b[0m\u001b[0mexpr\u001b[0m\u001b[0;34m,\u001b[0m \u001b[0mhint\u001b[0m\u001b[0;34m)\u001b[0m\u001b[0;34m:\u001b[0m\u001b[0;34m\u001b[0m\u001b[0;34m\u001b[0m\u001b[0m\n\u001b[0;32m-> 3132\u001b[0;31m             \u001b[0mnewexpr\u001b[0m \u001b[0;34m=\u001b[0m \u001b[0mgetattr\u001b[0m\u001b[0;34m(\u001b[0m\u001b[0mexpr\u001b[0m\u001b[0;34m,\u001b[0m \u001b[0mhint\u001b[0m\u001b[0;34m)\u001b[0m\u001b[0;34m(\u001b[0m\u001b[0;34m**\u001b[0m\u001b[0mhints\u001b[0m\u001b[0;34m)\u001b[0m\u001b[0;34m\u001b[0m\u001b[0;34m\u001b[0m\u001b[0m\n\u001b[0m\u001b[1;32m   3133\u001b[0m             \u001b[0;32mif\u001b[0m \u001b[0mnewexpr\u001b[0m \u001b[0;34m!=\u001b[0m \u001b[0mexpr\u001b[0m\u001b[0;34m:\u001b[0m\u001b[0;34m\u001b[0m\u001b[0;34m\u001b[0m\u001b[0m\n\u001b[1;32m   3134\u001b[0m                 \u001b[0;32mreturn\u001b[0m \u001b[0;34m(\u001b[0m\u001b[0mnewexpr\u001b[0m\u001b[0;34m,\u001b[0m \u001b[0;32mTrue\u001b[0m\u001b[0;34m)\u001b[0m\u001b[0;34m\u001b[0m\u001b[0;34m\u001b[0m\u001b[0m\n",
      "\u001b[0;32m~/opt/anaconda3/lib/python3.7/site-packages/sympy/core/mul.py\u001b[0m in \u001b[0;36m_eval_expand_mul\u001b[0;34m(self, **hints)\u001b[0m\n\u001b[1;32m    877\u001b[0m             \u001b[0;32mif\u001b[0m \u001b[0msums\u001b[0m\u001b[0;34m:\u001b[0m\u001b[0;34m\u001b[0m\u001b[0;34m\u001b[0m\u001b[0m\n\u001b[1;32m    878\u001b[0m                 \u001b[0mdeep\u001b[0m \u001b[0;34m=\u001b[0m \u001b[0mhints\u001b[0m\u001b[0;34m.\u001b[0m\u001b[0mget\u001b[0m\u001b[0;34m(\u001b[0m\u001b[0;34m\"deep\"\u001b[0m\u001b[0;34m,\u001b[0m \u001b[0;32mFalse\u001b[0m\u001b[0;34m)\u001b[0m\u001b[0;34m\u001b[0m\u001b[0;34m\u001b[0m\u001b[0m\n\u001b[0;32m--> 879\u001b[0;31m                 \u001b[0mterms\u001b[0m \u001b[0;34m=\u001b[0m \u001b[0mself\u001b[0m\u001b[0;34m.\u001b[0m\u001b[0mfunc\u001b[0m\u001b[0;34m.\u001b[0m\u001b[0m_expandsums\u001b[0m\u001b[0;34m(\u001b[0m\u001b[0msums\u001b[0m\u001b[0;34m)\u001b[0m\u001b[0;34m\u001b[0m\u001b[0;34m\u001b[0m\u001b[0m\n\u001b[0m\u001b[1;32m    880\u001b[0m                 \u001b[0margs\u001b[0m \u001b[0;34m=\u001b[0m \u001b[0;34m[\u001b[0m\u001b[0;34m]\u001b[0m\u001b[0;34m\u001b[0m\u001b[0;34m\u001b[0m\u001b[0m\n\u001b[1;32m    881\u001b[0m                 \u001b[0;32mfor\u001b[0m \u001b[0mterm\u001b[0m \u001b[0;32min\u001b[0m \u001b[0mterms\u001b[0m\u001b[0;34m:\u001b[0m\u001b[0;34m\u001b[0m\u001b[0;34m\u001b[0m\u001b[0m\n",
      "\u001b[0;32m~/opt/anaconda3/lib/python3.7/site-packages/sympy/core/mul.py\u001b[0m in \u001b[0;36m_expandsums\u001b[0;34m(sums)\u001b[0m\n\u001b[1;32m    842\u001b[0m         \u001b[0mright\u001b[0m \u001b[0;34m=\u001b[0m \u001b[0mMul\u001b[0m\u001b[0;34m.\u001b[0m\u001b[0m_expandsums\u001b[0m\u001b[0;34m(\u001b[0m\u001b[0msums\u001b[0m\u001b[0;34m[\u001b[0m\u001b[0mL\u001b[0m\u001b[0;34m//\u001b[0m\u001b[0;36m2\u001b[0m\u001b[0;34m:\u001b[0m\u001b[0;34m]\u001b[0m\u001b[0;34m)\u001b[0m\u001b[0;34m\u001b[0m\u001b[0;34m\u001b[0m\u001b[0m\n\u001b[1;32m    843\u001b[0m \u001b[0;34m\u001b[0m\u001b[0m\n\u001b[0;32m--> 844\u001b[0;31m         \u001b[0mterms\u001b[0m \u001b[0;34m=\u001b[0m \u001b[0;34m[\u001b[0m\u001b[0mMul\u001b[0m\u001b[0;34m(\u001b[0m\u001b[0ma\u001b[0m\u001b[0;34m,\u001b[0m \u001b[0mb\u001b[0m\u001b[0;34m)\u001b[0m \u001b[0;32mfor\u001b[0m \u001b[0ma\u001b[0m \u001b[0;32min\u001b[0m \u001b[0mleft\u001b[0m \u001b[0;32mfor\u001b[0m \u001b[0mb\u001b[0m \u001b[0;32min\u001b[0m \u001b[0mright\u001b[0m\u001b[0;34m]\u001b[0m\u001b[0;34m\u001b[0m\u001b[0;34m\u001b[0m\u001b[0m\n\u001b[0m\u001b[1;32m    845\u001b[0m         \u001b[0madded\u001b[0m \u001b[0;34m=\u001b[0m \u001b[0mAdd\u001b[0m\u001b[0;34m(\u001b[0m\u001b[0;34m*\u001b[0m\u001b[0mterms\u001b[0m\u001b[0;34m)\u001b[0m\u001b[0;34m\u001b[0m\u001b[0;34m\u001b[0m\u001b[0m\n\u001b[1;32m    846\u001b[0m         \u001b[0;32mreturn\u001b[0m \u001b[0mAdd\u001b[0m\u001b[0;34m.\u001b[0m\u001b[0mmake_args\u001b[0m\u001b[0;34m(\u001b[0m\u001b[0madded\u001b[0m\u001b[0;34m)\u001b[0m  \u001b[0;31m# it may have collapsed down to one term\u001b[0m\u001b[0;34m\u001b[0m\u001b[0;34m\u001b[0m\u001b[0m\n",
      "\u001b[0;32m~/opt/anaconda3/lib/python3.7/site-packages/sympy/core/mul.py\u001b[0m in \u001b[0;36m<listcomp>\u001b[0;34m(.0)\u001b[0m\n\u001b[1;32m    842\u001b[0m         \u001b[0mright\u001b[0m \u001b[0;34m=\u001b[0m \u001b[0mMul\u001b[0m\u001b[0;34m.\u001b[0m\u001b[0m_expandsums\u001b[0m\u001b[0;34m(\u001b[0m\u001b[0msums\u001b[0m\u001b[0;34m[\u001b[0m\u001b[0mL\u001b[0m\u001b[0;34m//\u001b[0m\u001b[0;36m2\u001b[0m\u001b[0;34m:\u001b[0m\u001b[0;34m]\u001b[0m\u001b[0;34m)\u001b[0m\u001b[0;34m\u001b[0m\u001b[0;34m\u001b[0m\u001b[0m\n\u001b[1;32m    843\u001b[0m \u001b[0;34m\u001b[0m\u001b[0m\n\u001b[0;32m--> 844\u001b[0;31m         \u001b[0mterms\u001b[0m \u001b[0;34m=\u001b[0m \u001b[0;34m[\u001b[0m\u001b[0mMul\u001b[0m\u001b[0;34m(\u001b[0m\u001b[0ma\u001b[0m\u001b[0;34m,\u001b[0m \u001b[0mb\u001b[0m\u001b[0;34m)\u001b[0m \u001b[0;32mfor\u001b[0m \u001b[0ma\u001b[0m \u001b[0;32min\u001b[0m \u001b[0mleft\u001b[0m \u001b[0;32mfor\u001b[0m \u001b[0mb\u001b[0m \u001b[0;32min\u001b[0m \u001b[0mright\u001b[0m\u001b[0;34m]\u001b[0m\u001b[0;34m\u001b[0m\u001b[0;34m\u001b[0m\u001b[0m\n\u001b[0m\u001b[1;32m    845\u001b[0m         \u001b[0madded\u001b[0m \u001b[0;34m=\u001b[0m \u001b[0mAdd\u001b[0m\u001b[0;34m(\u001b[0m\u001b[0;34m*\u001b[0m\u001b[0mterms\u001b[0m\u001b[0;34m)\u001b[0m\u001b[0;34m\u001b[0m\u001b[0;34m\u001b[0m\u001b[0m\n\u001b[1;32m    846\u001b[0m         \u001b[0;32mreturn\u001b[0m \u001b[0mAdd\u001b[0m\u001b[0;34m.\u001b[0m\u001b[0mmake_args\u001b[0m\u001b[0;34m(\u001b[0m\u001b[0madded\u001b[0m\u001b[0;34m)\u001b[0m  \u001b[0;31m# it may have collapsed down to one term\u001b[0m\u001b[0;34m\u001b[0m\u001b[0;34m\u001b[0m\u001b[0m\n",
      "\u001b[0;32m~/opt/anaconda3/lib/python3.7/site-packages/sympy/core/operations.py\u001b[0m in \u001b[0;36m__new__\u001b[0;34m(cls, *args, **options)\u001b[0m\n\u001b[1;32m     45\u001b[0m             \u001b[0;32mreturn\u001b[0m \u001b[0margs\u001b[0m\u001b[0;34m[\u001b[0m\u001b[0;36m0\u001b[0m\u001b[0;34m]\u001b[0m\u001b[0;34m\u001b[0m\u001b[0;34m\u001b[0m\u001b[0m\n\u001b[1;32m     46\u001b[0m \u001b[0;34m\u001b[0m\u001b[0m\n\u001b[0;32m---> 47\u001b[0;31m         \u001b[0mc_part\u001b[0m\u001b[0;34m,\u001b[0m \u001b[0mnc_part\u001b[0m\u001b[0;34m,\u001b[0m \u001b[0morder_symbols\u001b[0m \u001b[0;34m=\u001b[0m \u001b[0mcls\u001b[0m\u001b[0;34m.\u001b[0m\u001b[0mflatten\u001b[0m\u001b[0;34m(\u001b[0m\u001b[0margs\u001b[0m\u001b[0;34m)\u001b[0m\u001b[0;34m\u001b[0m\u001b[0;34m\u001b[0m\u001b[0m\n\u001b[0m\u001b[1;32m     48\u001b[0m         \u001b[0mis_commutative\u001b[0m \u001b[0;34m=\u001b[0m \u001b[0;32mnot\u001b[0m \u001b[0mnc_part\u001b[0m\u001b[0;34m\u001b[0m\u001b[0;34m\u001b[0m\u001b[0m\n\u001b[1;32m     49\u001b[0m         \u001b[0mobj\u001b[0m \u001b[0;34m=\u001b[0m \u001b[0mcls\u001b[0m\u001b[0;34m.\u001b[0m\u001b[0m_from_args\u001b[0m\u001b[0;34m(\u001b[0m\u001b[0mc_part\u001b[0m \u001b[0;34m+\u001b[0m \u001b[0mnc_part\u001b[0m\u001b[0;34m,\u001b[0m \u001b[0mis_commutative\u001b[0m\u001b[0;34m)\u001b[0m\u001b[0;34m\u001b[0m\u001b[0;34m\u001b[0m\u001b[0m\n",
      "\u001b[0;32m~/opt/anaconda3/lib/python3.7/site-packages/sympy/core/mul.py\u001b[0m in \u001b[0;36mflatten\u001b[0;34m(cls, seq)\u001b[0m\n\u001b[1;32m    606\u001b[0m \u001b[0;34m\u001b[0m\u001b[0m\n\u001b[1;32m    607\u001b[0m         \u001b[0;31m# order commutative part canonically\u001b[0m\u001b[0;34m\u001b[0m\u001b[0;34m\u001b[0m\u001b[0;34m\u001b[0m\u001b[0m\n\u001b[0;32m--> 608\u001b[0;31m         \u001b[0m_mulsort\u001b[0m\u001b[0;34m(\u001b[0m\u001b[0mc_part\u001b[0m\u001b[0;34m)\u001b[0m\u001b[0;34m\u001b[0m\u001b[0;34m\u001b[0m\u001b[0m\n\u001b[0m\u001b[1;32m    609\u001b[0m \u001b[0;34m\u001b[0m\u001b[0m\n\u001b[1;32m    610\u001b[0m         \u001b[0;31m# current code expects coeff to be always in slot-0\u001b[0m\u001b[0;34m\u001b[0m\u001b[0;34m\u001b[0m\u001b[0;34m\u001b[0m\u001b[0m\n",
      "\u001b[0;32m~/opt/anaconda3/lib/python3.7/site-packages/sympy/core/mul.py\u001b[0m in \u001b[0;36m_mulsort\u001b[0;34m(args)\u001b[0m\n\u001b[1;32m     32\u001b[0m \u001b[0;32mdef\u001b[0m \u001b[0m_mulsort\u001b[0m\u001b[0;34m(\u001b[0m\u001b[0margs\u001b[0m\u001b[0;34m)\u001b[0m\u001b[0;34m:\u001b[0m\u001b[0;34m\u001b[0m\u001b[0;34m\u001b[0m\u001b[0m\n\u001b[1;32m     33\u001b[0m     \u001b[0;31m# in-place sorting of args\u001b[0m\u001b[0;34m\u001b[0m\u001b[0;34m\u001b[0m\u001b[0;34m\u001b[0m\u001b[0m\n\u001b[0;32m---> 34\u001b[0;31m     \u001b[0margs\u001b[0m\u001b[0;34m.\u001b[0m\u001b[0msort\u001b[0m\u001b[0;34m(\u001b[0m\u001b[0mkey\u001b[0m\u001b[0;34m=\u001b[0m\u001b[0m_args_sortkey\u001b[0m\u001b[0;34m)\u001b[0m\u001b[0;34m\u001b[0m\u001b[0;34m\u001b[0m\u001b[0m\n\u001b[0m\u001b[1;32m     35\u001b[0m \u001b[0;34m\u001b[0m\u001b[0m\n\u001b[1;32m     36\u001b[0m \u001b[0;34m\u001b[0m\u001b[0m\n",
      "\u001b[0;32m~/opt/anaconda3/lib/python3.7/site-packages/sympy/core/basic.py\u001b[0m in \u001b[0;36mcompare\u001b[0;34m(self, other)\u001b[0m\n\u001b[1;32m    207\u001b[0m             \u001b[0mr\u001b[0m \u001b[0;34m=\u001b[0m \u001b[0mBasic\u001b[0m\u001b[0;34m(\u001b[0m\u001b[0;34m*\u001b[0m\u001b[0mr\u001b[0m\u001b[0;34m)\u001b[0m \u001b[0;32mif\u001b[0m \u001b[0misinstance\u001b[0m\u001b[0;34m(\u001b[0m\u001b[0mr\u001b[0m\u001b[0;34m,\u001b[0m \u001b[0mfrozenset\u001b[0m\u001b[0;34m)\u001b[0m \u001b[0;32melse\u001b[0m \u001b[0mr\u001b[0m\u001b[0;34m\u001b[0m\u001b[0;34m\u001b[0m\u001b[0m\n\u001b[1;32m    208\u001b[0m             \u001b[0;32mif\u001b[0m \u001b[0misinstance\u001b[0m\u001b[0;34m(\u001b[0m\u001b[0ml\u001b[0m\u001b[0;34m,\u001b[0m \u001b[0mBasic\u001b[0m\u001b[0;34m)\u001b[0m\u001b[0;34m:\u001b[0m\u001b[0;34m\u001b[0m\u001b[0;34m\u001b[0m\u001b[0m\n\u001b[0;32m--> 209\u001b[0;31m                 \u001b[0mc\u001b[0m \u001b[0;34m=\u001b[0m \u001b[0ml\u001b[0m\u001b[0;34m.\u001b[0m\u001b[0mcompare\u001b[0m\u001b[0;34m(\u001b[0m\u001b[0mr\u001b[0m\u001b[0;34m)\u001b[0m\u001b[0;34m\u001b[0m\u001b[0;34m\u001b[0m\u001b[0m\n\u001b[0m\u001b[1;32m    210\u001b[0m             \u001b[0;32melse\u001b[0m\u001b[0;34m:\u001b[0m\u001b[0;34m\u001b[0m\u001b[0;34m\u001b[0m\u001b[0m\n\u001b[1;32m    211\u001b[0m                 \u001b[0mc\u001b[0m \u001b[0;34m=\u001b[0m \u001b[0;34m(\u001b[0m\u001b[0ml\u001b[0m \u001b[0;34m>\u001b[0m \u001b[0mr\u001b[0m\u001b[0;34m)\u001b[0m \u001b[0;34m-\u001b[0m \u001b[0;34m(\u001b[0m\u001b[0ml\u001b[0m \u001b[0;34m<\u001b[0m \u001b[0mr\u001b[0m\u001b[0;34m)\u001b[0m\u001b[0;34m\u001b[0m\u001b[0;34m\u001b[0m\u001b[0m\n",
      "\u001b[0;31mKeyboardInterrupt\u001b[0m: "
     ]
    }
   ],
   "source": [
    "simplify(det(M_squared - lam*eye(4)))"
   ]
  },
  {
   "cell_type": "code",
   "execution_count": 101,
   "metadata": {},
   "outputs": [],
   "source": [
    "import numpy as np"
   ]
  },
  {
   "cell_type": "code",
   "execution_count": 102,
   "metadata": {},
   "outputs": [],
   "source": [
    "X12 = np.array([[0, 1], [0, 0]])"
   ]
  },
  {
   "cell_type": "code",
   "execution_count": null,
   "metadata": {},
   "outputs": [],
   "source": [
    "X12"
   ]
  },
  {
   "cell_type": "code",
   "execution_count": null,
   "metadata": {},
   "outputs": [],
   "source": [
    "P"
   ]
  },
  {
   "cell_type": "code",
   "execution_count": null,
   "metadata": {},
   "outputs": [],
   "source": [
    "B.conjugate"
   ]
  }
 ],
 "metadata": {
  "kernelspec": {
   "display_name": "Python 3 (ipykernel)",
   "language": "python",
   "name": "python3"
  },
  "language_info": {
   "codemirror_mode": {
    "name": "ipython",
    "version": 3
   },
   "file_extension": ".py",
   "mimetype": "text/x-python",
   "name": "python",
   "nbconvert_exporter": "python",
   "pygments_lexer": "ipython3",
   "version": "3.7.4"
  }
 },
 "nbformat": 4,
 "nbformat_minor": 2
}
