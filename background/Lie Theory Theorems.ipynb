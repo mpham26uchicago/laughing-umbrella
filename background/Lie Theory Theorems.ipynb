{
 "cells": [
  {
   "cell_type": "markdown",
   "metadata": {},
   "source": [
    "This notebook proves some Lie theory questions that I have."
   ]
  },
  {
   "cell_type": "markdown",
   "metadata": {},
   "source": [
    "**Theorem:** Let $\\mathfrak{g} = \\mathfrak{k} \\oplus \\mathfrak{m}$,  $\\mathfrak{g} = \\mathfrak{k}^\\prime \\oplus \\mathfrak{m}^\\prime$ be two distinct Cartan decomposition of $\\mathfrak{g}$. Then,\n",
    "\n",
    "$$\\dim(\\mathfrak{k}) = \\dim(\\mathfrak{k}^\\prime) \\iff \\dim(\\mathfrak{m}) = \\dim(\\mathfrak{m}^\\prime).$$\n",
    "\n",
    "**Proof.** By properties of direct sum,\n",
    "\n",
    "\\begin{align}\n",
    "\\dim(\\mathfrak{g}) &= \n",
    "\\dim(\\mathfrak{k}) + \\dim(\\mathfrak{m}) \\\\ &= \\dim(\\mathfrak{k}^\\prime) + \\dim(\\mathfrak{m}^\\prime)\n",
    "\\end{align}\n",
    "\n",
    "Then both direction follows $\\square$"
   ]
  },
  {
   "cell_type": "markdown",
   "metadata": {},
   "source": [
    "**Theorem (Maximal abelian subalgebras are isomorphic):** For $\\mathfrak{h}_1$, $\\mathfrak{h}_2 \\in \\mathfrak{m}$,  \n",
    "\n",
    "$$\\dim(\\mathfrak{h}_1) = \\dim(\\mathfrak{h}_2).$$\n",
    "\n",
    "**Proof.** By adjoint orbit theorem, there exists $k, k^\\prime \\in K$ such that \n",
    "\n",
    "$$Ad_k(\\mathfrak{h}_1) = \\mathfrak{h}_2 \\quad \\& \\quad Ad_{k^\\prime}(\\mathfrak{h}_2) = \\mathfrak{h}_1.$$\n",
    "\n",
    "Observe that $A_k$ is invertible with $Ad_{k^\\prime}$ as the inverse. This means that $\\mathfrak{h}_1$ and $\\mathfrak{h}_2$ are isomorphic. Thus\n",
    "\n",
    "$$\\dim(\\mathfrak{h}_1) = \\dim(\\mathfrak{h}_2). \\square$$\n",
    "\n",
    "This is equivalent to the statement that all maximal tori have the same rank."
   ]
  },
  {
   "cell_type": "markdown",
   "metadata": {},
   "source": [
    "**Lemma:** Let $m$ be a vector space. For non-empty subspace $h \\subseteq m$, there exists another space $a \\subseteq m$ such that \n",
    "\n",
    "$$m = a \\oplus h.$$\n",
    "\n",
    "**Proof.** Let $H = \\{h_1, ..., h_j\\}$ be a basis of $h$ and $M = \\{m_1, ..., m_k\\}$ be a basis of $m$. Let \n",
    "\n",
    "$$a = \\text{span}\\{m_i | m_i \\notin h \\ \\forall m_i \\in M\\}.$$\n",
    "\n",
    "This ensures that $h \\cap a = \\{0\\}$. For $v \\in m$, we have that\n",
    "\n",
    "\\begin{align}\n",
    "v&= \\sum_{m_i \\in a}c_i m_i + \\sum_{m_i \\notin a}c_i m_i.\n",
    "\\end{align}\n",
    "\n",
    "If $m_i \\notin a$, then $m_i \\in h$, so $\\sum_{m_i \\notin a}c_i m_i \\in h$. Then \n",
    "\n",
    "\\begin{align}\n",
    "v&= \\sum_{m_i \\in a}c_i m_i + \\sum_{h_\\ell \\in H}d_i h_\\ell.\n",
    "\\end{align}\n",
    "\n",
    "Thus $m = a \\oplus h. \\square$"
   ]
  },
  {
   "cell_type": "markdown",
   "metadata": {},
   "source": [
    "**Theorem:** Let $\\mathfrak{h}$ be a maximal abelian subalgebra of $\\mathfrak{m}$, then\n",
    "\n",
    "$$\\dim(\\mathfrak{m}) - \\dim(\\mathfrak{h}) \\leq \\dim(\\mathfrak{k}).$$"
   ]
  },
  {
   "cell_type": "markdown",
   "metadata": {},
   "source": [
    "**Proof.** Let $K = \\exp(\\mathfrak{k})$. By adjoint orbit theorem,\n",
    "\n",
    "$$\\mathfrak{m} = \\bigcup_{k\\in K} Ad_k \\mathfrak{h}.$$"
   ]
  },
  {
   "cell_type": "markdown",
   "metadata": {},
   "source": [
    "**Intuition**. So $\\mathfrak{m}$ can be expressed as parameters of $\\mathfrak{h}$ and parameters of $\\mathfrak{k}$. Assume that the number of parameters is equal to the dimension of the space, then it is impossible that \n",
    "\n",
    "$$\\dim(\\mathfrak{k}) + \\dim(\\mathfrak{h}) > \\dim(\\mathfrak{m}).$$"
   ]
  },
  {
   "cell_type": "markdown",
   "metadata": {},
   "source": [
    "**Definition (Isomorphic decomposition)** Let $\\mathfrak{g}$ be a semi-simple algebra, the decompositions $\\mathfrak{g} = \\mathfrak{k} \\oplus \\mathfrak{m}$ and   $\\mathfrak{g} = \\mathfrak{k}^\\prime \\oplus \\mathfrak{m}^\\prime$ are **isomorphic** if there exists $P \\in \\exp(\\mathfrak{g})$ such that "
   ]
  },
  {
   "cell_type": "markdown",
   "metadata": {},
   "source": [
    "**Theorem (Non-existence of magic basis for $n > 2$):** For $n > 2$, there exists no surjective homomorphism\n",
    "\n",
    "$$\\phi: SO(2^n) \\to SU(2^m) \\otimes SU(2^k)$$\n",
    "\n",
    "and \n",
    "\n",
    "$$\\phi^\\prime: SU(2^m) \\otimes SU(2^k) \\to SO(2^n)$$\n",
    "\n",
    "where $m+k=n$.\n",
    "\n",
    "**Proof.** Suppose there exists such surjective homomorphisms, then this means that (justify this, maybe go through some Lie algebra reasoning, but what does does $\\text{Lie}(SU(2^m) \\otimes SU(2^k)$) looks like?)\n",
    "\n",
    "$$\\dim(SO(2^n)) = \\dim(SU(2^m) \\otimes SU(2^k))$$\n",
    "\n",
    "We show why this is impossible. Note that the dimension of a group is the number of its free parameters.\n",
    "\n",
    "\\begin{align}\n",
    "2^{n-1}(2^n-1) \n",
    "&= (4^m-1) + (4^k - 1) \\\\\n",
    "&= 4^m + 4^k - 2 \\\\\n",
    "&= 2\\cdot (2^{2m-1} + 2^{2k-1} - 1) \\\\\n",
    "\\end{align}\n",
    "\n",
    "Then \n",
    "\n",
    "\\begin{align}\n",
    "2^{n-2}(2^n-1) &= (2^{2m-1} + 2^{2k-1} - 1)\n",
    "\\end{align}\n",
    "\n",
    "For $n > 2$, the RHS is even. For the LHS to also be even, we need\n",
    "$2^{2m-1} + 2^{2k-1}$ to be odd. Then one of $2^{2m-1}$, $2^{2k-1}$ must be odd. WLOG, suppose it's $2^{2m-1}$. Then\n",
    "\n",
    "\\begin{align}\n",
    "2^{2m-1} = 2^0 \\implies 2m-1 = 0\n",
    "\\end{align}\n",
    "\n",
    "But this means that $m = \\frac{1}{2}$ which is impossible. $\\square$\n",
    "\n",
    "Observe that $n = 2, m = k = 1$ works. In fact this is the magic basis."
   ]
  },
  {
   "cell_type": "markdown",
   "metadata": {},
   "source": [
    "**Definition ($n$-torus):** The **$n$-dimensional torus** is the Cartesian product of $n$ circles. That is \n",
    "\n",
    "\\begin{align}\\mathbb{T}^n = \\overbrace{S^1 \\times \\ ... \\ \\times S^1}^{n \\text{ times}}\\end{align}\n",
    "\n",
    "Since $S^1$ is a compact manifold, the $n$-torus is also a compact manifold. Equipped with a group multiplication, $S^1$ becomes $\\mathbb{T}$, the circle group. Thus, we can treat the $n$-torus as the direct product\n",
    "\n",
    "\\begin{align}\\mathbb{T}^n = \\overbrace{\\mathbb{T} \\times \\ ... \\ \\times \\mathbb{T}}^{n \\text{ times}}\\end{align}\n",
    "\n",
    "Observe that this is an abelian group."
   ]
  },
  {
   "cell_type": "markdown",
   "metadata": {},
   "source": [
    "**Definition (Torus in a Lie group):** A **torus in a compact Lie group** $G$ is a compact, connected and abelian Lie subgroup of $G$. By thm 11.2, it is isomorphic to $\\mathbb{T}^m$.\n",
    "\n",
    "A maximal torus is one which is maximal among such subgroups. $T$ is maximal if any $T \\subseteq T^\\prime$, we have $T = T^\\prime$. Every torus is contained in a maximal torus by dimensional considerations."
   ]
  },
  {
   "cell_type": "markdown",
   "metadata": {},
   "source": [
    "**Definition (Rank):** The dimension of the torus is called its **rank**. Since all maximal tori in a compact Lie group has the same dimension (by adjoint orbit theorem), we can called the dimension of the maximal torus the **rank** of a Lie group."
   ]
  },
  {
   "cell_type": "markdown",
   "metadata": {},
   "source": [
    "**Theorem (Torus Theorem):** If $T$ is a fixed maximal torus in $G$, then every element of $G$ is conjugate to an element in $T$."
   ]
  },
  {
   "cell_type": "markdown",
   "metadata": {},
   "source": [
    "**Corollary**:\n",
    "\n",
    "1. All maximal tori in $G$ are conjugate (adjoint orbit theorem)\n",
    "\n",
    "2. All maximal tori have the same dimension (rank)\n",
    "\n",
    "3. A maximal torus in $G$ is a maximal abelian subgroup of $G$\n",
    "\n",
    "4. The maximal tori in $G$ are exactly the Lie subgroup corresponding to the maximal abelian subalgebra in $\\mathfrak{g}$ (Cartan subalgebra).\n",
    "\n",
    "5. Every element of $G$ lies in the some maximal torus, thus the exponential map is surjective.\n",
    "\n",
    "6. If $G$ has $\\dim n$ and rank $r$, then $n-r$ is even."
   ]
  },
  {
   "cell_type": "code",
   "execution_count": 23,
   "metadata": {},
   "outputs": [],
   "source": [
    "import numpy as np\n",
    "from sympy import Matrix, I, exp, symbols, pi"
   ]
  },
  {
   "cell_type": "code",
   "execution_count": 13,
   "metadata": {},
   "outputs": [],
   "source": [
    "Y = Matrix([[0, -I], [I, 0]])\n",
    "Rz = lambda theta: Matrix([[exp(-I*theta), 0], [0, exp(I*theta)]])"
   ]
  },
  {
   "cell_type": "code",
   "execution_count": 14,
   "metadata": {},
   "outputs": [],
   "source": [
    "theta = symbols('theta')"
   ]
  },
  {
   "cell_type": "code",
   "execution_count": 15,
   "metadata": {},
   "outputs": [
    {
     "data": {
      "text/latex": [
       "$\\displaystyle \\left[\\begin{matrix}e^{- i \\theta} & 0\\\\0 & e^{i \\theta}\\end{matrix}\\right]$"
      ],
      "text/plain": [
       "Matrix([\n",
       "[exp(-I*theta),            0],\n",
       "[            0, exp(I*theta)]])"
      ]
     },
     "execution_count": 15,
     "metadata": {},
     "output_type": "execute_result"
    }
   ],
   "source": [
    "Rz(theta)"
   ]
  },
  {
   "cell_type": "code",
   "execution_count": 16,
   "metadata": {},
   "outputs": [
    {
     "data": {
      "text/latex": [
       "$\\displaystyle \\left[\\begin{matrix}e^{i \\theta} & 0\\\\0 & e^{- i \\theta}\\end{matrix}\\right]$"
      ],
      "text/plain": [
       "Matrix([\n",
       "[exp(I*theta),             0],\n",
       "[           0, exp(-I*theta)]])"
      ]
     },
     "execution_count": 16,
     "metadata": {},
     "output_type": "execute_result"
    }
   ],
   "source": [
    "Y@Rz(theta)@Y"
   ]
  },
  {
   "cell_type": "code",
   "execution_count": 17,
   "metadata": {},
   "outputs": [],
   "source": [
    "c1, c2, c3 = symbols('c1, c2, c3')"
   ]
  },
  {
   "cell_type": "code",
   "execution_count": 24,
   "metadata": {},
   "outputs": [],
   "source": [
    "expr1 = exp(I*(c1-c2+c3))\n",
    "expr2 = exp(I*(c1+c2-c3))\n",
    "expr3 = exp(I*(-c1-c2-c3))\n",
    "expr4 = exp(I*(-c1+c2+c3))"
   ]
  },
  {
   "cell_type": "code",
   "execution_count": 27,
   "metadata": {},
   "outputs": [
    {
     "data": {
      "text/latex": [
       "$\\displaystyle e^{i \\left(2 c_{1} + c_{3} - \\frac{\\pi}{2}\\right)}$"
      ],
      "text/plain": [
       "exp(I*(2*c1 + c3 - pi/2))"
      ]
     },
     "metadata": {},
     "output_type": "display_data"
    },
    {
     "data": {
      "text/latex": [
       "$\\displaystyle e^{i \\left(- c_{3} + \\frac{\\pi}{2}\\right)}$"
      ],
      "text/plain": [
       "exp(I*(-c3 + pi/2))"
      ]
     },
     "metadata": {},
     "output_type": "display_data"
    },
    {
     "data": {
      "text/latex": [
       "$\\displaystyle e^{i \\left(- c_{3} - \\frac{\\pi}{2}\\right)}$"
      ],
      "text/plain": [
       "exp(I*(-c3 - pi/2))"
      ]
     },
     "metadata": {},
     "output_type": "display_data"
    },
    {
     "data": {
      "text/latex": [
       "$\\displaystyle e^{i \\left(- 2 c_{1} + c_{3} + \\frac{\\pi}{2}\\right)}$"
      ],
      "text/plain": [
       "exp(I*(-2*c1 + c3 + pi/2))"
      ]
     },
     "metadata": {},
     "output_type": "display_data"
    }
   ],
   "source": [
    "display(expr1.subs([(c1, c1), (c2, pi/2-c1), (c3, c3)]))\n",
    "display(expr2.subs([(c1, c1), (c2, pi/2-c1), (c3, c3)]))\n",
    "display(expr3.subs([(c1, c1), (c2, pi/2-c1), (c3, c3)]))\n",
    "display(expr4.subs([(c1, c1), (c2, pi/2-c1), (c3, c3)]))"
   ]
  },
  {
   "cell_type": "code",
   "execution_count": null,
   "metadata": {},
   "outputs": [],
   "source": []
  }
 ],
 "metadata": {
  "kernelspec": {
   "display_name": "Python 3.10",
   "language": "python",
   "name": "python3.10"
  },
  "language_info": {
   "codemirror_mode": {
    "name": "ipython",
    "version": 3
   },
   "file_extension": ".py",
   "mimetype": "text/x-python",
   "name": "python",
   "nbconvert_exporter": "python",
   "pygments_lexer": "ipython3",
   "version": "3.10.4"
  }
 },
 "nbformat": 4,
 "nbformat_minor": 2
}
