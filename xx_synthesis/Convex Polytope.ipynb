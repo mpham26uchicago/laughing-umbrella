{
 "cells": [
  {
   "cell_type": "code",
   "execution_count": 1,
   "metadata": {},
   "outputs": [],
   "source": [
    "import numpy as np\n",
    "from fractions import *"
   ]
  },
  {
   "cell_type": "code",
   "execution_count": 2,
   "metadata": {},
   "outputs": [
    {
     "name": "stdout",
     "output_type": "stream",
     "text": [
      "/Users/minhpham/Documents/Research/laughing-umbrella/xx_synthesis/monodromy/lrslib-071b/lrs\n"
     ]
    }
   ],
   "source": [
    "import sys\n",
    "\n",
    "sys.path.insert(1, \"/Users/minhpham/Documents/Research/laughing-umbrella/xx_synthesis/monodromy\")\n",
    "\n",
    "import monodromy\n",
    "\n",
    "from monodromy.coordinates import monodromy_alcove, monodromy_alcove_c2, monodromy_to_positive_canonical_polytope, rho_reflect\n",
    "from monodromy.elimination import cylinderize, project\n",
    "from monodromy.polytopes import ConvexPolytope, Polytope\n",
    "from monodromy.static import qlr_polytope"
   ]
  },
  {
   "cell_type": "markdown",
   "metadata": {},
   "source": [
    "Inequalities for ConvexPolytope should be tuples of integers\n",
    "Vertices for ConvexPolytope should be Fraction or integers"
   ]
  },
  {
   "cell_type": "markdown",
   "metadata": {},
   "source": [
    "### Initialize Polytopes"
   ]
  },
  {
   "cell_type": "code",
   "execution_count": null,
   "metadata": {},
   "outputs": [],
   "source": []
  },
  {
   "cell_type": "code",
   "execution_count": 244,
   "metadata": {},
   "outputs": [],
   "source": [
    "# n=3\n",
    "p0n3 = ConvexPolytope(inequalities=[[1, 0, 0, 0, -2, 0, 0], [0, 0, 0, -1, 0, 1, 1], [0, -1, 1, -1, 0, 2, 2], [1, 0, 0, -1, -1, -1, 1], [0, 0, 1, 0, 1, -1, 1], [0, 1, 1, -1, 2, -2, 2], [1, 0, 0, 0, 0, -2, 0], [2, -1, -1, -1, -2, 0, 2], [0, 1, -1, -1, 0, 0, 2], [0, -1, -1, -1, 2, 2, 2], [0, -1, 0, 0, 1, 1, 1], [0, -1, 1, -1, 2, 0, 2], [0, 0, 0, -1, 1, 0, 1], [1, -1, 0, -1, 1, 1, -1], [2, -1, -1, -1, 0, 2, -2], [1, 0, 0, 0, 0, 0, -2], [0, 0, 0, 0, 1, 0, 0], [0, -1, 1, -1, 2, 2, 0], [0, 0, 0, -1, 1, 1, 0], [2, -1, -1, -1, 2, -2, 0], [1, 0, 0, -1, 1, -1, -1], [2, -1, -1, -1, 2, 0, -2], [0, 1, -1, -1, 2, 0, 0], [0, 1, -1, 0, 0, 0, 0], [2, -1, -1, -1, 0, -2, 2], [0, 0, 1, -1, 0, 0, 0], [2, -1, -1, -1, -2, 2, 0], [1, 0, 0, -1, -1, 1, -1], [1, -1, -1, 0, 0, 0, 0], [0, 1, -1, -1, 0, 2, 0], [0, 1, 1, -1, -2, 2, 2], [0, 0, 1, 0, -1, 1, 1], [0, 0, 0, 0, 0, 1, 0], [0, 0, 1, 0, 1, 1, -1], [0, 1, 1, -1, 2, 2, -2], [0, 0, 0, 0, 0, 0, 1], [0, 0, 0, 1, 0, 0, 0]], equalities=[], name='origin ∩ anonymous_convex_polytope_15 ∩ anonymous_convex_polytope_15 ∩ anonymous_convex_polytope_15 ∩ anonymous_convex_polytope_15')\n",
    "p1n3 = ConvexPolytope(inequalities=[[0, 0, 1, -1, 0, 0, 0], [1, 0, 0, 0, -2, 0, 0], [1, 1, -1, -1, -2, 2, 0], [0, 0, 0, 0, 0, 1, 0], [0, 0, 0, 1, 0, 0, 0], [1, 0, 0, 0, 0, -2, 0], [0, 0, 1, 0, 1, 1, -1], [1, 0, 0, -1, -1, -1, 1], [0, 1, -1, 0, 0, 0, 0], [1, 1, -1, -1, -2, 0, 2], [1, -1, 1, -1, -2, 2, 2], [1, 1, -1, -1, 0, -2, 2], [0, 0, 0, 0, 0, 0, 1], [-1, 1, 1, -1, 0, 2, 2], [0, 0, 1, 0, -1, 1, 1], [1, -1, 1, -1, 2, 2, -2], [-1, 1, 1, -1, 2, 0, 2], [0, 0, 1, 0, 1, -1, 1], [-1, 1, 0, 0, 1, 1, 1], [0, 0, 0, 0, 1, 0, 0], [1, 0, 0, 0, 0, 0, -2], [1, 1, -1, -1, 2, -2, 0], [1, 0, 0, -1, 1, -1, -1], [1, 1, -1, -1, 2, 0, -2], [1, 0, 0, -1, -1, 1, -1], [1, 1, -1, -1, 0, 2, -2], [1, -1, -1, -1, 0, 2, 0], [0, 0, 0, -1, 1, 1, 0], [0, 1, 0, -1, 1, 1, -1], [1, -1, -1, 0, 0, 0, 0], [1, -1, -1, -1, 2, 0, 0], [-1, 1, 1, -1, 2, 2, 0], [0, 0, 0, -1, 0, 1, 1], [1, -1, -1, -1, 0, 0, 2], [0, 0, 0, -1, 1, 0, 1], [1, -1, 1, -1, 2, -2, 2], [-1, 1, -1, -1, 2, 2, 2]], equalities=[], name='origin ∩ anonymous_convex_polytope_15 ∩ anonymous_convex_polytope_15 ∩ anonymous_convex_polytope_16 ∩ anonymous_convex_polytope_15')\n",
    "p2n3 = ConvexPolytope(inequalities=[[0, 0, 1, -1, 0, 0, 0], [1, 0, -1, -1, 1, -1, 0], [1, 0, 0, -1, 1, -1, -1], [1, -1, -1, -1, 2, 0, 0], [0, 0, 0, -1, 0, 0, 1], [-1, 1, 0, 0, 1, 1, 1], [-1, 1, 1, -1, 2, 0, 2], [1, 0, 0, 0, 0, -2, 0], [1, -1, 0, -1, 1, -1, 1], [0, 0, 0, 1, 0, 0, 0], [0, 0, 1, 0, 1, -1, 1], [0, 1, 0, -1, -1, 1, 1], [-1, 1, 1, -1, 0, 2, 2], [0, 0, 1, 0, -1, 1, 1], [1, 1, -1, -1, -2, 2, 0], [0, 0, 0, 0, 0, 1, 0], [1, 1, -1, -1, 2, -2, 0], [0, 1, 0, -1, 1, -1, 1], [0, 0, 0, 0, 1, 0, 0], [0, 0, 1, 0, 1, 1, -1], [0, 1, -1, 0, 0, 0, 0], [1, 1, -1, -1, 2, 0, -2], [0, 0, -1, -1, 1, 1, 1], [-1, 1, 1, -1, 2, 2, 0], [0, 0, 0, -1, 1, 1, 0], [1, 0, 0, 0, 0, 0, -2], [1, -1, -1, -1, 0, 2, 0], [1, 0, -1, -1, -1, 1, 0], [1, -1, 0, -1, -1, 1, 1], [1, -1, -1, 0, 0, 0, 0], [1, -1, 0, -1, 1, 1, -1], [1, 0, 0, 0, -2, 0, 0], [1, 0, 0, -1, -1, 1, -1], [1, 1, -1, -1, 0, 2, -2]], equalities=[], name='origin ∩ anonymous_convex_polytope_15 ∩ anonymous_convex_polytope_15 ∩ anonymous_convex_polytope_15 ∩ anonymous_convex_polytope_16')\n",
    "p3n3 = ConvexPolytope(inequalities=[[1, 0, 0, 0, 0, -2, 0], [0, 0, 0, 1, 0, 0, 0], [1, -1, -1, 0, 0, 0, 0], [1, -1, 0, -1, 1, -1, 1], [0, 0, 0, -1, 0, 0, 1], [0, 1, 0, -1, 1, -1, 1], [0, 1, 0, -1, -1, 1, 1], [0, 0, 1, 0, -1, 1, 1], [1, 0, 0, 0, -2, 0, 0], [1, -1, 0, -1, -1, 1, 1], [2, -1, -1, -1, -2, 2, 0], [1, 0, -1, -1, -1, 1, 0], [0, 0, 1, -1, 0, 0, 0], [0, -1, 1, -1, 0, 2, 2], [0, -1, 1, -1, 2, 2, 0], [0, 0, 0, 0, 0, 1, 0], [2, -1, -1, -1, 0, 2, -2], [1, 0, 0, -1, -1, 1, -1], [0, 1, -1, -1, 0, 2, 0], [0, 0, 0, -1, 1, 1, 0], [0, 0, 1, 0, 1, -1, 1], [0, -1, 1, -1, 2, 0, 2], [0, -1, 0, 0, 1, 1, 1], [0, 1, -1, 0, 0, 0, 0], [0, 0, -1, -1, 1, 1, 1], [2, -1, -1, -1, 2, 0, -2], [1, 0, 0, 0, 0, 0, -2], [0, 1, 0, -1, 1, 1, -1], [0, 0, 1, 0, 1, 1, -1], [0, 0, 0, 0, 1, 0, 0], [2, -1, -1, -1, 2, -2, 0], [1, 0, -1, -1, 1, -1, 0], [0, 1, -1, -1, 2, 0, 0], [1, 0, 0, -1, 1, -1, -1]], equalities=[], name='origin ∩ anonymous_convex_polytope_15 ∩ anonymous_convex_polytope_15 ∩ anonymous_convex_polytope_16 ∩ anonymous_convex_polytope_16')\n",
    "\n",
    "P0n3 = Polytope([p0])\n",
    "P1n3 = Polytope([p1])\n",
    "P2n3 = Polytope([p2])\n",
    "P3n3 = Polytope([p3])"
   ]
  },
  {
   "cell_type": "code",
   "execution_count": 249,
   "metadata": {},
   "outputs": [],
   "source": [
    "file = open(\"inequalities/XY pi:2.txt\", \"r\")\n",
    "\n",
    "polytope_list = eval(file.read()[-16687:])"
   ]
  },
  {
   "cell_type": "code",
   "execution_count": 263,
   "metadata": {},
   "outputs": [],
   "source": [
    "p0n4, p1n4, p2n4, p3n4, p4n4, p5n4 = polytope_list[4].convex_subpolytopes\n",
    "P0n4, P1n4, P2n4, P3n4, P4n4, P5n4 = Polytope([p0n4]), Polytope([p1n4]), Polytope([p2n4]), Polytope([p3n4]), Polytope([p4n4]), Polytope([p5n4])"
   ]
  },
  {
   "cell_type": "markdown",
   "metadata": {},
   "source": [
    "### Computing Volume of Convex Components"
   ]
  },
  {
   "cell_type": "code",
   "execution_count": 264,
   "metadata": {},
   "outputs": [
    {
     "name": "stdout",
     "output_type": "stream",
     "text": [
      "Dimension, Volume of p0: (7, 0.002311123760686116)\n",
      "Dimension, Volume of p1: (7, 0.002311123760686116)\n",
      "Dimension, Volume of p2: (7, 0.002246569783552567)\n",
      "Dimension, Volume of p3: (7, 0.002246569783552567)\n",
      "Dimension, Volume of p4: (7, 0.001804301123420047)\n",
      "Dimension, Volume of p5: (7, 0.001804301123420047)\n"
     ]
    }
   ],
   "source": [
    "print(f\"Dimension, Volume of p0: {P0n4.volume.dimension, float(P0n4.volume.volume)}\")\n",
    "print(f\"Dimension, Volume of p1: {P1n4.volume.dimension, float(P1n4.volume.volume)}\")\n",
    "print(f\"Dimension, Volume of p2: {P2n4.volume.dimension, float(P2n4.volume.volume)}\")\n",
    "print(f\"Dimension, Volume of p3: {P3n4.volume.dimension, float(P3n4.volume.volume)}\")\n",
    "print(f\"Dimension, Volume of p4: {P4n4.volume.dimension, float(P4n4.volume.volume)}\")\n",
    "print(f\"Dimension, Volume of p5: {P5n4.volume.dimension, float(P5n4.volume.volume)}\")"
   ]
  },
  {
   "cell_type": "markdown",
   "metadata": {},
   "source": [
    "### Table for Percentage of Intersection"
   ]
  },
  {
   "cell_type": "code",
   "execution_count": 267,
   "metadata": {},
   "outputs": [],
   "source": [
    "polytope_list = [P0n4, P1n4, P2n4, P3n4, P4n4, P5n4]"
   ]
  },
  {
   "cell_type": "code",
   "execution_count": 268,
   "metadata": {},
   "outputs": [],
   "source": [
    "poly_table = []\n",
    "\n",
    "for poly1 in polytope_list:\n",
    "    poly_row = []\n",
    "    for poly2 in polytope_list:\n",
    "        poly_row.append(round(float((poly1.intersect(poly2)).volume.volume / poly1.volume.volume *100), 3))\n",
    "    poly_table.append(poly_row)"
   ]
  },
  {
   "cell_type": "code",
   "execution_count": 269,
   "metadata": {},
   "outputs": [
    {
     "data": {
      "text/plain": [
       "[[100.0, 95.516, 93.13, 97.204, 75.276, 78.043],\n",
       " [95.516, 100.0, 97.204, 93.13, 78.043, 75.276],\n",
       " [95.806, 99.997, 100.0, 95.804, 80.285, 77.436],\n",
       " [99.997, 95.806, 95.804, 100.0, 77.436, 80.285],\n",
       " [96.42, 99.965, 99.965, 96.417, 100.0, 96.391],\n",
       " [99.965, 96.42, 96.417, 99.965, 96.391, 100.0]]"
      ]
     },
     "execution_count": 269,
     "metadata": {},
     "output_type": "execute_result"
    }
   ],
   "source": [
    "poly_table"
   ]
  },
  {
   "cell_type": "markdown",
   "metadata": {},
   "source": [
    "### Find Vertices in $p_3$ but not $p_0$"
   ]
  },
  {
   "cell_type": "code",
   "execution_count": 134,
   "metadata": {},
   "outputs": [
    {
     "name": "stdout",
     "output_type": "stream",
     "text": [
      "[Fraction(2, 3), Fraction(1, 3), Fraction(1, 3), Fraction(1, 6), Fraction(1, 6), Fraction(1, 2)]\n",
      "False\n"
     ]
    }
   ],
   "source": [
    "cap_vertices = p3.intersect(p0).vertices\n",
    "\n",
    "complement_vertices = []\n",
    "\n",
    "for v in p3.vertices:\n",
    "    if v not in cap_vertices:\n",
    "        complement_vertices.append(v)\n",
    "        print(v)\n",
    "\n",
    "for vertex in complement_vertices:\n",
    "    print(p0.has_element(vertex))"
   ]
  },
  {
   "cell_type": "markdown",
   "metadata": {},
   "source": [
    "### Computing $\\frac{\\text{vol}\\left[p_3 \\cap (p_0 \\cup p_1)\\right]}{\\text{vol}[p_3]}$"
   ]
  },
  {
   "cell_type": "code",
   "execution_count": null,
   "metadata": {},
   "outputs": [],
   "source": [
    "P012 = (P0.union(P1)).intersect(P2).reduce()\n",
    "P013 = (P0.union(P1)).intersect(P3).reduce()"
   ]
  },
  {
   "cell_type": "code",
   "execution_count": 177,
   "metadata": {},
   "outputs": [
    {
     "data": {
      "text/plain": [
       "99.97124164210224"
      ]
     },
     "execution_count": 177,
     "metadata": {},
     "output_type": "execute_result"
    }
   ],
   "source": [
    "float(P012.volume.volume / P2.volume.volume)*100"
   ]
  },
  {
   "cell_type": "markdown",
   "metadata": {},
   "source": [
    "### Computing $\\frac{\\text{vol}\\left[p_0 \\cup p_1\\right]}{\\text{vol}\\left[p_0 \\cup p_1 \\cup p_2 \\cup p_3\\right]}$"
   ]
  },
  {
   "cell_type": "code",
   "execution_count": 272,
   "metadata": {},
   "outputs": [
    {
     "data": {
      "text/plain": [
       "96.9293508003746"
      ]
     },
     "execution_count": 272,
     "metadata": {},
     "output_type": "execute_result"
    }
   ],
   "source": [
    "float(P2n4.union(P3n4).volume.volume) / float((P0n4.union(P1n4).union(P2n4).union(P3n4).union(P4n4).union(P5n4)).volume.volume) *100"
   ]
  },
  {
   "cell_type": "code",
   "execution_count": null,
   "metadata": {},
   "outputs": [],
   "source": []
  }
 ],
 "metadata": {
  "kernelspec": {
   "display_name": "Python 3.10",
   "language": "python",
   "name": "python3.10"
  },
  "language_info": {
   "codemirror_mode": {
    "name": "ipython",
    "version": 3
   },
   "file_extension": ".py",
   "mimetype": "text/x-python",
   "name": "python",
   "nbconvert_exporter": "python",
   "pygments_lexer": "ipython3",
   "version": "3.10.4"
  }
 },
 "nbformat": 4,
 "nbformat_minor": 2
}
