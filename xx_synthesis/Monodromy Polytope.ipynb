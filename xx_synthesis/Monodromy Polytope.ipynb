{
 "cells": [
  {
   "cell_type": "markdown",
   "metadata": {},
   "source": [
    "This notebook summarizes and implements the results from [Two-qubit Circuit Depth and the Monofromy Polytope](https://arxiv.org/abs/1904.10541) by Eric Peterson et al."
   ]
  },
  {
   "cell_type": "markdown",
   "metadata": {},
   "source": [
    "### 3. The multiplicative eigenvalue problem and the monodromy polytope"
   ]
  },
  {
   "cell_type": "markdown",
   "metadata": {},
   "source": [
    "**Definition 7.** The group $PU(n)$ is the quotient of $U(n)$ by its center $e^{i\\theta}I$. Thus $PU(n)$ are unitary matrices up to global phase.\n",
    "\n",
    "**Problem 8.** Let $\\mathcal{S}$ be a set of two-qubit gates.\n",
    "\n",
    "1. Describe the subspace $P^n_\\mathcal{S} \\subseteq PU(4),$ of $(A_n \\otimes B_n) \\ S_n \\ \\cdots \\ (A_1 \\otimes B_1) \\ S_1 \\ (A_0 \\otimes B_0)$ for $S_j \\in \\mathcal{S}$ and $A_j, B_j \\in PU(2)$.\n",
    "\n",
    "2. Given $G \\in P_\\mathcal{S}^n$, algorithmically produce local gates $A_j, B_j$ which realize $G$ as such a circuit.\n",
    "\n",
    "**Definition 9.** Let $\\mathcal{L}_\\mathcal{S}(U)$ be the minimum number of two-qubit gates appearing in any circuit implementation of $U$ using the gate set $\\mathcal{S}$. We define the *expected circuit depth* of $\\mathcal{S}$ to be \n",
    "\n",
    "\\begin{align*} \\langle \\mathcal{L}_\\mathcal{S}\\rangle^\\text{Haar} \n",
    "&= \\int_{U \\in PU(4)} \\mathcal{L}_\\mathcal{S}(U)d\\mu \\\\\n",
    "&= \\sum_{n =0}^\\infty n \\cdot \\text{vol}^\\text{Haar} \\left(\\mathcal{L}_\\mathcal{S}^{-1}(n)\\right) \\\\\n",
    "&= \\sum_{n =0}^\\infty n \\cdot \\text{vol}^\\text{Haar} \\left(P_\\mathcal{S}^n \\setminus \\bigcup_{j=0}^{n-1}P_\\mathcal{S}^j\\right).\\end{align*}\n",
    "\n",
    "**Problem 10.** Let $E$ and $F$ be fixed two-qubit gates. This is the case $n=2$.\n",
    "\n",
    "1. Describe the subspace $P \\subseteq PU(4),$ of $(A_3 \\otimes B_3) \\ F \\ (A_2 \\otimes B_2) \\ E \\ (A_1 \\otimes B_1)$ for $A_1, B_1, A_2, B_2, A_3, B_3 \\in PU(2)$.\n",
    "\n",
    "\n",
    "2. Given $G \\in P$, algorithmically produce local gates $A_1, A_2, A_3, B_1, B_2$ and $B_3$ which realize $G$ as such a circuit.\n",
    "\n",
    "This problem is well-known in representation theory as the *multiplicative eigenvalue problem*, whose solution comes in the form of the *monodromy polytope*.\n",
    "\n",
    "**Reduction 10.5.** We want a compact description of the set of canonical parameter of $P$. To do so, we compute the spectrum of the Cartan double $\\gamma(G^Q)$. \n",
    "\n",
    "We have $G^Q = O_1E^QO_2F^QO_3$ where $O_j$ are orthogonal matrices. In turns, $E^Q$ and $F^Q$ have orthogonal decomposition\n",
    "\n",
    "$$E^Q = O_{E, L}D_EO_{E, R}, \\quad F^Q = O_{F, L}D_FO_{F, R},$$\n",
    "\n",
    "where $D_E$ and $D_F$ are diagonal and $O_{E, L}, O_{E, R}, O_{F, L}, O_{F, R}$ are all orthogonal. Combining these decompositions yields\n",
    "\n",
    "$$G^Q = O_1O_{E, L}\\cdot (\\mathbf{D_E}) \\cdot O_{E, R}O_2O_{F, L} \\cdot (\\mathbf{D_F}) \\cdot O_{F, R}O_3,$$\n",
    "\n",
    "from which we compute\n",
    "\n",
    "\\begin{align*}\\gamma(G^Q) \n",
    "&= \\left(O_1O_{E, L}\\cdot (\\mathbf{D_E}) \\cdot O_{E, R}O_2O_{F, L} \\cdot (\\mathbf{D_F}) \\cdot O_{F, R}O_3\\right)\\left(O_1O_{E, L}\\cdot (\\mathbf{D_E}) \\cdot O_{E, R}O_2O_{F, L} \\cdot (\\mathbf{D_F}) \\cdot O_{F, R}O_3\\right)^T \\\\\n",
    "&= O_1O_{E, L}\\cdot (\\mathbf{D_E}) \\cdot O_{E, R}O_2O_{F, L} \\cdot (\\mathbf{D_F}^2) \\cdot O_{F, L}^TO_2^TO_{E, R}^T \\cdot (\\mathbf{D_E}) \\cdot O_{E, L}^T O_1^T \\\\\n",
    "&= U \\cdot (\\mathbf{D_E}^2) \\cdot O \\cdot (\\mathbf{D_F}^2) \\cdot O^T \\cdot U^\\dagger \\\\\n",
    "&\\sim (\\mathbf{D_E}^2) \\cdot O \\cdot (\\mathbf{D_F}^2)O^T,\n",
    "\\end{align*}\n",
    "\n",
    "where $O = O_{E, R}O_2O_{F, L}$ and $U = O_1O_{E, L}D_E$. This reduces Problem 10 to\n",
    "\n",
    "**Problem 11.** Let $D_E$ and $D_F$ be fixed diagonal special unitary matrices.\n",
    "\n",
    "1. Calculate the possible spectra of operators of the form $(\\mathbf{D_E}^2) \\cdot O \\cdot (\\mathbf{D_F}^2) \\cdot O^T$ as $O$ ranges over all orthogonal matrices. \n",
    "\n",
    "As $G$ ranges over $P$ (as the local gates vary), the terms $O$ range over $PO(4)$.\n",
    "\n",
    "2. Given a particular such operator spectrum $D_G$, calculate an orthgonal matrix $O$ such that $(\\mathbf{D_E}^2) \\cdot O \\cdot (\\mathbf{D_F}^2) \\cdot O^T$ diagonalizes to give $D_G^2$.\n",
    "\n",
    "Given $O$ so that $(\\mathbf{D_E}^2) \\cdot O \\cdot (\\mathbf{D_F}^2)O^T$ has the prescribed operator spectrum, we\n",
    "find $A_2, B_2$ such that \n",
    "\n",
    "$$(A\\otimes B_2)^Q O_{E, R}^T OO^T_{F, R}.$$\n",
    "\n",
    "Then $E(A\\otimes B_2)F$ has the prescribed canonical parameters.\n",
    "\n",
    "**Problem 12.** Let $U_1, U_2$ and $U_3$ be unitary operators.\n",
    "\n",
    "1. *Multiplicative eigenvalue problem*: Describe the possible spectra of all triples $U_1, U_2, U_3$ satisfying $U_1U_2U_3 = I$\n",
    "\n",
    "**Reduction**: Given $D_E, D_F$ and $D_G$ and $O$, satisfying the similarlity relation above, there must exist a unitary $U$ satisfying\n",
    "\n",
    "$$\\gamma^Q(G) = O_{G, L}(\\mathbf{D_G}^2)O_{G, L}^T \\sim (\\mathbf{D_E}^2) \\cdot O \\cdot (\\mathbf{D_F}^2)O^T$$\n",
    "\n",
    "or \n",
    "\n",
    "$$U^\\dagger(\\mathbf{D_G}^2)U = (\\mathbf{D_E}^2) \\cdot O \\cdot (\\mathbf{D_F}^2)O^T,$$\n",
    "\n",
    "which can be rewritten as \n",
    "\n",
    "$$I = \\mathbf{D_E}^2 \\cdot \\left(O \\cdot (\\mathbf{D_F}^2) \\cdot O^T\\right) \\cdot \\left(U^\\dagger\\cdot (\\mathbf{D_G}^2)^\\dagger \\cdot U\\right) = U_1U_2U_3.$$\n",
    "\n",
    "This shows that the spectra of $D_E^2$ and $D_F^2$ agree with those of $U_1$ and $U_2$ and the spectrum of $D_G^2$ agrees with that of $U_3^\\dagger.$\n",
    "\n",
    "\n",
    "2. *Effective saturation problem*: Given a triple of operator spectra satisfying the conditions of Problem 12.1, algorithmically produce $U_1, U_2$ and $U_3$ realizing these spectra and satisfying $U_1U_2U_3=I$.\n",
    "\n",
    "**Solution**: This is a non-trivial result in sympletic geometry:\n",
    "\n",
    "**Theorem 13.** Suppose that $D_1, D_2, D_3$ are diagonal operators which satisfy the conditions of Problem 12.1. Then there exists operators $V_1, V_2, V_3$ which diagonalize to $D_1, D_2, D_3$, which satisfy $V_1V_2V_3=1$ and for which $V_1$ and $V_2$ are orthogonally diagonalizable, i.e., \n",
    "\n",
    "$$V_1 = O_1^TD_1O_1, \\quad V_2 = O_2^TD_2O_2,$$\n",
    "\n",
    "for some orthgonal matrices $O_1, O_2$.\n",
    "\n",
    "**Reduction**: This is a corollary of the above.\n",
    "\n",
    "**Corollary 14.** For $U_1, U_2$ and $U_3$ unitaries satisfying $U_1U_2U_3=I$ and with diagonalization $D_E^2, D_F^2$ and $(D_G^2)^\\dagger$ respectively, there exists an orthogonal $O$ and a unitary $U$ such that \n",
    "\n",
    "$$U^\\dagger D_G^2 U = D_E^2OD_F^2O^T,$$\n",
    "\n",
    "*Proof.* By applying the Theorem, we get\n",
    "\n",
    "$$I = V_1V_2V_3 = (O_1^TD_E^2O_1)(O_2^TD_F^2O_2)V_3.$$\n",
    "\n",
    "so\n",
    "\n",
    "$$U^\\dagger D_G^2U = D_E^2 O D_F^2O^T,$$\n",
    "\n",
    "where we have written $O = O_1O_2^T$ and $U = EO_1^T$ for $E$ a matrix with each column being an eigenbasis of $V_3^\\dagger$.\n",
    "\n",
    "**Example 15.** Let $U$ be a single-qubit operator with canonical decomposition $U = Z_\\epsilon Y_\\zeta Z_\\eta$. What conditions on $\\zeta$ such that $U$ admits expression as $U = Z_{\\epsilon^\\prime}Y_\\alpha Z_\\beta Y_\\delta Z_{\\eta^\\prime}$ for fixed $\\alpha, \\delta$. We study the characteristic polynomial of the Cartan double $\\gamma^{Q_1}(U)$. By Cayley-Hamilton,\n",
    "\n",
    "\\begin{align*}\\chi(\\gamma^{Q_1}(U)) &= z^2-\\text{tr}(\\gamma^{Q_1}(U))z +1 \\\\ \\end{align*}\n",
    "\n",
    "We have two ways to compute the trace:\n",
    "\n",
    "$$2\\cos\\zeta = \\text{tr}(\\gamma^{Q_1}(U)) = 2(\\cos\\alpha\\cos\\delta - \\cos\\beta\\sin\\alpha\\sin\\delta).$$\n",
    "\n",
    "Hence $\\delta = \\cos^{-1}(\\cos\\alpha\\cos\\delta - \\cos\\beta\\sin\\alpha\\sin\\delta)$.\n",
    "\n",
    "The role of $\\beta$ is thus to modulate the interference of $\\alpha$ and $\\delta$, and it imposes the following linear inequality on $\\zeta$:\n",
    "\n",
    "$$|\\alpha-\\delta| \\leq \\zeta \\leq \\pi - |\\alpha+\\delta- \\pi|.$$\n",
    "\n",
    "**Example 16.** In extremely favorable situations, the two-qubit case can also be manually analyzed. Let us consider the gate family \n",
    "\n",
    "$$\\text{SWAP}_t = \\exp\\left(-2\\pi it\\left(\\sigma_X^{\\otimes 2} + \\sigma_Y^{\\otimes 2} + \\sigma_Z^{\\otimes 2}\\right)\\right),$$\n",
    "\n",
    "for which $\\gamma^Q(\\text{SWAP}_t)$ has the spectrum\n",
    "\n",
    "$$\\left(e^{-i\\frac{t}{4}}, e^{-i\\frac{t}{4}}, e^{-i\\frac{t}{4}}, e^{i\\frac{3t}{4}}\\right),$$\n",
    "\n",
    "and let $E = \\text{SWAP}_{t_1}$ and $F = \\text{SWAP}_{t_2}$. Using reduction to Problem 12, we will describe the possible spectra for operators of the form\n",
    "\n",
    "$$U_1 = V^\\dagger D_{t_1}^2 V, \\quad U_2 = D_{t_2}^2, \\quad U_3 = U_1U_2.$$\n",
    "\n",
    "where $D_{t_j}^2$ is the diagonal matrix form from the spectrum of $\\gamma^Q(\\text{SWAP}_{t_j})$ and $V$ is an arbitrary unitary.\n",
    "\n",
    "First observe that the eigenspace of $\\exp(-i\\frac{t_j}{4})$ is $3$-dimensional, and hence the intersection of the eigenspaces for $\\exp(-i\\frac{t_1}{4})$ and $\\exp(-i\\frac{t_2}{4})$ is at least $2$-dimensional. It follows that there exists an orthonormal $2$-frame $\\{b_1, b_2\\}$ of eigenvectors for $U_3$:\n",
    "\n",
    "$$U_3b_i = U_1U_2b_i = U_1e^{-i\\frac{t_2}{4}}b_i = e^{-i\\frac{t_1+t_2}{4}}b_i = \\lambda b_i.$$\n",
    "\n",
    "In particular, we find $U_3$ to be block-diagonal in the partial basis $\\{b_1, b_2, b_3, b_4\\}$:\n",
    "\n",
    "$$U_3 = \\begin{pmatrix} \\lambda & & & \\\\ & \\lambda & & \\\\ & & \\ast & \\ast \\\\ & & \\ast & \\ast \\end{pmatrix}$$\n",
    "\n",
    "where $b_3$ spans the complement of $\\{b_1, b_2\\}$ in the $3$-dimensional eigenspace for $U_2$ and $b_4$ spans\n",
    "the $1$-dimensional eigenspace $e^{i\\frac{3t_2}{4}}$. In this basis, the subblock denoting the action of $U_3$ on $B = \\text{span}\\{b_3, b_4\\}$ is\n",
    "\n",
    "\\begin{align*}U_3|_B \n",
    "&= \\begin{pmatrix}e^{-i\\frac{t_1}{4}} & 0 \\\\ 0 & e^{i\\frac{3t_1}{4}}\\end{pmatrix}^W\\begin{pmatrix}e^{-i\\frac{t_2}{4}} & 0 \\\\ 0 & e^{i\\frac{3t_2}{4}}\\end{pmatrix}^W \\\\\n",
    "&= \\lambda^{-1}\\begin{pmatrix}e^{-i\\frac{t_1}{2}} & 0 \\\\ 0 & e^{i\\frac{t_1}{2}}\\end{pmatrix}^W\\begin{pmatrix}e^{-i\\frac{t_2}{2}} & 0 \\\\ 0 & e^{i\\frac{t_2}{2}}\\end{pmatrix}^W\n",
    "\\end{align*}\n",
    "\n",
    "where $G^W$ denotes conjugation by $W$ and columns of $W$ are $b_3^\\prime$ and $b_4^\\prime$, which spans the complement of $\\{b_1, b_2\\}$ in $U_1$ and $b_4^\\prime$ spans the $1$-dimensional eigenspace $e^{i\\frac{3t_1}{4}}.$ The resulting operator spectra are shifted by $\\lambda^{-1}$ of those in Examples 15, are hence subjected to the same inequalities also shifted by $\\lambda^{-1}$.\n",
    "\n",
    "**Definition 17.** For a special unitary matrix $U$, we may uniquely present its spectrum\n",
    "\n",
    "$$\\text{Spec} U = (e^{2\\pi ia_1}, ..., e^{2\\pi ia_n})$$\n",
    "\n",
    "as\n",
    "\n",
    "$$\\text{LogSpec} U = (a_1, ..., a_n),$$\n",
    "\n",
    "where $a_1 \\geq ... \\geq a_n \\geq a_1-1, \\quad a_+ := \\sum_ja_j = 0.$\n",
    "\n",
    "We refer to the collection of all such $n$-tuples as $\\mathfrak{U}$, the *fundamental alcove* of $SU(n)$, and we will write $\\text{LogSpec}$ for the associated point in $\\mathfrak{U}$. \n",
    "\n",
    "Definition 17 is the natural target of the logarithmic spectrum of a special unitary operator:\n",
    "\n",
    "$$\\text{LogSpec}(-): SU(4) \\to \\mathfrak{U}$$\n",
    "\n",
    "and it forms a convex polytope.\n",
    "\n",
    "**Definition 18.** Let $C_2 \\leq SU(4)$ be the finite central subgroup $\\{\\pm1\\}$, and let $U \\in SU(4) / C_2$ be a member of the quotient group, which we may present as a coset $(\\pm 1) \\cdot U = \\{ \\tilde{U}, -\\tilde{U}\\} \\subseteq SU(4)$. The logarithmic spectra of these matrices \n",
    "\n",
    "$$a_\\ast = \\text{LogSpec }(\\tilde{U}), \\quad b_\\ast = \\text{LogSpec }(-\\tilde{U})$$\n",
    "\n",
    "are related by a form of rotation:\n",
    "\n",
    "$$a_\\ast = \\rho(b_\\ast) := \\left(b_3 + \\frac{1}{2}, b_4 + \\frac{1}{2}, b_1 - \\frac{1}{2}, b_2-\\frac{1}{2}\\right).$$\n",
    "\n",
    "We can also write\n",
    "\n",
    "$$\\rho(b_\\ast) = \\begin{pmatrix} 0 & 0 & 1 & 0 \\\\ 0 & 0 & 0 & 1 \\\\ 1 & 0 & 0 & 0 \\\\ 0 & 1 & 0 & 0 \\end{pmatrix}\\begin{pmatrix} b_1 \\\\ b_2 \\\\ b_3 \\\\ b_4 \\end{pmatrix} + \\frac{1}{2} \\begin{pmatrix}1 \\\\ 1 \\\\ -1 \\\\ -1 \\end{pmatrix} = (X \\otimes I)b_\\ast + \\frac{1}{2}\\begin{pmatrix} 1 \\\\ -1 \\end{pmatrix} \\otimes \\begin{pmatrix} 1 \\\\ 1 \\end{pmatrix}.$$\n",
    "\n",
    "Note that $\\rho$ is an involution. \n",
    "\n",
    "**Lemma 17.5.** Since $\\rho$ is an affine function, for $\\sum_{i =1}^n \\lambda_i = 1$, we have\n",
    "\n",
    "$$\\rho(\\sum_{i =1}^n \\lambda_ix_i) = \\sum_{i=1}^n \\lambda_i \\rho(x_i).$$\n",
    "\n",
    "In particular, if $\\rho(x_i) = x_i$ then $\\rho(\\sum_{i =1}^n \\lambda_ix_i) = \\sum_{i =1}^n \\lambda_ix_i$.\n",
    "\n",
    "By appropriately picking either $\\text{LogSpec }U = \\text{LogSpec }\\tilde{U}$ or $\\text{LogSpec }\\tilde{U}$, we see that we may uniquely specify a sequence $\\text{LogSpec }U$ which further satisfies either\n",
    "\n",
    "$$(\\text{LogSpec }U)_3 + 1/2 > (\\text{LogSpec }U)_1$$\n",
    "\n",
    "or (these are equations of polytopes, similar to Weyl chamber)\n",
    "\n",
    "$$\\begin{cases} (\\text{LogSpec }U)_3 + 1/2 = (\\text{LogSpec }U)_1 \\\\ &\\text{and} \\\\ (\\text{LogSpec }U)_4 + 1/2 = (\\text{LogSpec }U)_2\\end{cases}$$\n",
    "\n",
    "where $(\\text{LogSpec }U)_j$ denotes the $j^\\text{th}$ component of the quadruple of the $\\text{LogSpec }U$. We similarly refer to the collection of all such quadruples as $\\mathfrak{U}_{C_2}$, the fundamental alcove of $SU(4)/C_2$.\n",
    "\n",
    "Definition is the natural target of the logarithmic spectrum of the Cartan double of a *projective* unitary operator:\n",
    "\n",
    "$$\\text{LogSpec } \\ \\gamma(-): PU(4) \\to \\mathfrak{U}_{C_2}$$\n",
    "\n",
    "but it does not quite form a convex polytope: the closure $\\overline{\\mathfrak{U}_{C_2}}$ is a convex polytope, but the values $a_\\ast$ satisfying $a_3 + 1/2 = a_1$ and $a_4 + 1/2 > a_2$, which constitute half a face of $\\overline{\\mathfrak{U}_{C_2}}$, are missing from $\\mathfrak{U}_{C_2}$.\n",
    "\n",
    "**Definition 20.** We are interested in the assignment\n",
    "\n",
    "\\begin{align*}\\Pi: PU(4) \n",
    "&\\to \\mathfrak{U}_{C_2}, \\\\\n",
    "U &\\to \\text{LogSpec } \\ \\gamma(U^Q),\n",
    "\\end{align*}\n",
    "\n",
    "which we abbreviate to $\\Pi(U).$ This is a way for us to organize canonical parameters."
   ]
  },
  {
   "cell_type": "code",
   "execution_count": 1,
   "metadata": {},
   "outputs": [],
   "source": [
    "from sympy import *\n",
    "A = Matrix([[0, 0, 1, 0], [0, 0, 0, 1], [1, 0, 0, 0], [0, 1, 0, 0]])\n",
    "b = 1/2 * Matrix([[1], [1], [-1], [-1]])\n",
    "\n",
    "rho = lambda x: A@x + b\n",
    "\n",
    "x1, x2, x3, x4 = symbols('x1, x2, x3, x4')\n",
    "\n",
    "y1, y2, y3, y4 = symbols('y1, y2, y3, y4')\n",
    "\n",
    "x = Matrix([[x1], [x2], [x3], [x4]])\n",
    "y = Matrix([[y1], [y2], [y3], [y4]])\n",
    "\n",
    "c1, c2 = symbols('c1, c2')"
   ]
  },
  {
   "cell_type": "code",
   "execution_count": 2,
   "metadata": {},
   "outputs": [],
   "source": [
    "import numpy as np\n",
    "from functools import reduce\n",
    "epsilon = 1e-6  # Fraction(1, 1_000_000)\n",
    "\n",
    "def Pi(unitary):\n",
    "    \"\"\"\n",
    "    Given a unitary matrix, produces its alcove coordinate.\n",
    "    \"\"\"\n",
    "    unitary = unitary * complex(np.linalg.det(unitary)) ** (-1 / 4)\n",
    "\n",
    "    sysy = np.array([\n",
    "        [0,  0,  0, 1],\n",
    "        [0,  0, -1, 0],\n",
    "        [0, -1,  0, 0],\n",
    "        [1,  0,  0, 0],\n",
    "    ], dtype=complex)\n",
    "    gammaQ = reduce(np.dot, [unitary, sysy, unitary.T, sysy])\n",
    "    logspec_coordinate = np.real(\n",
    "        np.log(np.linalg.eigvals(gammaQ)) / (2 * np.pi * 1j))\n",
    "    return normalize_logspec_AC2(\n",
    "        sorted(np.mod(logspec_coordinate, 1.0), reverse=True)\n",
    "    )\n",
    "\n",
    "def normalize_logspec_A(coordinate):\n",
    "    \"\"\"\n",
    "    Utility function for rotating a LogSpec tuple (targeting A)\n",
    "    into its normal form.\n",
    "\n",
    "    Expects a sorted input in the range [0, 1].\n",
    "    \"\"\"\n",
    "    total = sum(coordinate)\n",
    "    if total > epsilon:\n",
    "        return normalize_logspec_A([*coordinate[1:], coordinate[0] - 1])\n",
    "    elif total < -epsilon:\n",
    "        raise ValueError(\n",
    "            f\"Over-rotated: {total}. I don't think this should happen.\"\n",
    "        )\n",
    "    else:\n",
    "        return coordinate\n",
    "\n",
    "def normalize_logspec_AC2(coordinate):\n",
    "    \"\"\"\n",
    "    Utility function for rotating a LogSpec tuple (targeting A_{C_2})\n",
    "    into its normal form.\n",
    "\n",
    "    Expects a sorted input in the range [0, 1].\n",
    "    \"\"\"\n",
    "    partially_normalized_coordinate = normalize_logspec_A(coordinate)\n",
    "    if partially_normalized_coordinate[1] >= \\\n",
    "            -partially_normalized_coordinate[2]:\n",
    "        return partially_normalized_coordinate\n",
    "    else:\n",
    "        return [partially_normalized_coordinate[2] + 1 / 2,\n",
    "                partially_normalized_coordinate[3] + 1 / 2,\n",
    "                partially_normalized_coordinate[0] - 1 / 2,\n",
    "                partially_normalized_coordinate[1] - 1 / 2]\n",
    "    \n",
    "def rho(coordinate):\n",
    "    return [coordinate[2] + 1 / 2, \n",
    "            coordinate[3] + 1 / 2, \n",
    "            coordinate[0] - 1 / 2,\n",
    "            coordinate[1] - 1 / 2]"
   ]
  },
  {
   "cell_type": "markdown",
   "metadata": {},
   "source": [
    "**Definition 21.** The extremal points of the polytope $\\overline{\\mathfrak{U}_{C_2}}$ lie at the following coordinates:\n",
    "\n",
    "\\begin{align*}\n",
    "\\Pi(\\text{I}) &= e_1 = (0, 0, 0, 0) \\\\\n",
    "\\Pi(\\text{CZ}) &= e_2 = \\left(\\frac{1}{4}, \\frac{1}{4}, -\\frac{1}{4}, -\\frac{1}{4}\\right), \\\\\n",
    "\\Pi(i\\text{SWAP}) &= e_3 = \\left(\\frac{1}{2}, 0, 0, -\\frac{1}{2}\\right), \\\\\n",
    "\\Pi(\\text{SWAP}) &=e_4 = \\left(\\frac{1}{4}, \\frac{1}{4}, \\frac{1}{4}, -\\frac{1}{4}\\right), \\\\\n",
    "\\Pi(\\sqrt{\\text{SWAP}}) &= e_5 = \\left(\\frac{3}{8}, \\frac{3}{8}, -\\frac{1}{8}, -\\frac{5}{8} \\right), \\\\\n",
    "\\rho(e_5) &= e_6 = \\left(\\frac{3}{8}, -\\frac{1}{8}, -\\frac{1}{8}, -\\frac{1}{8}\\right).\n",
    "\\end{align*}\n",
    "\n",
    "These coordinates gives the vertex representation of the convex polytope $\\overline{\\mathfrak{U}_{C_2}}$ (see wikipedia \"Convex polytope\"). The subspace of $\\mathfrak{U}_{C_2}$ of $\\overline{\\mathfrak{U}_{C_2}}$ is given by deleting the subspace of convex combinations of $e_2, e_3$ and $e_6$ in which $e_6$ carries a nonzero coefficient.\n",
    "\n",
    "**Definition 22.** For $r, k >0$ positive integers, let $\\mathcal{Q}_{r, k}$ denote the following set of sequences (non-negative decreasing sequence of length $r$ bounded above by $k$): \n",
    "\n",
    "$$\\mathcal{Q}_{r, k} = \\{(I_1, ..., I_r) \\in \\mathbb{Z}^r \\ | \\ k \\geq I_1 \\geq ...\\geq I_r \\geq 0\\}.$$\n",
    "\n",
    "\n",
    "\n",
    "**Theorem 23.** Let $U_1, U_2, U_3 \\in SU(n)$ satisfy $U_1U_2 = U_3$ (or $U_1U_2U_3^\\dagger = I$), and let\n",
    "\n",
    "\\begin{align*}\n",
    "\\alpha_\\ast &= \\text{LogSpec } U_1, \\\\\n",
    "\\beta_\\ast &= \\text{LogSpec } U_2, \\\\\n",
    "\\gamma_\\ast &= \\text{LogSpec } U_3\n",
    "\\end{align*}\n",
    "\n",
    "be the associated logarithmic spectra.\n",
    "\n",
    "Select $r, k>0$ satisfying $r+k = n$, select sequences $a, b, c \\in \\mathcal{Q}_{r, k}$, and take number $d \\geq 0$ so that the associated quantum Littlewood-Richardson coefficient $N^{c, d}_{ab}(r, k)$ satisfies $N^{c, d}_{ab}(r, k) = 1.$ The following inequality then holds:\n",
    "\n",
    "$$d-\\sum_{i=1}^r \\alpha_{k+i-a_i} - \\sum_{i=1}^r\\beta_{k+i-b_i} + \\sum_{i=1}^r\\delta_{k+i-c_i} \\geq0.$$\n",
    "\n",
    "where $a_i$ denotes the $i^\\text{th}$ entry of $a$ and $\\alpha_j$ denotes the $j^\\text{th}$ entry of $\\alpha$. We define the monodromy polytope (for $SU(n)$) to be the polytope determined by all such inequalities.  Note that there is a further symmetry relation $N^{c, d}_{ab}(r, k) = N^{c, d}_{ba}(r, k).$\n",
    "\n",
    "Conversely, given alcove sequences $\\alpha_\\ast, \\beta_\\ast, \\delta_\\ast$ which belong to the monodromy polytope, then there must exists $U_1, U_2, U_3$ satisfying $U_1U_2 = U_3$ and \n",
    "\n",
    "\\begin{align*}\n",
    "\\alpha_\\ast &= \\text{LogSpec } U_1 \\\\\n",
    "\\beta_\\ast &= \\text{LogSpec } U_2 \\\\\n",
    "\\gamma_\\ast &= \\text{LogSpec } U_3 \\\\\n",
    "\\end{align*}\n",
    "\n",
    "The \"monodromy polytope\" is just the polytope for $SU(n)$, we need to do special analysis to get polytope of  accessible space for specific gate set"
   ]
  },
  {
   "cell_type": "code",
   "execution_count": 3,
   "metadata": {},
   "outputs": [],
   "source": [
    "delta = [symbols(f\"delta_{i+1}\") for i in range(4)]\n",
    "\n",
    "def ineq(a, b, c, d, r, k, alpha, beta):\n",
    "    inequality = d - sum([alpha[k+i-a[i]] for i in range(r)]) - sum([beta[k+i-b[i]] for i in range(r)]) + sum([delta[k+i-c[i]] for i in range(r)])\n",
    "    \n",
    "    return inequality"
   ]
  },
  {
   "cell_type": "code",
   "execution_count": 4,
   "metadata": {},
   "outputs": [
    {
     "data": {
      "text/latex": [
       "$\\displaystyle \\delta_{2} + \\delta_{3}$"
      ],
      "text/plain": [
       "delta_2 + delta_3"
      ]
     },
     "execution_count": 4,
     "metadata": {},
     "output_type": "execute_result"
    }
   ],
   "source": [
    "ineq(a = (1, 0), b = (2, 1), c = (1, 1), d = 0, r = 2, k = 2, alpha = (1/4, 1/4, -1/4, -1/4), beta = (1/4, 1/4, -1/4, -1/4))"
   ]
  },
  {
   "cell_type": "markdown",
   "metadata": {},
   "source": [
    "**Example 24.** Using the table of quantum Littlewood-Richardson coefficients in Figure 3, we compute the inequalities of the monodromy polytope of $PU(2)$:\n",
    "\n",
    "Note that $PU(2) \\cong SU(2)/C_2$ but under $\\Pi$, $\\Pi(PU(2)) \\hookrightarrow SU(2)$. So in this example, there's no distinction between monodromy polytope for $PU(2)$ and $SU(2)$.\n",
    "\n",
    "![IMG_EE8C9D829B68-1.jpeg](attachment:IMG_EE8C9D829B68-1.jpeg)\n",
    "\n",
    "Since $n=2$, we have that $r, k = 1$.\n",
    "\n",
    "- The first row gives us $\\delta_2\\geq \\alpha_2+\\beta_2.$\n",
    "\n",
    "- The second row gives $\\delta_1 \\geq \\alpha_1 + \\beta_2$\n",
    "\n",
    "- Switching $a$ and $b$ gives us $\\delta_1 \\geq \\alpha_2 + \\beta_1$.\n",
    "\n",
    "- The third row gives us $\\delta_2 \\geq -1 + \\alpha_1 + \\beta_1.$\n",
    "\n",
    "To put these inequalities in terms of $\\alpha_1, \\beta_1, \\delta_1 \\geq 0$, recall that $\\alpha_1 +\\alpha_2 = 0$ since we are working with $SU(n)$.\n",
    "\n",
    "- $\\delta_1 \\leq \\alpha_1 + \\beta_1$ \n",
    "- $\\delta_1 \\geq \\alpha_1 - \\beta_1$\n",
    "- $\\delta_1 \\geq -\\alpha_1 + \\beta_1$\n",
    "- $\\delta_1 \\leq 1- (\\alpha_1 + \\beta_1).$\n",
    "\n",
    "Compactly, we have\n",
    "\n",
    "$$|\\alpha_1 - \\beta_1| \\leq \\delta_1 \\leq \\frac{1}{2} - \\left|\\alpha_1 + \\beta_1 -\\frac{1}{2}\\right|.$$\n",
    "\n",
    "So if we fix $\\alpha$ and $\\beta$, then $\\delta$ will be restricted. If not, we get all of $SU(2)$. Accessible spaces of gatesets are just slices of the monodromy polytopes.\n",
    "\n",
    "To study two-qubit programs, we have want to employ a variant of Theorem 23 that apply to $SU(4) / C_2$.\n",
    "\n",
    "$$\\Pi: PU(4) \\xrightarrow{\\gamma^{Q}} SU(4)/C_2 \\xrightarrow{\\text{LogSpec}} \\mathfrak{U}_{C_2}.$$\n",
    "\n",
    "**Corollary 25.** Theorem 23 holds for $SU(4)/C_2$, under the condition that the indicated family of inequalties all simultaneously hold either for $\\delta_+ = \\text{LogSpec }U_3$ or for $\\delta_- = \\rho(\\text{LogSpec }U_3)$, which is to say, we choose the $\\delta$ accordingly.\n",
    "\n",
    "For $U_1U_2 \\equiv (-1)^jU_3$, if $j$ is even then we use $\\delta_+$ else if $j$ is odd we use $\\delta_-$.\n",
    "\n",
    "Theorem 23 and Corollary 25 solves Problem 10.1 (2 two-qubit gates). We can bootstrap it to solve Problem 8.1.\n",
    "\n",
    "**Corollary 26.** Let $\\mathcal{S}$ be a gate set whose image through $\\Pi$ is a (finite) union of convex polytopes. The image of $P_\\mathcal{S}^n$ through $\\Pi$ is then also a (finite) union of convex polytopes.\n",
    "\n",
    "*Proof.* We use induction. \n",
    "\n",
    "Suppose $\\Pi(P^1_\\mathcal{S})$ is union of convex polytope described by inequalities $\\alpha_1, ..., \\alpha_4$ and $\\Pi(P^{n-1}_\\mathcal{S})$ is a union of convex polytope described by inequalities $\\beta_1, ..., \\beta_4$. This is because both $\\Pi(P^1_\\mathcal{S})$ and $\\Pi^{n-1}_{\\mathcal{S}}$ are subsets of $\\mathfrak{U}_{C_2}$, and thus are four dimensional. \n",
    "\n",
    "Pick a pair of polytope componenets of $\\Pi(P^1_\\mathcal{S})$ and of $\\Pi(P^{n-1}_\\mathcal{S})$. Let $\\alpha_1, ..., \\alpha_4$ be coordinates of $\\text{LogSpec} U_1$ and $\\beta_1, ..., \\beta_4$ be coordinates of $\\text{LogSpec} U_2$. The monodromy polytope gives us the 12-dimensional convex polytope with $\\alpha_\\ast$, $\\beta_\\ast, \\delta_\\ast$, along with the pre-existing constraints amongst $\\alpha_i$ and $\\beta_j$. Now we project this polytope onto $\\delta_\\ast$ by Fourier-Motzkin to get one component of $\\Pi(P_\\mathcal{S}^n)$. The projection of a polytope is a polytope and so indeed $\\Pi(P^n_{\\mathcal{S}})$ is a union of convex polytopes.\n",
    "\n",
    "*Remark 27.* For a gate set $\\mathcal{S}$ of interest to us, it is often the case that $\\mathcal{S}$ appears as a subset of $P_\\mathcal{S}^2$. This condition entails the nesting properties $P_\\mathcal{S}^n \\subseteq P_\\mathcal{S}^{n+1}$ and $\\Pi(P_\\mathcal{S}^n) \\subseteq \\Pi(P_\\mathcal{S}^{n+1})$ for $n \\geq 2$.\n",
    "\n",
    "Given a circuit of size $n$, we take the last gate and turn it into two gates by since $\\mathcal{S} \\subseteq P_\\mathcal{S}^2$. Then we have a circuit of size $n+1$.\n",
    "\n",
    "**Definition 28.** By Corollary 26, we know the sets $\\Pi(P_\\mathcal{S}^n)$ to be unions of polytopes, which have easily calculable volumes. Since $\\mathcal{L}_\\mathcal{S}$ is constant on fibers of $\\Pi$ (this means that for all elements in $\\Pi(SU(n))$, the minimal circuit of all elements of the preimage of some elements in the image has the same length), we propose the following alternative definition:\n",
    "\n",
    "\\begin{align*}\\langle \\mathcal{L}_\\mathcal{S}^{\\mathfrak{U}_{C_2}} \\rangle\n",
    "&= \\int_{x \\in \\mathfrak{U}_{C_2}} \\mathcal{L}_\\mathcal{S}(\\Pi^{-1}(x))dx \\\\\n",
    "&= \\sum_{n = 0}^\\infty n\\cdot \\text{vol}^{\\mathfrak{U}_{C_2}}\\left( \\Pi\\left(\\mathcal{L}_\\mathcal{S}^{-1}(n)\\right)\\right) \\\\\n",
    "&= \\sum_{n=0}^\\infty n \\cdot \\text{vol}^{\\mathfrak{U}_{C_2}}\\left(\\Pi(P_\\mathcal{S}^n) \\setminus \\bigcup_{j=0}^{n-1} \\Pi(P_\\mathcal{S}^j)\\right),\n",
    "\\end{align*}\n",
    "\n",
    "where $\\text{vol}^ {\\mathfrak{U}_{C_2}}$ indicates the Euclidean volume as a subset of the polytope $\\mathfrak{U}_{C_2}$, normalized so that $\\mathfrak{U}_{C_2}$ itself has unit volume.\n",
    "\n",
    "### 4. Monodromy polytope slices for the standard gates\n",
    "\n",
    "#### 4.1 The $\\text{CZ}$ Gate\n",
    "\n",
    "The sets $\\Pi(P^0_\\text{CZ})$ and $\\Pi(P_\\text{CZ}^1)$ are singletons and hence automatically convex polytopes:\n",
    "\n",
    "$$\\Pi(P^0_\\text{CZ}) = e_1 ,\\quad \\Pi(P^1_\\text{CZ}) = e_2.$$\n",
    "\n",
    "**Lemma 29.** The convex polytope $\\Pi(P^2_\\text{CZ})$ is described by\n",
    "\n",
    "$\\{(\\delta_1, \\delta_2, \\delta_3, \\delta_4) \\ | \\ \\delta_1 = -\\delta_4, \\delta_2 = -\\delta_3 \\}.$\n",
    "\n",
    "The extremal points of $\\Pi(P_\\text{CZ}^2)$ are $\\{e_1, e_2, e_3\\}$, with circuit realizations given Figure 16.\n",
    "\n",
    "*Proof.* Using the quantum Littlewood-Richardson coefficients\n",
    "\n",
    "$$N^{(2,0), 0}_{(1, 0)(1, 0)} (2, 2) = 1, \\quad N^{(1, 1), 0}_{(1, 0)(1, 0)}(2, 2) = 1$$\n",
    "\n",
    "we apply Theorem 23 to deduce the inequalities $\\delta_1+\\delta_4 \\geq 0$ and $\\delta_2+\\delta_3 \\geq 0$.\n",
    "\n",
    "Because of the additional constraint $\\delta_1 +... +\\delta_4 = 0$, we have that $\\delta_1 = -\\delta_4$ and $\\delta_2 = -\\delta_3$.\n",
    "\n",
    "Each of the above set is three dimensional and their intersection is minimal so it is two dimensional, as such, we have a hyperplane passing through three of the extremal vertices of $\\mathfrak{U}_{C_2}$. Since the convex polytope $\\Pi(P^2_\\text{CZ})$ is the intersection of more inequalities, $\\Pi(P^2_\\text{CZ})$ is inside the convex hull of the vertices. To show inclusion, we produce the circuit of the vertices. Then, we check that the unitary matrix produced by the circuit works for $j=1$ with respect to Corollary 24. That is Theorem 23 is true for $b_\\ast$ and not exclusively $\\rho(b_\\ast)$. In our case, observe that $\\rho(e_1) = e_1$ and $\\rho(e_2) = e_2$, $\\rho(e_3) = e_3$. As such, Theorem 23 is true for both and thus these vertices belong to the same polytope ($\\mathfrak{U}_{C_2}$). This means that we can apply our convex hull argument. Furthermore, since $\\rho$ is symmetric for all the vertices of our polytope, it is symmetric for all elements of the convex hull by Lemma 17.5."
   ]
  },
  {
   "cell_type": "code",
   "execution_count": 21,
   "metadata": {},
   "outputs": [
    {
     "name": "stdout",
     "output_type": "stream",
     "text": [
      "[0.0, 0.0, 0.0, 0.0]\n"
     ]
    },
    {
     "data": {
      "image/png": "[encoded data removed]",
      "text/plain": [
       "<Figure size 267.052x144.48 with 1 Axes>"
      ]
     },
     "execution_count": 21,
     "metadata": {},
     "output_type": "execute_result"
    }
   ],
   "source": [
    "from qiskit import *\n",
    "from qiskit.quantum_info import Operator\n",
    "import matplotlib.pyplot as plt\n",
    "\n",
    "# Circuit for e1\n",
    "circ = QuantumCircuit(2)\n",
    "circ.cz(0, 1)\n",
    "circ.cz(0, 1)\n",
    "circ.ry(np.pi/2, 1)\n",
    "\n",
    "e1 = Operator(circ.reverse_bits()).data\n",
    "print(Pi(e1))\n",
    "\n",
    "circ.draw('mpl')"
   ]
  },
  {
   "cell_type": "code",
   "execution_count": 22,
   "metadata": {},
   "outputs": [
    {
     "name": "stdout",
     "output_type": "stream",
     "text": [
      "[0.25, 0.25, -0.25, -0.25]\n"
     ]
    },
    {
     "data": {
      "image/png": "[encoded data removed]",
      "text/plain": [
       "<Figure size 327.252x144.48 with 1 Axes>"
      ]
     },
     "execution_count": 22,
     "metadata": {},
     "output_type": "execute_result"
    }
   ],
   "source": [
    "#Circuit for e2\n",
    "circ = QuantumCircuit(2)\n",
    "circ.cz(0, 1)\n",
    "circ.rx(np.pi/2, 1)\n",
    "circ.cz(0, 1)\n",
    "circ.ry(np.pi/2, 1)\n",
    "\n",
    "e2 = Operator(circ.reverse_bits()).data\n",
    "print(Pi(e2))\n",
    "\n",
    "circ.draw('mpl')"
   ]
  },
  {
   "cell_type": "code",
   "execution_count": 23,
   "metadata": {},
   "outputs": [
    {
     "name": "stdout",
     "output_type": "stream",
     "text": [
      "[0.49999999999999994, 0.0, 0.0, -0.5]\n"
     ]
    },
    {
     "data": {
      "image/png": "[encoded data removed]",
      "text/plain": [
       "<Figure size 327.252x144.48 with 1 Axes>"
      ]
     },
     "execution_count": 23,
     "metadata": {},
     "output_type": "execute_result"
    }
   ],
   "source": [
    "#Circuit for e3\n",
    "circ = QuantumCircuit(2)\n",
    "circ.cz(0, 1)\n",
    "circ.rx(np.pi/2, [0, 1])\n",
    "circ.cz(0, 1)\n",
    "circ.ry(np.pi/2, 1)\n",
    "\n",
    "e3 = Operator(circ.reverse_bits()).data\n",
    "print(Pi(e3))\n",
    "\n",
    "circ.draw('mpl')"
   ]
  },
  {
   "cell_type": "markdown",
   "metadata": {},
   "source": [
    "**Lemma 31.** It is automatic that we have $\\Pi(P_\\text{CZ}^3) \\subseteq \\mathfrak{U}_{C_2}$. In order to show that opposite inclusion, we need to supply the necessary realizations (with the necessary mirroring property, as in the proof of Lemma 29). One may check directly that the circuits in Figure 17 will do."
   ]
  },
  {
   "cell_type": "code",
   "execution_count": 27,
   "metadata": {},
   "outputs": [
    {
     "name": "stdout",
     "output_type": "stream",
     "text": [
      "[4.9977595182166055e-17, 3.533949646070575e-17, 0.0, 0.0]\n"
     ]
    },
    {
     "data": {
      "image/png": "[encoded data removed]",
      "text/plain": [
       "<Figure size 387.452x144.48 with 1 Axes>"
      ]
     },
     "execution_count": 27,
     "metadata": {},
     "output_type": "execute_result"
    }
   ],
   "source": [
    "# Circuit for e1\n",
    "circ = QuantumCircuit(2)\n",
    "circ.cz(0, 1)\n",
    "circ.ry(np.pi/2, 1)\n",
    "circ.cz(0, 1)\n",
    "circ.rx(np.pi/2, 1)\n",
    "circ.cz(0, 1)\n",
    "\n",
    "e1 = Operator(circ.reverse_bits()).data\n",
    "print(Pi(e1))\n",
    "\n",
    "circ.draw('mpl')"
   ]
  },
  {
   "cell_type": "code",
   "execution_count": 28,
   "metadata": {},
   "outputs": [
    {
     "name": "stdout",
     "output_type": "stream",
     "text": [
      "[0.25000000000000006, 0.25000000000000006, -0.25, -0.25]\n"
     ]
    },
    {
     "data": {
      "image/png": "[encoded data removed]",
      "text/plain": [
       "<Figure size 387.452x144.48 with 1 Axes>"
      ]
     },
     "execution_count": 28,
     "metadata": {},
     "output_type": "execute_result"
    }
   ],
   "source": [
    "# Circuit for e2\n",
    "circ = QuantumCircuit(2)\n",
    "circ.cz(0, 1)\n",
    "circ.rx(np.pi, 1)\n",
    "circ.cz(0, 1)\n",
    "circ.ry(np.pi/2, 1)\n",
    "circ.cz(0, 1)\n",
    "\n",
    "e2 = Operator(circ.reverse_bits()).data\n",
    "print(Pi(e2))\n",
    "\n",
    "circ.draw('mpl')"
   ]
  },
  {
   "cell_type": "code",
   "execution_count": 29,
   "metadata": {},
   "outputs": [
    {
     "name": "stdout",
     "output_type": "stream",
     "text": [
      "[0.5, 4.7964265002741184e-17, 0.0, -0.5]\n"
     ]
    },
    {
     "data": {
      "image/png": "[encoded data removed]",
      "text/plain": [
       "<Figure size 387.452x144.48 with 1 Axes>"
      ]
     },
     "execution_count": 29,
     "metadata": {},
     "output_type": "execute_result"
    }
   ],
   "source": [
    "# Circuit for e3\n",
    "circ = QuantumCircuit(2)\n",
    "circ.cz(0, 1)\n",
    "circ.rx(np.pi/2, 0)\n",
    "circ.rx(np.pi, 1)\n",
    "circ.cz(0, 1)\n",
    "circ.ry(np.pi/2, 1)\n",
    "circ.cz(0, 1)\n",
    "\n",
    "e3 = Operator(circ.reverse_bits()).data\n",
    "print(Pi(e3))\n",
    "\n",
    "circ.draw('mpl')"
   ]
  },
  {
   "cell_type": "code",
   "execution_count": 30,
   "metadata": {},
   "outputs": [
    {
     "name": "stdout",
     "output_type": "stream",
     "text": [
      "[0.25, 0.25, 0.25, -0.75]\n"
     ]
    },
    {
     "data": {
      "image/png": "[encoded data removed]",
      "text/plain": [
       "<Figure size 387.452x144.48 with 1 Axes>"
      ]
     },
     "execution_count": 30,
     "metadata": {},
     "output_type": "execute_result"
    }
   ],
   "source": [
    "# Circuit for e4\n",
    "circ = QuantumCircuit(2)\n",
    "circ.cz(0, 1)\n",
    "circ.rx(np.pi/2, 0)\n",
    "circ.rx(np.pi/2, 1)\n",
    "circ.cz(0, 1)\n",
    "circ.rx(np.pi/2, 0)\n",
    "circ.rx(np.pi/2, 1)\n",
    "circ.cz(0, 1)\n",
    "\n",
    "e4 = Operator(circ.reverse_bits()).data\n",
    "print(Pi(e4))\n",
    "\n",
    "circ.draw('mpl')"
   ]
  },
  {
   "cell_type": "code",
   "execution_count": 35,
   "metadata": {},
   "outputs": [
    {
     "name": "stdout",
     "output_type": "stream",
     "text": [
      "[0.375, 0.375, -0.125, -0.625]\n"
     ]
    },
    {
     "data": {
      "image/png": "[encoded data removed]",
      "text/plain": [
       "<Figure size 447.652x144.48 with 1 Axes>"
      ]
     },
     "execution_count": 35,
     "metadata": {},
     "output_type": "execute_result"
    }
   ],
   "source": [
    "# Circuit for e5\n",
    "circ = QuantumCircuit(2)\n",
    "circ.cz(0, 1)\n",
    "circ.ry(-np.pi/4, 0)\n",
    "circ.rx(np.pi/2, 1)\n",
    "circ.rz(-np.pi/4, 1)\n",
    "circ.cz(0, 1)\n",
    "circ.ry(-3*np.pi/4, 0)\n",
    "circ.rx(-np.pi/2, 1)\n",
    "circ.cz(0, 1)\n",
    "\n",
    "e5 = Operator(circ.reverse_bits()).data\n",
    "print(Pi(e5))\n",
    "\n",
    "circ.draw('mpl')"
   ]
  },
  {
   "cell_type": "markdown",
   "metadata": {},
   "source": [
    "**Corollary 35.** The expected circuit depth for $CZ$ is $\\langle\\mathcal{L}_\\text{CZ}\\rangle = 3$."
   ]
  },
  {
   "cell_type": "markdown",
   "metadata": {
    "heading_collapsed": true
   },
   "source": [
    "#### 4.2 The $i\\text{SWAP}$ gate"
   ]
  },
  {
   "cell_type": "markdown",
   "metadata": {
    "hidden": true
   },
   "source": [
    "Now we prove analogous results for the gate set $S = \\{iSWAP\\}$. We will be briefer in the aspects that exactly mimic those for the gate $\\text{CZ}$.\n",
    "\n",
    "The sets $\\Pi(P_{i\\text{SWAP}}^0) $ and $\\Pi(P_{i\\text{SWAP}}^1) $ are again singletons:\n",
    "\n",
    "$$ \\Pi(P_{i\\text{SWAP}}^0)  = e_1 , \\quad \\Pi(P_{i\\text{SWAP}}^1)  = e_3 .$$"
   ]
  },
  {
   "cell_type": "markdown",
   "metadata": {
    "hidden": true
   },
   "source": [
    "**Lemma 36.** $\\Pi(P_\\text{iSWAP}^2)$ is described by\n",
    "\n",
    "$$\\Pi(P_{i\\text{SWAP}}^2) - \\{\\delta_\\ast \\in \\mathfrak{U}_{C_2} \\ | \\ \\delta_1 = -\\delta_4, \\delta_2 = -\\delta_3\\}.$$\n",
    "\n",
    "The extremal points of $\\Pi(P_{i\\text{SWAP}}^2) $ are $\\{e_1, e_2, e_3$ with circuit realizations given as Figure 18.\n",
    "\n",
    "*Proof.* This proof entirely mimics that of Lemma 29, but this time the relevant quantum Littlewood-Richardson coefficients are \n",
    "\n",
    "$$N^{(2, 0), 0}_{(0, 0), (2, 0)} (2, 2) = 1, \\quad N^{(1, 1), 0}_{(1, 0), (2, 1)}(2, 2)=1.$$"
   ]
  },
  {
   "cell_type": "code",
   "execution_count": 42,
   "metadata": {
    "hidden": true
   },
   "outputs": [
    {
     "name": "stdout",
     "output_type": "stream",
     "text": [
      "[0.0, 0.0, 0.0, 0.0]\n"
     ]
    },
    {
     "data": {
      "image/png": "[encoded data removed]",
      "text/plain": [
       "<Figure size 327.252x144.48 with 1 Axes>"
      ]
     },
     "execution_count": 42,
     "metadata": {},
     "output_type": "execute_result"
    }
   ],
   "source": [
    "# Circuit for e1\n",
    "circ = QuantumCircuit(2)\n",
    "circ.iswap(0, 1)\n",
    "circ.iswap(0, 1)\n",
    "\n",
    "e1 = Operator(circ.reverse_bits()).data\n",
    "print(Pi(e1))\n",
    "\n",
    "circ.draw('mpl')"
   ]
  },
  {
   "cell_type": "code",
   "execution_count": 43,
   "metadata": {
    "hidden": true
   },
   "outputs": [
    {
     "name": "stdout",
     "output_type": "stream",
     "text": [
      "[0.25, 0.25, -0.25, -0.25]\n"
     ]
    },
    {
     "data": {
      "image/png": "[encoded data removed]",
      "text/plain": [
       "<Figure size 387.452x144.48 with 1 Axes>"
      ]
     },
     "execution_count": 43,
     "metadata": {},
     "output_type": "execute_result"
    }
   ],
   "source": [
    "# Circuit for e2\n",
    "circ = QuantumCircuit(2)\n",
    "circ.iswap(0, 1)\n",
    "circ.rx(np.pi/2, 1)\n",
    "circ.iswap(0, 1)\n",
    "\n",
    "e2 = Operator(circ.reverse_bits()).data\n",
    "print(Pi(e2))\n",
    "\n",
    "circ.draw('mpl')"
   ]
  },
  {
   "cell_type": "code",
   "execution_count": 45,
   "metadata": {
    "hidden": true
   },
   "outputs": [
    {
     "name": "stdout",
     "output_type": "stream",
     "text": [
      "[0.5, 0.0, 0.0, -0.5]\n"
     ]
    },
    {
     "data": {
      "image/png": "[encoded data removed]",
      "text/plain": [
       "<Figure size 387.452x144.48 with 1 Axes>"
      ]
     },
     "execution_count": 45,
     "metadata": {},
     "output_type": "execute_result"
    }
   ],
   "source": [
    "# Circuit for e3\n",
    "circ = QuantumCircuit(2)\n",
    "circ.iswap(0, 1)\n",
    "circ.rx(np.pi/2, 0)\n",
    "circ.rx(np.pi/2, 1)\n",
    "circ.iswap(0, 1)\n",
    "\n",
    "e3 = Operator(circ.reverse_bits()).data\n",
    "print(Pi(e3))\n",
    "\n",
    "circ.draw('mpl')"
   ]
  },
  {
   "cell_type": "markdown",
   "metadata": {
    "hidden": true
   },
   "source": [
    "**Lemma 37.** $\\Pi(P_{i\\text{SWAP}}^3) = \\mathfrak{U}_{C_2}$, with realizations of the extremal vertices as circuits given in Figure 19.\n",
    "\n",
    "Proof. Again, the proof is almost identical to that of Lemma 31.|"
   ]
  },
  {
   "cell_type": "code",
   "execution_count": 46,
   "metadata": {
    "hidden": true
   },
   "outputs": [
    {
     "name": "stdout",
     "output_type": "stream",
     "text": [
      "[0.0, 0.0, 0.0, -5.551115123125783e-17]\n"
     ]
    },
    {
     "data": {
      "image/png": "[encoded data removed]",
      "text/plain": [
       "<Figure size 568.052x144.48 with 1 Axes>"
      ]
     },
     "execution_count": 46,
     "metadata": {},
     "output_type": "execute_result"
    }
   ],
   "source": [
    "# Circuit for e1\n",
    "circ = QuantumCircuit(2)\n",
    "circ.iswap(0, 1)\n",
    "circ.ry(np.pi/2, 0)\n",
    "circ.ry(np.pi/2, 1)\n",
    "circ.iswap(0, 1)\n",
    "circ.rx(np.pi/2, 0)\n",
    "circ.rx(np.pi/2, 1)\n",
    "circ.iswap(0, 1)\n",
    "\n",
    "e1 = Operator(circ.reverse_bits()).data\n",
    "print(Pi(e1))\n",
    "\n",
    "circ.draw('mpl')"
   ]
  },
  {
   "cell_type": "code",
   "execution_count": 47,
   "metadata": {
    "hidden": true
   },
   "outputs": [
    {
     "name": "stdout",
     "output_type": "stream",
     "text": [
      "[0.25, 0.25, -0.24999999999999994, -0.25]\n"
     ]
    },
    {
     "data": {
      "image/png": "[encoded data removed]",
      "text/plain": [
       "<Figure size 568.052x144.48 with 1 Axes>"
      ]
     },
     "execution_count": 47,
     "metadata": {},
     "output_type": "execute_result"
    }
   ],
   "source": [
    "# Circuit for e2\n",
    "circ = QuantumCircuit(2)\n",
    "circ.iswap(0, 1)\n",
    "circ.rx(np.pi/2, 0)\n",
    "circ.ry(np.pi/2, 1)\n",
    "circ.iswap(0, 1)\n",
    "circ.rx(np.pi/2, 0)\n",
    "circ.rx(np.pi/2, 1)\n",
    "circ.iswap(0, 1)\n",
    "\n",
    "e2 = Operator(circ.reverse_bits()).data\n",
    "print(Pi(e2))\n",
    "\n",
    "circ.draw('mpl')"
   ]
  },
  {
   "cell_type": "code",
   "execution_count": 48,
   "metadata": {
    "hidden": true
   },
   "outputs": [
    {
     "name": "stdout",
     "output_type": "stream",
     "text": [
      "[0.5, 0.0, 0.0, -0.5]\n"
     ]
    },
    {
     "data": {
      "image/png": "[encoded data removed]",
      "text/plain": [
       "<Figure size 568.052x144.48 with 1 Axes>"
      ]
     },
     "execution_count": 48,
     "metadata": {},
     "output_type": "execute_result"
    }
   ],
   "source": [
    "# Circuit for e3\n",
    "circ = QuantumCircuit(2)\n",
    "circ.iswap(0, 1)\n",
    "circ.rx(np.pi/2, 0)\n",
    "circ.rx(np.pi/2, 1)\n",
    "circ.iswap(0, 1)\n",
    "circ.rx(np.pi/2, 0)\n",
    "circ.rx(np.pi/2, 1)\n",
    "circ.iswap(0, 1)\n",
    "\n",
    "e3 = Operator(circ.reverse_bits()).data\n",
    "print(Pi(e3))\n",
    "\n",
    "circ.draw('mpl')"
   ]
  },
  {
   "cell_type": "code",
   "execution_count": 49,
   "metadata": {
    "hidden": true
   },
   "outputs": [
    {
     "name": "stdout",
     "output_type": "stream",
     "text": [
      "[0.25000000000000006, 0.24999999999999997, 0.24999999999999997, -0.75]\n"
     ]
    },
    {
     "data": {
      "image/png": "[encoded data removed]",
      "text/plain": [
       "<Figure size 568.052x144.48 with 1 Axes>"
      ]
     },
     "execution_count": 49,
     "metadata": {},
     "output_type": "execute_result"
    }
   ],
   "source": [
    "# Circuit for e4\n",
    "circ = QuantumCircuit(2)\n",
    "circ.iswap(0, 1)\n",
    "circ.rx(-np.pi/2, 0)\n",
    "circ.iswap(0, 1)\n",
    "circ.rx(np.pi/2, 1)\n",
    "circ.iswap(0, 1)\n",
    "\n",
    "e4 = Operator(circ.reverse_bits()).data\n",
    "print(Pi(e4))\n",
    "\n",
    "circ.draw('mpl')"
   ]
  },
  {
   "cell_type": "code",
   "execution_count": 170,
   "metadata": {
    "hidden": true
   },
   "outputs": [
    {
     "name": "stdout",
     "output_type": "stream",
     "text": [
      "[0.375, 0.375, -0.125, -0.625]\n"
     ]
    },
    {
     "data": {
      "image/png": "[encoded data removed]",
      "text/plain": [
       "<Figure size 628.252x144.48 with 1 Axes>"
      ]
     },
     "execution_count": 170,
     "metadata": {},
     "output_type": "execute_result"
    }
   ],
   "source": [
    "# Circuit for e5\n",
    "circ = QuantumCircuit(2)\n",
    "circ.iswap(0, 1)\n",
    "\n",
    "circ.rx(np.pi/2, 0)\n",
    "circ.rz(-3*np.pi/4, 0)\n",
    "\n",
    "circ.ry(np.pi/4, 1)\n",
    "circ.rz(np.pi/2, 1)\n",
    "\n",
    "circ.iswap(0, 1)\n",
    "\n",
    "circ.ry(np.pi/4, 0)\n",
    "\n",
    "circ.ry(np.pi/2, 1)\n",
    "\n",
    "circ.iswap(0, 1)\n",
    "\n",
    "e5 = Operator(circ.reverse_bits()).data\n",
    "print(Pi(e5))\n",
    "\n",
    "circ.draw('mpl')"
   ]
  },
  {
   "cell_type": "markdown",
   "metadata": {
    "hidden": true
   },
   "source": [
    "*Remark 38.* Combining the results above with those from the previous subsection, we conclude\n",
    "\n",
    "$$P_\\text{CZ}^2 = P_{i\\text{SWAP}}, \\quad P_\\text{CZ}^3 = P_{i\\text{SWAP}}^3.$$"
   ]
  },
  {
   "cell_type": "markdown",
   "metadata": {
    "hidden": true
   },
   "source": [
    "**Corollary 39.** The expected circuit depth for $i\\text{SWAP}$ is $\\langle\\mathcal{L}_{i\\text{SWAP}}\\rangle = 3$."
   ]
  },
  {
   "cell_type": "markdown",
   "metadata": {
    "hidden": true
   },
   "source": [
    "**Lemma 42.** The set $\\Pi(P_{i\\text{SWAP,CZ}}^2)$ is the union of $\\Pi(P^2_{i\\text{SWAP}})$ and the convex polytope\n",
    "\n",
    "$$\\{\\delta_\\ast = (\\delta_1, \\delta_2, \\delta_3, \\delta_4) \\in \\mathfrak{U}_{C_2} \\ | \\ \\delta_1 = 1/2-\\delta_2, \\delta = -1/2 - \\delta_3 \\}.$$\n",
    "\n",
    "which has extremal vertices $\\{e_2, e_3, e_4\\}$. What probably happens, is that we have two planes, one passing through the $\\{e_1, e_2, e_3\\}$ and the other one passing through $\\{e_2, e_3, e_4\\}$. Then we can apply the convex hull for each of these planes."
   ]
  },
  {
   "cell_type": "markdown",
   "metadata": {
    "hidden": true
   },
   "source": [
    "**Corollary 43.** The expected depth for the gate set with CZ and $i$SWAP is $\\langle \\mathcal{L}_{\\text{CZ}, i\\text{SWAP}} \\rangle = 3.$\n",
    "\n",
    "*Remark 44.* The metrics $\\langle \\mathcal{L}_\\mathcal{S}$ \\rangle capture the efficacy of $\\mathcal{S}$ at encoding *random* two-qubit programs, but programs appearing \"in the wild\" (as well as subprograms appearing as components in decompositions) are not random: the program $\\text{SWAP} \\in PU(4)$ is a prime example of an uncommonly importantn two-qubit interaction. Althought the equation\n",
    "\n",
    "$$\\langle\\mathcal{L}_\\text{CZ}\\rangle = \\langle \\mathcal{L}_{i\\text{SWAP}}\\rangle = \\langle \\mathcal{L}_{\\text{CZ}, i\\text{SWAP}}\\rangle$$\n",
    "\n",
    "indicates that there is no salient difference between these two different gate sets from the perspective of random programs,\n",
    "\n",
    "$$\\text{SWAP} \\in P^2_{\\text{CZ}, i\\text{SWAP}} \\setminus P^2_\\text{CZ}$$\n",
    "\n",
    "indicates that there is an important difference from the persepctive of structured programs."
   ]
  },
  {
   "cell_type": "markdown",
   "metadata": {
    "hidden": true
   },
   "source": [
    "**Lemma 45.** For a point\n",
    "\n",
    "$$\\delta_\\ast \\in \\Pi(P_{i\\text{SWAP}, \\text{CZ}}^2) \\setminus \\Pi(P^2_{i\\text{SWAP}}),$$\n",
    "\n",
    "there are two entries satisfying\n",
    "\n",
    "$$-1/4 \\leq \\delta_i \\leq \\delta_j \\leq 1/4.$$\n",
    "\n",
    "Setting $\\alpha = (\\delta_i+\\delta_j)\\pi$ and $\\beta = (\\delta_i - \\delta_j) \\pi$, we then have\n",
    "\n",
    "$$\\delta_\\ast = \\Pi(\\text{CZ} \\cdot (Y_\\alpha \\otimes Y_\\beta) \\cdot i\\text{SWAP})).$$"
   ]
  },
  {
   "cell_type": "markdown",
   "metadata": {},
   "source": [
    "#### 4.3 The $\\text{CPHASE}$ and $\\text{PSWAP}$ gate families"
   ]
  },
  {
   "cell_type": "markdown",
   "metadata": {},
   "source": [
    "We have\n",
    "\n",
    "$$\\text{CPHASE}(\\theta) = \\begin{pmatrix} 1 & 0 & 0 & 0 \\\\ 0 & 1 & 0 & 0 \\\\ 0 & 0 & 1 & 0 \\\\ 0 & 0 & 0 & e^{i\\theta}\\end{pmatrix}, \\quad \\text{PSWAP}(\\theta) = \\begin{pmatrix} 1 & 0 & 0 & 0 \\\\ 0 & 0 & e^{i\\theta} & 0 \\\\ 0 & e^{i\\theta} & 0 & 0 \\\\ 0 & 0 & 0 & 1 \\end{pmatrix}.$$\n",
    "\n",
    "For completeness, note that \n",
    "\n",
    "$$\\text{CPHASE}(\\pi) = \\text{CZ}, \\quad \\text{PSWAP}(0) = \\text{SWAP}, \\quad \\text{PSWAP}(\\pi/2) = i\\text{SWAP}.$$"
   ]
  },
  {
   "cell_type": "markdown",
   "metadata": {},
   "source": [
    "**Lemma 46.** The convex polytope $\\Pi(P^2_\\text{CPHASE})$ agrees with $\\Pi(P^2_\\text{CZ})$ and with $\\Pi(P_{i\\text{SWAP}}^2).$\n",
    "\n",
    "*Proof.* The proof is identical to that given for Littlewood-Richardson coefficients imposed the same symmetry relation on $\\Pi(P_\\text{CPHASE}^2)$, and the reverse inclusion then follows from $P^2_\\text{CZ} \\subseteq P_\\text{CPHASE}^2$.\n",
    "\n",
    "$$N^{(2,0), 0}_{(1, 0)(1, 0)} (2, 2) = 1, \\quad N^{(1, 1), 0}_{(1, 0)(1, 0)}(2, 2) = 1.$$\n",
    "\n",
    "Specifically, the monodromy coordinates of $\\text{CPHASE}(\\theta)$ has the form \n",
    "\n",
    "$$\\Pi(\\text{CPHASE}(\\theta)) = (f(\\theta), f(\\theta), -f(\\theta), -f(\\theta)).$$\n",
    "\n",
    "We apply Theorem 23 to deduce the inequalities \n",
    "\n",
    "$$0 - (\\alpha_{2+1-1} + \\alpha_{2+2-0}) - (\\beta_{2+1-1} + \\beta_{2+2-0}) + (\\delta_{2+1-2} + \\delta_{2+2-0}) \\geq 0,$$\n",
    "\n",
    "$$0 - (\\alpha_{2+1-1} + \\alpha_{2+2-0}) - (\\beta_{2+1-1} + \\beta_{2+2-0}) + (\\delta_{2+1-1} + \\delta_{2+2-1}) \\geq 0,$$\n",
    "\n",
    "We deduce that $\\delta_1+\\delta_4 = 0$ and $\\delta_2+\\delta_3 = 0$.\n",
    "\n",
    "\n",
    "**Corollary 47.** The expected circuit depth for $\\text{CPHASE}$ is $\\langle \\mathcal{L}_\\text{CPHASE}\\rangle = 3$."
   ]
  },
  {
   "cell_type": "markdown",
   "metadata": {},
   "source": [
    "Similarly, there is no substantial gain from mixing $\\text{CPHASE}$ with $i\\text{SWAP}$ over $\\text{CZ}$ with $i\\text{SWAP}$."
   ]
  },
  {
   "cell_type": "markdown",
   "metadata": {},
   "source": [
    "**Lemma 48.** $P^2_{\\text{CZ}, i\\text{SWAP}} = P^2_{\\text{CPHASE}, i\\text{SWAP}}$, and $\\langle \\mathcal{L}_{\\text{CPHASE}, i\\text{SWAP}}\\rangle = 3.$"
   ]
  },
  {
   "cell_type": "markdown",
   "metadata": {},
   "source": [
    "*Example 49.* As an exercise in the application of these methods, we provide an analysis of the polytopes associated to $\\sqrt{\\text{CZ}} = \\text{CPHASE}_{\\frac{\\pi}{2}}.$ Since $\\sqrt{\\text{CZ}} \\cdot \\sqrt{\\text{CZ}} = \\text{CZ}$, we can deduce immediately from Corollary 35 that $\\langle \\mathcal{L}_\\sqrt{\\text{CZ}}\\rangle \\leq 6$. We enumerate the vertices of the sets $\\Pi(P^n_\\sqrt{\\text{CZ}})$ for $n<5$ in Figure 20, as displayed in graphical form in Figure 6. These yield the exact calculation\n",
    "\n",
    "$$\\langle \\mathcal{L}_\\sqrt{\\text{CZ}}\\rangle^{\\mathfrak{U}_{C_2}} = 3\\cdot \\frac{1}{2} + 4\\cdot \\frac{1}{3} + 5\\cdot \\frac{7}{48} + 6\\cdot \\frac{1}{48} = 3.6875,$$\n",
    "\n",
    "a considerable improvement over the naive estimate.\n",
    "\n",
    "For completeness, we include a calculation of $P^2_\\text{PSWAP}$."
   ]
  },
  {
   "cell_type": "markdown",
   "metadata": {},
   "source": [
    "**Lemma 50.** $P^2_\\text{PSWAP}$ agrees with the other depth-two sets studied so far:\n",
    "\n",
    "$$P^2_\\text{PSWAP} = P^2_{i\\text{SWAP}} = P^2_\\text{CZ} = P^2_\\text{CPHASE}.$$\n",
    "\n",
    "*Proof.* This proof proceeds similarly to that of Lemma 36. This time the relevant quantum Littlewood-Richardson coefficients are\n",
    "\n",
    "$$N^{(2, 0), 1}_{(2, 1)(2, 1)} (2, 2)=1 , \\quad N^{(1, 1), 1}_{(2, 1)(2, 1)}(2, 2) = 1.$$\n",
    "\n",
    "and $\\Pi(\\text{PSWAP}_{2\\pi t})$ is calculated to be\n",
    "\n",
    "$$\\left( \\frac{3}{4} - \\frac{t}{2}, -\\frac{1}{4} + \\frac{t}{2}, -\\frac{1}{4} + \\frac{t}{2}, -\\frac{1}{4}-\\frac{t}{2}\\right).$$\n",
    "\n",
    "An appication of Theorem 23 yields the inequalities which enforce the same symmetry conditions on $\\Pi(P^2_\\text{PSWAP})$ as in the previous Lemmas. Because we have $P^2_{i\\text{SWAP}} \\subseteq P^2_\\text{PSWAP}$, we may conclude the equality."
   ]
  },
  {
   "cell_type": "markdown",
   "metadata": {},
   "source": [
    "**Corollary 51.** The expected circuit depth for $\\text{PSWAP}$ is $\\langle \\mathcal{L}_\\text{PSWAP}\\rangle = 3.$"
   ]
  },
  {
   "cell_type": "markdown",
   "metadata": {},
   "source": [
    "### 5. Monodromy polytope slices for the $\\text{XY}$ family"
   ]
  },
  {
   "cell_type": "markdown",
   "metadata": {},
   "source": [
    "Combining the ideas which motivated $i\\text{SWAP}$ and $\\text{CPHASE}$, we are also motivated to consider the one-parameter family of native two qubit gates given by\n",
    "\n",
    "$$\\text{XY}_\\alpha = \\exp(-i\\alpha \\cdot (\\sigma_X^{\\otimes 2} + \\sigma_Y^{\\otimes 2})) = \\begin{pmatrix} 1 & 0 & 0 & 0 \\\\ 0 & \\cos(\\alpha/2) & -i\\sin(\\alpha/2) & 0 \\\\ 0 & -i\\sin(\\alpha/2) & \\cos(\\alpha/2) & 0 \\\\ 0 & 0 & 0 & 1 \\end{pmatrix}.$$\n",
    "\n",
    "This family is interesting for a few reasons: it is one of the only remaining \"edges\" of $\\mathfrak{U}$; it can arise naturally as a gate natively available to systems where $i\\text{SWAP}$ is available, and it itself belongs to the canonical family. Having noted that $\\text{XY}_\\alpha$ belongs to the canonical family, we may compute its associated diagonal coordinates to be\n",
    "\n",
    "$$\\text{XY}_\\alpha^Q = \\begin{pmatrix} 1 & 0 & 0 & 0 \\\\ 0 & e^{i\\alpha/2} & 0 & 0 \\\\ 0 & 0 & e^{-i\\alpha/2} & 0 \\\\ 0 & 0 & 0 & 1 \\end{pmatrix},$$\n",
    "\n",
    "$$\\Pi(\\text{XY}_\\alpha) = \\left(\\frac{\\alpha}{2\\pi}, 0, 0, -\\frac{\\alpha}{2\\pi}\\right).$$\n",
    "\n",
    "In pursuit of an analogue of the results of Section 4.3, we can perform an analysis of the polytope $\\Pi(P^2_{\\text{XY}}).$ The computation is much more involved, but we are rewarded with the follwoing theorem:\n",
    "\n",
    "**Theorem 52.** The set $\\Pi(P^2_\\text{XY})$ is the union of the polytopes with extremal coordinates as specified in Figure 21. The set $\\Pi(P^3_\\text{XY})$ is the entire solid $\\mathfrak{U}_{C_2}$.\n",
    "\n",
    "*Proof.* We compute along the lines of Remark 30: we intersect the monodromy polytope with the hyperplane equations specifying that the first coordinate take the form $(\\alpha_1, 0, 0, -\\alpha_1)$ and that the second coordinate take the form $(\\beta_1, 0, 0, -\\beta_1)$; then we apply Fourier-Motzkin elimination to project to the third coordinate; and finally we feed the resulting system to software package $lrs$. Altogether, this results in the vertex set listed above.\n",
    "\n",
    "**Corollary 53.** In particular, $\\Pi(P^2_\\text{XY})$ is of positive volume. More precisely, we compute the expected gate depth for $\\text{XY}$ to be\n",
    "\n",
    "$$\\langle \\mathcal{L}_\\text{XY}\\rangle^{\\mathfrak{U}_{C_2}} = 2\\cdot \\frac{5}{6} + 3\\cdot \\frac{1}{6} = \\frac{13}{6}.$$\n",
    "\n",
    "*Remark 54.* As an interesting aside, $\\text{SWAP}$ lies outside of this polytope.\n",
    "\n",
    "Our main observation is that $\\text{XY}$ enjoys a property that none of the other gate sets have thus far: $P^2_\\text{XY}$ is top-dimensional or, said otherwise, has positive volume. In the $\\text{CPHASE}$ family, we found in Lemma 46 that $P^2_\\text{CPHASE}$ had zero volume, from which we can also conclude that $P^2_{\\text{CPHASE}_\\alpha}$ has zero volume for every fixed of $\\alpha$, including $\\text{CPHASE}_\\pi = \\text{CZ}$. we here pursue the corresponding question of whether there are any fixed values of $\\alpha$ for which $P^2_\\text{XY}$ has nonzero volume. In the event that such slices exist, we can ask an additional question: which particular values of $\\alpha$ maximize the volume of the slice?\n",
    "\n",
    "Fix $\\leq \\alpha < \\pi$ with corresponding value $t = \\alpha/\\pi$ satisfying $0\\leq t<1$. The fundamental alcove sequences under consideration are then\n",
    "\n",
    "$$\\alpha_\\ast = (t/2, 0, 0, -t/2),$$\n",
    "$$\\beta_\\ast = (t/2, 0, 0, -t/2),$$\n",
    "$$\\delta_\\ast = (\\delta_1 \\geq \\delta_2 \\geq \\delta_3 \\geq \\delta_4),$$\n",
    "\n",
    "and the inequalities given by combining Theorem 23 with Figure 14 adn the above alcove sequences are\n",
    "\n",
    "\\begin{align}\\delta_4  + t &\\geq 0, \\quad \\delta_3 + \\delta_4 + t\\geq 0, \\\\\n",
    "-\\delta_1 + t&\\geq 0, \\quad \\delta_4 + t/2 \\geq 0, \\\\\n",
    "\\delta_1 + \\delta_4 + t/2 &\\geq 0, \\quad -\\delta_2 + t/2 \\geq 0, \\\\\n",
    "\\delta_2 &\\geq 0, \\quad \\delta_1 + \\delta-4 -t \\geq -1, \\\\\n",
    "-\\delta_3 &\\geq 0, \\quad \\delta-4 -t/2 \\geq -1, \\\\\n",
    "\\delta_2 + \\delta_3 -t &\\geq -1, \\quad -\\delta_1 -t/2 \\geq -1\\end{align}"
   ]
  },
  {
   "cell_type": "markdown",
   "metadata": {},
   "source": [
    "From these inequalities, we may draw the following consequence:\n",
    "\n",
    "**Theorem 55.** the volume of $\\Pi(P^2_{\\text{XY}_\\alpha})$ is maximized at $\\alpha = 3\\pi/4.$\n",
    "\n",
    "*Proof.* Because the finite family of inequalities determining $\\Pi(P^2_\\text{XY})$ are linearly dependent in $\\alpha$, the curve $\\text{vol}\\Pi(P^2_{\\text{XY}_\\alpha})$ piecewise cubic in $\\alpha$. One can use this fact, together with sampling and interpolation techniques, to determine a formula for $\\text{vol}\\Pi(P^2_{\\text{XY}_\\alpha})$:\n",
    "\n",
    "$$\\text{vol}\\Pi(P^2_{\\text{XY}_\\alpha}) = \\begin{cases} 4t^3 &\\quad 0 \\leq t \\leq \\frac{1}{2} \\\\\n",
    "\\frac{15}{2}-36t+60t^2 -32t^3 &\\quad \\frac{1}{2}\\leq t \\leq \\frac{3}{4} \\\\  -6+18t-12t^2 &\\quad \\frac{3}{4} \\leq t\\leq 1\\end{cases},$$\n",
    "\n",
    "as depicted in Figure $8$. From this curve, we may directly determine its maximum value.\n",
    "\n",
    "**Definition 56.** Motivated by Theorem 55, we also refer to $\\text{XY}_\\frac{3\\pi}{4}$ by the briefer synonym $\\text{DB}$.\n",
    "\n",
    "*Remark 57.* Similarly, one may compute $\\Pi(P^3_\\text{DB}) = \\mathfrak{U}_{C_2}$, from whcih we conclude\n",
    "\n",
    "$$\\langle \\mathcal{L}_\\text{DB}\\rangle^{\\mathfrak{U}_{C_2}} = 2\\cdot \\frac{1}{2} + 3\\cdot \\frac{1}{2} = \\frac{5}{2}.$$\n",
    "\n",
    "*Remark 58.*\n",
    "\n",
    "For $0\\leq \\alpha \\leq \\alpha^\\prime\\leq 3\\pi/4$, there is an inclusion of solids $\\Pi(P^2_{\\text{XY}_\\alpha}) \\subseteq \\Pi(P^2_{\\text{XY}_{\\alpha^\\prime}})$, from which it follows that $\\text{vol}\\Pi(P^2_\\text{DB}) \\geq \\text{vol}\\Pi(P^2_{\\text{XY}_\\alpha})$ for any $0\\leq \\alpha \\leq 3\\pi/4$ as in the Theorem. However, for $e\\pi/4 \\leq \\alpha <\\alpha^\\prime$, neither of $\\Pi(P^2_{\\text{XY}_\\alpha})$ and $\\Pi(P^2_{\\text{XY}_{\\alpha^\\prime}})$, neither of $\\Pi(P^2_{\\text{XY}_\\alpha})$ and $\\Pi(P^2_{\\text{XY}_{\\alpha^\\prime}})$ is contained in the other: although $\\Pi(P^2_{\\text{XY}_\\alpha})$ continues to lose volume as $\\alpha$ approaches $\\pi$ from the left, the solid also continues to pick up \"new\" two-qubit programs as it shrinks.\n",
    "\n",
    "**Lemma 59.** $\\Pi(P^2_\\text{DB})$ is a union of two convex polytopes, respectively described the following two families of inequalities:\n",
    "\n",
    "$$\\{\\delta_2\\geq 0, \\frac{1}{4}\\geq |\\delta_2 + \\delta_3|, 0\\geq \\delta_3\\},$$\n",
    "\n",
    "$$\\{\\frac{1}{2} \\geq \\delta_1 + \\delta_2 + \\delta_3, -\\frac{1}{4} + \\delta_1 + \\delta_2 \\geq 0, \\frac{1}{4} \\geq |\\delta_2 + \\delta_3| \\}$$\n",
    "\n",
    "intersected with teh fundamental alcove. The extremal points can be found in Figure 22.\n",
    "\n",
    "*Proof.* Here we follow the method espoused by Remark 30. The family of inequailities comes directly from reducing the family supplied by Theorem 23. After calculating all the points of intersection of the associated equalities and discarding those intersection points which do not satisfy all of the inequalities, the remainder is the set of extremal vertices, as listed above.\n",
    "\n",
    "*Remark 62.* For the course of our analysis of $\\langle \\mathcal{L}_\\text{XY}\\rangle{\\mathfrak{U}_{C_2}}$, we have avoided giving an effective compilation routine for $P^2_\\text{XY}$ along the lines of Remark 34 for $P^3_\\text{CZ}$. Indeed, one can show under mild hypotheses that such a formula cannot exist. The canonical family forms a $3$-dimensional maximal torus in $PU(4)$, but the maximal tori in $PU(2)^\\otimes 2$ are merely 2-dimensional. It is therefore impossible for any gates $S \\in PU(4)$ to conjugate a family of local gates onto the canonical family. If $S^\\dagger$ is additionally locally equivalent to $S$, then this means that the analogue of Remark 34 for $P^2_S$ must be instead of the form \n",
    "\n",
    "$$\\text{CAN}(\\alpha, \\beta, \\delta) = (C\\otimes F) \\cdot S^\\dagger (B\\otimes E) \\cdot S \\cdot (A\\otimes D).$$\n",
    "\n",
    "where the outer gates $A, C, D$ and $F$ are not all constant in the parameters $\\alpha$, $\\beta$, $\\delta$. In practice it seems that $B$ and $E$ cannot be made linearly dependent on the canonical parameters either, though we do not presently have a proof of this to offer."
   ]
  },
  {
   "cell_type": "code",
   "execution_count": null,
   "metadata": {},
   "outputs": [],
   "source": []
  },
  {
   "cell_type": "code",
   "execution_count": null,
   "metadata": {},
   "outputs": [],
   "source": []
  }
 ],
 "metadata": {
  "kernelspec": {
   "display_name": "Python 3.10",
   "language": "python",
   "name": "python3.10"
  },
  "language_info": {
   "codemirror_mode": {
    "name": "ipython",
    "version": 3
   },
   "file_extension": ".py",
   "mimetype": "text/x-python",
   "name": "python",
   "nbconvert_exporter": "python",
   "pygments_lexer": "ipython3",
   "version": "3.10.4"
  }
 },
 "nbformat": 4,
 "nbformat_minor": 2
}
