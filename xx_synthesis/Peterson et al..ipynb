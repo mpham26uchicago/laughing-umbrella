{
 "cells": [
  {
   "cell_type": "markdown",
   "metadata": {},
   "source": [
    "This notebook summarizes and implements the results from [Optimal synthesis into fixed XX interactions](https://arxiv.org/pdf/2111.02535.pdf) by Eric Peterson et al."
   ]
  },
  {
   "cell_type": "code",
   "execution_count": 1,
   "metadata": {},
   "outputs": [],
   "source": [
    "from sympy import *"
   ]
  },
  {
   "cell_type": "code",
   "execution_count": 19,
   "metadata": {},
   "outputs": [],
   "source": [
    "rx = lambda theta: Matrix([[cos(theta/2), -I*sin(theta/2)], [-I*sin(theta/2), cos(theta/2)]])\n",
    "ry = lambda theta: Matrix([[cos(theta/2), -sin(theta/2)], [sin(theta/2), cos(theta/2)]])\n",
    "rz = lambda theta: Matrix([[exp(-I*theta/2), 0], [0, exp(I*theta/2)]])"
   ]
  },
  {
   "cell_type": "code",
   "execution_count": 55,
   "metadata": {},
   "outputs": [],
   "source": [
    "theta, iota0, iota1, iota2, psi0, psi1 = symbols('theta, iota0, iota1, iota2, psi0, psi1', real = True)"
   ]
  },
  {
   "cell_type": "code",
   "execution_count": 56,
   "metadata": {},
   "outputs": [
    {
     "data": {
      "text/latex": [
       "$\\displaystyle \\operatorname{PurePoly}{\\left( \\lambda^{2} -  2 \\cos{\\left(\\frac{\\theta}{2} \\right)} \\lambda + 1, \\lambda, domain=\\mathbb{Z}\\left[\\cos{\\left(\\frac{\\theta}{2} \\right)}\\right] \\right)}$"
      ],
      "text/plain": [
       "PurePoly(lambda**2 - 2*cos(theta/2)*lambda + 1, lambda, domain='ZZ[cos(theta/2)]')"
      ]
     },
     "execution_count": 56,
     "metadata": {},
     "output_type": "execute_result"
    }
   ],
   "source": [
    "ry(theta).charpoly()"
   ]
  },
  {
   "cell_type": "code",
   "execution_count": 57,
   "metadata": {},
   "outputs": [],
   "source": [
    "rhs = rz(iota1)@ry(psi0)@rz(iota0)@ry(psi1)@rz(iota2)"
   ]
  },
  {
   "cell_type": "code",
   "execution_count": 58,
   "metadata": {},
   "outputs": [],
   "source": [
    "lam = symbols('lambda')\n",
    "expr = rhs.charpoly(lam).as_expr().coeff(lam)"
   ]
  },
  {
   "cell_type": "code",
   "execution_count": 61,
   "metadata": {},
   "outputs": [
    {
     "data": {
      "text/latex": [
       "$\\displaystyle \\left[\\begin{matrix}\\cos{\\left(\\frac{\\theta}{2} \\right)} & - \\sin{\\left(\\frac{\\theta}{2} \\right)}\\\\\\sin{\\left(\\frac{\\theta}{2} \\right)} & \\cos{\\left(\\frac{\\theta}{2} \\right)}\\end{matrix}\\right]$"
      ],
      "text/plain": [
       "Matrix([\n",
       "[cos(theta/2), -sin(theta/2)],\n",
       "[sin(theta/2),  cos(theta/2)]])"
      ]
     },
     "execution_count": 61,
     "metadata": {},
     "output_type": "execute_result"
    }
   ],
   "source": [
    "expand(rz(pi/2)@rx(theta)@rz(-pi/2))"
   ]
  },
  {
   "cell_type": "code",
   "execution_count": 79,
   "metadata": {},
   "outputs": [
    {
     "data": {
      "text/latex": [
       "$\\displaystyle \\operatorname{PurePoly}{\\left( \\lambda^{2} -  2 \\cos{\\left(\\frac{\\iota_{0}}{2} \\right)} \\cos{\\left(\\frac{\\psi_{0}}{2} + \\frac{\\psi_{1}}{2} \\right)} \\lambda + 1, \\lambda, domain=\\mathbb{Z}\\left[\\cos{\\left(\\frac{\\iota_{0}}{2} \\right)}, \\cos{\\left(\\frac{\\psi_{0}}{2} + \\frac{\\psi_{1}}{2} \\right)}\\right] \\right)}$"
      ],
      "text/plain": [
       "PurePoly(lambda**2 - 2*cos(iota0/2)*cos(psi0/2 + psi1/2)*lambda + 1, lambda, domain='ZZ[cos(iota0/2),cos(psi0/2 + psi1/2)]')"
      ]
     },
     "execution_count": 79,
     "metadata": {},
     "output_type": "execute_result"
    }
   ],
   "source": [
    "(ry(psi0)@rz(iota0)@ry(psi1)).charpoly()"
   ]
  },
  {
   "cell_type": "code",
   "execution_count": 80,
   "metadata": {},
   "outputs": [
    {
     "data": {
      "text/latex": [
       "$\\displaystyle - 2 \\cos{\\left(\\frac{\\theta}{2} \\right)} \\cos{\\left(\\frac{\\iota_{1}}{2} + \\frac{\\iota_{2}}{2} \\right)}$"
      ],
      "text/plain": [
       "-2*cos(theta/2)*cos(iota1/2 + iota2/2)"
      ]
     },
     "execution_count": 80,
     "metadata": {},
     "output_type": "execute_result"
    }
   ],
   "source": [
    "(rz(pi/2-iota1)@ry(theta)@rz(-iota2-pi/2)).charpoly(lam).as_expr().coeff(lam)"
   ]
  },
  {
   "cell_type": "code",
   "execution_count": null,
   "metadata": {},
   "outputs": [],
   "source": [
    "rz(pi/2-i"
   ]
  }
 ],
 "metadata": {
  "kernelspec": {
   "display_name": "Python 3.10",
   "language": "python",
   "name": "python3.10"
  },
  "language_info": {
   "codemirror_mode": {
    "name": "ipython",
    "version": 3
   },
   "file_extension": ".py",
   "mimetype": "text/x-python",
   "name": "python",
   "nbconvert_exporter": "python",
   "pygments_lexer": "ipython3",
   "version": "3.10.4"
  }
 },
 "nbformat": 4,
 "nbformat_minor": 2
}
