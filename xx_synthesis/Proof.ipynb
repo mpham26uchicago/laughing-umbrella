{
 "cells": [
  {
   "cell_type": "code",
   "execution_count": 1,
   "metadata": {},
   "outputs": [
    {
     "name": "stdout",
     "output_type": "stream",
     "text": [
      "/Users/minhpham/Documents/Research/laughing-umbrella/xx_synthesis/monodromy/lrslib-071b/lrs\n"
     ]
    }
   ],
   "source": [
    "import numpy as np\n",
    "from fractions import *\n",
    "\n",
    "from time import *\n",
    "\n",
    "import sys\n",
    "\n",
    "sys.path.insert(1, \"/Users/minhpham/Documents/Research/laughing-umbrella/xx_synthesis/monodromy\")\n",
    "\n",
    "import monodromy\n",
    "\n",
    "from monodromy.coordinates import monodromy_alcove, monodromy_alcove_c2, monodromy_to_positive_canonical_polytope, rho_reflect\n",
    "from monodromy.elimination import cylinderize, project\n",
    "from monodromy.polytopes import ConvexPolytope, Polytope, make_convex_polytope\n",
    "from monodromy.static import qlr_polytope\n",
    "from monodromy.static.examples import empty_polytope"
   ]
  },
  {
   "cell_type": "markdown",
   "metadata": {},
   "source": [
    "### Strength Polytope"
   ]
  },
  {
   "cell_type": "code",
   "execution_count": 2,
   "metadata": {},
   "outputs": [],
   "source": [
    "strength_polytope = make_convex_polytope([\n",
    "    # k s+ s1 s2 beta\n",
    "    [999, -1,  0,  0,  0],  # 999 - s+ ≥ 0\n",
    "    [  0,  1, -1, -1,  0],  # s+ - s1 - s2 ≥ 0\n",
    "    [  0,  0,  1, -1,  0],  # s1 - s2 ≥ 0\n",
    "    [  0,  0,  0,  1,  0],  # s2 ≥ 0\n",
    "    [  1,  0, -4,  0,  0],  # 1/4 - s1 ≥ 0\n",
    "    [  1,  0,  0,  0, -4],  # 1/4 - beta ≥ 0\n",
    "    [  0,  0,  0,  0,  1],  # beta ≥ 0\n",
    "], name=\"I\")"
   ]
  },
  {
   "cell_type": "markdown",
   "metadata": {},
   "source": [
    "First, we need to change ```strength_polytope``` to make sure that $\\frac{\\pi}{8} \\geq \\alpha^\\prime \\geq \\alpha^{\\prime\\prime} \\geq 0$. Furthermore, we need to change ```a_polytope``` and ```b_polytope``` to accomodate for the extra set of inequalities. "
   ]
  },
  {
   "cell_type": "code",
   "execution_count": 3,
   "metadata": {},
   "outputs": [],
   "source": [
    "a_polytope = make_convex_polytope([\n",
    "    # k a1  a2  a3 s+ s1 s2\n",
    "    [0,  1, -1,  0, 0, 0, 0],  # a1 - a2 ≥ 0\n",
    "    [0,  0,  1, -1, 0, 0, 0],  # a2 - a3 ≥ 0\n",
    "    [0,  0,  0,  1, 0, 0, 0],  # a3 ≥ 0\n",
    "    [1, -1, -1,  0, 0, 0, 0],  # 1 - a1 - a2 ≥ 0\n",
    "], name=\"A alcove\").intersect(\n",
    "    # MGC inequalities\n",
    "    empty_polytope.union(make_convex_polytope([\n",
    "        # strength\n",
    "        [0, -1, -1, -1, 2,  0,  0],  # - a1 - a2 - a3 + 2s+ ≥ 0\n",
    "        # slant\n",
    "        [0,  1, -1, -1, 2, -2,  -2],  # a1 - a2 - a3 + 2s+ - 2s1 -2s2 ≥ 0\n",
    "        # frustrum\n",
    "        [0,  0,  0, -1, 1, -1, 0],  # - a3 + s+ - s1 ≥ 0\n",
    "        # spade\n",
    "        [0, -1, 0, 0, 1, 0, 0],  # - a1 + s+ ≥ 0\n",
    "        # club\n",
    "        [0, -1, 1, -1, 2, -2, 0], # -a1 + a2 - a3 + 2s+ - 2s1 ≥ 0\n",
    "        # diamond\n",
    "        [0, 0, 1, 0, 1, -2, 0], # a2 + s+ - 2s1 ≥ 0\n",
    "        # heart\n",
    "        [0, 1, 1, -1, 2, -4, 0], # a1 + a2 - a3 + 2s+ - 4s1 ≥ 0\n",
    "    ], name=\"A unreflected\")).union(make_convex_polytope([\n",
    "        # strength\n",
    "        [-1 , 1, -1, -1, 2,  0,  0],  # -1 + a1 - a2 - a3 + 2s+ ≥ 0\n",
    "        # slant\n",
    "        [1, -1, -1, -1, 2, -2,  -2],  # 1 - a1 - a2 - a3 + 2s+ - 2s1 - 2s2 ≥ 0\n",
    "        # frustrum\n",
    "        [0,  0,  0, -1, 1, -1, -0],  # - a3 + s+ - s1 ≥ 0\n",
    "        # spade\n",
    "        [-1, 1, 0, 0, 1, 0, 0],  # -1 + a1 + s+ ≥ 0\n",
    "        # club\n",
    "        [-1, 1, 1, -1, 2, -2, 0], # -1 + a1 + a2 - a3 + 2s+ - 2s1 ≥ 0\n",
    "        # diamond\n",
    "        [0, 0, 1, 0, 1, -2, 0], # a2 + s+ - 2s1 ≥ 0\n",
    "        # heart\n",
    "        [1, -1, 1, -1, 2, -4, 0], # 1 - a1 + a2 - a3 + 2s+ - 4s1 ≥ 0\n",
    "    ], name=\"A reflected\"))\n",
    ")"
   ]
  },
  {
   "cell_type": "code",
   "execution_count": 4,
   "metadata": {},
   "outputs": [],
   "source": [
    "b_polytope = make_convex_polytope([\n",
    "    # k b1 b2 b3 s+ s1 s2 beta\n",
    "    [0,  1, -1,  0, 0, 0, 0, 0],  # b1 - b2 ≥ 0\n",
    "    [0,  0,  1, -1, 0, 0, 0, 0],  # b2 - b3 ≥ 0\n",
    "    [0,  0,  0,  1, 0, 0, 0, 0],  # b3 ≥ 0\n",
    "    [1, -1, -1,  0, 0, 0, 0, 0],  # 1 - b1 - b2 ≥ 0\n",
    "], name=\"B alcove\").intersect(\n",
    "    # MGC inequalities\n",
    "    empty_polytope.union(make_convex_polytope([\n",
    "        # strength\n",
    "        [0, -1, -1, -1, 2,  0,  0,  2],  # - b1 - b2 - b3 + 2s+ + 2beta ≥ 0\n",
    "        # slant\n",
    "        [0,  1, -1, -1, 2, -2,  -2,  2],  # b1 - b2 - b3 + 2s+ - 2s1 - 2s2 + 2beta ≥ 0\n",
    "        [0,  1, -1, -1, 2,  -2,  0, 0],  # b1 - b2 - b3 + 2s+ - 2s1 ≥ 0\n",
    "        # frustrum\n",
    "        [0,  0,  0, -1, 1, -1, 0,  1],  # - b3 + s+ - s1 + beta ≥ 0\n",
    "        [0,  0,  0, -1, 1, 0,  0,  0],  # - b3 + s+ ≥ 0\n",
    "        # spade\n",
    "        [0, -1, 0, 0, 1, 0, 0, 1], # - b1 + s+ + beta ≥ 0\n",
    "        # club\n",
    "        [0, -1, 1, -1, 2, -2, 0, 2], # - b1 + b2 - b3 + 2s+ -2s1 + 2beta ≥ 0\n",
    "        [0, -1, 1, -1, 2, 0, 0, 0], # - b1 + b2 - b3 + 2s+ ≥ 0\n",
    "        # diamond\n",
    "        [0, 0, 1, 0, 1, -2, 0, 1], # b2 + s+ - 2s1 + beta ≥ 0\n",
    "        [0, 0, 1, 0, 1, 0, 0, -1], # b2 + s+ - beta ≥ 0\n",
    "        # heart\n",
    "        [0, 1, 1, -1, 2, -4, 0, 2], # b1 + b2 - b3 + 2s+ - 4s1 + 2beta ≥ 0\n",
    "        [0, 1, 1, -1, 2, 0, 0, -2], # b1 + b2 - b3 + 2s+ - 2beta ≥ 0\n",
    "    ], name=\"B unreflected\")).union(make_convex_polytope([\n",
    "        # strength\n",
    "        [-1 , 1, -1, -1, 2,  0,  0,  2],  # -1 + b1 - b2 - b3 + 2s+ + 2beta ≥ 0\n",
    "        # slant\n",
    "        [ 1, -1, -1, -1, 2,  -2,  -2, 2],  # 1 - b1 - b2 - b3 + 2s+ - 2s1 - 2s2 + 2beta ≥ 0\n",
    "        [ 1, -1, -1, -1, 2, -2,  0,  0],  # 1 - b1 - b2 - b3 + 2s+ - 2s1 ≥ 0\n",
    "        # frustrum\n",
    "        [ 0,  0,  0, -1, 1, -1, 0,  1],  # - b3 + s+ - s1 + beta ≥ 0\n",
    "        [ 0,  0,  0, -1, 1, 0,  0,  0],  # - b3 + s+ ≥ 0\n",
    "        # spade\n",
    "        [-1, 1, 0, 0, 1, 0, 0, 1],  # -1 + b1 + s+ + beta ≥ 0\n",
    "        # club\n",
    "        [-1, 1, 1, -1, 2, -2, 0, 2], # -1 + b1 + b2 - b3 + 2s+ - 2s1 + 2beta ≥ 0\n",
    "        [-1, 1, 1, -1, 2, 0, 0, 0], # -1 + b1 + b2 - b3 + 2s+ ≥ 0\n",
    "        # diamond\n",
    "        [0, 0, 1, 0, 1, -2, 0, 1], # b2 + s+ - 2s1 + beta ≥ 0\n",
    "        [0, 0, 1, 0, 1, 0, 0, -1], # b2 + s+ - beta ≥ 0\n",
    "        # heart\n",
    "        [1, -1, 1, -1, 2, -4, 0, 2], # 1 - b1 + b2 - b3 + 2s+ - 4s1 + 2beta ≥ 0\n",
    "        [1, -1, 1, -1, 2, 0, 0, -2], # 1 - b1 + b2 - b3 + 2s+ - 2beta ≥ 0\n",
    "    ], name=\"B reflected\"))\n",
    ")"
   ]
  },
  {
   "cell_type": "code",
   "execution_count": 5,
   "metadata": {
    "scrolled": true
   },
   "outputs": [],
   "source": [
    "def check_main_xy_theorem():\n",
    "    \"\"\"\n",
    "    Checks the inductive step in the presentation of XY circuit polytopes.\n",
    "    \"\"\"\n",
    "    global a_polytope, b_polytope, strength_polytope    \n",
    "    \n",
    "    print(f\"Start running at {strftime('%Y-%m-%d %H:%M:%S', gmtime())}\")\n",
    "    start_time = perf_counter()\n",
    "\n",
    "    biswas_relations = (qlr_polytope\n",
    "        # enlarge to the pu_4 version of the QLR relations\n",
    "        .union(rho_reflect(qlr_polytope, [0, 7, 8, 9]))\n",
    "        # constrain in- and out-coordinates to the appropriate alcove\n",
    "        .intersect(cylinderize(monodromy_alcove, [0, 1, 2, 3], 10))\n",
    "        .intersect(cylinderize(monodromy_alcove_c2, [0, 7, 8, 9], 10))\n",
    "    )\n",
    "\n",
    "    # constrain interaction coordinates to be of XX-type\n",
    "    biswas_relations = biswas_relations.intersect(Polytope(convex_subpolytopes=[\n",
    "        ConvexPolytope(\n",
    "            inequalities=[[1, 0, 0, 0, -4, 0, 0, 0, 0, 0]],\n",
    "            equalities=[\n",
    "                [0, 0, 0, 0, 0, 1, 0, 0, 0, 0],  # x2 == 0\n",
    "                [0, 0, 0, 0, 0, 0, 1, 0, 0, 0],  # x3 == 0\n",
    "            ]\n",
    "        )\n",
    "    ]))\n",
    "\n",
    "    # switch to canonical coordinates\n",
    "    biswas_relations = monodromy_to_positive_canonical_polytope(\n",
    "        biswas_relations, coordinates=[0, 1, 2, 3])\n",
    "    biswas_relations = monodromy_to_positive_canonical_polytope(\n",
    "        biswas_relations, coordinates=[0, 4, 5, 6])\n",
    "    biswas_relations = monodromy_to_positive_canonical_polytope(\n",
    "        biswas_relations, coordinates=[0, 7, 8, 9])\n",
    "\n",
    "    # reduce the biswas relations to have following coordinates:\n",
    "    # k a1 a2 a3 beta b1 b2 b3\n",
    "    biswas_relations = biswas_relations.reduce()\n",
    "    biswas_relations = project(biswas_relations, 6).reduce()\n",
    "    biswas_relations = project(biswas_relations, 5).reduce()\n",
    "\n",
    "    # build the monodromy polytope relating the in-coordinates, constrained by\n",
    "    # the inductive hypothesis, to the output coordinates through the biswas\n",
    "    # relations + the XX interaction constraint. we'll get these coordinates:\n",
    "    # k a1 a2 a3 b1 b2 b3 s+ s1 s2 beta\n",
    "    induction_polytope = (empty_polytope\n",
    "        # k a1 a2 a3 beta b1 b2 b3\n",
    "        .union(cylinderize(biswas_relations, [0, 1, 2, 3, 10, 4, 5, 6], 11))\n",
    "        # k a1 a2 a3 s+ s1 s2\n",
    "        .intersect(cylinderize(a_polytope, [0, 1, 2, 3, 7, 8, 9], 11))\n",
    "        # k s+ s1 s2 beta\n",
    "        .intersect(cylinderize(strength_polytope, [0, 7, 8, 9, 10], 11)))\n",
    "\n",
    "    # project away the a coordinates to get the next inductive step\n",
    "    induction_polytope = project(induction_polytope, 3).reduce()\n",
    "    induction_polytope = project(induction_polytope, 2).reduce()\n",
    "    induction_polytope = project(induction_polytope, 1).reduce()\n",
    "\n",
    "    # now check that this calculation actually closes the induction\n",
    "    b_and_strength = b_polytope.intersect(\n",
    "        cylinderize(strength_polytope, [0, 4, 5, 6, 7], 8)\n",
    "    )\n",
    "\n",
    "    print(induction_polytope.reduce())\n",
    "\n",
    "    if b_and_strength.contains(induction_polytope) and \\\n",
    "        induction_polytope.contains(b_and_strength):\n",
    "        stop_time = perf_counter()\n",
    "        print(f\"The statement is True.\")\n",
    "        print(f\"The proof terminates in {round(stop_time - start_time, 3)} seconds.\")\n",
    "    else:\n",
    "        stop_time = perf_counter()\n",
    "        print(f\"The statement is False.\")\n",
    "        print(f\"The proof terminates in {round(stop_time - start_time, 3)} seconds.\")"
   ]
  },
  {
   "cell_type": "code",
   "execution_count": null,
   "metadata": {
    "scrolled": false
   },
   "outputs": [
    {
     "name": "stdout",
     "output_type": "stream",
     "text": [
      "Start running at 2024-07-07 21:37:40\n"
     ]
    }
   ],
   "source": [
    "check_main_xy_theorem()"
   ]
  }
 ],
 "metadata": {
  "kernelspec": {
   "display_name": "Python 3.10",
   "language": "python",
   "name": "python3.10"
  },
  "language_info": {
   "codemirror_mode": {
    "name": "ipython",
    "version": 3
   },
   "file_extension": ".py",
   "mimetype": "text/x-python",
   "name": "python",
   "nbconvert_exporter": "python",
   "pygments_lexer": "ipython3",
   "version": "3.10.4"
  }
 },
 "nbformat": 4,
 "nbformat_minor": 2
}
