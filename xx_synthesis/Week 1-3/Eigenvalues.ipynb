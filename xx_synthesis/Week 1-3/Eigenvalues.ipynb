{
 "cells": [
  {
   "cell_type": "code",
   "execution_count": 102,
   "metadata": {},
   "outputs": [],
   "source": [
    "import numpy as np\n",
    "from sympy import *\n",
    "from sympy.physics.quantum import TensorProduct as tp\n",
    "\n",
    "from qiskit import *\n",
    "from qiskit.quantum_info import *\n",
    "\n",
    "from qiskit.circuit.library import *\n",
    "\n",
    "from numpy.testing import assert_almost_equal as aae\n",
    "\n",
    "import matplotlib.pyplot as plt\n",
    "import matplotlib\n",
    "\n",
    "import scipy\n",
    "\n",
    "from functools import reduce\n",
    "from scipy.spatial import ConvexHull"
   ]
  },
  {
   "cell_type": "code",
   "execution_count": 2,
   "metadata": {},
   "outputs": [],
   "source": [
    "mat_close = lambda A, B: np.all(np.isclose(A, B))"
   ]
  },
  {
   "cell_type": "markdown",
   "metadata": {},
   "source": [
    "The $\\gamma$ map is defined as $\\gamma: u \\mapsto u\\sigma_y^{\\otimes 2} u^T \\sigma_y^{\\otimes 2}$. Given a matrix $u \\in SU(4)$, I found some pattern in the relationship between the trace of $\\gamma(u)$ and the number of CNOT it uses. More specifically, let $\\alpha = Tr(\\gamma(u))$.\n",
    "\n",
    "- $|\\alpha| = 4 \\implies$ 0 CNOT\n",
    "\n",
    "- $|\\alpha| = 0 \\implies$ 1 CNOT\n",
    "\n",
    "- $\\alpha \\text{ is real} \\implies$ 2 CNOT\n",
    "\n",
    "- $\\alpha \\text{ is complex} \\implies$ 3 CNOT\n",
    "\n",
    "Whether this implication is always true is in question. It's kinda late so I will probably prove this tomorrow."
   ]
  },
  {
   "cell_type": "code",
   "execution_count": 3,
   "metadata": {},
   "outputs": [],
   "source": [
    "sigma_y = np.array([[0, -1j], [1j, 0]])\n",
    "\n",
    "def to_su(u): # Convert a matrix in U(4) to SU(4)\n",
    "    u = u / np.sqrt(np.sqrt(np.linalg.det(u)))\n",
    "    \n",
    "    return u\n",
    "\n",
    "def gamma_map(u): # Perform the gamma map above\n",
    "    \n",
    "    return u@np.kron(sigma_y, sigma_y)@u.T@np.kron(sigma_y, sigma_y)\n",
    "\n",
    "def classification(u, output_trace = False):\n",
    "    \n",
    "    u = to_su(u)\n",
    "    \n",
    "    mat_trace = np.round(np.trace(gamma_map(u)), 14)\n",
    "    \n",
    "    if output_trace:\n",
    "        print(mat_trace)\n",
    "    \n",
    "    if (mat_trace == -4) or (mat_trace == 4):\n",
    "        return 0\n",
    "    elif mat_trace == 0:\n",
    "        return 1\n",
    "    elif np.isreal(mat_trace):\n",
    "        return 2\n",
    "    else:\n",
    "        return 3"
   ]
  },
  {
   "cell_type": "markdown",
   "metadata": {},
   "source": [
    "I check the classification for CNOT as two qubit gate."
   ]
  },
  {
   "cell_type": "code",
   "execution_count": 4,
   "metadata": {},
   "outputs": [],
   "source": [
    "cnot = np.array([[1, 0, 0, 0], \n",
    "                 [0, 1, 0, 0], \n",
    "                 [0, 0, 0, 1], \n",
    "                 [0, 0, 1, 0]])\n",
    "\n",
    "for i in range(1000):\n",
    "\n",
    "    MA = np.kron(random_unitary(2).data, random_unitary(2).data)\n",
    "    MB = np.kron(random_unitary(2).data, random_unitary(2).data)\n",
    "    MC = np.kron(random_unitary(2).data, random_unitary(2).data)\n",
    "    MD = np.kron(random_unitary(2).data, random_unitary(2).data)\n",
    "\n",
    "    M0 = MA\n",
    "    M1 = M0@cnot@MB\n",
    "    M2 = M1@cnot@MC\n",
    "    M3 = M2@cnot@MD\n",
    "\n",
    "    assert classification(M0) == 0, 'zero'\n",
    "    assert classification(M1) == 1, 'one'\n",
    "    assert classification(M2) == 2, 'two'\n",
    "    assert classification(M3) == 3, 'three'"
   ]
  },
  {
   "cell_type": "markdown",
   "metadata": {},
   "source": [
    "I did a little bit more digging and I found that it also works for $iSWAP$ gate."
   ]
  },
  {
   "cell_type": "code",
   "execution_count": 5,
   "metadata": {},
   "outputs": [],
   "source": [
    "isw = iSwapGate().to_matrix()\n",
    "\n",
    "for i in range(1000):\n",
    "\n",
    "    MA = np.kron(random_unitary(2).data, random_unitary(2).data)\n",
    "    MB = np.kron(random_unitary(2).data, random_unitary(2).data)\n",
    "    MC = np.kron(random_unitary(2).data, random_unitary(2).data)\n",
    "    MD = np.kron(random_unitary(2).data, random_unitary(2).data)\n",
    "\n",
    "    M0 = MA\n",
    "    M1 = M0@isw@MB\n",
    "    M2 = M1@isw@MC\n",
    "    M3 = M2@isw@MD\n",
    "\n",
    "    assert classification(M0) == 0, 'zero'\n",
    "    assert classification(M1) == 1, 'one'\n",
    "    assert classification(M2) == 2, 'two'\n",
    "    assert classification(M3) == 3, 'three'"
   ]
  },
  {
   "cell_type": "markdown",
   "metadata": {},
   "source": [
    "I look at the $\\sqrt{iSWAP}$ as the native two qubit gates. Here, the classification changes a little. For 1 gate, the trace is 2. For 2 and 3, the trace is complex. This might have to do with the fact that two $\\sqrt{iSWAP}$ gate makes up a 79% of the SU(4) gate."
   ]
  },
  {
   "cell_type": "code",
   "execution_count": 6,
   "metadata": {},
   "outputs": [
    {
     "name": "stdout",
     "output_type": "stream",
     "text": [
      "(4-0j)\n",
      "(-2-0j)\n",
      "(-0.70295802053594+0.35241616091568j)\n",
      "(-0.24545506015024+2.5438222582566j)\n"
     ]
    },
    {
     "data": {
      "text/plain": [
       "3"
      ]
     },
     "execution_count": 6,
     "metadata": {},
     "output_type": "execute_result"
    }
   ],
   "source": [
    "sqisw = np.array([[1, 0, 0, 0],\n",
    "                  [0, 1/np.sqrt(2), 1j/np.sqrt(2), 0], \n",
    "                  [0, 1j/np.sqrt(2), 1/np.sqrt(2), 0], \n",
    "                  [0, 0, 0, 1]])\n",
    "\n",
    "MA = np.kron(random_unitary(2).data, random_unitary(2).data)\n",
    "MB = np.kron(random_unitary(2).data, random_unitary(2).data)\n",
    "MC = np.kron(random_unitary(2).data, random_unitary(2).data)\n",
    "MD = np.kron(random_unitary(2).data, random_unitary(2).data)\n",
    "\n",
    "M0 = MA\n",
    "M1 = M0@sqisw@MB\n",
    "M2 = M1@sqisw@MC\n",
    "M3 = M2@sqisw@MD\n",
    "\n",
    "classification(M0, True)\n",
    "classification(M1, True)\n",
    "classification(M2, True)\n",
    "classification(M3, True)"
   ]
  },
  {
   "cell_type": "markdown",
   "metadata": {},
   "source": [
    "I look at the values of that the trace covers for two and three $\\sqrt{iSWAP}$ gates. The ration btw the two area looks alot like 79%."
   ]
  },
  {
   "cell_type": "code",
   "execution_count": 176,
   "metadata": {},
   "outputs": [],
   "source": [
    "#trace_list1 = [] # Two sqiSW\n",
    "\n",
    "sqisw = np.array([[1, 0, 0, 0],\n",
    "                  [0, 1/np.sqrt(2), 1j/np.sqrt(2), 0], \n",
    "                  [0, 1j/np.sqrt(2), 1/np.sqrt(2), 0], \n",
    "                  [0, 0, 0, 1]])\n",
    "\n",
    "for _ in range(1):\n",
    "\n",
    "    MA = np.kron(random_unitary(2).data, random_unitary(2).data)\n",
    "    MB = np.kron(random_unitary(2).data, random_unitary(2).data)\n",
    "    MC = np.kron(random_unitary(2).data, random_unitary(2).data)\n",
    "\n",
    "    M = MA@sqisw@MB@sqisw@MC\n",
    "\n",
    "    M = to_su(M)\n",
    "\n",
    "    mat_trace = np.trace(gamma_map(M))\n",
    "    \n",
    "    trace_list1.append(mat_trace)\n",
    "    \n",
    "#trace_list2 = [] # Three sqiSW\n",
    "\n",
    "for _ in range(20_000):\n",
    "\n",
    "    MA = np.kron(random_unitary(2).data, random_unitary(2).data)\n",
    "    MB = np.kron(random_unitary(2).data, random_unitary(2).data)\n",
    "    MC = np.kron(random_unitary(2).data, random_unitary(2).data)\n",
    "    MD = np.kron(random_unitary(2).data, random_unitary(2).data)\n",
    "    \n",
    "    M = MA@sqisw@MB@sqisw@MC@sqisw@MD\n",
    "\n",
    "    M = to_su(M)\n",
    "\n",
    "    mat_trace = np.trace(gamma_map(M))\n",
    "    \n",
    "    trace_list2.append(mat_trace)"
   ]
  },
  {
   "cell_type": "code",
   "execution_count": 177,
   "metadata": {},
   "outputs": [],
   "source": [
    "trace_list_1 = np.array([[np.real(num), np.imag(num)] for num in trace_list1])\n",
    "trace_list_2 = np.array([[np.real(num), np.imag(num)] for num in trace_list2])"
   ]
  },
  {
   "cell_type": "code",
   "execution_count": 186,
   "metadata": {},
   "outputs": [
    {
     "data": {
      "text/plain": [
       "<matplotlib.legend.Legend at 0x7fb9c401dd10>"
      ]
     },
     "execution_count": 186,
     "metadata": {},
     "output_type": "execute_result"
    },
    {
     "data": {
      "image/png": "[encoded data removed]",
      "text/plain": [
       "<Figure size 360x360 with 1 Axes>"
      ]
     },
     "metadata": {
      "needs_background": "light"
     },
     "output_type": "display_data"
    }
   ],
   "source": [
    "plt.figure(figsize = (5, 5))\n",
    "plt.xlabel('Real Value of Trace')\n",
    "plt.ylabel('Imaginary Value of Trace')\n",
    "plt.scatter(np.real(trace_list2), np.imag(trace_list2), s = 1)\n",
    "plt.scatter(np.real(trace_list1), np.imag(trace_list1), s = 1)\n",
    "plt.legend(['Three Gates', 'Two Gates'])"
   ]
  },
  {
   "cell_type": "code",
   "execution_count": 194,
   "metadata": {},
   "outputs": [
    {
     "data": {
      "text/plain": [
       "<matplotlib.legend.Legend at 0x7fb9c36fac10>"
      ]
     },
     "execution_count": 194,
     "metadata": {},
     "output_type": "execute_result"
    },
    {
     "data": {
      "image/png": "[encoded data removed]",
      "text/plain": [
       "<Figure size 360x360 with 1 Axes>"
      ]
     },
     "metadata": {
      "needs_background": "light"
     },
     "output_type": "display_data"
    }
   ],
   "source": [
    "from scipy.spatial import Delaunay\n",
    "import numpy as np\n",
    "\n",
    "\n",
    "def alpha_shape(points, alpha, only_outer=True):\n",
    "    \"\"\"\n",
    "    Compute the alpha shape (concave hull) of a set of points.\n",
    "    :param points: np.array of shape (n,2) points.\n",
    "    :param alpha: alpha value.\n",
    "    :param only_outer: boolean value to specify if we keep only the outer border\n",
    "    or also inner edges.\n",
    "    :return: set of (i,j) pairs representing edges of the alpha-shape. (i,j) are\n",
    "    the indices in the points array.\n",
    "    \"\"\"\n",
    "    assert points.shape[0] > 3, \"Need at least four points\"\n",
    "\n",
    "    def add_edge(edges, i, j):\n",
    "        \"\"\"\n",
    "        Add an edge between the i-th and j-th points,\n",
    "        if not in the list already\n",
    "        \"\"\"\n",
    "        if (i, j) in edges or (j, i) in edges:\n",
    "            # already added\n",
    "            assert (j, i) in edges, \"Can't go twice over same directed edge right?\"\n",
    "            if only_outer:\n",
    "                # if both neighboring triangles are in shape, it's not a boundary edge\n",
    "                edges.remove((j, i))\n",
    "            return\n",
    "        edges.add((i, j))\n",
    "\n",
    "    tri = Delaunay(points)\n",
    "    edges = set()\n",
    "    # Loop over triangles:\n",
    "    # ia, ib, ic = indices of corner points of the triangle\n",
    "    for ia, ib, ic in tri.vertices:\n",
    "        pa = points[ia]\n",
    "        pb = points[ib]\n",
    "        pc = points[ic]\n",
    "        # Computing radius of triangle circumcircle\n",
    "        # www.mathalino.com/reviewer/derivation-of-formulas/derivation-of-formula-for-radius-of-circumcircle\n",
    "        a = np.sqrt((pa[0] - pb[0]) ** 2 + (pa[1] - pb[1]) ** 2)\n",
    "        b = np.sqrt((pb[0] - pc[0]) ** 2 + (pb[1] - pc[1]) ** 2)\n",
    "        c = np.sqrt((pc[0] - pa[0]) ** 2 + (pc[1] - pa[1]) ** 2)\n",
    "        s = (a + b + c) / 2.0\n",
    "        area = np.sqrt(s * (s - a) * (s - b) * (s - c))\n",
    "        circum_r = a * b * c / (4.0 * area)\n",
    "        if circum_r < alpha:\n",
    "            add_edge(edges, ia, ib)\n",
    "            add_edge(edges, ib, ic)\n",
    "            add_edge(edges, ic, ia)\n",
    "    return edges\n",
    "\n",
    "# Computing the alpha shape\n",
    "edges1 = alpha_shape(trace_list_1, alpha=0.25, only_outer=True)\n",
    "edges2 = alpha_shape(trace_list_2, alpha=0.25, only_outer=True)\n",
    "\n",
    "# Plotting the output\n",
    "plt.figure(figsize = (5, 5))\n",
    "plt.xlabel('Real Value of Trace')\n",
    "plt.ylabel('Imaginary Value of Trace')\n",
    "for i, j in edges1:\n",
    "    plt.plot(trace_list_1[[i, j], 0], trace_list_1[[i, j], 1])\n",
    "    \n",
    "for i, j in edges2:\n",
    "    plt.plot(trace_list_2[[i, j], 0], trace_list_2[[i, j], 1])\n",
    "    \n",
    "plt.legend(['Three Gates', 'Two Gates'])"
   ]
  },
  {
   "cell_type": "code",
   "execution_count": 195,
   "metadata": {},
   "outputs": [],
   "source": [
    "boundary = [[trace_list_1[[i, j], 0], trace_list_1[[i, j], 1]] for i, j in edges1]"
   ]
  },
  {
   "cell_type": "code",
   "execution_count": 190,
   "metadata": {},
   "outputs": [
    {
     "data": {
      "text/plain": [
       "[[array([-1.67018098, -1.76390894]), array([0.75736276, 0.70851569])],\n",
       " [array([0.26269223, 0.17459598]), array([1.73910161, 1.82030885])],\n",
       " [array([3.0688106, 3.1530976]), array([-0.15387139, -0.13263958])],\n",
       " [array([-2.42746699, -2.58438138]), array([0.36657917, 0.32667615])],\n",
       " [array([-2.78523828, -2.83156617]), array([0.24632869, 0.23368907])],\n",
       " [array([-0.49338048, -0.43835771]), array([-1.54755336, -1.58684212])],\n",
       " [array([1.22533216, 1.20695776]), array([1.00699121, 1.01410105])],\n",
       " [array([-2.0420296 , -2.16771285]), array([0.57579875, 0.48717662])],\n",
       " [array([3.35385905, 3.19030068]), array([0.08422021, 0.10667464])],\n",
       " [array([-2.16771285, -2.23382527]), array([0.48717662, 0.47237055])],\n",
       " [array([3.40083034, 3.41655212]), array([-0.07704408, -0.07157285])],\n",
       " [array([-1.88089327, -1.83159926]), array([-0.64235941, -0.66446256])],\n",
       " [array([-1.09345797, -1.18309268]), array([1.10693962, 1.03426474])],\n",
       " [array([-1.39251671, -1.52941401]), array([0.90143236, 0.83123894])],\n",
       " [array([3.54142364, 3.4693451 ]), array([0.04322026, 0.0700495 ])],\n",
       " [array([-1.18309268, -1.29078711]), array([1.03426474, 0.95668094])],\n",
       " [array([1.48836254, 1.51221842]), array([-0.84925305, -0.84486769])],\n",
       " [array([-2.60237065, -2.49176496]), array([-0.32504684, -0.35972407])],\n",
       " [array([-0.8377745 , -0.77662449]), array([-1.29104422, -1.31952841])],\n",
       " [array([-3.77101799, -3.6172101 ]), array([-0.01399182, -0.02794994])],\n",
       " [array([1.20695776, 1.18989463]), array([1.01410105, 1.02172   ])],\n",
       " [array([0.91614395, 0.93317425]), array([-1.22667981, -1.21574888])],\n",
       " [array([-0.28064116, -0.25464412]), array([-1.71845214, -1.74898045])],\n",
       " [array([0.0504472 , 0.01857511]), array([1.93361517, 1.96904664])],\n",
       " [array([-3.19188366, -3.0918998 ]), array([-0.12629524, -0.14185209])],\n",
       " [array([-0.30386073, -0.31261167]), array([1.70956816, 1.69982044])],\n",
       " [array([-1.73493008, -1.60052334]), array([-0.7315267 , -0.80038594])],\n",
       " [array([1.62178635, 1.42763911]), array([0.78338095, 0.90229689])],\n",
       " [array([3.1530976 , 3.22650157]), array([-0.13263958, -0.11092749])],\n",
       " [array([3.19030068, 3.12694694]), array([0.10667464, 0.14124164])],\n",
       " [array([1.93483509, 1.84262685]), array([0.5877102 , 0.65866595])],\n",
       " [array([-0.43835771, -0.38406255]), array([-1.58684212, -1.64496178])],\n",
       " [array([-1.80851516, -1.85253063]), array([0.68144866, 0.64881989])],\n",
       " [array([2.11449876, 2.00685573]), array([0.50133896, 0.56749475])],\n",
       " [array([-1.59425398, -1.50514844]), array([-0.80524188, -0.85205612])],\n",
       " [array([0.80077529, 0.7316245 ]), array([1.3200035 , 1.35714857])],\n",
       " [array([ 0.00055524, -0.03538503]), array([1.9918671 , 1.95704681])],\n",
       " [array([-0.1211997 , -0.09799524]), array([-1.86998561, -1.89388645])],\n",
       " [array([1.14833292, 1.08794868]), array([1.04229959, 1.09102339])],\n",
       " [array([-0.00380555,  0.03850067]), array([-1.98365829, -1.95778597])],\n",
       " [array([-1.60052334, -1.59425398]), array([-0.80038594, -0.80524188])],\n",
       " [array([3.64617809, 3.60295963]), array([0.01792441, 0.03142565])],\n",
       " [array([2.08757235, 2.19336793]), array([-0.53282879, -0.49574926])],\n",
       " [array([0.89827169, 0.91614395]), array([-1.23937813, -1.22667981])],\n",
       " [array([-1.89568963, -2.0420296 ]), array([0.62476096, 0.57579875])],\n",
       " [array([2.19336793, 2.35139382]), array([-0.49574926, -0.414318  ])],\n",
       " [array([-1.50514844, -1.35561016]), array([-0.85205612, -0.92683412])],\n",
       " [array([3.60295963, 3.54142364]), array([0.03142565, 0.04322026])],\n",
       " [array([-0.77662449, -0.6992459 ]), array([-1.31952841, -1.382006  ])],\n",
       " [array([1.90831612, 1.95613293]), array([-0.62406233, -0.58829174])],\n",
       " [array([-0.52612158, -0.49338048]), array([-1.51494217, -1.54755336])],\n",
       " [array([0.10141611, 0.0504472 ]), array([1.89578039, 1.93361517])],\n",
       " [array([-3.27205597, -3.19188366]), array([-0.10340157, -0.12629524])],\n",
       " [array([-3.79883286, -3.77101799]), array([-0.00986283, -0.01399182])],\n",
       " [array([-0.24949552, -0.30386073]), array([1.75608842, 1.70956816])],\n",
       " [array([-3.02610765, -3.0724827 ]), array([0.16325255, 0.15661928])],\n",
       " [array([-0.6992459, -0.6660014]), array([-1.382006  , -1.41214114])],\n",
       " [array([0.66090984, 0.73723018]), array([-1.40640575, -1.36489925])],\n",
       " [array([-1.1597476 , -1.03437495]), array([-1.05302711, -1.12750369])],\n",
       " [array([0.66171095, 0.558446  ]), array([1.40822291, 1.47975728])],\n",
       " [array([-3.36829787, -3.58200419]), array([0.09740062, 0.03747637])],\n",
       " [array([0.54536268, 0.47053481]), array([1.48879938, 1.55264049])],\n",
       " [array([0.58146547, 0.66090984]), array([-1.46644035, -1.40640575])],\n",
       " [array([-0.84502884, -0.93499313]), array([1.27757098, 1.21597738])],\n",
       " [array([-2.03661471, -1.88089327]), array([-0.57481652, -0.64235941])],\n",
       " [array([0.17459598, 0.10141611]), array([1.82030885, 1.89578039])],\n",
       " [array([-0.82035329, -0.84502884]), array([1.29969657, 1.27757098])],\n",
       " [array([3.79098353, 3.87845499]), array([-0.01050717, -0.00038365])],\n",
       " [array([0.558446  , 0.54536268]), array([1.47975728, 1.48879938])],\n",
       " [array([0.2779031 , 0.30461487]), array([-1.73096735, -1.71186219])],\n",
       " [array([-0.53959742, -0.58367954]), array([1.51616871, 1.48092889])],\n",
       " [array([2.85446851, 2.94706586]), array([-0.23153421, -0.21465749])],\n",
       " [array([3.71435784, 3.64617809]), array([0.00779714, 0.01792441])],\n",
       " [array([-3.15317126, -3.29519236]), array([0.14749145, 0.10684459])],\n",
       " [array([-2.23382527, -2.28319187]), array([0.47237055, 0.4562661 ])],\n",
       " [array([1.51221842, 1.66847539]), array([-0.84486769, -0.74281073])],\n",
       " [array([0.43117159, 0.37903387]), array([1.59573575, 1.63620565])],\n",
       " [array([-0.36594222, -0.44194546]), array([1.65024915, 1.5927135 ])],\n",
       " [array([2.16696041, 2.11449876]), array([0.48997062, 0.50133896])],\n",
       " [array([-3.72064209, -3.86464161]), array([0.01775883, 0.00381891])],\n",
       " [array([-0.31261167, -0.36594222]), array([1.69982044, 1.65024915])],\n",
       " [array([3.75045988, 3.71435784]), array([0.00900127, 0.00779714])],\n",
       " [array([-3.0724827 , -3.15317126]), array([0.15661928, 0.14749145])],\n",
       " [array([-0.25464412, -0.18648974]), array([-1.74898045, -1.8086559 ])],\n",
       " [array([1.40226951, 1.32762526]), array([0.90999911, 0.93242819])],\n",
       " [array([-2.28319187, -2.33432534]), array([0.4562661 , 0.41229436])],\n",
       " [array([3.01486538, 2.89869994]), array([0.17098722, 0.21596343])],\n",
       " [array([-0.6660014 , -0.61161717]), array([-1.41214114, -1.4533471 ])],\n",
       " [array([0.47053481, 0.44308152]), array([1.55264049, 1.5874398 ])],\n",
       " [array([-2.84480385, -2.64109118]), array([-0.23019169, -0.30534362])],\n",
       " [array([3.50003651, 3.60315732]), array([-0.04838158, -0.0314671 ])],\n",
       " [array([-3.51051511, -3.45973155]), array([-0.06320873, -0.07676662])],\n",
       " [array([-2.19791249, -2.07470719]), array([-0.48846888, -0.54173422])],\n",
       " [array([3.47792933, 3.50003651]), array([-0.05530106, -0.04838158])],\n",
       " [array([-3.29519236, -3.36829787]), array([0.10684459, 0.09740062])],\n",
       " [array([2.89869994, 2.80947798]), array([0.21596343, 0.26214129])],\n",
       " [array([0.10056022, 0.1149834 ]), array([-1.89871593, -1.88045707])],\n",
       " [array([-3.86464161, -3.83019201]), array([ 0.00381891, -0.00351426])],\n",
       " [array([-3.83019201, -3.79883286]), array([-0.00351426, -0.00986283])],\n",
       " [array([-1.52941401, -1.67018098]), array([0.83123894, 0.75736276])],\n",
       " [array([1.00089226, 0.93713804]), array([1.16548887, 1.21413869])],\n",
       " [array([1.13611871, 1.20915875]), array([-1.08278239, -1.04037295])],\n",
       " [array([1.81377946, 1.79358758]), array([0.67858129, 0.69014009])],\n",
       " [array([-0.76975514, -0.79012909]), array([1.33187714, 1.32107557])],\n",
       " [array([1.42763911, 1.40226951]), array([0.90229689, 0.90999911])],\n",
       " [array([2.94706586, 3.0688106 ]), array([-0.21465749, -0.15387139])],\n",
       " [array([-0.93499313, -1.06758659]), array([1.21597738, 1.1264859 ])],\n",
       " [array([1.84262685, 1.81377946]), array([0.65866595, 0.67858129])],\n",
       " [array([1.18989463, 1.14833292]), array([1.02172   , 1.04229959])],\n",
       " [array([3.4693451 , 3.35385905]), array([0.0700495 , 0.08422021])],\n",
       " [array([-1.29078711, -1.39251671]), array([0.95668094, 0.90143236])],\n",
       " [array([3.12694694, 3.01486538]), array([0.14124164, 0.17098722])],\n",
       " [array([-3.6172101 , -3.51051511]), array([-0.02794994, -0.06320873])],\n",
       " [array([2.66346284, 2.72185398]), array([-0.27990265, -0.25448558])],\n",
       " [array([-0.03538503, -0.10204576]), array([1.95704681, 1.89453237])],\n",
       " [array([-0.62042804, -0.76975514]), array([1.43290721, 1.33187714])],\n",
       " [array([-1.2084517, -1.1597476]), array([-1.03198627, -1.05302711])],\n",
       " [array([1.02088023, 1.04410228]), array([-1.16270389, -1.14697078])],\n",
       " [array([1.20915875, 1.30523813]), array([-1.04037295, -0.96906047])],\n",
       " [array([-2.90850268, -3.02610765]), array([0.20714703, 0.16325255])],\n",
       " [array([-0.13464504, -0.15958606]), array([1.86743114, 1.84156663])],\n",
       " [array([-1.06758659, -1.09345797]), array([1.1264859 , 1.10693962])],\n",
       " [array([-0.44194546, -0.53959742]), array([1.5927135 , 1.51616871])],\n",
       " [array([-0.79012909, -0.82035329]), array([1.32107557, 1.29969657])],\n",
       " [array([-3.60537182, -3.67320345]), array([0.03294052, 0.02390011])],\n",
       " [array([-2.07470719, -2.03661471]), array([-0.54173422, -0.57481652])],\n",
       " [array([-3.67320345, -3.72064209]), array([0.02390011, 0.01775883])],\n",
       " [array([-0.61161717, -0.52612158]), array([-1.4533471 , -1.51494217])],\n",
       " [array([-2.38086189, -2.28718907]), array([-0.40770514, -0.44559075])],\n",
       " [array([0.32349912, 0.46725612]), array([-1.69696815, -1.55422706])],\n",
       " [array([0.35880006, 0.26269223]), array([1.65649408, 1.73910161])],\n",
       " [array([-2.611581  , -2.78523828]), array([0.31603478, 0.24632869])],\n",
       " [array([-3.0918998 , -2.98291104]), array([-0.14185209, -0.18005908])],\n",
       " [array([-2.49176496, -2.4744196 ]), array([-0.35972407, -0.36626997])],\n",
       " [array([-0.18137505, -0.21420209]), array([1.81525982, 1.78376797])],\n",
       " [array([2.37747913, 2.2665595 ]), array([0.41796498, 0.46509128])],\n",
       " [array([0.77661746, 0.89827169]), array([-1.31825933, -1.23937813])],\n",
       " [array([-3.31254409, -3.27205597]), array([-0.08942036, -0.10340157])],\n",
       " [array([2.59635566, 2.66346284]), array([-0.30535215, -0.27990265])],\n",
       " [array([-1.83159926, -1.73493008]), array([-0.66446256, -0.7315267 ])],\n",
       " [array([2.49683628, 2.37747913]), array([0.36573366, 0.41796498])],\n",
       " [array([2.56976408, 2.49683628]), array([0.31296969, 0.36573366])],\n",
       " [array([-1.03437495, -0.98225809]), array([-1.12750369, -1.18663057])],\n",
       " [array([0.93317425, 1.02088023]), array([-1.21574888, -1.16270389])],\n",
       " [array([0.7316245 , 0.66171095]), array([1.35714857, 1.40822291])],\n",
       " [array([1.82320828, 1.88748886]), array([-0.67678098, -0.642297  ])],\n",
       " [array([-0.03303925, -0.0246548 ]), array([-1.96148971, -1.96841852])],\n",
       " [array([2.00685573, 1.93483509]), array([0.56749475, 0.5877102 ])],\n",
       " [array([-0.11520806, -0.13464504]), array([1.88525054, 1.86743114])],\n",
       " [array([1.06865287, 1.00089226]), array([1.10662624, 1.16548887])],\n",
       " [array([-3.45973155, -3.42068068]), array([-0.07676662, -0.07565967])],\n",
       " [array([1.79358758, 1.7516157 ]), array([0.69014009, 0.71054665])],\n",
       " [array([3.33291122, 3.40083034]), array([-0.10369994, -0.07704408])],\n",
       " [array([-1.85253063, -1.89568963]), array([0.64881989, 0.62476096])],\n",
       " [array([-2.58438138, -2.611581  ]), array([0.32667615, 0.31603478])],\n",
       " [array([-3.58200419, -3.60537182]), array([0.03747637, 0.03294052])],\n",
       " [array([0.89750174, 0.80077529]), array([1.23194348, 1.3200035 ])],\n",
       " [array([2.35139382, 2.42085755]), array([-0.414318  , -0.40640282])],\n",
       " [array([-2.33432534, -2.42746699]), array([0.41229436, 0.36657917])],\n",
       " [array([2.2665595 , 2.16696041]), array([0.46509128, 0.48997062])],\n",
       " [array([3.76273027, 3.75045988]), array([0.00747819, 0.00900127])],\n",
       " [array([-0.98225809, -0.8934655 ]), array([-1.18663057, -1.245486  ])],\n",
       " [array([-0.15540179, -0.1211997 ]), array([-1.84290484, -1.86998561])],\n",
       " [array([-0.0246548 , -0.00380555]), array([-1.96841852, -1.98365829])],\n",
       " [array([1.7516157 , 1.62178635]), array([0.71054665, 0.78338095])],\n",
       " [array([-1.76390894, -1.80851516]), array([0.70851569, 0.68144866])],\n",
       " [array([0.21473813, 0.2779031 ]), array([-1.79467112, -1.73096735])],\n",
       " [array([1.04410228, 1.13611871]), array([-1.14697078, -1.08278239])],\n",
       " [array([-2.98291104, -2.84480385]), array([-0.18005908, -0.23019169])],\n",
       " [array([2.72185398, 2.84208853]), array([-0.25448558, -0.23333226])],\n",
       " [array([-2.83156617, -2.90850268]), array([0.23368907, 0.20714703])],\n",
       " [array([-0.58367954, -0.62042804]), array([1.48092889, 1.43290721])],\n",
       " [array([2.80947798, 2.73994489]), array([0.26214129, 0.26253522])],\n",
       " [array([2.84208853, 2.85446851]), array([-0.23333226, -0.23153421])],\n",
       " [array([0.1149834 , 0.18904205]), array([-1.88045707, -1.81448811])],\n",
       " [array([-0.21420209, -0.24949552]), array([1.78376797, 1.75608842])],\n",
       " [array([3.41655212, 3.47792933]), array([-0.07157285, -0.05530106])],\n",
       " [array([1.32509168, 1.34288204]), array([-0.94963902, -0.93251612])],\n",
       " [array([-2.4744196 , -2.38086189]), array([-0.36626997, -0.40770514])],\n",
       " [array([0.18904205, 0.21473813]), array([-1.81448811, -1.79467112])],\n",
       " [array([0.93713804, 0.89750174]), array([1.21413869, 1.23194348])],\n",
       " [array([2.73994489, 2.56976408]), array([0.26253522, 0.31296969])],\n",
       " [array([0.01857511, 0.00055524]), array([1.96904664, 1.9918671 ])],\n",
       " [array([3.70051067, 3.79098353]), array([-0.01901825, -0.01050717])],\n",
       " [array([1.88748886, 1.90831612]), array([-0.642297  , -0.62406233])],\n",
       " [array([1.95613293, 2.08757235]), array([-0.58829174, -0.53282879])],\n",
       " [array([-0.09799524, -0.03303925]), array([-1.89388645, -1.96148971])],\n",
       " [array([3.22650157, 3.33291122]), array([-0.11092749, -0.10369994])],\n",
       " [array([-3.42068068, -3.31254409]), array([-0.07565967, -0.08942036])],\n",
       " [array([0.30461487, 0.32349912]), array([-1.71186219, -1.69696815])],\n",
       " [array([-2.28718907, -2.20072042]), array([-0.44559075, -0.48643223])],\n",
       " [array([-2.64109118, -2.60237065]), array([-0.30534362, -0.32504684])],\n",
       " [array([1.32762526, 1.22533216]), array([0.93242819, 1.00699121])],\n",
       " [array([-2.20072042, -2.19791249]), array([-0.48643223, -0.48846888])],\n",
       " [array([0.37903387, 0.35880006]), array([1.63620565, 1.65649408])],\n",
       " [array([2.44536283, 2.59635566]), array([-0.39846645, -0.30535215])],\n",
       " [array([1.40712175, 1.48836254]), array([-0.88265167, -0.84925305])],\n",
       " [array([0.46725612, 0.54700874]), array([-1.55422706, -1.49790363])],\n",
       " [array([0.73723018, 0.77661746]), array([-1.36489925, -1.31825933])],\n",
       " [array([0.44308152, 0.43117159]), array([1.5874398 , 1.59573575])],\n",
       " [array([1.34288204, 1.40712175]), array([-0.93251612, -0.88265167])],\n",
       " [array([-0.8934655, -0.8377745]), array([-1.245486  , -1.29104422])],\n",
       " [array([3.87845499, 3.76273027]), array([-0.00038365,  0.00747819])],\n",
       " [array([0.03850067, 0.04677004]), array([-1.95778597, -1.95142643])],\n",
       " [array([1.08794868, 1.06865287]), array([1.09102339, 1.10662624])],\n",
       " [array([1.66847539, 1.82320828]), array([-0.74281073, -0.67678098])],\n",
       " [array([3.60315732, 3.70051067]), array([-0.0314671 , -0.01901825])],\n",
       " [array([-0.15958606, -0.18137505]), array([1.84156663, 1.81525982])],\n",
       " [array([-0.10204576, -0.11520806]), array([1.89453237, 1.88525054])],\n",
       " [array([0.04677004, 0.10056022]), array([-1.95142643, -1.89871593])],\n",
       " [array([-0.38406255, -0.28064116]), array([-1.64496178, -1.71845214])],\n",
       " [array([1.30523813, 1.32509168]), array([-0.96906047, -0.94963902])],\n",
       " [array([0.54700874, 0.58146547]), array([-1.49790363, -1.46644035])],\n",
       " [array([-1.35561016, -1.2084517 ]), array([-0.92683412, -1.03198627])],\n",
       " [array([-0.18648974, -0.15540179]), array([-1.8086559 , -1.84290484])],\n",
       " [array([2.42085755, 2.44536283]), array([-0.40640282, -0.39846645])]]"
      ]
     },
     "execution_count": 190,
     "metadata": {},
     "output_type": "execute_result"
    }
   ],
   "source": [
    "boundary"
   ]
  },
  {
   "cell_type": "markdown",
   "metadata": {},
   "source": [
    "Here I plot the density of these points"
   ]
  },
  {
   "cell_type": "code",
   "execution_count": 180,
   "metadata": {},
   "outputs": [],
   "source": [
    "no_bins = 100"
   ]
  },
  {
   "cell_type": "code",
   "execution_count": 187,
   "metadata": {},
   "outputs": [
    {
     "name": "stdout",
     "output_type": "stream",
     "text": [
      "Area covered by two gates: 11.649230805418092\n",
      "Area covered by three gates: 16.806125991069266\n"
     ]
    }
   ],
   "source": [
    "hist, xedges, yedges = np.histogram2d(np.real(trace_list1), np.imag(trace_list1), bins=no_bins)\n",
    "\n",
    "over_threshold = hist > 0\n",
    "\n",
    "area1 = over_threshold.sum() * (xedges[1] - xedges[0]) * (yedges[1] - yedges[0])\n",
    "print(f'Area covered by two gates: {area1}')\n",
    "\n",
    "hist, xedges, yedges = np.histogram2d(np.real(trace_list2), np.imag(trace_list2), bins=no_bins)\n",
    "\n",
    "over_threshold = hist > 0\n",
    "\n",
    "area2 = over_threshold.sum() * (xedges[1] - xedges[0]) * (yedges[1] - yedges[0])\n",
    "print(f'Area covered by three gates: {area2}')"
   ]
  },
  {
   "cell_type": "code",
   "execution_count": 94,
   "metadata": {},
   "outputs": [
    {
     "data": {
      "text/plain": [
       "0.7983333862162072"
      ]
     },
     "execution_count": 94,
     "metadata": {},
     "output_type": "execute_result"
    }
   ],
   "source": [
    "10.032153205009198/(4*np.pi)"
   ]
  },
  {
   "cell_type": "code",
   "execution_count": 95,
   "metadata": {},
   "outputs": [
    {
     "data": {
      "text/plain": [
       "4.017908039222994"
      ]
     },
     "execution_count": 95,
     "metadata": {},
     "output_type": "execute_result"
    }
   ],
   "source": [
    "12.622630378822329 /np.pi"
   ]
  },
  {
   "cell_type": "markdown",
   "metadata": {},
   "source": [
    "If we take the ratio between the area covered by the trace of two $\\sqrt{iSWAP}$ gates vs three, we get"
   ]
  },
  {
   "cell_type": "code",
   "execution_count": 11,
   "metadata": {
    "scrolled": true
   },
   "outputs": [
    {
     "name": "stdout",
     "output_type": "stream",
     "text": [
      "Ratio: 79.86907163511022%\n"
     ]
    }
   ],
   "source": [
    "print(f\"Ratio: {area1/area2 * 100}%\")"
   ]
  },
  {
   "cell_type": "markdown",
   "metadata": {},
   "source": [
    "For Ising $R_{zz}$ gate I find that one gate unitary also has a fixed trace"
   ]
  },
  {
   "cell_type": "code",
   "execution_count": 12,
   "metadata": {},
   "outputs": [
    {
     "name": "stdout",
     "output_type": "stream",
     "text": [
      "(-4-0j)\n",
      "(-2-0j)\n",
      "(0.37623921844325-0j)\n",
      "(0.02260949323842+1.4839223352391j)\n"
     ]
    },
    {
     "data": {
      "text/plain": [
       "3"
      ]
     },
     "execution_count": 12,
     "metadata": {},
     "output_type": "execute_result"
    }
   ],
   "source": [
    "gate = RZZGate(np.pi/3).to_matrix()\n",
    "\n",
    "MA = np.kron(random_unitary(2).data, random_unitary(2).data)\n",
    "MB = np.kron(random_unitary(2).data, random_unitary(2).data)\n",
    "MC = np.kron(random_unitary(2).data, random_unitary(2).data)\n",
    "MD = np.kron(random_unitary(2).data, random_unitary(2).data)\n",
    "\n",
    "M0 = MA\n",
    "M1 = M0@gate@MB\n",
    "M2 = M1@gate@MC\n",
    "M3 = M2@gate@MD\n",
    "\n",
    "classification(M0, True)\n",
    "classification(M1, True)\n",
    "classification(M2, True)\n",
    "classification(M3, True)"
   ]
  },
  {
   "cell_type": "markdown",
   "metadata": {},
   "source": [
    "We plot this fixed value with the angle theta."
   ]
  },
  {
   "cell_type": "markdown",
   "metadata": {},
   "source": [
    "The graph looks alot like the concurrence value for different theta value."
   ]
  },
  {
   "cell_type": "markdown",
   "metadata": {},
   "source": [
    "For two gates, we can kinda still see the shape from above"
   ]
  },
  {
   "cell_type": "markdown",
   "metadata": {},
   "source": [
    "If we change the value of theta, we get different distribution of the orange points. We see that the green points and orange points overlap"
   ]
  },
  {
   "cell_type": "code",
   "execution_count": 13,
   "metadata": {},
   "outputs": [],
   "source": [
    "def CAN(tx, ty, tz):\n",
    "    return RZZGate(tx*np.pi).to_matrix()@RYYGate(ty*np.pi).to_matrix()@RXXGate(tz*np.pi).to_matrix()\n",
    "\n",
    "def get_trace_list(gate, no_points = 1000, five= False):\n",
    "    \n",
    "    trace_list2 = [] # Two gates\n",
    "    trace_list3 = [] # Three gates\n",
    "    trace_list4 = [] # Four gates\n",
    "    \n",
    "    if five:\n",
    "        trace_list5 = [] # Five gates\n",
    "    \n",
    "    for _ in range(no_points):\n",
    "\n",
    "        MA = np.kron(random_unitary(2).data, random_unitary(2).data)\n",
    "        MB = np.kron(random_unitary(2).data, random_unitary(2).data)\n",
    "        MC = np.kron(random_unitary(2).data, random_unitary(2).data)\n",
    "        MD = np.kron(random_unitary(2).data, random_unitary(2).data)\n",
    "        ME = np.kron(random_unitary(2).data, random_unitary(2).data)\n",
    "\n",
    "        M2 = MA@gate@MB@gate@MC\n",
    "        M3 = M2@gate@MD\n",
    "        M4 = M3@gate@ME\n",
    "            \n",
    "        M2 = to_su(M2)\n",
    "        M3 = to_su(M3)\n",
    "        M4 = to_su(M4)\n",
    "\n",
    "        mat_trace2 = np.trace(gamma_map(M2))\n",
    "        mat_trace3 = np.trace(gamma_map(M3))\n",
    "        mat_trace4 = np.trace(gamma_map(M4))\n",
    "\n",
    "        trace_list2.append(mat_trace2)\n",
    "        trace_list3.append(mat_trace3)\n",
    "        trace_list4.append(mat_trace4)\n",
    "        \n",
    "        if five:\n",
    "            MF = np.kron(random_unitary(2).data, random_unitary(2).data)\n",
    "            M5 = M4@gate@MF\n",
    "            M5 = to_su(M5)\n",
    "            mat_trace5 = np.trace(gamma_map(M5))\n",
    "            trace_list5.append(mat_trace5)\n",
    "\n",
    "    if five:\n",
    "        return trace_list2, trace_list3, trace_list4, trace_list5\n",
    "    else:\n",
    "        return trace_list2, trace_list3, trace_list4\n",
    "\n",
    "def plot_trace_map(trace_list2, trace_list3, trace_list4, trace_list5 = None, show = [2, 3, 4]):\n",
    "    plt.xlabel('Real Value of Trace')\n",
    "    plt.ylabel('Imaginary Value of Trace')\n",
    "    \n",
    "    legend_list = []\n",
    "    \n",
    "    if 2 in show:\n",
    "        plt.scatter(np.real(trace_list2), np.imag(trace_list2), s = 5, c = 'blue')\n",
    "        legend_list.append('Two Gates')\n",
    "    if 3 in show:\n",
    "        plt.scatter(np.real(trace_list3), np.imag(trace_list3), s = 3, c = 'orange')\n",
    "        legend_list.append('Three Gates')\n",
    "    if 4 in show:\n",
    "        plt.scatter(np.real(trace_list4), np.imag(trace_list4), s = 3, c = 'green')\n",
    "        legend_list.append('Four Gates')\n",
    "    if 5 in show:\n",
    "        plt.scatter(np.real(trace_list5), np.imag(trace_list5), s = 3, c = 'grey')\n",
    "        legend_list.append('Five Gates')\n",
    "        \n",
    "    plt.legend(legend_list)\n",
    "    plt.show()"
   ]
  },
  {
   "cell_type": "code",
   "execution_count": 14,
   "metadata": {},
   "outputs": [],
   "source": [
    "gate = CAN(1/4, 0, 0)\n",
    "\n",
    "trace_list2, trace_list3, trace_list4 = get_trace_list(gate, no_points = 5000, five = False)"
   ]
  },
  {
   "cell_type": "code",
   "execution_count": 17,
   "metadata": {},
   "outputs": [
    {
     "data": {
      "image/png": "[encoded data removed]",
      "text/plain": [
       "<Figure size 432x288 with 1 Axes>"
      ]
     },
     "metadata": {
      "needs_background": "light"
     },
     "output_type": "display_data"
    }
   ],
   "source": [
    "plot_trace_map(trace_list2, trace_list3, trace_list4, show = [3])"
   ]
  },
  {
   "cell_type": "code",
   "execution_count": 216,
   "metadata": {},
   "outputs": [],
   "source": [
    "vertices = [(0, 0, 0), (1/4, 1/4, -1/4), (1/2, 0, 0), (1/4, 1/4, 1/4), (3/8, 3/8, -1/8), (3/8, -1/8, -1/8)]\n",
    "vertices = [(1/2, 0, 0), (3/8, 3/8, -1/8), (1/3, 1/3, 0), (1/3, 0, -1/6), (0, 0, 0, 0), (1/4, 1/4, -1/4)]\n",
    "vertices = [(1/2, 0, 0, -1/2), (3/8, -1/8, -1/8), (1/4, 1/4, -1/4), (1/6, 1/6, 1/6), (0, 0, 0), (1/3, 1/3, -1/6)]"
   ]
  },
  {
   "cell_type": "code",
   "execution_count": 217,
   "metadata": {},
   "outputs": [
    {
     "name": "stdout",
     "output_type": "stream",
     "text": [
      "(0.5+-0.125t, 0+-0.125t, 0+-0.125t)\n",
      "(0.5+-0.25t, 0+0.25t, 0+-0.25t)\n",
      "(0.5+-0.33333333333333337t, 0+0.16666666666666666t, 0+0.16666666666666666t)\n",
      "(0.5+-0.5t, 0+0t, 0+0t)\n",
      "(0.5+-0.16666666666666669t, 0+0.3333333333333333t, 0+-0.16666666666666666t)\n",
      "(0.375+-0.125t, -0.125+0.375t, -0.125+-0.125t)\n",
      "(0.375+-0.20833333333333334t, -0.125+0.29166666666666663t, -0.125+0.29166666666666663t)\n",
      "(0.375+-0.375t, -0.125+0.125t, -0.125+0.125t)\n",
      "(0.375+-0.041666666666666685t, -0.125+0.4583333333333333t, -0.125+-0.04166666666666666t)\n",
      "(0.25+-0.08333333333333334t, 0.25+-0.08333333333333334t, -0.25+0.41666666666666663t)\n",
      "(0.25+-0.25t, 0.25+-0.25t, -0.25+0.25t)\n",
      "(0.25+0.08333333333333331t, 0.25+0.08333333333333331t, -0.25+0.08333333333333334t)\n",
      "(0.16666666666666666+-0.16666666666666666t, 0.16666666666666666+-0.16666666666666666t, 0.16666666666666666+-0.16666666666666666t)\n",
      "(0.16666666666666666+0.16666666666666666t, 0.16666666666666666+0.16666666666666666t, 0.16666666666666666+-0.3333333333333333t)\n",
      "(0+0.3333333333333333t, 0+0.3333333333333333t, 0+-0.16666666666666666t)\n"
     ]
    }
   ],
   "source": [
    "n = 0\n",
    "for i, vertex1 in enumerate(vertices):\n",
    "    for j, vertex2 in enumerate(vertices):\n",
    "        if i<j:\n",
    "            line = f\"({vertex1[0]}+{vertex2[0]-vertex1[0]}t, {vertex1[1]}+{vertex2[1]-vertex1[1]}t, {vertex1[2]}+{vertex2[2]-vertex1[2]}t)\"\n",
    "            #print(f\"e{i+1}<-->e{j+1}\")\n",
    "            print(line)\n",
    "            n+=1"
   ]
  },
  {
   "cell_type": "code",
   "execution_count": null,
   "metadata": {},
   "outputs": [],
   "source": []
  }
 ],
 "metadata": {
  "kernelspec": {
   "display_name": "Python 3 (ipykernel)",
   "language": "python",
   "name": "python3"
  },
  "language_info": {
   "codemirror_mode": {
    "name": "ipython",
    "version": 3
   },
   "file_extension": ".py",
   "mimetype": "text/x-python",
   "name": "python",
   "nbconvert_exporter": "python",
   "pygments_lexer": "ipython3",
   "version": "3.7.4"
  }
 },
 "nbformat": 4,
 "nbformat_minor": 5
}
