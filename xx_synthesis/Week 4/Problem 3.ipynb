{
 "cells": [
  {
   "cell_type": "code",
   "execution_count": 15,
   "metadata": {},
   "outputs": [
    {
     "name": "stdout",
     "output_type": "stream",
     "text": [
      "/Users/minhpham/Documents/Research/laughing-umbrella/xx_synthesis/monodromy/lrslib-071b/lrs\n"
     ]
    }
   ],
   "source": [
    "import numpy as np\n",
    "from fractions import *\n",
    "\n",
    "from time import perf_counter\n",
    "\n",
    "import sys\n",
    "\n",
    "sys.path.insert(1, \"/Users/minhpham/Documents/Research/laughing-umbrella/xx_synthesis/monodromy\")\n",
    "\n",
    "import monodromy\n",
    "\n",
    "from monodromy.coordinates import monodromy_alcove, monodromy_alcove_c2, monodromy_to_positive_canonical_polytope, rho_reflect\n",
    "from monodromy.elimination import cylinderize, project\n",
    "from monodromy.polytopes import ConvexPolytope, Polytope\n",
    "from monodromy.static import qlr_polytope\n",
    "from monodromy.method import *\n",
    "\n",
    "from itertools import count\n",
    "\n",
    "import os\n",
    "\n",
    "import matplotlib.pyplot as plt\n",
    "\n",
    "from scipy import stats"
   ]
  },
  {
   "cell_type": "markdown",
   "metadata": {},
   "source": [
    "How does the intersection between $p_0$ and $p_3$ changes as the upper bound for the range of $\\alpha$ increases form $\\frac{\\pi}{8}$ to $\\frac{\\pi}{4}$? My thought is it would be a monotonic decrease."
   ]
  },
  {
   "cell_type": "markdown",
   "metadata": {},
   "source": [
    "### Generate n=3 polytope for a variety of angles between $\\frac{\\pi}{8}$ and $\\frac{\\pi}{4}$"
   ]
  },
  {
   "cell_type": "code",
   "execution_count": 16,
   "metadata": {},
   "outputs": [],
   "source": [
    "file = open(\"/Users/minhpham/Documents/Research/laughing-umbrella/xx_synthesis/inequalities/massive.txt\", \"r\")\n",
    "\n",
    "polytope_dict = eval(file.read()[63:])"
   ]
  },
  {
   "cell_type": "code",
   "execution_count": 23,
   "metadata": {},
   "outputs": [
    {
     "data": {
      "text/plain": [
       "[Fraction(1, 4),\n",
       " Fraction(13, 48),\n",
       " Fraction(11, 40),\n",
       " Fraction(7, 24),\n",
       " Fraction(5, 16),\n",
       " Fraction(1, 3),\n",
       " Fraction(17, 48),\n",
       " Fraction(3, 8),\n",
       " Fraction(19, 48),\n",
       " Fraction(5, 12),\n",
       " Fraction(7, 16),\n",
       " Fraction(11, 24),\n",
       " Fraction(23, 48),\n",
       " Fraction(1, 2)]"
      ]
     },
     "execution_count": 23,
     "metadata": {},
     "output_type": "execute_result"
    }
   ],
   "source": [
    "sorted(polytope_dict.keys())"
   ]
  },
  {
   "cell_type": "markdown",
   "metadata": {},
   "source": [
    "### Compute the volume of the intersection of p0 and p3 wrt p3"
   ]
  },
  {
   "cell_type": "code",
   "execution_count": 19,
   "metadata": {},
   "outputs": [],
   "source": [
    "volume_dict = dict()\n",
    "for angle in sorted(polytope_dict.keys()):\n",
    "    if len(polytope_dict[angle][3].convex_subpolytopes) ==4:\n",
    "        p0 = polytope_dict[angle][3].convex_subpolytopes[0]\n",
    "        p1 = polytope_dict[angle][3].convex_subpolytopes[1]\n",
    "        p2 = polytope_dict[angle][3].convex_subpolytopes[2]\n",
    "        p3 = polytope_dict[angle][3].convex_subpolytopes[3]\n",
    "        \n",
    "        ratio1 = ((p0.intersect(p3)).volume.volume / p3.volume.volume)\n",
    "        ratio2 = ((p1.intersect(p2)).volume.volume / p2.volume.volume)\n",
    "        \n",
    "        assert ratio1 == ratio2, f\"{angle} is kinda weird\"\n",
    "        \n",
    "        volume_dict[angle] = float(ratio1)"
   ]
  },
  {
   "cell_type": "code",
   "execution_count": 20,
   "metadata": {},
   "outputs": [
    {
     "data": {
      "text/plain": [
       "{Fraction(17, 48): 0.9999997902642639,\n",
       " Fraction(3, 8): 0.9999951764062024,\n",
       " Fraction(19, 48): 0.9999731264497832,\n",
       " Fraction(5, 12): 0.9999155005464834,\n",
       " Fraction(7, 16): 0.9998049373330069,\n",
       " Fraction(11, 24): 0.9996288544982941,\n",
       " Fraction(23, 48): 0.9993815792766527,\n",
       " Fraction(1, 2): 0.9990653533683227}"
      ]
     },
     "execution_count": 20,
     "metadata": {},
     "output_type": "execute_result"
    }
   ],
   "source": [
    "volume_dict"
   ]
  },
  {
   "cell_type": "markdown",
   "metadata": {},
   "source": [
    "### Plot these volume vs angle"
   ]
  },
  {
   "cell_type": "code",
   "execution_count": 229,
   "metadata": {},
   "outputs": [],
   "source": [
    "x = list(volume_dict.keys())\n",
    "y = np.array([volume_dict[angle] for angle in x])\n",
    "x = np.array([float(elem) for elem in x])\n",
    "\n",
    "fig, ax = plt.subplots()\n",
    "\n",
    "ax.set_title(\"Percentage coverage vs. Maximum Angle\")\n",
    "ax.set_xlabel(\"Maximum Angle\")\n",
    "ax.set_ylabel(\"Percentage Coverage\")\n",
    "ax.scatter(x, (1-y)**(1/3), s = 10)"
   ]
  },
  {
   "cell_type": "code",
   "execution_count": 236,
   "metadata": {},
   "outputs": [
    {
     "name": "stdout",
     "output_type": "stream",
     "text": [
      "Slope: 0.6423835183838505\n",
      "Intercept: -0.22316350968844154\n",
      "R-squared: 0.9992418546686702\n"
     ]
    },
    {
     "data": {
      "image/png": "[encoded data removed]",
      "text/plain": [
       "<Figure size 432x288 with 1 Axes>"
      ]
     },
     "metadata": {
      "needs_background": "light"
     },
     "output_type": "display_data"
    }
   ],
   "source": [
    "# Perform linear regression\n",
    "slope, intercept, r_value, p_value, std_err = stats.linregress(x, (1-y)**(1/3))\n",
    "\n",
    "# Print the results\n",
    "print(f\"Slope: {slope}\")\n",
    "print(f\"Intercept: {intercept}\")\n",
    "print(f\"R-squared: {r_value**2}\")\n",
    "\n",
    "# Plot the data and the regression line\n",
    "plt.scatter(x, (1-y)**(1/3), color='blue', label='Data points')\n",
    "plt.plot(x, slope*x + intercept, color='red', label='Fitted line')\n",
    "plt.xlabel('Maximum Angle')\n",
    "plt.ylabel('cbrt(1-proportion coverage)')\n",
    "plt.legend()\n",
    "plt.show()"
   ]
  },
  {
   "cell_type": "markdown",
   "metadata": {},
   "source": [
    "### Apply cubic regression"
   ]
  },
  {
   "cell_type": "code",
   "execution_count": 244,
   "metadata": {},
   "outputs": [
    {
     "name": "stdout",
     "output_type": "stream",
     "text": [
      "Coefficients: [-20.42822255  19.89886545  -6.35102337 100.66057178]\n"
     ]
    },
    {
     "data": {
      "image/png": "[encoded data removed]",
      "text/plain": [
       "<Figure size 432x288 with 1 Axes>"
      ]
     },
     "metadata": {
      "needs_background": "light"
     },
     "output_type": "display_data"
    }
   ],
   "source": [
    "# Fit a cubic polynomial to the data\n",
    "coefficients = np.polyfit(x, 100*y, 3)\n",
    "\n",
    "# Generate fitted values\n",
    "y_fit = np.polyval(coefficients, x)\n",
    "\n",
    "# Print the coefficients\n",
    "print(f\"Coefficients: {coefficients}\")\n",
    "\n",
    "# Plot the data and the fitted polynomial curve\n",
    "plt.scatter(x, 100*y, color='blue', label='Data points')\n",
    "plt.plot(x, y_fit, color='red', label='Fitted cubic curve')\n",
    "plt.xlabel('Maximum Angle')\n",
    "plt.ylabel('Percentage Coverage')\n",
    "plt.legend()\n",
    "plt.show()"
   ]
  },
  {
   "cell_type": "code",
   "execution_count": 245,
   "metadata": {},
   "outputs": [
    {
     "data": {
      "text/plain": [
       "0.33333433333283335"
      ]
     },
     "execution_count": 245,
     "metadata": {},
     "output_type": "execute_result"
    }
   ],
   "source": [
    "222223/666667"
   ]
  },
  {
   "cell_type": "code",
   "execution_count": 247,
   "metadata": {},
   "outputs": [
    {
     "data": {
      "text/plain": [
       "0.3334333333333333"
      ]
     },
     "execution_count": 247,
     "metadata": {},
     "output_type": "execute_result"
    }
   ],
   "source": [
    "1/3+1e-4"
   ]
  },
  {
   "cell_type": "code",
   "execution_count": null,
   "metadata": {},
   "outputs": [],
   "source": []
  }
 ],
 "metadata": {
  "kernelspec": {
   "display_name": "Python 3.10",
   "language": "python",
   "name": "python3.10"
  },
  "language_info": {
   "codemirror_mode": {
    "name": "ipython",
    "version": 3
   },
   "file_extension": ".py",
   "mimetype": "text/x-python",
   "name": "python",
   "nbconvert_exporter": "python",
   "pygments_lexer": "ipython3",
   "version": "3.10.4"
  }
 },
 "nbformat": 4,
 "nbformat_minor": 2
}
