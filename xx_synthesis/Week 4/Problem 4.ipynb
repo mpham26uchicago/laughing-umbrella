{
 "cells": [
  {
   "cell_type": "code",
   "execution_count": 461,
   "metadata": {},
   "outputs": [],
   "source": [
    "import numpy as np\n",
    "from fractions import *\n",
    "\n",
    "from time import perf_counter, time\n",
    "\n",
    "import sys\n",
    "\n",
    "sys.path.insert(1, \"/Users/minhpham/Documents/Research/laughing-umbrella/xx_synthesis/monodromy\")\n",
    "\n",
    "import monodromy\n",
    "\n",
    "from monodromy.coordinates import monodromy_alcove, monodromy_alcove_c2, monodromy_to_positive_canonical_polytope, rho_reflect\n",
    "from monodromy.elimination import cylinderize, project\n",
    "from monodromy.polytopes import *\n",
    "from monodromy.static import qlr_polytope\n",
    "from monodromy.method import *\n",
    "\n",
    "from itertools import count\n",
    "\n",
    "import os\n",
    "\n",
    "import matplotlib.pyplot as plt\n",
    "\n",
    "from scipy import stats\n",
    "\n",
    "from functools import reduce\n",
    "from itertools import combinations"
   ]
  },
  {
   "cell_type": "markdown",
   "metadata": {},
   "source": [
    "### a. Figure out how projection works"
   ]
  },
  {
   "cell_type": "markdown",
   "metadata": {},
   "source": [
    "Note that you can only project one coordinate at time, so always start with the highest coordinate first and work your way down so you don't accidentally change the position of the coordinate you want to project."
   ]
  },
  {
   "cell_type": "code",
   "execution_count": 94,
   "metadata": {},
   "outputs": [],
   "source": [
    "# Triangular Prism \n",
    "triangular_prism = Polytope(convex_subpolytopes=[\n",
    "    ConvexPolytope(inequalities=[[0, 1, 2, 0], [0, 1, 0, 0], [1, -1, 0, 0], [0, 0, -1, 0], [-1, 1, 0, 1], [2, 1, 0, -2]],\n",
    "                   name=\"triangular prism\")\n",
    "]).reduce()"
   ]
  },
  {
   "cell_type": "code",
   "execution_count": 95,
   "metadata": {},
   "outputs": [
    {
     "name": "stdout",
     "output_type": "stream",
     "text": [
      "[\n",
      "# triangular prism: \n",
      "    0 +    -1 x1 +     0 x2 >= 0\n",
      "    0 +     0 x1 +     1 x2 >= 0\n",
      "    3 +     0 x1 +    -2 x2 >= 0\n",
      "    1 +     2 x1 +     0 x2 >= 0\n",
      "\n",
      "]\n"
     ]
    }
   ],
   "source": [
    "print(project(triangular_prism, 1).reduce())"
   ]
  },
  {
   "cell_type": "markdown",
   "metadata": {},
   "source": [
    "#### Project High Dimensional Polytope to Weyl Tetrahedron"
   ]
  },
  {
   "cell_type": "code",
   "execution_count": 140,
   "metadata": {},
   "outputs": [],
   "source": [
    "file = open(\"/Users/minhpham/Documents/Research/laughing-umbrella/xx_synthesis/inequalities/massive.txt\", \"r\")\n",
    "\n",
    "polytope_dict = eval(file.read()[63:])"
   ]
  },
  {
   "cell_type": "code",
   "execution_count": 160,
   "metadata": {
    "scrolled": true
   },
   "outputs": [
    {
     "name": "stdout",
     "output_type": "stream",
     "text": [
      "Working on an XY interaction sequence of length 0...\n",
      "Working on the reduction 1/3... done.  Took 0.11355518642812967 seconds.\n",
      "Working on the reduction 2/3... done.  Took 0.11050555622205138 seconds.\n",
      "Working on the reduction 3/3... done.  Took 0.12132201716303825 seconds.\n",
      "The first three coordinates are the canonical coordinates CAN(x1, x2, x3).\n",
      "The remaining coordinates x4, ..., xk are the XY interaction strengths.\n",
      "[\n",
      "# origin ∩ anonymous_convex_polytope_112: \n",
      "    1 +     0 x1 +     0 x2 +     0 x3 >= 0\n",
      "    0 +     1 x1 +     0 x2 +     0 x3 == 0\n",
      "    0 +     0 x1 +     1 x2 +     0 x3 == 0\n",
      "    0 +     0 x1 +     0 x2 +     1 x3 == 0\n",
      ",\n",
      "# origin ∩ anonymous_convex_polytope_113: \n",
      "    1 +     0 x1 +     0 x2 +     0 x3 >= 0\n",
      "   -1 +     1 x1 +     0 x2 +     0 x3 == 0\n",
      "    0 +     0 x1 +     1 x2 +     0 x3 == 0\n",
      "    0 +     0 x1 +     0 x2 +     1 x3 == 0\n",
      "\n",
      "]\n",
      "Working on an XY interaction sequence of length 1...\n",
      "Working on the reduction 1/3... done.  Took 0.2559748198837042 seconds.\n",
      "Working on the reduction 2/3... done.  Took 0.21394707402214408 seconds.\n",
      "Working on the reduction 3/3... done.  Took 0.30984651390463114 seconds.\n",
      "The first three coordinates are the canonical coordinates CAN(x1, x2, x3).\n",
      "The remaining coordinates x4, ..., xk are the XY interaction strengths.\n",
      "[\n",
      "# origin ∩ anonymous_convex_polytope_112 ∩ anonymous_convex_polytope_112: \n",
      "    0 +     1 x1 +     0 x2 +     0 x3 +     0 x4 >= 0\n",
      "    1 +    -5 x1 +     0 x2 +     0 x3 +     0 x4 >= 0\n",
      "    0 +    -1 x1 +     1 x2 +     0 x3 +     0 x4 == 0\n",
      "    0 +     0 x1 +     0 x2 +     1 x3 +     0 x4 == 0\n",
      "    0 +    -1 x1 +     0 x2 +     0 x3 +     1 x4 == 0\n",
      ",\n",
      "# origin ∩ anonymous_convex_polytope_112 ∩ anonymous_convex_polytope_113: \n",
      "    1 +    -1 x1 +     0 x2 +     0 x3 +     0 x4 >= 0\n",
      "   -4 +     5 x1 +     0 x2 +     0 x3 +     0 x4 >= 0\n",
      "   -1 +     1 x1 +     1 x2 +     0 x3 +     0 x4 == 0\n",
      "    0 +     0 x1 +     0 x2 +     1 x3 +     0 x4 == 0\n",
      "   -1 +     1 x1 +     0 x2 +     0 x3 +     1 x4 == 0\n",
      "\n",
      "]\n",
      "Working on an XY interaction sequence of length 2...\n",
      "Working on the reduction 1/3... done.  Took 0.3504805639386177 seconds.\n",
      "Working on the reduction 2/3... done.  Took 0.23289953637868166 seconds.\n",
      "Working on the reduction 3/3... done.  Took 0.33300762297585607 seconds.\n",
      "The first three coordinates are the canonical coordinates CAN(x1, x2, x3).\n",
      "The remaining coordinates x4, ..., xk are the XY interaction strengths.\n",
      "[\n",
      "# origin ∩ anonymous_convex_polytope_112 ∩ anonymous_convex_polytope_112 ∩ anonymous_convex_polytope_112: \n",
      "    0 +    -1 x1 +     0 x2 +     0 x3 +     1 x4 +     1 x5 >= 0\n",
      "    0 +     1 x1 +    -1 x2 +    -1 x3 +     0 x4 +     0 x5 >= 0\n",
      "    0 +    -1 x1 +     1 x2 +    -1 x3 +     0 x4 +     2 x5 >= 0\n",
      "    1 +     0 x1 +     0 x2 +     0 x3 +    -5 x4 +     0 x5 >= 0\n",
      "    0 +    -1 x1 +     1 x2 +    -1 x3 +     2 x4 +     0 x5 >= 0\n",
      "    0 +     0 x1 +     1 x2 +    -1 x3 +     0 x4 +     0 x5 >= 0\n",
      "    1 +     0 x1 +     0 x2 +     0 x3 +     0 x4 +    -5 x5 >= 0\n",
      "    0 +     0 x1 +     1 x2 +     0 x3 +     1 x4 +    -1 x5 >= 0\n",
      "    0 +     0 x1 +     0 x2 +     1 x3 +     0 x4 +     0 x5 >= 0\n",
      "    0 +     0 x1 +     1 x2 +     0 x3 +    -1 x4 +     1 x5 >= 0\n",
      ",\n",
      "# origin ∩ anonymous_convex_polytope_112 ∩ anonymous_convex_polytope_112 ∩ anonymous_convex_polytope_113: \n",
      "   -1 +     1 x1 +     0 x2 +     0 x3 +     1 x4 +     1 x5 >= 0\n",
      "    1 +    -1 x1 +    -1 x2 +    -1 x3 +     0 x4 +     0 x5 >= 0\n",
      "   -1 +     1 x1 +     1 x2 +    -1 x3 +     0 x4 +     2 x5 >= 0\n",
      "    0 +     0 x1 +     0 x2 +     1 x3 +     0 x4 +     0 x5 >= 0\n",
      "    0 +     0 x1 +     1 x2 +     0 x3 +    -1 x4 +     1 x5 >= 0\n",
      "    1 +     0 x1 +     0 x2 +     0 x3 +    -5 x4 +     0 x5 >= 0\n",
      "    1 +     0 x1 +     0 x2 +     0 x3 +     0 x4 +    -5 x5 >= 0\n",
      "   -1 +     1 x1 +     1 x2 +    -1 x3 +     2 x4 +     0 x5 >= 0\n",
      "    0 +     0 x1 +     1 x2 +    -1 x3 +     0 x4 +     0 x5 >= 0\n",
      "    0 +     0 x1 +     1 x2 +     0 x3 +     1 x4 +    -1 x5 >= 0\n",
      "\n",
      "]\n",
      "Working on an XY interaction sequence of length 3...\n",
      "Working on the reduction 1/3... done.  Took 9.76551963435486 seconds.\n",
      "Working on the reduction 2/3... done.  Took 1.4193729418329895 seconds.\n",
      "Working on the reduction 3/3... done.  Took 0.83820920297876 seconds.\n",
      "The first three coordinates are the canonical coordinates CAN(x1, x2, x3).\n",
      "The remaining coordinates x4, ..., xk are the XY interaction strengths.\n",
      "[\n",
      "# origin ∩ anonymous_convex_polytope_112 ∩ anonymous_convex_polytope_112 ∩ anonymous_convex_polytope_112 ∩ anonymous_convex_polytope_112: \n",
      "    0 +     1 x1 +    -1 x2 +    -1 x3 +     0 x4 +     2 x5 +     0 x6 >= 0\n",
      "    0 +     0 x1 +     1 x2 +    -1 x3 +     0 x4 +     0 x5 +     0 x6 >= 0\n",
      "    1 +     0 x1 +     0 x2 +     0 x3 +     0 x4 +     0 x5 +    -5 x6 >= 0\n",
      "    0 +     1 x1 +    -1 x2 +     0 x3 +     0 x4 +     0 x5 +     0 x6 >= 0\n",
      "    0 +     0 x1 +     1 x2 +     0 x3 +     1 x4 +     1 x5 +    -1 x6 >= 0\n",
      "    0 +     1 x1 +     1 x2 +    -1 x3 +     2 x4 +     2 x5 +    -2 x6 >= 0\n",
      "    0 +     0 x1 +     0 x2 +     0 x3 +     1 x4 +     0 x5 +     0 x6 >= 0\n",
      "    0 +     0 x1 +     1 x2 +     0 x3 +     1 x4 +    -1 x5 +     1 x6 >= 0\n",
      "    0 +     0 x1 +     0 x2 +     1 x3 +     0 x4 +     0 x5 +     0 x6 >= 0\n",
      "    0 +     0 x1 +     0 x2 +    -1 x3 +     1 x4 +     1 x5 +     0 x6 >= 0\n",
      "    0 +     1 x1 +    -1 x2 +    -1 x3 +     2 x4 +     0 x5 +     0 x6 >= 0\n",
      "    0 +     1 x1 +     1 x2 +    -1 x3 +    -2 x4 +     2 x5 +     2 x6 >= 0\n",
      "    1 +     0 x1 +     0 x2 +     0 x3 +    -5 x4 +     0 x5 +     0 x6 >= 0\n",
      "    1 +     0 x1 +     0 x2 +     0 x3 +     0 x4 +    -5 x5 +     0 x6 >= 0\n",
      "    1 +    -1 x1 +    -1 x2 +     0 x3 +     0 x4 +     0 x5 +     0 x6 >= 0\n",
      "    0 +    -1 x1 +    -1 x2 +    -1 x3 +     2 x4 +     2 x5 +     2 x6 >= 0\n",
      "    0 +     0 x1 +     0 x2 +    -1 x3 +     1 x4 +     0 x5 +     1 x6 >= 0\n",
      "    0 +    -1 x1 +     1 x2 +    -1 x3 +     2 x4 +     2 x5 +     0 x6 >= 0\n",
      "    0 +    -1 x1 +     1 x2 +    -1 x3 +     2 x4 +     0 x5 +     2 x6 >= 0\n",
      "    0 +    -1 x1 +     0 x2 +     0 x3 +     1 x4 +     1 x5 +     1 x6 >= 0\n",
      "    0 +     0 x1 +     0 x2 +     0 x3 +     0 x4 +     1 x5 +     0 x6 >= 0\n",
      "    0 +     0 x1 +     1 x2 +     0 x3 +    -1 x4 +     1 x5 +     1 x6 >= 0\n",
      "    0 +    -1 x1 +     1 x2 +    -1 x3 +     0 x4 +     2 x5 +     2 x6 >= 0\n",
      "    0 +     0 x1 +     0 x2 +    -1 x3 +     0 x4 +     1 x5 +     1 x6 >= 0\n",
      "    0 +     1 x1 +     1 x2 +    -1 x3 +     2 x4 +    -2 x5 +     2 x6 >= 0\n",
      "    0 +     1 x1 +    -1 x2 +    -1 x3 +     0 x4 +     0 x5 +     2 x6 >= 0\n",
      "    0 +     0 x1 +     0 x2 +     0 x3 +     0 x4 +     0 x5 +     1 x6 >= 0\n",
      ",\n",
      "# origin ∩ anonymous_convex_polytope_112 ∩ anonymous_convex_polytope_112 ∩ anonymous_convex_polytope_113 ∩ anonymous_convex_polytope_112: \n",
      "    1 +     0 x1 +     0 x2 +     0 x3 +     0 x4 +    -5 x5 +     0 x6 >= 0\n",
      "   -1 +     1 x1 +     1 x2 +    -1 x3 +     2 x4 +     0 x5 +     2 x6 >= 0\n",
      "    0 +     0 x1 +     0 x2 +    -1 x3 +     1 x4 +     0 x5 +     1 x6 >= 0\n",
      "    0 +     0 x1 +     0 x2 +    -1 x3 +     1 x4 +     1 x5 +     0 x6 >= 0\n",
      "   -1 +     1 x1 +     1 x2 +    -1 x3 +     2 x4 +     2 x5 +     0 x6 >= 0\n",
      "    1 +    -1 x1 +    -1 x2 +    -1 x3 +     2 x4 +     0 x5 +     0 x6 >= 0\n",
      "   -1 +     1 x1 +    -1 x2 +    -1 x3 +     2 x4 +     2 x5 +     2 x6 >= 0\n",
      "    0 +     0 x1 +     1 x2 +    -1 x3 +     0 x4 +     0 x5 +     0 x6 >= 0\n",
      "    1 +     0 x1 +     0 x2 +     0 x3 +     0 x4 +     0 x5 +    -5 x6 >= 0\n",
      "   -1 +     1 x1 +     1 x2 +    -1 x3 +     0 x4 +     2 x5 +     2 x6 >= 0\n",
      "    0 +     0 x1 +     1 x2 +     0 x3 +     1 x4 +    -1 x5 +     1 x6 >= 0\n",
      "    1 +    -1 x1 +     1 x2 +    -1 x3 +     2 x4 +    -2 x5 +     2 x6 >= 0\n",
      "    0 +     0 x1 +     1 x2 +     0 x3 +    -1 x4 +     1 x5 +     1 x6 >= 0\n",
      "    0 +     0 x1 +     1 x2 +     0 x3 +     1 x4 +     1 x5 +    -1 x6 >= 0\n",
      "    1 +    -1 x1 +     1 x2 +    -1 x3 +     2 x4 +     2 x5 +    -2 x6 >= 0\n",
      "    1 +    -1 x1 +     1 x2 +    -1 x3 +    -2 x4 +     2 x5 +     2 x6 >= 0\n",
      "    1 +    -1 x1 +    -1 x2 +    -1 x3 +     0 x4 +     0 x5 +     2 x6 >= 0\n",
      "    0 +     0 x1 +     0 x2 +     0 x3 +     0 x4 +     0 x5 +     1 x6 >= 0\n",
      "    0 +     0 x1 +     0 x2 +     1 x3 +     0 x4 +     0 x5 +     0 x6 >= 0\n",
      "    0 +     0 x1 +     0 x2 +     0 x3 +     0 x4 +     1 x5 +     0 x6 >= 0\n",
      "    0 +     0 x1 +     0 x2 +    -1 x3 +     0 x4 +     1 x5 +     1 x6 >= 0\n",
      "    1 +    -1 x1 +    -1 x2 +    -1 x3 +     0 x4 +     2 x5 +     0 x6 >= 0\n",
      "    1 +     0 x1 +     0 x2 +     0 x3 +    -5 x4 +     0 x5 +     0 x6 >= 0\n",
      "    1 +    -1 x1 +    -1 x2 +     0 x3 +     0 x4 +     0 x5 +     0 x6 >= 0\n",
      "    0 +     0 x1 +     0 x2 +     0 x3 +     1 x4 +     0 x5 +     0 x6 >= 0\n",
      "    0 +     1 x1 +    -1 x2 +     0 x3 +     0 x4 +     0 x5 +     0 x6 >= 0\n",
      "   -1 +     1 x1 +     0 x2 +     0 x3 +     1 x4 +     1 x5 +     1 x6 >= 0\n",
      "\n",
      "]\n",
      "Working on an XY interaction sequence of length 4...\n"
     ]
    },
    {
     "name": "stdout",
     "output_type": "stream",
     "text": [
      "Working on the reduction 1/3... done.  Took 1453.5170999336988 seconds.\n",
      "Working on the reduction 2/3... done.  Took 313.7537888060324 seconds.\n",
      "Working on the reduction 3/3... done.  Took 6.284044974017888 seconds.\n",
      "The first three coordinates are the canonical coordinates CAN(x1, x2, x3).\n",
      "The remaining coordinates x4, ..., xk are the XY interaction strengths.\n",
      "[\n",
      "# origin ∩ anonymous_convex_polytope_112 ∩ anonymous_convex_polytope_112 ∩ anonymous_convex_polytope_112 ∩ anonymous_convex_polytope_112 ∩ anonymous_convex_polytope_112: \n",
      "    1 +     0 x1 +     0 x2 +     0 x3 +    -5 x4 +     0 x5 +     0 x6 +     0 x7 >= 0\n",
      "    0 +     0 x1 +     0 x2 +     0 x3 +     0 x4 +     0 x5 +     0 x6 +     1 x7 >= 0\n",
      "    0 +     1 x1 +    -1 x2 +    -1 x3 +     0 x4 +     0 x5 +     2 x6 +     2 x7 >= 0\n",
      "    0 +     0 x1 +     0 x2 +     0 x3 +     0 x4 +     0 x5 +     1 x6 +     0 x7 >= 0\n",
      "    0 +     1 x1 +     1 x2 +    -1 x3 +     2 x4 +    -2 x5 +     2 x6 +     2 x7 >= 0\n",
      "    0 +     0 x1 +     1 x2 +     0 x3 +     1 x4 +    -1 x5 +     1 x6 +     1 x7 >= 0\n",
      "    1 +     0 x1 +     0 x2 +     0 x3 +     0 x4 +    -5 x5 +     0 x6 +     0 x7 >= 0\n",
      "    0 +     0 x1 +     0 x2 +    -1 x3 +     0 x4 +     1 x5 +     1 x6 +     1 x7 >= 0\n",
      "    0 +     1 x1 +    -1 x2 +    -1 x3 +     0 x4 +     2 x5 +     2 x6 +     0 x7 >= 0\n",
      "    0 +     0 x1 +     0 x2 +    -1 x3 +     1 x4 +     1 x5 +     1 x6 +     0 x7 >= 0\n",
      "    0 +     0 x1 +     1 x2 +     0 x3 +     1 x4 +     1 x5 +     1 x6 +    -1 x7 >= 0\n",
      "    0 +    -1 x1 +     1 x2 +    -1 x3 +     2 x4 +     2 x5 +     2 x6 +     0 x7 >= 0\n",
      "    0 +    -1 x1 +     1 x2 +    -1 x3 +     2 x4 +     0 x5 +     2 x6 +     2 x7 >= 0\n",
      "    0 +    -1 x1 +     1 x2 +    -1 x3 +     0 x4 +     2 x5 +     2 x6 +     2 x7 >= 0\n",
      "    0 +     0 x1 +     1 x2 +    -1 x3 +     0 x4 +     0 x5 +     0 x6 +     0 x7 >= 0\n",
      "    0 +     1 x1 +     1 x2 +    -1 x3 +    -2 x4 +     2 x5 +     2 x6 +     2 x7 >= 0\n",
      "    0 +     1 x1 +     1 x2 +    -1 x3 +     2 x4 +     2 x5 +    -2 x6 +     2 x7 >= 0\n",
      "    0 +     1 x1 +    -1 x2 +    -1 x3 +     2 x4 +     0 x5 +     0 x6 +     2 x7 >= 0\n",
      "    0 +     0 x1 +     0 x2 +     0 x3 +     1 x4 +     0 x5 +     0 x6 +     0 x7 >= 0\n",
      "    0 +     0 x1 +     1 x2 +     0 x3 +     1 x4 +     1 x5 +    -1 x6 +     1 x7 >= 0\n",
      "    0 +     0 x1 +     1 x2 +     0 x3 +    -1 x4 +     1 x5 +     1 x6 +     1 x7 >= 0\n",
      "    0 +     1 x1 +    -1 x2 +     0 x3 +     0 x4 +     0 x5 +     0 x6 +     0 x7 >= 0\n",
      "    0 +     1 x1 +    -1 x2 +    -1 x3 +     0 x4 +     2 x5 +     0 x6 +     2 x7 >= 0\n",
      "    0 +    -1 x1 +     0 x2 +     0 x3 +     1 x4 +     1 x5 +     1 x6 +     1 x7 >= 0\n",
      "    0 +     1 x1 +    -1 x2 +    -1 x3 +     2 x4 +     2 x5 +     0 x6 +     0 x7 >= 0\n",
      "    0 +     1 x1 +    -1 x2 +    -1 x3 +     2 x4 +     0 x5 +     2 x6 +     0 x7 >= 0\n",
      "    0 +     0 x1 +     0 x2 +    -1 x3 +     1 x4 +     0 x5 +     1 x6 +     1 x7 >= 0\n",
      "    0 +    -1 x1 +     1 x2 +    -1 x3 +     2 x4 +     2 x5 +     0 x6 +     2 x7 >= 0\n",
      "    1 +     0 x1 +     0 x2 +     0 x3 +     0 x4 +     0 x5 +     0 x6 +    -5 x7 >= 0\n",
      "    0 +    -1 x1 +    -1 x2 +    -1 x3 +     2 x4 +     2 x5 +     2 x6 +     2 x7 >= 0\n",
      "    1 +    -1 x1 +    -1 x2 +     0 x3 +     0 x4 +     0 x5 +     0 x6 +     0 x7 >= 0\n",
      "    0 +     0 x1 +     0 x2 +    -1 x3 +     1 x4 +     1 x5 +     0 x6 +     1 x7 >= 0\n",
      "    0 +     0 x1 +     0 x2 +     0 x3 +     0 x4 +     1 x5 +     0 x6 +     0 x7 >= 0\n",
      "    0 +     1 x1 +     1 x2 +    -1 x3 +     2 x4 +     2 x5 +     2 x6 +    -2 x7 >= 0\n",
      "    0 +     0 x1 +     0 x2 +     1 x3 +     0 x4 +     0 x5 +     0 x6 +     0 x7 >= 0\n",
      "    1 +     0 x1 +     0 x2 +     0 x3 +     0 x4 +     0 x5 +    -5 x6 +     0 x7 >= 0\n",
      ",\n",
      "# origin ∩ anonymous_convex_polytope_112 ∩ anonymous_convex_polytope_112 ∩ anonymous_convex_polytope_113 ∩ anonymous_convex_polytope_112 ∩ anonymous_convex_polytope_112: \n",
      "    1 +     0 x1 +     0 x2 +     0 x3 +     0 x4 +    -5 x5 +     0 x6 +     0 x7 >= 0\n",
      "   -1 +     1 x1 +     1 x2 +    -1 x3 +     2 x4 +     0 x5 +     2 x6 +     2 x7 >= 0\n",
      "    1 +    -1 x1 +    -1 x2 +    -1 x3 +     2 x4 +     0 x5 +     0 x6 +     2 x7 >= 0\n",
      "    0 +     0 x1 +     0 x2 +     0 x3 +     1 x4 +     0 x5 +     0 x6 +     0 x7 >= 0\n",
      "    0 +     0 x1 +     0 x2 +     0 x3 +     0 x4 +     0 x5 +     0 x6 +     1 x7 >= 0\n",
      "    1 +    -1 x1 +    -1 x2 +    -1 x3 +     0 x4 +     2 x5 +     0 x6 +     2 x7 >= 0\n",
      "    0 +     0 x1 +     1 x2 +     0 x3 +    -1 x4 +     1 x5 +     1 x6 +     1 x7 >= 0\n",
      "    1 +    -1 x1 +     1 x2 +    -1 x3 +     2 x4 +    -2 x5 +     2 x6 +     2 x7 >= 0\n",
      "    0 +     0 x1 +     1 x2 +     0 x3 +     1 x4 +    -1 x5 +     1 x6 +     1 x7 >= 0\n",
      "   -1 +     1 x1 +     0 x2 +     0 x3 +     1 x4 +     1 x5 +     1 x6 +     1 x7 >= 0\n",
      "    0 +     0 x1 +     0 x2 +     1 x3 +     0 x4 +     0 x5 +     0 x6 +     0 x7 >= 0\n",
      "    0 +     0 x1 +     0 x2 +     0 x3 +     0 x4 +     0 x5 +     1 x6 +     0 x7 >= 0\n",
      "   -1 +     1 x1 +    -1 x2 +    -1 x3 +     2 x4 +     2 x5 +     2 x6 +     2 x7 >= 0\n",
      "    1 +    -1 x1 +     1 x2 +    -1 x3 +     2 x4 +     2 x5 +     2 x6 +    -2 x7 >= 0\n",
      "    1 +    -1 x1 +    -1 x2 +    -1 x3 +     2 x4 +     2 x5 +     0 x6 +     0 x7 >= 0\n",
      "    0 +     0 x1 +     0 x2 +    -1 x3 +     1 x4 +     1 x5 +     0 x6 +     1 x7 >= 0\n",
      "    1 +    -1 x1 +     1 x2 +    -1 x3 +     2 x4 +     2 x5 +    -2 x6 +     2 x7 >= 0\n",
      "    1 +     0 x1 +     0 x2 +     0 x3 +     0 x4 +     0 x5 +    -5 x6 +     0 x7 >= 0\n",
      "    0 +     0 x1 +     1 x2 +     0 x3 +     1 x4 +     1 x5 +    -1 x6 +     1 x7 >= 0\n",
      "   -1 +     1 x1 +     1 x2 +    -1 x3 +     2 x4 +     2 x5 +     0 x6 +     2 x7 >= 0\n",
      "    1 +    -1 x1 +     1 x2 +    -1 x3 +    -2 x4 +     2 x5 +     2 x6 +     2 x7 >= 0\n",
      "    0 +     1 x1 +    -1 x2 +     0 x3 +     0 x4 +     0 x5 +     0 x6 +     0 x7 >= 0\n",
      "    0 +     0 x1 +     0 x2 +     0 x3 +     0 x4 +     1 x5 +     0 x6 +     0 x7 >= 0\n",
      "    0 +     0 x1 +     1 x2 +    -1 x3 +     0 x4 +     0 x5 +     0 x6 +     0 x7 >= 0\n",
      "    0 +     0 x1 +     0 x2 +    -1 x3 +     0 x4 +     1 x5 +     1 x6 +     1 x7 >= 0\n",
      "    1 +     0 x1 +     0 x2 +     0 x3 +    -5 x4 +     0 x5 +     0 x6 +     0 x7 >= 0\n",
      "    1 +     0 x1 +     0 x2 +     0 x3 +     0 x4 +     0 x5 +     0 x6 +    -5 x7 >= 0\n",
      "    1 +    -1 x1 +    -1 x2 +     0 x3 +     0 x4 +     0 x5 +     0 x6 +     0 x7 >= 0\n",
      "    0 +     0 x1 +     1 x2 +     0 x3 +     1 x4 +     1 x5 +     1 x6 +    -1 x7 >= 0\n",
      "   -1 +     1 x1 +     1 x2 +    -1 x3 +     2 x4 +     2 x5 +     2 x6 +     0 x7 >= 0\n",
      "    0 +     0 x1 +     0 x2 +    -1 x3 +     1 x4 +     0 x5 +     1 x6 +     1 x7 >= 0\n",
      "   -1 +     1 x1 +     1 x2 +    -1 x3 +     0 x4 +     2 x5 +     2 x6 +     2 x7 >= 0\n",
      "    1 +    -1 x1 +    -1 x2 +    -1 x3 +     0 x4 +     0 x5 +     2 x6 +     2 x7 >= 0\n",
      "    1 +    -1 x1 +    -1 x2 +    -1 x3 +     0 x4 +     2 x5 +     2 x6 +     0 x7 >= 0\n",
      "    1 +    -1 x1 +    -1 x2 +    -1 x3 +     2 x4 +     0 x5 +     2 x6 +     0 x7 >= 0\n",
      "    0 +     0 x1 +     0 x2 +    -1 x3 +     1 x4 +     1 x5 +     1 x6 +     0 x7 >= 0\n",
      "\n",
      "]\n"
     ]
    }
   ],
   "source": [
    "polytope_list = compute_polytope(4, 1/5)"
   ]
  },
  {
   "cell_type": "code",
   "execution_count": 165,
   "metadata": {},
   "outputs": [],
   "source": [
    "### Unpack n=3 pi/6 polytope\n",
    "#polytope = polytope_dict[Fraction(1, 4)][3]\n",
    "polytope = polytope_list[2]"
   ]
  },
  {
   "cell_type": "code",
   "execution_count": 166,
   "metadata": {},
   "outputs": [],
   "source": [
    "#reduced_polytope = project(project(project(project(polytope, 7).reduce(), 6).reduce(), 5).reduce(), 4).reduce()\n",
    "reduced_polytope = project(project(polytope, 5).reduce(), 4).reduce()\n",
    "reduced_polytope.name = \"reduced_polytope\""
   ]
  },
  {
   "cell_type": "code",
   "execution_count": 167,
   "metadata": {
    "scrolled": false
   },
   "outputs": [
    {
     "name": "stdout",
     "output_type": "stream",
     "text": [
      "[\n",
      "# origin ∩ anonymous_convex_polytope_112 ∩ anonymous_convex_polytope_112 ∩ anonymous_convex_polytope_112: \n",
      "    2 +    -5 x1 +     0 x2 +     0 x3 >= 0\n",
      "    0 +     0 x1 +     1 x2 +    -1 x3 >= 0\n",
      "    0 +     1 x1 +    -1 x2 +    -1 x3 >= 0\n",
      "    0 +     0 x1 +     0 x2 +     1 x3 >= 0\n",
      ",\n",
      "# origin ∩ anonymous_convex_polytope_112 ∩ anonymous_convex_polytope_112 ∩ anonymous_convex_polytope_113: \n",
      "   -3 +     5 x1 +     0 x2 +     0 x3 >= 0\n",
      "    0 +     0 x1 +     1 x2 +    -1 x3 >= 0\n",
      "    1 +    -1 x1 +    -1 x2 +    -1 x3 >= 0\n",
      "    0 +     0 x1 +     0 x2 +     1 x3 >= 0\n",
      "\n",
      "]\n"
     ]
    }
   ],
   "source": [
    "print(reduced_polytope)"
   ]
  },
  {
   "cell_type": "markdown",
   "metadata": {},
   "source": [
    "### Calculate infinitesimal difference"
   ]
  },
  {
   "cell_type": "code",
   "execution_count": 151,
   "metadata": {
    "scrolled": true
   },
   "outputs": [
    {
     "name": "stdout",
     "output_type": "stream",
     "text": [
      "Working on an XY interaction sequence of length 0...\n",
      "Working on the reduction 1/3... done.  Took 0.13473604898899794 seconds.\n",
      "Working on the reduction 2/3... done.  Took 0.12841775617562234 seconds.\n",
      "Working on the reduction 3/3... done.  Took 0.11057388386689126 seconds.\n",
      "The first three coordinates are the canonical coordinates CAN(x1, x2, x3).\n",
      "The remaining coordinates x4, ..., xk are the XY interaction strengths.\n",
      "[\n",
      "# origin ∩ anonymous_convex_polytope_96: \n",
      "    1 +     0 x1 +     0 x2 +     0 x3 >= 0\n",
      "    0 +     1 x1 +     0 x2 +     0 x3 == 0\n",
      "    0 +     0 x1 +     1 x2 +     0 x3 == 0\n",
      "    0 +     0 x1 +     0 x2 +     1 x3 == 0\n",
      ",\n",
      "# origin ∩ anonymous_convex_polytope_97: \n",
      "    1 +     0 x1 +     0 x2 +     0 x3 >= 0\n",
      "   -1 +     1 x1 +     0 x2 +     0 x3 == 0\n",
      "    0 +     0 x1 +     1 x2 +     0 x3 == 0\n",
      "    0 +     0 x1 +     0 x2 +     1 x3 == 0\n",
      "\n",
      "]\n",
      "Working on an XY interaction sequence of length 1...\n",
      "Working on the reduction 1/3... done.  Took 0.24852311611175537 seconds.\n",
      "Working on the reduction 2/3... done.  Took 0.2422155370004475 seconds.\n",
      "Working on the reduction 3/3... done.  Took 0.33149352902546525 seconds.\n",
      "The first three coordinates are the canonical coordinates CAN(x1, x2, x3).\n",
      "The remaining coordinates x4, ..., xk are the XY interaction strengths.\n",
      "[\n",
      "# origin ∩ anonymous_convex_polytope_96 ∩ anonymous_convex_polytope_96: \n",
      "    0 +     1 x1 +     0 x2 +     0 x3 +     0 x4 >= 0\n",
      "    1 +    -3 x1 +     0 x2 +     0 x3 +     0 x4 >= 0\n",
      "    0 +    -1 x1 +     1 x2 +     0 x3 +     0 x4 == 0\n",
      "    0 +     0 x1 +     0 x2 +     1 x3 +     0 x4 == 0\n",
      "    0 +    -1 x1 +     0 x2 +     0 x3 +     1 x4 == 0\n",
      ",\n",
      "# origin ∩ anonymous_convex_polytope_96 ∩ anonymous_convex_polytope_97: \n",
      "   -2 +     3 x1 +     0 x2 +     0 x3 +     0 x4 >= 0\n",
      "    1 +    -1 x1 +     0 x2 +     0 x3 +     0 x4 >= 0\n",
      "   -1 +     1 x1 +     1 x2 +     0 x3 +     0 x4 == 0\n",
      "    0 +     0 x1 +     0 x2 +     1 x3 +     0 x4 == 0\n",
      "   -1 +     1 x1 +     0 x2 +     0 x3 +     1 x4 == 0\n",
      "\n",
      "]\n",
      "Working on an XY interaction sequence of length 2...\n",
      "Working on the reduction 1/3... done.  Took 0.40461053792387247 seconds.\n",
      "Working on the reduction 2/3... done.  Took 0.2528827909845859 seconds.\n",
      "Working on the reduction 3/3... done.  Took 0.5101823159493506 seconds.\n",
      "The first three coordinates are the canonical coordinates CAN(x1, x2, x3).\n",
      "The remaining coordinates x4, ..., xk are the XY interaction strengths.\n",
      "[\n",
      "# origin ∩ anonymous_convex_polytope_96 ∩ anonymous_convex_polytope_96 ∩ anonymous_convex_polytope_96: \n",
      "    0 +     0 x1 +     0 x2 +     1 x3 +     0 x4 +     0 x5 >= 0\n",
      "    0 +     1 x1 +    -1 x2 +    -1 x3 +     0 x4 +     0 x5 >= 0\n",
      "    1 +     0 x1 +     0 x2 +     0 x3 +     0 x4 +    -3 x5 >= 0\n",
      "    1 +     0 x1 +     0 x2 +     0 x3 +    -3 x4 +     0 x5 >= 0\n",
      "    0 +     0 x1 +     1 x2 +    -1 x3 +     0 x4 +     0 x5 >= 0\n",
      "    0 +     0 x1 +     1 x2 +     0 x3 +    -1 x4 +     1 x5 >= 0\n",
      "    0 +    -1 x1 +     1 x2 +    -1 x3 +     0 x4 +     2 x5 >= 0\n",
      "    0 +     0 x1 +     1 x2 +     0 x3 +     1 x4 +    -1 x5 >= 0\n",
      "    1 +    -1 x1 +    -1 x2 +     0 x3 +     0 x4 +     0 x5 >= 0\n",
      "    0 +    -1 x1 +     0 x2 +     0 x3 +     1 x4 +     1 x5 >= 0\n",
      "    0 +    -1 x1 +     1 x2 +    -1 x3 +     2 x4 +     0 x5 >= 0\n",
      ",\n",
      "# origin ∩ anonymous_convex_polytope_96 ∩ anonymous_convex_polytope_96 ∩ anonymous_convex_polytope_97: \n",
      "    0 +     0 x1 +     0 x2 +     1 x3 +     0 x4 +     0 x5 >= 0\n",
      "    1 +    -1 x1 +    -1 x2 +    -1 x3 +     0 x4 +     0 x5 >= 0\n",
      "    1 +     0 x1 +     0 x2 +     0 x3 +     0 x4 +    -3 x5 >= 0\n",
      "    0 +     0 x1 +     1 x2 +     0 x3 +     1 x4 +    -1 x5 >= 0\n",
      "    0 +     0 x1 +     1 x2 +    -1 x3 +     0 x4 +     0 x5 >= 0\n",
      "    0 +     0 x1 +     1 x2 +     0 x3 +    -1 x4 +     1 x5 >= 0\n",
      "   -1 +     1 x1 +     1 x2 +    -1 x3 +     0 x4 +     2 x5 >= 0\n",
      "    1 +     0 x1 +     0 x2 +     0 x3 +    -3 x4 +     0 x5 >= 0\n",
      "   -1 +     1 x1 +     0 x2 +     0 x3 +     1 x4 +     1 x5 >= 0\n",
      "   -1 +     1 x1 +     1 x2 +    -1 x3 +     2 x4 +     0 x5 >= 0\n",
      "    0 +     1 x1 +    -1 x2 +     0 x3 +     0 x4 +     0 x5 >= 0\n",
      "\n",
      "]\n",
      "Working on an XY interaction sequence of length 3...\n",
      "Working on the reduction 1/3... done.  Took 46.77934685908258 seconds.\n",
      "Working on the reduction 2/3... done.  Took 2.4386453521437943 seconds.\n",
      "Working on the reduction 3/3... done.  Took 1.5296638968866318 seconds.\n",
      "The first three coordinates are the canonical coordinates CAN(x1, x2, x3).\n",
      "The remaining coordinates x4, ..., xk are the XY interaction strengths.\n",
      "[\n",
      "# origin ∩ anonymous_convex_polytope_96 ∩ anonymous_convex_polytope_96 ∩ anonymous_convex_polytope_96 ∩ anonymous_convex_polytope_96: \n",
      "    0 +     1 x1 +    -1 x2 +     0 x3 +     0 x4 +     0 x5 +     0 x6 >= 0\n",
      "    1 +    -1 x1 +    -1 x2 +     0 x3 +     0 x4 +     0 x5 +     0 x6 >= 0\n",
      "    0 +     0 x1 +     1 x2 +     0 x3 +    -1 x4 +     1 x5 +     1 x6 >= 0\n",
      "    0 +    -1 x1 +     1 x2 +    -1 x3 +     0 x4 +     2 x5 +     2 x6 >= 0\n",
      "    0 +     0 x1 +     1 x2 +     0 x3 +     1 x4 +     1 x5 +    -1 x6 >= 0\n",
      "    0 +     0 x1 +     0 x2 +     1 x3 +     0 x4 +     0 x5 +     0 x6 >= 0\n",
      "    0 +     1 x1 +     1 x2 +    -1 x3 +     2 x4 +    -2 x5 +     2 x6 >= 0\n",
      "    0 +    -1 x1 +     0 x2 +     0 x3 +     1 x4 +     1 x5 +     1 x6 >= 0\n",
      "    0 +    -1 x1 +     1 x2 +    -1 x3 +     2 x4 +     0 x5 +     2 x6 >= 0\n",
      "    0 +     0 x1 +     1 x2 +     0 x3 +     1 x4 +    -1 x5 +     1 x6 >= 0\n",
      "    0 +     0 x1 +     0 x2 +     0 x3 +     0 x4 +     0 x5 +     1 x6 >= 0\n",
      "    0 +     1 x1 +    -1 x2 +    -1 x3 +     0 x4 +     0 x5 +     2 x6 >= 0\n",
      "    0 +     0 x1 +     0 x2 +     0 x3 +     1 x4 +     0 x5 +     0 x6 >= 0\n",
      "    0 +    -1 x1 +    -1 x2 +    -1 x3 +     2 x4 +     2 x5 +     2 x6 >= 0\n",
      "    0 +     0 x1 +     0 x2 +    -1 x3 +     1 x4 +     1 x5 +     0 x6 >= 0\n",
      "    0 +    -1 x1 +     1 x2 +    -1 x3 +     2 x4 +     2 x5 +     0 x6 >= 0\n",
      "    0 +     1 x1 +     1 x2 +    -1 x3 +     2 x4 +     2 x5 +    -2 x6 >= 0\n",
      "    0 +     0 x1 +     0 x2 +    -1 x3 +     1 x4 +     0 x5 +     1 x6 >= 0\n",
      "    0 +     1 x1 +    -1 x2 +    -1 x3 +     2 x4 +     0 x5 +     0 x6 >= 0\n",
      "    1 +     0 x1 +     0 x2 +     0 x3 +     0 x4 +    -3 x5 +     0 x6 >= 0\n",
      "    0 +     0 x1 +     1 x2 +    -1 x3 +     0 x4 +     0 x5 +     0 x6 >= 0\n",
      "    1 +     0 x1 +     0 x2 +     0 x3 +     0 x4 +     0 x5 +    -3 x6 >= 0\n",
      "    0 +     0 x1 +     0 x2 +     0 x3 +     0 x4 +     1 x5 +     0 x6 >= 0\n",
      "    0 +     1 x1 +     1 x2 +    -1 x3 +    -2 x4 +     2 x5 +     2 x6 >= 0\n",
      "    1 +     0 x1 +     0 x2 +     0 x3 +    -3 x4 +     0 x5 +     0 x6 >= 0\n",
      "    0 +     1 x1 +    -1 x2 +    -1 x3 +     0 x4 +     2 x5 +     0 x6 >= 0\n",
      "    0 +     0 x1 +     0 x2 +    -1 x3 +     0 x4 +     1 x5 +     1 x6 >= 0\n",
      ",\n",
      "# origin ∩ anonymous_convex_polytope_96 ∩ anonymous_convex_polytope_96 ∩ anonymous_convex_polytope_97 ∩ anonymous_convex_polytope_96: \n",
      "    1 +     0 x1 +     0 x2 +     0 x3 +    -3 x4 +     0 x5 +     0 x6 >= 0\n",
      "    0 +     0 x1 +     0 x2 +    -1 x3 +     0 x4 +     1 x5 +     1 x6 >= 0\n",
      "    1 +    -1 x1 +    -1 x2 +    -1 x3 +     0 x4 +     2 x5 +     0 x6 >= 0\n",
      "   -1 +     1 x1 +    -1 x2 +    -1 x3 +     2 x4 +     2 x5 +     2 x6 >= 0\n",
      "    0 +     1 x1 +    -1 x2 +     0 x3 +     0 x4 +     0 x5 +     0 x6 >= 0\n",
      "    1 +    -1 x1 +     1 x2 +    -1 x3 +    -2 x4 +     2 x5 +     2 x6 >= 0\n",
      "    1 +    -1 x1 +     1 x2 +    -1 x3 +     2 x4 +     2 x5 +    -2 x6 >= 0\n",
      "    1 +    -1 x1 +    -1 x2 +     0 x3 +     0 x4 +     0 x5 +     0 x6 >= 0\n",
      "    1 +    -1 x1 +    -1 x2 +    -1 x3 +     0 x4 +     0 x5 +     2 x6 >= 0\n",
      "   -1 +     1 x1 +     1 x2 +    -1 x3 +     0 x4 +     2 x5 +     2 x6 >= 0\n",
      "    0 +     0 x1 +     0 x2 +     0 x3 +     0 x4 +     1 x5 +     0 x6 >= 0\n",
      "    0 +     0 x1 +     0 x2 +    -1 x3 +     1 x4 +     1 x5 +     0 x6 >= 0\n",
      "   -1 +     1 x1 +     0 x2 +     0 x3 +     1 x4 +     1 x5 +     1 x6 >= 0\n",
      "   -1 +     1 x1 +     1 x2 +    -1 x3 +     2 x4 +     2 x5 +     0 x6 >= 0\n",
      "   -1 +     1 x1 +     1 x2 +    -1 x3 +     2 x4 +     0 x5 +     2 x6 >= 0\n",
      "    1 +     0 x1 +     0 x2 +     0 x3 +     0 x4 +     0 x5 +    -3 x6 >= 0\n",
      "    0 +     0 x1 +     1 x2 +     0 x3 +     1 x4 +     1 x5 +    -1 x6 >= 0\n",
      "    0 +     0 x1 +     0 x2 +    -1 x3 +     1 x4 +     0 x5 +     1 x6 >= 0\n",
      "    0 +     0 x1 +     0 x2 +     0 x3 +     1 x4 +     0 x5 +     0 x6 >= 0\n",
      "    0 +     0 x1 +     0 x2 +     1 x3 +     0 x4 +     0 x5 +     0 x6 >= 0\n",
      "    0 +     0 x1 +     1 x2 +    -1 x3 +     0 x4 +     0 x5 +     0 x6 >= 0\n",
      "    0 +     0 x1 +     1 x2 +     0 x3 +    -1 x4 +     1 x5 +     1 x6 >= 0\n",
      "    0 +     0 x1 +     0 x2 +     0 x3 +     0 x4 +     0 x5 +     1 x6 >= 0\n",
      "    1 +    -1 x1 +     1 x2 +    -1 x3 +     2 x4 +    -2 x5 +     2 x6 >= 0\n",
      "    1 +    -1 x1 +    -1 x2 +    -1 x3 +     2 x4 +     0 x5 +     0 x6 >= 0\n",
      "    0 +     0 x1 +     1 x2 +     0 x3 +     1 x4 +    -1 x5 +     1 x6 >= 0\n",
      "    1 +     0 x1 +     0 x2 +     0 x3 +     0 x4 +    -3 x5 +     0 x6 >= 0\n",
      "\n",
      "]\n",
      "Working on an XY interaction sequence of length 4...\n"
     ]
    },
    {
     "name": "stdout",
     "output_type": "stream",
     "text": [
      "Working on the reduction 1/3... done.  Took 4178.79631907586 seconds.\n",
      "Working on the reduction 2/3... done.  Took 729.1953250900842 seconds.\n",
      "Working on the reduction 3/3... done.  Took 21.90655285306275 seconds.\n",
      "The first three coordinates are the canonical coordinates CAN(x1, x2, x3).\n",
      "The remaining coordinates x4, ..., xk are the XY interaction strengths.\n",
      "[\n",
      "# origin ∩ anonymous_convex_polytope_96 ∩ anonymous_convex_polytope_96 ∩ anonymous_convex_polytope_96 ∩ anonymous_convex_polytope_96 ∩ anonymous_convex_polytope_96: \n",
      "    0 +     1 x1 +     1 x2 +    -1 x3 +     2 x4 +    -2 x5 +     2 x6 +     2 x7 >= 0\n",
      "    0 +     0 x1 +     1 x2 +     0 x3 +     1 x4 +    -1 x5 +     1 x6 +     1 x7 >= 0\n",
      "    0 +    -1 x1 +     1 x2 +    -1 x3 +     2 x4 +     0 x5 +     2 x6 +     2 x7 >= 0\n",
      "    1 +     0 x1 +     0 x2 +     0 x3 +     0 x4 +    -3 x5 +     0 x6 +     0 x7 >= 0\n",
      "    0 +     1 x1 +    -1 x2 +    -1 x3 +     2 x4 +     0 x5 +     0 x6 +     2 x7 >= 0\n",
      "    0 +    -1 x1 +     1 x2 +    -1 x3 +     2 x4 +     2 x5 +     2 x6 +     0 x7 >= 0\n",
      "    1 +     0 x1 +     0 x2 +     0 x3 +     0 x4 +     0 x5 +    -3 x6 +     0 x7 >= 0\n",
      "    0 +     0 x1 +     1 x2 +     0 x3 +     1 x4 +     1 x5 +     1 x6 +    -1 x7 >= 0\n",
      "    0 +     0 x1 +     1 x2 +     0 x3 +     1 x4 +     1 x5 +    -1 x6 +     1 x7 >= 0\n",
      "    0 +     0 x1 +     0 x2 +    -1 x3 +     1 x4 +     1 x5 +     0 x6 +     1 x7 >= 0\n",
      "    0 +     0 x1 +     0 x2 +    -1 x3 +     0 x4 +     1 x5 +     1 x6 +     1 x7 >= 0\n",
      "    0 +    -1 x1 +    -1 x2 +    -1 x3 +     2 x4 +     2 x5 +     2 x6 +     2 x7 >= 0\n",
      "    0 +     1 x1 +    -1 x2 +    -1 x3 +     0 x4 +     0 x5 +     2 x6 +     2 x7 >= 0\n",
      "    0 +     0 x1 +     0 x2 +     0 x3 +     0 x4 +     0 x5 +     0 x6 +     1 x7 >= 0\n",
      "    0 +     0 x1 +     0 x2 +    -1 x3 +     1 x4 +     0 x5 +     1 x6 +     1 x7 >= 0\n",
      "    0 +     0 x1 +     0 x2 +     0 x3 +     0 x4 +     0 x5 +     1 x6 +     0 x7 >= 0\n",
      "    0 +     1 x1 +     1 x2 +    -1 x3 +     2 x4 +     2 x5 +     2 x6 +    -2 x7 >= 0\n",
      "    0 +     0 x1 +     1 x2 +     0 x3 +    -1 x4 +     1 x5 +     1 x6 +     1 x7 >= 0\n",
      "    0 +     1 x1 +     1 x2 +    -1 x3 +    -2 x4 +     2 x5 +     2 x6 +     2 x7 >= 0\n",
      "    0 +     0 x1 +     1 x2 +    -1 x3 +     0 x4 +     0 x5 +     0 x6 +     0 x7 >= 0\n",
      "    0 +     1 x1 +     1 x2 +    -1 x3 +     2 x4 +     2 x5 +    -2 x6 +     2 x7 >= 0\n",
      "    0 +     0 x1 +     0 x2 +    -1 x3 +     1 x4 +     1 x5 +     1 x6 +     0 x7 >= 0\n",
      "    0 +     1 x1 +    -1 x2 +    -1 x3 +     2 x4 +     0 x5 +     2 x6 +     0 x7 >= 0\n",
      "    0 +     0 x1 +     0 x2 +     0 x3 +     1 x4 +     0 x5 +     0 x6 +     0 x7 >= 0\n",
      "    1 +    -1 x1 +    -1 x2 +     0 x3 +     0 x4 +     0 x5 +     0 x6 +     0 x7 >= 0\n",
      "    0 +     1 x1 +    -1 x2 +     0 x3 +     0 x4 +     0 x5 +     0 x6 +     0 x7 >= 0\n",
      "    0 +    -1 x1 +     1 x2 +    -1 x3 +     0 x4 +     2 x5 +     2 x6 +     2 x7 >= 0\n",
      "    1 +     0 x1 +     0 x2 +     0 x3 +    -3 x4 +     0 x5 +     0 x6 +     0 x7 >= 0\n",
      "    0 +    -1 x1 +     0 x2 +     0 x3 +     1 x4 +     1 x5 +     1 x6 +     1 x7 >= 0\n",
      "    0 +    -1 x1 +     1 x2 +    -1 x3 +     2 x4 +     2 x5 +     0 x6 +     2 x7 >= 0\n",
      "    0 +     0 x1 +     0 x2 +     1 x3 +     0 x4 +     0 x5 +     0 x6 +     0 x7 >= 0\n",
      "    1 +     0 x1 +     0 x2 +     0 x3 +     0 x4 +     0 x5 +     0 x6 +    -3 x7 >= 0\n",
      "    0 +     1 x1 +    -1 x2 +    -1 x3 +     0 x4 +     2 x5 +     0 x6 +     2 x7 >= 0\n",
      "    0 +     0 x1 +     0 x2 +     0 x3 +     0 x4 +     1 x5 +     0 x6 +     0 x7 >= 0\n",
      "    0 +     1 x1 +    -1 x2 +    -1 x3 +     2 x4 +     2 x5 +     0 x6 +     0 x7 >= 0\n",
      "    0 +     1 x1 +    -1 x2 +    -1 x3 +     0 x4 +     2 x5 +     2 x6 +     0 x7 >= 0\n",
      ",\n",
      "# origin ∩ anonymous_convex_polytope_96 ∩ anonymous_convex_polytope_96 ∩ anonymous_convex_polytope_97 ∩ anonymous_convex_polytope_96 ∩ anonymous_convex_polytope_96: \n",
      "    0 +     0 x1 +     0 x2 +     1 x3 +     0 x4 +     0 x5 +     0 x6 +     0 x7 >= 0\n",
      "    0 +     1 x1 +    -1 x2 +     0 x3 +     0 x4 +     0 x5 +     0 x6 +     0 x7 >= 0\n",
      "    1 +     0 x1 +     0 x2 +     0 x3 +     0 x4 +     0 x5 +     0 x6 +    -3 x7 >= 0\n",
      "    1 +     0 x1 +     0 x2 +     0 x3 +     0 x4 +     0 x5 +    -3 x6 +     0 x7 >= 0\n",
      "   -1 +     1 x1 +     1 x2 +    -1 x3 +     2 x4 +     2 x5 +     2 x6 +     0 x7 >= 0\n",
      "    0 +     0 x1 +     0 x2 +     0 x3 +     0 x4 +     1 x5 +     0 x6 +     0 x7 >= 0\n",
      "    1 +    -1 x1 +     1 x2 +    -1 x3 +     2 x4 +     2 x5 +    -2 x6 +     2 x7 >= 0\n",
      "    1 +    -1 x1 +    -1 x2 +    -1 x3 +     0 x4 +     2 x5 +     0 x6 +     2 x7 >= 0\n",
      "    1 +    -1 x1 +     1 x2 +    -1 x3 +    -2 x4 +     2 x5 +     2 x6 +     2 x7 >= 0\n",
      "    0 +     0 x1 +     0 x2 +    -1 x3 +     0 x4 +     1 x5 +     1 x6 +     1 x7 >= 0\n",
      "    1 +    -1 x1 +    -1 x2 +     0 x3 +     0 x4 +     0 x5 +     0 x6 +     0 x7 >= 0\n",
      "    0 +     0 x1 +     1 x2 +     0 x3 +    -1 x4 +     1 x5 +     1 x6 +     1 x7 >= 0\n",
      "   -1 +     1 x1 +     0 x2 +     0 x3 +     1 x4 +     1 x5 +     1 x6 +     1 x7 >= 0\n",
      "   -1 +     1 x1 +     1 x2 +    -1 x3 +     2 x4 +     2 x5 +     0 x6 +     2 x7 >= 0\n",
      "   -1 +     1 x1 +     1 x2 +    -1 x3 +     2 x4 +     0 x5 +     2 x6 +     2 x7 >= 0\n",
      "    1 +    -1 x1 +    -1 x2 +    -1 x3 +     2 x4 +     2 x5 +     0 x6 +     0 x7 >= 0\n",
      "    1 +    -1 x1 +    -1 x2 +    -1 x3 +     2 x4 +     0 x5 +     0 x6 +     2 x7 >= 0\n",
      "   -1 +     1 x1 +    -1 x2 +    -1 x3 +     2 x4 +     2 x5 +     2 x6 +     2 x7 >= 0\n",
      "    0 +     0 x1 +     0 x2 +    -1 x3 +     1 x4 +     0 x5 +     1 x6 +     1 x7 >= 0\n",
      "    0 +     0 x1 +     0 x2 +    -1 x3 +     1 x4 +     1 x5 +     0 x6 +     1 x7 >= 0\n",
      "    0 +     0 x1 +     0 x2 +    -1 x3 +     1 x4 +     1 x5 +     1 x6 +     0 x7 >= 0\n",
      "    0 +     0 x1 +     0 x2 +     0 x3 +     1 x4 +     0 x5 +     0 x6 +     0 x7 >= 0\n",
      "    0 +     0 x1 +     1 x2 +     0 x3 +     1 x4 +     1 x5 +     1 x6 +    -1 x7 >= 0\n",
      "    1 +    -1 x1 +     1 x2 +    -1 x3 +     2 x4 +     2 x5 +     2 x6 +    -2 x7 >= 0\n",
      "    1 +    -1 x1 +     1 x2 +    -1 x3 +     2 x4 +    -2 x5 +     2 x6 +     2 x7 >= 0\n",
      "    1 +    -1 x1 +    -1 x2 +    -1 x3 +     2 x4 +     0 x5 +     2 x6 +     0 x7 >= 0\n",
      "    0 +     0 x1 +     1 x2 +     0 x3 +     1 x4 +     1 x5 +    -1 x6 +     1 x7 >= 0\n",
      "    0 +     0 x1 +     0 x2 +     0 x3 +     0 x4 +     0 x5 +     1 x6 +     0 x7 >= 0\n",
      "    0 +     0 x1 +     1 x2 +     0 x3 +     1 x4 +    -1 x5 +     1 x6 +     1 x7 >= 0\n",
      "    0 +     0 x1 +     1 x2 +    -1 x3 +     0 x4 +     0 x5 +     0 x6 +     0 x7 >= 0\n",
      "    1 +     0 x1 +     0 x2 +     0 x3 +     0 x4 +    -3 x5 +     0 x6 +     0 x7 >= 0\n",
      "    1 +    -1 x1 +    -1 x2 +    -1 x3 +     0 x4 +     0 x5 +     2 x6 +     2 x7 >= 0\n",
      "    0 +     0 x1 +     0 x2 +     0 x3 +     0 x4 +     0 x5 +     0 x6 +     1 x7 >= 0\n",
      "   -1 +     1 x1 +     1 x2 +    -1 x3 +     0 x4 +     2 x5 +     2 x6 +     2 x7 >= 0\n",
      "    1 +    -1 x1 +    -1 x2 +    -1 x3 +     0 x4 +     2 x5 +     2 x6 +     0 x7 >= 0\n",
      "    1 +     0 x1 +     0 x2 +     0 x3 +    -3 x4 +     0 x5 +     0 x6 +     0 x7 >= 0\n",
      "\n",
      "]\n"
     ]
    }
   ],
   "source": [
    "polytope_list = compute_polytope(4, 1/3)"
   ]
  },
  {
   "cell_type": "code",
   "execution_count": 152,
   "metadata": {},
   "outputs": [
    {
     "data": {
      "text/plain": [
       "2"
      ]
     },
     "execution_count": 152,
     "metadata": {},
     "output_type": "execute_result"
    }
   ],
   "source": [
    "len(polytope_list[4].convex_subpolytopes)"
   ]
  },
  {
   "cell_type": "code",
   "execution_count": 141,
   "metadata": {},
   "outputs": [],
   "source": [
    "### 1/3 + 1e-4\n",
    "polytope = polytope_dict[Fraction(222223,666667)]"
   ]
  },
  {
   "cell_type": "code",
   "execution_count": 142,
   "metadata": {},
   "outputs": [],
   "source": [
    "p0, p1, p2, p3 = polytope[3].convex_subpolytopes"
   ]
  },
  {
   "cell_type": "code",
   "execution_count": 143,
   "metadata": {},
   "outputs": [
    {
     "name": "stdout",
     "output_type": "stream",
     "text": [
      "p0 Volume: 580/940607\n",
      "p1 Volume: 580/940607\n",
      "p2 Volume: 229/465499\n",
      "p3 Volume: 229/465499\n"
     ]
    }
   ],
   "source": [
    "print(f\"p0 Volume: {p0.volume.volume.limit_denominator()}\")\n",
    "print(f\"p1 Volume: {p1.volume.volume.limit_denominator()}\")\n",
    "print(f\"p2 Volume: {p2.volume.volume.limit_denominator()}\")\n",
    "print(f\"p3 Volume: {p3.volume.volume.limit_denominator()}\")"
   ]
  },
  {
   "cell_type": "markdown",
   "metadata": {},
   "source": [
    "### Computing the ratio between the volume of p3 and p0"
   ]
  },
  {
   "cell_type": "code",
   "execution_count": 144,
   "metadata": {},
   "outputs": [],
   "source": [
    "volume_dict = dict()\n",
    "for angle in sorted(polytope_dict.keys()):\n",
    "    if len(polytope_dict[angle][3].convex_subpolytopes) ==4:\n",
    "        p0 = polytope_dict[angle][3].convex_subpolytopes[0]\n",
    "        p1 = polytope_dict[angle][3].convex_subpolytopes[1]\n",
    "        p2 = polytope_dict[angle][3].convex_subpolytopes[2]\n",
    "        p3 = polytope_dict[angle][3].convex_subpolytopes[3]\n",
    "        \n",
    "        ratio1 = p3.volume.volume / p0.volume.volume\n",
    "        ratio2 = p2.volume.volume / p1.volume.volume\n",
    "        \n",
    "        assert ratio1 == ratio2, f\"{angle} is kinda weird\"\n",
    "        \n",
    "        volume_dict[angle] = float(ratio1)"
   ]
  },
  {
   "cell_type": "code",
   "execution_count": 145,
   "metadata": {},
   "outputs": [
    {
     "data": {
      "text/plain": [
       "{Fraction(222223, 666667): 0.797805347150731,\n",
       " Fraction(10003, 30000): 0.797842270799506,\n",
       " Fraction(17, 48): 0.8056135309660591,\n",
       " Fraction(3, 8): 0.8132613111809357,\n",
       " Fraction(19, 48): 0.8205367775338661,\n",
       " Fraction(5, 12): 0.827403782954113,\n",
       " Fraction(7, 16): 0.8339552111623237,\n",
       " Fraction(11, 24): 0.8403588065096621,\n",
       " Fraction(23, 48): 0.8468302384550835,\n",
       " Fraction(1, 2): 0.8536271020007364}"
      ]
     },
     "execution_count": 145,
     "metadata": {},
     "output_type": "execute_result"
    }
   ],
   "source": [
    "volume_dict"
   ]
  },
  {
   "cell_type": "code",
   "execution_count": 149,
   "metadata": {},
   "outputs": [
    {
     "data": {
      "text/plain": [
       "<matplotlib.collections.PathCollection at 0x7fba59141120>"
      ]
     },
     "execution_count": 149,
     "metadata": {},
     "output_type": "execute_result"
    },
    {
     "data": {
      "image/png": "[encoded data removed]",
      "text/plain": [
       "<Figure size 432x288 with 1 Axes>"
      ]
     },
     "metadata": {
      "needs_background": "light"
     },
     "output_type": "display_data"
    }
   ],
   "source": [
    "x = list(volume_dict.keys())\n",
    "y = np.array([volume_dict[angle] for angle in x])\n",
    "x = np.array([float(elem) for elem in x])\n",
    "\n",
    "fig, ax = plt.subplots()\n",
    "\n",
    "ax.set_title(\"Ratio vs. Maximum Angle\")\n",
    "ax.set_xlabel(\"Maximum Angle\")\n",
    "ax.set_ylabel(\"Percentage Coverage\")\n",
    "ax.set_yscale('linear')\n",
    "ax.scatter(x, y, s = 5)"
   ]
  },
  {
   "cell_type": "code",
   "execution_count": 150,
   "metadata": {},
   "outputs": [
    {
     "name": "stdout",
     "output_type": "stream",
     "text": [
      "Slope: 0.3343178920139052\n",
      "Intercept: 0.6872069220215978\n",
      "R-squared: 0.9986746611752839\n"
     ]
    },
    {
     "data": {
      "image/png": "[encoded data removed]",
      "text/plain": [
       "<Figure size 432x288 with 1 Axes>"
      ]
     },
     "metadata": {
      "needs_background": "light"
     },
     "output_type": "display_data"
    }
   ],
   "source": [
    "# Perform linear regression\n",
    "slope, intercept, r_value, p_value, std_err = stats.linregress(x, y)\n",
    "\n",
    "# Print the results\n",
    "print(f\"Slope: {slope}\")\n",
    "print(f\"Intercept: {intercept}\")\n",
    "print(f\"R-squared: {r_value**2}\")\n",
    "\n",
    "# Plot the data and the regression line\n",
    "plt.scatter(x, y, color='blue', label='Data points')\n",
    "plt.plot(x, slope*x + intercept, color='red', label='Fitted line')\n",
    "plt.xlabel('Maximum Angle')\n",
    "plt.ylabel('Ratio')\n",
    "plt.legend()\n",
    "plt.show()"
   ]
  },
  {
   "cell_type": "markdown",
   "metadata": {},
   "source": [
    "### Problem 4 (cont.)"
   ]
  },
  {
   "cell_type": "markdown",
   "metadata": {},
   "source": [
    "Continuing with problem 4, today we explore a new method to check whether any extremal vertices of $\\frac{\\pi}{6}$ actually touch the side of the high dimensional polytope. First, we isolate the vertices of the $\\frac{\\pi}{6}$. Then we check if these vertices satisfy the equality constraints of the grand-polytope. This means just checking dot product."
   ]
  },
  {
   "cell_type": "code",
   "execution_count": 469,
   "metadata": {},
   "outputs": [],
   "source": [
    "positive_canonical_alcove = make_convex_polytope([\n",
    "    [1, -1,  0,  0],  # 1  >= c1\n",
    "    [0,  1, -1,  0],  # c1 >= c2\n",
    "    [0,  0,  1, -1],  # c2 >= c3\n",
    "    [1, -1, -1,  0],  # 1 - c1 >= c2,  # c3 >= 0\n",
    "], name=\"A_SU(4)^can\")\n",
    "\"\"\"\n",
    "Inequalities defining the standard choice of fundamental Weyl alcove in\n",
    "normalized positive canonical coordinates for SU(4).\n",
    "\n",
    "cf. Eqn 6 of Entropy.\n",
    "\"\"\"\n",
    "\n",
    "\n",
    "positive_canonical_alcove_c2 = make_convex_polytope([\n",
    "    *positive_canonical_alcove.convex_subpolytopes[0].inequalities,\n",
    "    [0, 0, 0, 1],  # c3 >=  0, the C2 inequality\n",
    "], name=\"A_PU(4)^can\")"
   ]
  },
  {
   "cell_type": "code",
   "execution_count": 420,
   "metadata": {},
   "outputs": [
    {
     "data": {
      "text/plain": [
       "Polytope(convex_subpolytopes=[ConvexPolytope(inequalities=[[1, -1, 0, 0], [0, 1, -1, 0], [0, 0, 1, -1], [1, -1, -1, 0], [0, 0, 0, 1]], equalities=[], name='A_PU(4)^can')])"
      ]
     },
     "execution_count": 420,
     "metadata": {},
     "output_type": "execute_result"
    }
   ],
   "source": [
    "positive_canonical_alcove_c2"
   ]
  },
  {
   "cell_type": "code",
   "execution_count": 421,
   "metadata": {},
   "outputs": [],
   "source": [
    "grand_polytope = ConvexPolytope(inequalities=[\n",
    "    [1, -1, 0, 0, 0, 0, 0],\n",
    "    [0, 1, -1, 0, 0, 0, 0],\n",
    "    [0, 0, 1, -1, 0, 0, 0],\n",
    "    [1, -1, -1, 0, 0, 0, 0],\n",
    "    [0, 0, 0, 1, 0, 0, 0],\n",
    "    [1, 0, 0, 0, -2, 0, 0],\n",
    "    [1, 0, 0, 0, 0, -2, 0],\n",
    "    [1, 0, 0, 0, 0, 0, -2],\n",
    "    [0, 0, 0, 0, 1, 0, 0],\n",
    "    [0, 0, 0, 0, 0, 1, 0],\n",
    "    [0, 0, 0, 0, 0, 0, 1],\n",
    "], name='grand_polytope')\n",
    "\n",
    "grand_polytope_faces = make_face(grand_polytope)"
   ]
  }
 ],
 "metadata": {
  "kernelspec": {
   "display_name": "Python 3.10",
   "language": "python",
   "name": "python3.10"
  },
  "language_info": {
   "codemirror_mode": {
    "name": "ipython",
    "version": 3
   },
   "file_extension": ".py",
   "mimetype": "text/x-python",
   "name": "python",
   "nbconvert_exporter": "python",
   "pygments_lexer": "ipython3",
   "version": "3.10.4"
  }
 },
 "nbformat": 4,
 "nbformat_minor": 2
}
