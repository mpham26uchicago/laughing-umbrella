{
 "cells": [
  {
   "cell_type": "code",
   "execution_count": 1,
   "metadata": {},
   "outputs": [
    {
     "name": "stdout",
     "output_type": "stream",
     "text": [
      "/Users/minhpham/Documents/Research/laughing-umbrella/xx_synthesis/monodromy/lrslib-071b/lrs\n"
     ]
    }
   ],
   "source": [
    "import numpy as np\n",
    "from fractions import *\n",
    "\n",
    "from time import perf_counter, time\n",
    "\n",
    "import sys\n",
    "\n",
    "sys.path.insert(1, \"/Users/minhpham/Documents/Research/laughing-umbrella/xx_synthesis/monodromy\")\n",
    "\n",
    "import monodromy\n",
    "\n",
    "from monodromy.coordinates import monodromy_alcove, monodromy_alcove_c2, monodromy_to_positive_canonical_polytope, rho_reflect\n",
    "from monodromy.elimination import cylinderize, project\n",
    "from monodromy.polytopes import *\n",
    "from monodromy.static import qlr_polytope\n",
    "from monodromy.method import *\n",
    "\n",
    "from itertools import count\n",
    "\n",
    "import os\n",
    "\n",
    "import matplotlib.pyplot as plt\n",
    "\n",
    "from scipy import stats\n",
    "\n",
    "from functools import reduce\n",
    "from itertools import combinations\n",
    "\n",
    "from sympy import Matrix"
   ]
  },
  {
   "cell_type": "code",
   "execution_count": 27,
   "metadata": {},
   "outputs": [],
   "source": [
    "def remove_duplicates(unhashable_list):\n",
    "    unique_list = []\n",
    "    for item in unhashable_list:\n",
    "        if item not in unique_list:\n",
    "            unique_list.append(item)\n",
    "    return unique_list"
   ]
  },
  {
   "cell_type": "code",
   "execution_count": 31,
   "metadata": {},
   "outputs": [
    {
     "data": {
      "text/plain": [
       "(6, 10)"
      ]
     },
     "execution_count": 31,
     "metadata": {},
     "output_type": "execute_result"
    }
   ],
   "source": [
    "monodromy_alcove_c2 = make_convex_polytope([\n",
    "    [1, -2, -1, -1],\n",
    "    [0,  0,  1,  1],\n",
    "    [0,  1, -1,  0],\n",
    "    [0,  0,  1, -1]\n",
    "], name=\"A_PU(4)^monodromy\")\n",
    "\n",
    "grand_polytope_array = np.array([\n",
    "    [1, -1, 0, 0, 0, 0, 0],\n",
    "    [0, 1, -1, 0, 0, 0, 0],\n",
    "    [0, 0, 1, -1, 0, 0, 0],\n",
    "    [1, -1, -1, 0, 0, 0, 0],\n",
    "    [0, 0, 0, 1, 0, 0, 0],\n",
    "    [1, 0, 0, 0, -2, 0, 0], # alpha_i <= 1/2\n",
    "    [1, 0, 0, 0, 0, -2, 0], \n",
    "    [1, 0, 0, 0, 0, 0, -2],\n",
    "    [0, 0, 0, 0, 1, 0, 0],  # alpha_i >= 0\n",
    "    [0, 0, 0, 0, 0, 1, 0],\n",
    "    [0, 0, 0, 0, 0, 0, 1],\n",
    "]).T\n",
    "\n",
    "grand_polytope_array = np.array([\n",
    "    [1, -1, 0, 0, 0, 0],\n",
    "    [0, 1, -1, 0, 0, 0],\n",
    "    [0, 0, 1, -1, 0, 0],\n",
    "    [1, -1, -1, 0, 0, 0],\n",
    "    [0, 0, 0, 1, 0, 0],\n",
    "    [1, 0, 0, 0, -2, 0], # alpha_i <= 1/2\n",
    "    [1, 0, 0, 0, 0, -2], \n",
    "    [1, 0, 0, 0, 0, 0],\n",
    "    [0, 0, 0, 0, 1, 0],  # alpha_i >= 0\n",
    "    [0, 0, 0, 0, 0, 1],\n",
    "]).T\n",
    "\n",
    "grand_polytope_array.shape"
   ]
  },
  {
   "cell_type": "code",
   "execution_count": 32,
   "metadata": {},
   "outputs": [],
   "source": [
    "def compute_touching(polytope):\n",
    "    global grand_polytope_array\n",
    "    \n",
    "    # Unpack the list of vertices from both convex components\n",
    "    #vertices_list = reduce(lambda l1, l2: l1 + l2, polytope.vertices)\n",
    "    vertices_list = polytope.vertices[0]\n",
    "\n",
    "    # Remove redundant element and sort vertices list (48 from each becomes 73)\n",
    "    vertices_array = np.array(sorted(remove_duplicates(vertices_list)))\n",
    "\n",
    "    # Pad a column of 1 so it is of compatiable dimension\n",
    "    vertices_array = np.hstack(\n",
    "        [np.ones((vertices_array.shape[0], 1)), vertices_array])\n",
    "\n",
    "    # Compute the touching matrix\n",
    "    touching_matrix = np.matmul(vertices_array, grand_polytope_array)\n",
    "\n",
    "    # Count the number of touching (zero entries)\n",
    "    no_touching = np.dot(*touching_matrix.shape) - np.count_nonzero(touching_matrix)\n",
    "    \n",
    "    return no_touching, touching_matrix"
   ]
  },
  {
   "cell_type": "code",
   "execution_count": 162,
   "metadata": {},
   "outputs": [],
   "source": [
    "start = Fraction(0, 1)\n",
    "end = Fraction(1, 3)\n",
    "num_points = 30\n",
    "\n",
    "# Calculate the step size\n",
    "step = (end-start) / (num_points)\n",
    "\n",
    "# Generate the list of fractions\n",
    "fractions_list = [start + i * step for i in range(num_points)]"
   ]
  },
  {
   "cell_type": "code",
   "execution_count": 163,
   "metadata": {
    "scrolled": true
   },
   "outputs": [
    {
     "ename": "IndexError",
     "evalue": "list index out of range",
     "output_type": "error",
     "traceback": [
      "\u001b[0;31m---------------------------------------------------------------------------\u001b[0m",
      "\u001b[0;31mIndexError\u001b[0m                                Traceback (most recent call last)",
      "Input \u001b[0;32mIn [163]\u001b[0m, in \u001b[0;36m<cell line: 3>\u001b[0;34m()\u001b[0m\n\u001b[1;32m      8\u001b[0m \u001b[38;5;28;01melse\u001b[39;00m:\n\u001b[1;32m      9\u001b[0m     polytope \u001b[38;5;241m=\u001b[39m polytope_dict[angle][\u001b[38;5;241m3\u001b[39m]\n\u001b[0;32m---> 11\u001b[0m touching_dict[angle] \u001b[38;5;241m=\u001b[39m \u001b[43mcompute_touching\u001b[49m\u001b[43m(\u001b[49m\u001b[43mpolytope\u001b[49m\u001b[43m)\u001b[49m[\u001b[38;5;241m0\u001b[39m]\n",
      "Input \u001b[0;32mIn [161]\u001b[0m, in \u001b[0;36mcompute_touching\u001b[0;34m(polytope)\u001b[0m\n\u001b[1;32m      1\u001b[0m \u001b[38;5;28;01mdef\u001b[39;00m \u001b[38;5;21mcompute_touching\u001b[39m(polytope):\n\u001b[1;32m      2\u001b[0m     \u001b[38;5;66;03m# Unpack the list of vertices from both convex components\u001b[39;00m\n\u001b[1;32m      3\u001b[0m     \u001b[38;5;66;03m#vertices_list = reduce(lambda l1, l2: l1 + l2, polytope.vertices)\u001b[39;00m\n\u001b[0;32m----> 4\u001b[0m     vertices_list \u001b[38;5;241m=\u001b[39m \u001b[43mpolytope\u001b[49m\u001b[38;5;241;43m.\u001b[39;49m\u001b[43mvertices\u001b[49m\u001b[43m[\u001b[49m\u001b[38;5;241;43m2\u001b[39;49m\u001b[43m]\u001b[49m\n\u001b[1;32m      6\u001b[0m     \u001b[38;5;66;03m# Remove redundant element and sort vertices list (48 from each becomes 73)\u001b[39;00m\n\u001b[1;32m      7\u001b[0m     vertices_array \u001b[38;5;241m=\u001b[39m np\u001b[38;5;241m.\u001b[39marray(\u001b[38;5;28msorted\u001b[39m(remove_duplicates(vertices_list)))\n",
      "\u001b[0;31mIndexError\u001b[0m: list index out of range"
     ]
    }
   ],
   "source": [
    "touching_dict = dict()\n",
    "\n",
    "for angle in fractions_list:\n",
    "    if angle not in polytope_dict.keys():\n",
    "        polytope_list = compute_polytope(3, angle)\n",
    "        polytope_dict[angle] = polytope_list\n",
    "        polytope = polytope_list[3]\n",
    "    else:\n",
    "        polytope = polytope_dict[angle][3]\n",
    "\n",
    "    touching_dict[angle] = compute_touching(polytope)[0]"
   ]
  },
  {
   "cell_type": "code",
   "execution_count": 36,
   "metadata": {},
   "outputs": [
    {
     "ename": "ValueError",
     "evalue": "matmul: Input operand 1 has a mismatch in its core dimension 0, with gufunc signature (n?,k),(k,m?)->(n?,m?) (size 6 is different from 7)",
     "output_type": "error",
     "traceback": [
      "\u001b[0;31m---------------------------------------------------------------------------\u001b[0m",
      "\u001b[0;31mValueError\u001b[0m                                Traceback (most recent call last)",
      "Input \u001b[0;32mIn [36]\u001b[0m, in \u001b[0;36m<cell line: 3>\u001b[0;34m()\u001b[0m\n\u001b[1;32m      3\u001b[0m \u001b[38;5;28;01mfor\u001b[39;00m angle \u001b[38;5;129;01min\u001b[39;00m \u001b[38;5;28msorted\u001b[39m(polytope_dict\u001b[38;5;241m.\u001b[39mkeys()):\n\u001b[1;32m      4\u001b[0m     polytope \u001b[38;5;241m=\u001b[39m polytope_dict[angle][\u001b[38;5;241m3\u001b[39m]\n\u001b[0;32m----> 5\u001b[0m     touching_dict[angle] \u001b[38;5;241m=\u001b[39m \u001b[43mcompute_touching\u001b[49m\u001b[43m(\u001b[49m\u001b[43mpolytope\u001b[49m\u001b[43m)\u001b[49m[\u001b[38;5;241m0\u001b[39m]\n",
      "Input \u001b[0;32mIn [32]\u001b[0m, in \u001b[0;36mcompute_touching\u001b[0;34m(polytope)\u001b[0m\n\u001b[1;32m     12\u001b[0m vertices_array \u001b[38;5;241m=\u001b[39m np\u001b[38;5;241m.\u001b[39mhstack(\n\u001b[1;32m     13\u001b[0m     [np\u001b[38;5;241m.\u001b[39mones((vertices_array\u001b[38;5;241m.\u001b[39mshape[\u001b[38;5;241m0\u001b[39m], \u001b[38;5;241m1\u001b[39m)), vertices_array])\n\u001b[1;32m     15\u001b[0m \u001b[38;5;66;03m# Compute the touching matrix\u001b[39;00m\n\u001b[0;32m---> 16\u001b[0m touching_matrix \u001b[38;5;241m=\u001b[39m \u001b[43mnp\u001b[49m\u001b[38;5;241;43m.\u001b[39;49m\u001b[43mmatmul\u001b[49m\u001b[43m(\u001b[49m\u001b[43mvertices_array\u001b[49m\u001b[43m,\u001b[49m\u001b[43m \u001b[49m\u001b[43mgrand_polytope_array\u001b[49m\u001b[43m)\u001b[49m\n\u001b[1;32m     18\u001b[0m \u001b[38;5;66;03m# Count the number of touching (zero entries)\u001b[39;00m\n\u001b[1;32m     19\u001b[0m no_touching \u001b[38;5;241m=\u001b[39m np\u001b[38;5;241m.\u001b[39mdot(\u001b[38;5;241m*\u001b[39mtouching_matrix\u001b[38;5;241m.\u001b[39mshape) \u001b[38;5;241m-\u001b[39m np\u001b[38;5;241m.\u001b[39mcount_nonzero(touching_matrix)\n",
      "\u001b[0;31mValueError\u001b[0m: matmul: Input operand 1 has a mismatch in its core dimension 0, with gufunc signature (n?,k),(k,m?)->(n?,m?) (size 6 is different from 7)"
     ]
    }
   ],
   "source": [
    "touching_dict = dict()\n",
    "\n",
    "for angle in sorted(polytope_dict.keys()):\n",
    "    polytope = polytope_dict[angle][3]\n",
    "    touching_dict[angle] = compute_touching(polytope)[0]"
   ]
  },
  {
   "cell_type": "code",
   "execution_count": 37,
   "metadata": {
    "scrolled": false
   },
   "outputs": [
    {
     "ename": "KeyError",
     "evalue": "Fraction(0, 1)",
     "output_type": "error",
     "traceback": [
      "\u001b[0;31m---------------------------------------------------------------------------\u001b[0m",
      "\u001b[0;31mKeyError\u001b[0m                                  Traceback (most recent call last)",
      "Input \u001b[0;32mIn [37]\u001b[0m, in \u001b[0;36m<cell line: 12>\u001b[0;34m()\u001b[0m\n\u001b[1;32m     10\u001b[0m ax\u001b[38;5;241m.\u001b[39maxvline(\u001b[38;5;241m1\u001b[39m\u001b[38;5;241m/\u001b[39m\u001b[38;5;241m3\u001b[39m, c \u001b[38;5;241m=\u001b[39m \u001b[38;5;124m\"\u001b[39m\u001b[38;5;124mgreen\u001b[39m\u001b[38;5;124m\"\u001b[39m, lw \u001b[38;5;241m=\u001b[39m \u001b[38;5;241m1\u001b[39m)\n\u001b[1;32m     11\u001b[0m ax\u001b[38;5;241m.\u001b[39maxvline(\u001b[38;5;241m1\u001b[39m\u001b[38;5;241m/\u001b[39m\u001b[38;5;241m2\u001b[39m, c \u001b[38;5;241m=\u001b[39m \u001b[38;5;124m\"\u001b[39m\u001b[38;5;124mgreen\u001b[39m\u001b[38;5;124m\"\u001b[39m, lw \u001b[38;5;241m=\u001b[39m \u001b[38;5;241m1\u001b[39m)\n\u001b[0;32m---> 12\u001b[0m ax\u001b[38;5;241m.\u001b[39mannotate(\u001b[38;5;124m\"\u001b[39m\u001b[38;5;124m 0\u001b[39m\u001b[38;5;124m\"\u001b[39m, (Fraction(\u001b[38;5;241m0\u001b[39m, \u001b[38;5;241m6\u001b[39m),  \u001b[43mtouching_dict\u001b[49m\u001b[43m[\u001b[49m\u001b[43mFraction\u001b[49m\u001b[43m(\u001b[49m\u001b[38;5;241;43m0\u001b[39;49m\u001b[43m,\u001b[49m\u001b[43m \u001b[49m\u001b[38;5;241;43m4\u001b[39;49m\u001b[43m)\u001b[49m\u001b[43m]\u001b[49m))\n\u001b[1;32m     13\u001b[0m ax\u001b[38;5;241m.\u001b[39mannotate(\u001b[38;5;124m\"\u001b[39m\u001b[38;5;124m 1/4\u001b[39m\u001b[38;5;124m\"\u001b[39m, (Fraction(\u001b[38;5;241m1\u001b[39m, \u001b[38;5;241m4\u001b[39m),  touching_dict[Fraction(\u001b[38;5;241m1\u001b[39m, \u001b[38;5;241m4\u001b[39m)]))\n\u001b[1;32m     14\u001b[0m ax\u001b[38;5;241m.\u001b[39mannotate(\u001b[38;5;124m\"\u001b[39m\u001b[38;5;124m 1/3\u001b[39m\u001b[38;5;124m\"\u001b[39m, (Fraction(\u001b[38;5;241m1\u001b[39m, \u001b[38;5;241m3\u001b[39m),  touching_dict[Fraction(\u001b[38;5;241m1\u001b[39m, \u001b[38;5;241m3\u001b[39m)]))\n",
      "\u001b[0;31mKeyError\u001b[0m: Fraction(0, 1)"
     ]
    },
    {
     "data": {
      "image/png": "[encoded data removed]",
      "text/plain": [
       "<Figure size 720x360 with 1 Axes>"
      ]
     },
     "metadata": {
      "needs_background": "light"
     },
     "output_type": "display_data"
    }
   ],
   "source": [
    "fig, ax = plt.subplots(figsize = (10, 5))\n",
    "ax.scatter(touching_dict.keys(), touching_dict.values(), s = 10)\n",
    "ax.plot(touching_dict.keys(), touching_dict.values(), c = \"orange\")\n",
    "ax.set_xlabel(\"Maximum Angle\")\n",
    "ax.set_ylabel(\"Number of Touchings\")\n",
    "ax.set_yscale(\"linear\")\n",
    "ax.axvline(0, c = \"green\", lw = 1)\n",
    "ax.axvline(1/6, c = \"green\", lw = 1)\n",
    "ax.axvline(1/4, c = \"green\", lw = 1)\n",
    "ax.axvline(1/3, c = \"green\", lw = 1)\n",
    "ax.axvline(1/2, c = \"green\", lw = 1)\n",
    "ax.annotate(\" 0\", (Fraction(0, 6),  touching_dict[Fraction(0, 4)]))\n",
    "ax.annotate(\" 1/4\", (Fraction(1, 4),  touching_dict[Fraction(1, 4)]))\n",
    "ax.annotate(\" 1/3\", (Fraction(1, 3),  touching_dict[Fraction(1, 3)]))\n",
    "ax.annotate(\" 1/2\", (Fraction(1, 2),  touching_dict[Fraction(1, 2)]))"
   ]
  },
  {
   "cell_type": "code",
   "execution_count": 2,
   "metadata": {},
   "outputs": [
    {
     "data": {
      "text/plain": [
       "[Fraction(0, 1),\n",
       " Fraction(1, 87),\n",
       " Fraction(2, 87),\n",
       " Fraction(1, 29),\n",
       " Fraction(4, 87),\n",
       " Fraction(5, 87),\n",
       " Fraction(2, 29),\n",
       " Fraction(7, 87),\n",
       " Fraction(8, 87),\n",
       " Fraction(3, 29),\n",
       " Fraction(10, 87),\n",
       " Fraction(11, 87),\n",
       " Fraction(4, 29),\n",
       " Fraction(13, 87),\n",
       " Fraction(14, 87),\n",
       " Fraction(5, 29),\n",
       " Fraction(16, 87),\n",
       " Fraction(17, 87),\n",
       " Fraction(1, 5),\n",
       " Fraction(6, 29),\n",
       " Fraction(19, 87),\n",
       " Fraction(20, 87),\n",
       " Fraction(7, 29),\n",
       " Fraction(1, 4),\n",
       " Fraction(22, 87),\n",
       " Fraction(23, 87),\n",
       " Fraction(13, 48),\n",
       " Fraction(11, 40),\n",
       " Fraction(8, 29),\n",
       " Fraction(25, 87),\n",
       " Fraction(7, 24),\n",
       " Fraction(26, 87),\n",
       " Fraction(9, 29),\n",
       " Fraction(5, 16),\n",
       " Fraction(28, 87),\n",
       " Fraction(1, 3),\n",
       " Fraction(222223, 666667),\n",
       " Fraction(10003, 30000),\n",
       " Fraction(17, 48),\n",
       " Fraction(3, 8),\n",
       " Fraction(19, 48),\n",
       " Fraction(5, 12),\n",
       " Fraction(7, 16),\n",
       " Fraction(11, 24),\n",
       " Fraction(23, 48),\n",
       " Fraction(1, 2)]"
      ]
     },
     "execution_count": 2,
     "metadata": {},
     "output_type": "execute_result"
    }
   ],
   "source": [
    "sorted(polytope_dict.keys())"
   ]
  }
 ],
 "metadata": {
  "kernelspec": {
   "display_name": "Python 3.10",
   "language": "python",
   "name": "python3.10"
  },
  "language_info": {
   "codemirror_mode": {
    "name": "ipython",
    "version": 3
   },
   "file_extension": ".py",
   "mimetype": "text/x-python",
   "name": "python",
   "nbconvert_exporter": "python",
   "pygments_lexer": "ipython3",
   "version": "3.10.4"
  }
 },
 "nbformat": 4,
 "nbformat_minor": 2
}
