{
 "cells": [
  {
   "cell_type": "code",
   "execution_count": 1,
   "metadata": {},
   "outputs": [
    {
     "name": "stdout",
     "output_type": "stream",
     "text": [
      "/Users/minhpham/Documents/Research/laughing-umbrella/xx_synthesis/monodromy/lrslib-071b/lrs\n"
     ]
    }
   ],
   "source": [
    "import numpy as np\n",
    "from fractions import *\n",
    "\n",
    "from time import perf_counter, time\n",
    "\n",
    "import sys\n",
    "\n",
    "sys.path.insert(1, \"/Users/minhpham/Documents/Research/laughing-umbrella/xx_synthesis/monodromy\")\n",
    "\n",
    "import monodromy\n",
    "\n",
    "from monodromy.coordinates import monodromy_alcove, monodromy_alcove_c2, monodromy_to_positive_canonical_polytope, rho_reflect\n",
    "from monodromy.elimination import cylinderize, project\n",
    "from monodromy.polytopes import *\n",
    "from monodromy.static import qlr_polytope\n",
    "from monodromy.method import *\n",
    "\n",
    "from itertools import count\n",
    "\n",
    "import os\n",
    "\n",
    "import matplotlib.pyplot as plt\n",
    "\n",
    "from scipy import stats\n",
    "\n",
    "from functools import reduce\n",
    "from itertools import combinations\n",
    "\n",
    "from sympy import Matrix"
   ]
  },
  {
   "cell_type": "markdown",
   "metadata": {},
   "source": [
    "Is the strong polytope just the weak polytope but scaled chopped off and reflected?"
   ]
  },
  {
   "cell_type": "code",
   "execution_count": 63,
   "metadata": {},
   "outputs": [],
   "source": [
    "# Define grand alcove\n",
    "def grand_alcove(n): \n",
    "    cylinderized_alcove = cylinderize(monodromy_alcove_c2, [0, 1, 2, 3], n+4)\n",
    "    ineq = []\n",
    "    for i in range(1, n+1):\n",
    "        l1, l2 = [0]*(n+4), [0]*(n+4)\n",
    "        l1[0] = 1\n",
    "        l1[-i] = -2\n",
    "        l2[-i] = 1\n",
    "        ineq.append(l1)\n",
    "        ineq.append(l2)\n",
    "    \n",
    "    xy_poly = Polytope([ConvexPolytope(inequalities=ineq, name = f\"grand_polytope_{n}\")])\n",
    "    cylinderized_alcove = monodromy_to_positive_canonical_polytope(cylinderized_alcove.intersect(xy_poly)).reduce()\n",
    "    \n",
    "    return cylinderized_alcove.convex_subpolytopes[0]"
   ]
  },
  {
   "cell_type": "code",
   "execution_count": 3,
   "metadata": {},
   "outputs": [],
   "source": [
    "def model_polytope(angle, n=3, poly = 0):\n",
    "    \"\"\"Return a polytope that is a scaled version of of the weak case\"\"\"\n",
    "    \n",
    "    ineq = sorted(polytope_dict[Fraction(1, 5)][n].convex_subpolytopes[poly].inequalities)\n",
    "    print(len(ineq))\n",
    "    for i in range(1, n+1):\n",
    "        ineq[-i][0] = Fraction(angle).numerator\n",
    "        ineq[-i][-i] = -Fraction(angle).denominator\n",
    "\n",
    "    polytope = ConvexPolytope(ineq)\n",
    "    \n",
    "    return polytope"
   ]
  },
  {
   "cell_type": "markdown",
   "metadata": {},
   "source": [
    "First, we find out if the strong model polytope contains convex component 0 of strong polytope or not. We also find that the model polytope is always in the Weyl chamber for (angle <=1/2)"
   ]
  },
  {
   "cell_type": "code",
   "execution_count": 9,
   "metadata": {},
   "outputs": [],
   "source": [
    "d = {0:3, 1:2, 2:1, 3:0}"
   ]
  },
  {
   "cell_type": "code",
   "execution_count": 65,
   "metadata": {},
   "outputs": [
    {
     "name": "stdout",
     "output_type": "stream",
     "text": [
      "36\n"
     ]
    }
   ],
   "source": [
    "angle, n, poly = Fraction(1, 2), 4, 0\n",
    "strong_polytope1 = polytope_dict[angle][n].convex_subpolytopes[poly]\n",
    "strong_polytope2 = polytope_dict[angle][n].convex_subpolytopes[d[poly]]\n",
    "\n",
    "strong_model_polytope = model_polytope(angle, n, poly)"
   ]
  },
  {
   "cell_type": "code",
   "execution_count": 66,
   "metadata": {
    "scrolled": true
   },
   "outputs": [
    {
     "data": {
      "text/plain": [
       "True"
      ]
     },
     "execution_count": 66,
     "metadata": {},
     "output_type": "execute_result"
    }
   ],
   "source": [
    "# Check if grand_alcove contains the strong_model\n",
    "grand_alcove(4).contains(strong_model_polytope)"
   ]
  },
  {
   "cell_type": "code",
   "execution_count": 67,
   "metadata": {},
   "outputs": [
    {
     "data": {
      "text/plain": [
       "True"
      ]
     },
     "execution_count": 67,
     "metadata": {},
     "output_type": "execute_result"
    }
   ],
   "source": [
    "# Check strong_model containing strong poly (first)\n",
    "strong_model_polytope.contains(strong_polytope1)"
   ]
  },
  {
   "cell_type": "code",
   "execution_count": 68,
   "metadata": {},
   "outputs": [
    {
     "data": {
      "text/plain": [
       "True"
      ]
     },
     "execution_count": 68,
     "metadata": {},
     "output_type": "execute_result"
    }
   ],
   "source": [
    "# Check strong_model containing strong poly (second)\n",
    "strong_model_polytope.contains(strong_polytope2)"
   ]
  },
  {
   "cell_type": "code",
   "execution_count": 23,
   "metadata": {},
   "outputs": [
    {
     "data": {
      "text/plain": [
       "True"
      ]
     },
     "execution_count": 23,
     "metadata": {},
     "output_type": "execute_result"
    }
   ],
   "source": [
    "strong_polytope3 = polytope_dict[angle][n].convex_subpolytopes[5]\n",
    "# Check strong_model containing strong poly (second)\n",
    "strong_model_polytope.contains(strong_polytope3)"
   ]
  },
  {
   "cell_type": "code",
   "execution_count": 29,
   "metadata": {},
   "outputs": [
    {
     "data": {
      "text/plain": [
       "False"
      ]
     },
     "execution_count": 29,
     "metadata": {},
     "output_type": "execute_result"
    }
   ],
   "source": [
    "# Check the other way round\n",
    "strong_polytope3.contains(strong_model_polytope)"
   ]
  },
  {
   "cell_type": "markdown",
   "metadata": {},
   "source": [
    "Now, we find out if the volume of the strong model polytope is the sum of volume of component 0 and 3. Or rather, if we take the volume of all the disjoint components, is it the volume of the strong component?\n",
    "- The answer seems to be no, but the volume union AcupB is very close to the volume of the strong model polytope"
   ]
  },
  {
   "cell_type": "code",
   "execution_count": 30,
   "metadata": {},
   "outputs": [
    {
     "data": {
      "text/plain": [
       "0.0023240412540723593"
      ]
     },
     "execution_count": 30,
     "metadata": {},
     "output_type": "execute_result"
    }
   ],
   "source": [
    "float(strong_model_polytope.volume.volume)"
   ]
  },
  {
   "cell_type": "code",
   "execution_count": 39,
   "metadata": {},
   "outputs": [],
   "source": [
    "# |A ∪ B| = |A| + |B| - |A ∩ B| - |A ∩ C| - |B ∩ C| + |A ∩ B ∩ C|\n",
    "A = float(strong_polytope1.volume.volume)\n",
    "B = float(strong_polytope2.volume.volume)\n",
    "C = float(strong_polytope3.volume.volume)\n",
    "AcapB = float(strong_polytope1.intersect(strong_polytope2).volume.volume)\n",
    "AcapC = float(strong_polytope1.intersect(strong_polytope3).volume.volume)\n",
    "BcapC = float(strong_polytope2.intersect(strong_polytope3).volume.volume)\n",
    "AcapBcapC = float(strong_polytope1.intersect(strong_polytope2).intersect(strong_polytope3).volume.volume)\n",
    "AcupB = A+B+C-AcapB-AcapC-BcapC+AcapBcapC"
   ]
  },
  {
   "cell_type": "code",
   "execution_count": 40,
   "metadata": {},
   "outputs": [
    {
     "data": {
      "text/plain": [
       "0.002311827046437145"
      ]
     },
     "execution_count": 40,
     "metadata": {},
     "output_type": "execute_result"
    }
   ],
   "source": [
    "AcupB"
   ]
  },
  {
   "cell_type": "code",
   "execution_count": 41,
   "metadata": {},
   "outputs": [
    {
     "data": {
      "text/plain": [
       "99.47444101459854"
      ]
     },
     "execution_count": 41,
     "metadata": {},
     "output_type": "execute_result"
    }
   ],
   "source": [
    "0.002311827046437145/0.0023240412540723593*100"
   ]
  },
  {
   "cell_type": "code",
   "execution_count": null,
   "metadata": {},
   "outputs": [],
   "source": []
  }
 ],
 "metadata": {
  "kernelspec": {
   "display_name": "Python 3.10",
   "language": "python",
   "name": "python3.10"
  },
  "language_info": {
   "codemirror_mode": {
    "name": "ipython",
    "version": 3
   },
   "file_extension": ".py",
   "mimetype": "text/x-python",
   "name": "python",
   "nbconvert_exporter": "python",
   "pygments_lexer": "ipython3",
   "version": "3.10.4"
  }
 },
 "nbformat": 4,
 "nbformat_minor": 2
}
