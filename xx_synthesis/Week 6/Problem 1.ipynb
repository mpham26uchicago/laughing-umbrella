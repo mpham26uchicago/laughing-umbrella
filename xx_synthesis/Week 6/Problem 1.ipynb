{
 "cells": [
  {
   "cell_type": "code",
   "execution_count": 1,
   "metadata": {},
   "outputs": [],
   "source": [
    "import sys\n",
    "\n",
    "sys.path.insert(1, \"/Users/minhpham/Documents/Work/Python/Qiskit/New Project/FrozenYoghourt/\")\n",
    "\n",
    "from FrozenYoghourt import *\n",
    "from FrozenYoghourt import *\n",
    "from FrozenYoghourt.mode import *\n",
    "from FrozenYoghourt.gates import *\n",
    "from FrozenYoghourt.gates.single import *\n",
    "from FrozenYoghourt.gates.double import *\n",
    "from FrozenYoghourt.gates.multi import *\n",
    "from FrozenYoghourt.maths import *\n",
    "from FrozenYoghourt.quantum import *\n",
    "from FrozenYoghourt.quantum.decomposition import *\n",
    "from FrozenYoghourt.circuit import *\n",
    "from FrozenYoghourt.visualization import *"
   ]
  },
  {
   "cell_type": "markdown",
   "metadata": {},
   "source": [
    "For any choice of $\\alpha_1, \\alpha_2, \\beta, d, e$ in \n",
    "\n",
    "$$U := \\text{CAN}(a_1, a_2, 0) \\cdot (Z_d \\otimes Z_e) \\cdot (XX_\\beta),$$\n",
    "\n",
    "there exist values $r, s, t, u, b_1,$ and $b_2$ so that the operator $U$ maybe equivalently expressed as \n",
    "\n",
    "$$(Z_r \\otimes Z_s) \\cdot \\text{CAN}(b_1, b_2, 0)\\cdot (Z_t \\otimes Z_u).$$"
   ]
  },
  {
   "cell_type": "markdown",
   "metadata": {},
   "source": [
    "### XX Case"
   ]
  },
  {
   "cell_type": "code",
   "execution_count": 2,
   "metadata": {},
   "outputs": [
    {
     "ename": "NameError",
     "evalue": "name 'RXX_gate' is not defined",
     "output_type": "error",
     "traceback": [
      "\u001b[0;31m---------------------------------------------------------------------------\u001b[0m",
      "\u001b[0;31mNameError\u001b[0m                                 Traceback (most recent call last)",
      "Input \u001b[0;32mIn [2]\u001b[0m, in \u001b[0;36m<cell line: 2>\u001b[0;34m()\u001b[0m\n\u001b[1;32m      1\u001b[0m \u001b[38;5;66;03m# List circuits components\u001b[39;00m\n\u001b[0;32m----> 2\u001b[0m LHS_XX \u001b[38;5;241m=\u001b[39m [\u001b[43mRXX_gate\u001b[49m(a1), RYY_gate(a2), tp(RZ_gate(d), RZ_gate(e)), RXX_gate(beta)]\n\u001b[1;32m      3\u001b[0m RHS_XX \u001b[38;5;241m=\u001b[39m [tp(RZ_gate(r), RZ_gate(s)), RXX_gate(b1), RYY_gate(b2), tp(RZ_gate(t), RZ_gate(u))]\n",
      "\u001b[0;31mNameError\u001b[0m: name 'RXX_gate' is not defined"
     ]
    }
   ],
   "source": [
    "\n",
    "# List circuits components\n",
    "LHS_XX = [RXX_gate(a1), RYY_gate(a2), tp(RZ_gate(d), RZ_gate(e)), RXX_gate(beta)]\n",
    "RHS_XX = [tp(RZ_gate(r), RZ_gate(s)), RXX_gate(b1), RYY_gate(b2), tp(RZ_gate(t), RZ_gate(u))]\n"
   ]
  },
  {
   "cell_type": "code",
   "execution_count": null,
   "metadata": {},
   "outputs": [],
   "source": [
    "### LHS Circuit\n",
    "Mode.toggle(\"s\")\n",
    "\n",
    "# Declare symbols\n",
    "a1, a2, d, e, beta = symbols('a1, a2, d, e, beta', real = True)\n",
    "\n",
    "# Build circuit\n",
    "lhs_circ = SymbolicCircuit(2)\n",
    "\n",
    "# Multiply by 2 to match convention of the paper\n",
    "lhs_circ.can(2*a1, 2*a2, 0)\n",
    "lhs_circ.rz([2*d, 2*e], [0, 1])\n",
    "lhs_circ.rxx(2*beta)\n",
    "lhs_circ.compute\n",
    "\n",
    "view(lhs_circ.unitary)"
   ]
  },
  {
   "cell_type": "code",
   "execution_count": null,
   "metadata": {},
   "outputs": [],
   "source": [
    "### RHS Circuit\n",
    "Mode.toggle(\"s\")\n",
    "\n",
    "# Declare symbols\n",
    "r, s, b1, b2, t, u = symbols('r, s, b1, b2, t, u', real = True)\n",
    "\n",
    "# Build circuit\n",
    "rhs_circ = SymbolicCircuit(2)\n",
    "\n",
    "# Multiply by 2 to match convention of the paper\n",
    "rhs_circ.rz([2*r, 2*s], [0, 1])\n",
    "rhs_circ.can(2*b1, 2*b2, 0)\n",
    "rhs_circ.rz([2*t, 2*u], [0, 1])\n",
    "rhs_circ.compute\n",
    "\n",
    "view(rhs_circ.unitary)"
   ]
  },
  {
   "cell_type": "markdown",
   "metadata": {
    "heading_collapsed": true
   },
   "source": [
    "### XY Case"
   ]
  },
  {
   "cell_type": "markdown",
   "metadata": {
    "hidden": true
   },
   "source": [
    "For any choice of $\\alpha_1, \\alpha_2, \\beta, d, e$ in \n",
    "\n",
    "$$U := \\text{CAN}(a_1, a_2, 0) \\cdot (Z_d \\otimes Z_e) \\cdot (XY_\\beta),$$\n",
    "\n",
    "there exist values $r, s, t, u, b_1,$ and $b_2$ so that the operator $U$ maybe equivalently expressed as \n",
    "\n",
    "$$(Z_r \\otimes Z_s) \\cdot \\text{CAN}(b_1, b_2, 0)\\cdot (Z_t \\otimes Z_u).$$"
   ]
  },
  {
   "cell_type": "code",
   "execution_count": null,
   "metadata": {
    "hidden": true
   },
   "outputs": [],
   "source": [
    "### LHS Circuit\n",
    "Mode.toggle(\"s\")\n",
    "\n",
    "# Declare symbols\n",
    "a1, a2, d, e, beta = symbols('a1, a2, d, e, beta', real = True)\n",
    "\n",
    "# Build circuit\n",
    "lhs_circ = SymbolicCircuit(2)\n",
    "\n",
    "# Multiply by 2 to match convention of the paper\n",
    "lhs_circ.can(2*a1, 2*a2, 0)\n",
    "lhs_circ.rz([2*d, 2*e], [0, 1])\n",
    "lhs_circ.can(2*beta, 2*beta, 0)\n",
    "lhs_circ.compute\n",
    "\n",
    "view(lhs_circ.unitary)"
   ]
  },
  {
   "cell_type": "code",
   "execution_count": null,
   "metadata": {
    "hidden": true
   },
   "outputs": [],
   "source": [
    "### RHS Circuit\n",
    "Mode.toggle(\"s\")\n",
    "\n",
    "# Declare symbols\n",
    "r, s, b1, b2, t, u = symbols('r, s, b1, b2, t, u', real = True)\n",
    "\n",
    "# Build circuit\n",
    "rhs_circ = SymbolicCircuit(2)\n",
    "\n",
    "# Multiply by 2 to match convention of the paper\n",
    "rhs_circ.rz([2*r, 2*s], [0, 1])\n",
    "rhs_circ.can(2*b1, 2*b2, 0)\n",
    "rhs_circ.rz([2*t, 2*u], [0, 1])\n",
    "rhs_circ.compute\n",
    "\n",
    "view(rhs_circ.unitary)"
   ]
  },
  {
   "cell_type": "markdown",
   "metadata": {
    "hidden": true
   },
   "source": [
    "If I have\n",
    "\n",
    "$$e^{-i(d+e)}\\cos(a_1-a_2) = e^{-i(r+s+t+u)}\\cos(b_1-b_2)$$\n",
    "\n",
    "where $a_1, a_2, b_1, b_2$ are canonical coordinates. Then does this imply that \n",
    "\n",
    "$$a_1-a_2 = b_1-b_2?$$"
   ]
  },
  {
   "cell_type": "markdown",
   "metadata": {
    "hidden": true
   },
   "source": [
    "$$|c_{b_1-b_2}|^2 = |c_{a_1-a_2}|^2$$\n",
    "\n",
    "$$|c_{b_1+b_2}|^2 = |c_{a_1+a_2} - 2s_\\beta^2 c_{a_1+a_2} -2 e^{2i(d-e)} s_\\beta c_\\beta s_{a_1+a_2}|^2$$"
   ]
  },
  {
   "cell_type": "markdown",
   "metadata": {},
   "source": [
    "### Check correctness"
   ]
  },
  {
   "cell_type": "code",
   "execution_count": 83,
   "metadata": {},
   "outputs": [],
   "source": [
    "import numpy as np\n",
    "import sys\n",
    "\n",
    "sys.path.insert(1, \"/Users/minhpham/Documents/Research/laughing-umbrella/xx_synthesis/monodromy\")\n",
    "\n",
    "import monodromy\n",
    "\n",
    "from monodromy.coordinates import unitary_to_monodromy_coordinate, monodromy_to_positive_canonical_coordinate"
   ]
  },
  {
   "cell_type": "markdown",
   "metadata": {},
   "source": [
    "For positive canonical triples $(a_1, a_2, 0)$ and $(b_1, b_2, 0)$ and for $\\beta$ an interaction strength, there exists parameters $d$ and $e$ satisfying\n",
    "\n",
    "$$\\text{CAN}(a_1, a_2, 0) \\cdot (Z_d \\otimes Z_e) \\cdot XY_\\beta \\equiv \\text{CAN}(b_1, b_2, 0)$$\n",
    "\n",
    "if and only if the following inequalities hold:\n",
    "\n",
    "\\begin{align*}b_1-b_2 &= a_1-a_2\\\\\n",
    "a_1+a_2-2\\beta \\leq b_1+b_2 &\\leq \\frac{\\pi}{2} + \\left|a_1+a_2+\\beta-\\frac{\\pi}{2}\\right|.\\end{align*}\n",
    "\n",
    "So we are generating random LHS and check if the canonical coordinate on the RHS matches our hypothesis"
   ]
  },
  {
   "cell_type": "code",
   "execution_count": 84,
   "metadata": {},
   "outputs": [],
   "source": [
    "def KAK():\n",
    "    \n",
    "\n",
    "def generate_random_circuit():\n",
    "    while True:\n",
    "        a1, a2 = np.random.rand(2)*np.pi/2\n",
    "        d, e = np.random.rand(2)*np.pi\n",
    "        beta = np.random.rand()*np.pi/6\n",
    "        # List non rejection conditions\n",
    "        non_rejection = [a2 >= 0, a1 >=a2, a1+a2 <= np.pi/2]\n",
    "        \n",
    "        if np.all(non_rejection):\n",
    "            return a1, a2, d, e, beta\n",
    "        \n",
    "def can_coord(mat):\n",
    "    # Compute canonical coordinate\n",
    "    return monodromy_to_positive_canonical_coordinate(*unitary_to_monodromy_coordinate(mat)[:3])"
   ]
  },
  {
   "cell_type": "code",
   "execution_count": 85,
   "metadata": {
    "code_folding": []
   },
   "outputs": [
    {
     "name": "stdout",
     "output_type": "stream",
     "text": [
      "\u001b[1;34mNUMERICAL \u001b[1;32mactivated\n"
     ]
    },
    {
     "data": {
      "text/latex": [
       "$\\displaystyle \\left[\\begin{matrix}0.4789635481 + 0.3138839683 i & 0 & 0 & 0.3417954315 - 0.7451487483 i\\\\0 & -0.0462287646 + 0.0448746902 i & 0.3665779218 - 0.9281539693 i & 0\\\\0 & -0.3665779218 - 0.9281539693 i & -0.0462287646 - 0.0448746902 i & 0\\\\-0.3417954315 - 0.7451487483 i & 0 & 0 & 0.4789635481 - 0.3138839683 i\\end{matrix}\\right]$"
      ],
      "text/plain": [
       "Matrix([\n",
       "[ 0.4789635481 + 0.3138839683*I,                              0,                              0, 0.3417954315 - 0.7451487483*I],\n",
       "[                             0, -0.0462287646 + 0.0448746902*I,  0.3665779218 - 0.9281539693*I,                             0],\n",
       "[                             0, -0.3665779218 - 0.9281539693*I, -0.0462287646 - 0.0448746902*I,                             0],\n",
       "[-0.3417954315 - 0.7451487483*I,                              0,                              0, 0.4789635481 - 0.3138839683*I]])"
      ]
     },
     "metadata": {},
     "output_type": "display_data"
    }
   ],
   "source": [
    "np.random.seed(4)\n",
    "\n",
    "### Generate random parameters\n",
    "a1, a2, d, e, beta = generate_random_circuit()\n",
    "\n",
    "### LHS Circuit\n",
    "Mode.toggle(\"n\")\n",
    "\n",
    "# Build circuit\n",
    "lhs_circ = NumericalCircuit(2)\n",
    "\n",
    "# Multiply by 2 to match convention of the paper\n",
    "lhs_circ.can(2*a1, 2*a2, 0)\n",
    "lhs_circ.rz([2*d, 2*e], [0, 1])\n",
    "lhs_circ.can(2*beta, 0, 0)\n",
    "\n",
    "view(lhs_circ.unitary)"
   ]
  },
  {
   "cell_type": "code",
   "execution_count": 152,
   "metadata": {},
   "outputs": [
    {
     "name": "stdout",
     "output_type": "stream",
     "text": [
      "b1 = 1.2336925080615102, b2 = 0.2726321785316202, b3 = 0.0\n"
     ]
    }
   ],
   "source": [
    "b1, b2, b3 = can_coord(lhs_circ.unitary)\n",
    "print(f\"{b1 = }, {b2 = }, {b3 = }\")"
   ]
  }
 ],
 "metadata": {
  "kernelspec": {
   "display_name": "Python 3.10",
   "language": "python",
   "name": "python3.10"
  },
  "language_info": {
   "codemirror_mode": {
    "name": "ipython",
    "version": 3
   },
   "file_extension": ".py",
   "mimetype": "text/x-python",
   "name": "python",
   "nbconvert_exporter": "python",
   "pygments_lexer": "ipython3",
   "version": "3.10.4"
  }
 },
 "nbformat": 4,
 "nbformat_minor": 2
}
