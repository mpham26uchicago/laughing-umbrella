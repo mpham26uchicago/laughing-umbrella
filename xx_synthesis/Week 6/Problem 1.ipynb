{
 "cells": [
  {
   "cell_type": "code",
   "execution_count": 1,
   "metadata": {},
   "outputs": [],
   "source": [
    "from sympy import *\n",
    "from sympy.physics.quantum import TensorProduct as tp\n",
    "from functools import reduce"
   ]
  },
  {
   "cell_type": "code",
   "execution_count": 2,
   "metadata": {},
   "outputs": [],
   "source": [
    "# Standard Pauli gates\n",
    "I_gate = Matrix([[1, 0], [0, 1]])\n",
    "X_gate = Matrix([[0, 1], [1, 0]])\n",
    "Y_gate = Matrix([[0, -I], [I, 0]])\n",
    "Z_gate = Matrix([[1, 0], [0, -1]])\n",
    "\n",
    "# Single Qubit Rotation gates\n",
    "RX_gate = lambda theta:  Matrix([[cos(theta), -I * sin(theta )],\n",
    "                       [-I * sin(theta ), cos(theta )]])\n",
    "RY_gate = lambda theta: Matrix([[cos(theta ), -sin(theta )],\n",
    "                       [sin(theta ), cos(theta )]])\n",
    "RZ_gate = lambda theta: Matrix([[exp(-I * theta ), 0],\n",
    "                       [0, exp(I * theta )]])\n",
    "\n",
    "# Two Qubit Rotation gates (there is no 1/2 factor in the paper)\n",
    "RXX_gate = lambda theta: Matrix([[cos(theta ), 0, 0, -I * sin(theta )],\n",
    "                       [0, cos(theta ), -I * sin(theta ), 0],\n",
    "                       [0, -I * sin(theta ), cos(theta ), 0],\n",
    "                       [-I * sin(theta ), 0, 0, cos(theta )]])\n",
    "RYY_gate = lambda theta: Matrix([[cos(theta ), 0, 0, I * sin(theta )],\n",
    "                       [0, cos(theta ), -I * sin(theta ), 0],\n",
    "                       [0, -I * sin(theta ), cos(theta ), 0],\n",
    "                       [I * sin(theta ), 0, 0, cos(theta )]])\n",
    "RZZ_gate = lambda theta: Matrix([[exp(-I * theta ), 0, 0, 0],\n",
    "                       [0, exp(I * theta ), 0, 0],\n",
    "                       [0, 0, exp(I * theta ), 0],\n",
    "                       [0, 0, 0, exp(-I * theta )]])"
   ]
  },
  {
   "cell_type": "markdown",
   "metadata": {},
   "source": [
    "For any choice of $\\alpha_1, \\alpha_2, \\beta, d, e$ in \n",
    "\n",
    "$$U := \\text{CAN}(a_1, a_2, 0) \\cdot (Z_d \\otimes Z_e) \\cdot (XX_\\beta),$$\n",
    "\n",
    "there exist values $r, s, t, u, b_1,$ and $b_2$ so that the operator $U$ maybe equivalently expressed as \n",
    "\n",
    "$$(Z_r \\otimes Z_s) \\cdot \\text{CAN}(b_1, b_2, 0)\\cdot (Z_t \\otimes Z_u).$$"
   ]
  },
  {
   "cell_type": "code",
   "execution_count": 3,
   "metadata": {},
   "outputs": [],
   "source": [
    "mult = lambda l: reduce(lambda a, b: a@b, l)"
   ]
  },
  {
   "cell_type": "markdown",
   "metadata": {},
   "source": [
    "### XX Case"
   ]
  },
  {
   "cell_type": "code",
   "execution_count": 4,
   "metadata": {},
   "outputs": [],
   "source": [
    "# Declare symbols\n",
    "a1, a2, d, e, beta = symbols('a1, a2, d, e, beta', real = True)\n",
    "r, s, b1, b2, t, u = symbols('r, s, b1, b2, t, u', real = True)\n",
    "\n",
    "# List circuits components\n",
    "LHS_XX = [RXX_gate(a1), RYY_gate(a2), tp(RZ_gate(d), RZ_gate(e)), RXX_gate(beta)]\n",
    "RHS_XX = [tp(RZ_gate(r), RZ_gate(s)), RXX_gate(b1), RYY_gate(b2), tp(RZ_gate(t), RZ_gate(u))]\n",
    "\n",
    "# Multiply circuits\n",
    "LHS_XX = simplify(mult(LHS_XX))\n",
    "RHS_XX = simplify(mult(RHS_XX))"
   ]
  },
  {
   "cell_type": "code",
   "execution_count": 5,
   "metadata": {
    "scrolled": true
   },
   "outputs": [
    {
     "data": {
      "text/latex": [
       "$\\displaystyle \\left[\\begin{matrix}\\left(- e^{2 i \\left(d + e\\right)} \\sin{\\left(\\beta \\right)} \\sin{\\left(a_{1} - a_{2} \\right)} + \\cos{\\left(\\beta \\right)} \\cos{\\left(a_{1} - a_{2} \\right)}\\right) e^{- i \\left(d + e\\right)} & 0 & 0 & - i \\left(e^{2 i \\left(d + e\\right)} \\sin{\\left(a_{1} - a_{2} \\right)} \\cos{\\left(\\beta \\right)} + \\sin{\\left(\\beta \\right)} \\cos{\\left(a_{1} - a_{2} \\right)}\\right) e^{- i \\left(d + e\\right)}\\\\0 & \\left(- e^{2 i d} \\sin{\\left(\\beta \\right)} \\sin{\\left(a_{1} + a_{2} \\right)} + e^{2 i e} \\cos{\\left(\\beta \\right)} \\cos{\\left(a_{1} + a_{2} \\right)}\\right) e^{- i \\left(d + e\\right)} & - i \\left(e^{2 i d} \\sin{\\left(a_{1} + a_{2} \\right)} \\cos{\\left(\\beta \\right)} + e^{2 i e} \\sin{\\left(\\beta \\right)} \\cos{\\left(a_{1} + a_{2} \\right)}\\right) e^{- i \\left(d + e\\right)} & 0\\\\0 & - i \\left(e^{2 i d} \\sin{\\left(\\beta \\right)} \\cos{\\left(a_{1} + a_{2} \\right)} + e^{2 i e} \\sin{\\left(a_{1} + a_{2} \\right)} \\cos{\\left(\\beta \\right)}\\right) e^{- i \\left(d + e\\right)} & \\left(e^{2 i d} \\cos{\\left(\\beta \\right)} \\cos{\\left(a_{1} + a_{2} \\right)} - e^{2 i e} \\sin{\\left(\\beta \\right)} \\sin{\\left(a_{1} + a_{2} \\right)}\\right) e^{- i \\left(d + e\\right)} & 0\\\\- i \\left(e^{2 i \\left(d + e\\right)} \\sin{\\left(\\beta \\right)} \\cos{\\left(a_{1} - a_{2} \\right)} + \\sin{\\left(a_{1} - a_{2} \\right)} \\cos{\\left(\\beta \\right)}\\right) e^{- i \\left(d + e\\right)} & 0 & 0 & \\left(e^{2 i \\left(d + e\\right)} \\cos{\\left(\\beta \\right)} \\cos{\\left(a_{1} - a_{2} \\right)} - \\sin{\\left(\\beta \\right)} \\sin{\\left(a_{1} - a_{2} \\right)}\\right) e^{- i \\left(d + e\\right)}\\end{matrix}\\right]$"
      ],
      "text/plain": [
       "Matrix([\n",
       "[  (-exp(2*I*(d + e))*sin(beta)*sin(a1 - a2) + cos(beta)*cos(a1 - a2))*exp(-I*(d + e)),                                                                                          0,                                                                                          0, -I*(exp(2*I*(d + e))*sin(a1 - a2)*cos(beta) + sin(beta)*cos(a1 - a2))*exp(-I*(d + e))],\n",
       "[                                                                                    0,   (-exp(2*I*d)*sin(beta)*sin(a1 + a2) + exp(2*I*e)*cos(beta)*cos(a1 + a2))*exp(-I*(d + e)), -I*(exp(2*I*d)*sin(a1 + a2)*cos(beta) + exp(2*I*e)*sin(beta)*cos(a1 + a2))*exp(-I*(d + e)),                                                                                     0],\n",
       "[                                                                                    0, -I*(exp(2*I*d)*sin(beta)*cos(a1 + a2) + exp(2*I*e)*sin(a1 + a2)*cos(beta))*exp(-I*(d + e)),    (exp(2*I*d)*cos(beta)*cos(a1 + a2) - exp(2*I*e)*sin(beta)*sin(a1 + a2))*exp(-I*(d + e)),                                                                                     0],\n",
       "[-I*(exp(2*I*(d + e))*sin(beta)*cos(a1 - a2) + sin(a1 - a2)*cos(beta))*exp(-I*(d + e)),                                                                                          0,                                                                                          0,    (exp(2*I*(d + e))*cos(beta)*cos(a1 - a2) - sin(beta)*sin(a1 - a2))*exp(-I*(d + e))]])"
      ]
     },
     "execution_count": 5,
     "metadata": {},
     "output_type": "execute_result"
    }
   ],
   "source": [
    "LHS_XX"
   ]
  },
  {
   "cell_type": "code",
   "execution_count": 6,
   "metadata": {},
   "outputs": [
    {
     "data": {
      "text/latex": [
       "$\\displaystyle \\left[\\begin{matrix}e^{- i \\left(r + s + t + u\\right)} \\cos{\\left(b_{1} - b_{2} \\right)} & 0 & 0 & - i e^{- i \\left(r + s - t - u\\right)} \\sin{\\left(b_{1} - b_{2} \\right)}\\\\0 & e^{i \\left(- r + s - t + u\\right)} \\cos{\\left(b_{1} + b_{2} \\right)} & - i e^{- i \\left(r - s - t + u\\right)} \\sin{\\left(b_{1} + b_{2} \\right)} & 0\\\\0 & - i e^{i \\left(r - s - t + u\\right)} \\sin{\\left(b_{1} + b_{2} \\right)} & e^{i \\left(r - s + t - u\\right)} \\cos{\\left(b_{1} + b_{2} \\right)} & 0\\\\- i e^{i \\left(r + s - t - u\\right)} \\sin{\\left(b_{1} - b_{2} \\right)} & 0 & 0 & e^{i \\left(r + s + t + u\\right)} \\cos{\\left(b_{1} - b_{2} \\right)}\\end{matrix}\\right]$"
      ],
      "text/plain": [
       "Matrix([\n",
       "[  exp(-I*(r + s + t + u))*cos(b1 - b2),                                      0,                                       0, -I*exp(-I*(r + s - t - u))*sin(b1 - b2)],\n",
       "[                                     0,   exp(I*(-r + s - t + u))*cos(b1 + b2), -I*exp(-I*(r - s - t + u))*sin(b1 + b2),                                       0],\n",
       "[                                     0, -I*exp(I*(r - s - t + u))*sin(b1 + b2),     exp(I*(r - s + t - u))*cos(b1 + b2),                                       0],\n",
       "[-I*exp(I*(r + s - t - u))*sin(b1 - b2),                                      0,                                       0,     exp(I*(r + s + t + u))*cos(b1 - b2)]])"
      ]
     },
     "execution_count": 6,
     "metadata": {},
     "output_type": "execute_result"
    }
   ],
   "source": [
    "RHS_XX"
   ]
  },
  {
   "cell_type": "markdown",
   "metadata": {},
   "source": [
    "### XY Case"
   ]
  },
  {
   "cell_type": "markdown",
   "metadata": {},
   "source": [
    "For any choice of $\\alpha_1, \\alpha_2, \\beta, d, e$ in \n",
    "\n",
    "$$U := \\text{CAN}(a_1, a_2, 0) \\cdot (Z_d \\otimes Z_e) \\cdot (XY_\\beta),$$\n",
    "\n",
    "there exist values $r, s, t, u, b_1,$ and $b_2$ so that the operator $U$ maybe equivalently expressed as \n",
    "\n",
    "$$(Z_r \\otimes Z_s) \\cdot \\text{CAN}(b_1, b_2, 0)\\cdot (Z_t \\otimes Z_u).$$"
   ]
  },
  {
   "cell_type": "code",
   "execution_count": 7,
   "metadata": {},
   "outputs": [],
   "source": [
    "# Declare symbols\n",
    "a1, a2, d, e, beta = symbols('a1, a2, d, e, beta', real = True)\n",
    "r, s, b1, b2, t, u = symbols('r, s, b1, b2, t, u', real = True)\n",
    "\n",
    "# List circuits components\n",
    "LHS_XY = [RXX_gate(a1), RYY_gate(a2), tp(RZ_gate(d), RZ_gate(e)), RXX_gate(beta), RYY_gate(beta)]\n",
    "RHS_XY = [tp(RZ_gate(r), RZ_gate(s)), RXX_gate(b1), RYY_gate(b2), tp(RZ_gate(t), RZ_gate(u))]\n",
    "\n",
    "# Multiply circuits\n",
    "LHS_XY = simplify(mult(LHS_XY))\n",
    "RHS_XY = simplify(mult(RHS_XY))"
   ]
  },
  {
   "cell_type": "markdown",
   "metadata": {},
   "source": [
    "If I have\n",
    "\n",
    "$$e^{-i(d+e)}\\cos(a_1-a_2) = e^{-i(r+s+t+u)}\\cos(b_1-b_2)$$\n",
    "\n",
    "where $a_1, a_2, b_1, b_2$ are canonical coordinates. Then does this imply that \n",
    "\n",
    "$$a_1-a_2 = b_1-b_2?$$"
   ]
  },
  {
   "cell_type": "code",
   "execution_count": 8,
   "metadata": {
    "scrolled": true
   },
   "outputs": [
    {
     "data": {
      "text/latex": [
       "$\\displaystyle \\left[\\begin{matrix}e^{- i \\left(d + e\\right)} \\cos{\\left(a_{1} - a_{2} \\right)} & 0 & 0 & - i e^{i \\left(d + e\\right)} \\sin{\\left(a_{1} - a_{2} \\right)}\\\\0 & \\left(- 2 e^{2 i d} \\sin{\\left(\\beta \\right)} \\sin{\\left(a_{1} + a_{2} \\right)} \\cos{\\left(\\beta \\right)} - 2 e^{2 i e} \\sin^{2}{\\left(\\beta \\right)} \\cos{\\left(a_{1} + a_{2} \\right)} + e^{2 i e} \\cos{\\left(a_{1} + a_{2} \\right)}\\right) e^{- i \\left(d + e\\right)} & i \\left(- 2 e^{2 i d} \\sin{\\left(a_{1} + a_{2} \\right)} \\cos^{2}{\\left(\\beta \\right)} + e^{2 i d} \\sin{\\left(a_{1} + a_{2} \\right)} - 2 e^{2 i e} \\sin{\\left(\\beta \\right)} \\cos{\\left(\\beta \\right)} \\cos{\\left(a_{1} + a_{2} \\right)}\\right) e^{- i \\left(d + e\\right)} & 0\\\\0 & i \\left(- 2 e^{2 i d} \\sin{\\left(\\beta \\right)} \\cos{\\left(\\beta \\right)} \\cos{\\left(a_{1} + a_{2} \\right)} - 2 e^{2 i e} \\sin{\\left(a_{1} + a_{2} \\right)} \\cos^{2}{\\left(\\beta \\right)} + e^{2 i e} \\sin{\\left(a_{1} + a_{2} \\right)}\\right) e^{- i \\left(d + e\\right)} & \\left(- 2 e^{2 i d} \\sin^{2}{\\left(\\beta \\right)} \\cos{\\left(a_{1} + a_{2} \\right)} + e^{2 i d} \\cos{\\left(a_{1} + a_{2} \\right)} - 2 e^{2 i e} \\sin{\\left(\\beta \\right)} \\sin{\\left(a_{1} + a_{2} \\right)} \\cos{\\left(\\beta \\right)}\\right) e^{- i \\left(d + e\\right)} & 0\\\\- i e^{- i \\left(d + e\\right)} \\sin{\\left(a_{1} - a_{2} \\right)} & 0 & 0 & e^{i \\left(d + e\\right)} \\cos{\\left(a_{1} - a_{2} \\right)}\\end{matrix}\\right]$"
      ],
      "text/plain": [
       "Matrix([\n",
       "[   exp(-I*(d + e))*cos(a1 - a2),                                                                                                                                     0,                                                                                                                                     0, -I*exp(I*(d + e))*sin(a1 - a2)],\n",
       "[                              0,   (-2*exp(2*I*d)*sin(beta)*sin(a1 + a2)*cos(beta) - 2*exp(2*I*e)*sin(beta)**2*cos(a1 + a2) + exp(2*I*e)*cos(a1 + a2))*exp(-I*(d + e)), I*(-2*exp(2*I*d)*sin(a1 + a2)*cos(beta)**2 + exp(2*I*d)*sin(a1 + a2) - 2*exp(2*I*e)*sin(beta)*cos(beta)*cos(a1 + a2))*exp(-I*(d + e)),                              0],\n",
       "[                              0, I*(-2*exp(2*I*d)*sin(beta)*cos(beta)*cos(a1 + a2) - 2*exp(2*I*e)*sin(a1 + a2)*cos(beta)**2 + exp(2*I*e)*sin(a1 + a2))*exp(-I*(d + e)),   (-2*exp(2*I*d)*sin(beta)**2*cos(a1 + a2) + exp(2*I*d)*cos(a1 + a2) - 2*exp(2*I*e)*sin(beta)*sin(a1 + a2)*cos(beta))*exp(-I*(d + e)),                              0],\n",
       "[-I*exp(-I*(d + e))*sin(a1 - a2),                                                                                                                                     0,                                                                                                                                     0,    exp(I*(d + e))*cos(a1 - a2)]])"
      ]
     },
     "execution_count": 8,
     "metadata": {},
     "output_type": "execute_result"
    }
   ],
   "source": [
    "LHS_XY"
   ]
  },
  {
   "cell_type": "code",
   "execution_count": 9,
   "metadata": {},
   "outputs": [
    {
     "data": {
      "text/latex": [
       "$\\displaystyle \\left[\\begin{matrix}e^{- i \\left(r + s + t + u\\right)} \\cos{\\left(b_{1} - b_{2} \\right)} & 0 & 0 & - i e^{- i \\left(r + s - t - u\\right)} \\sin{\\left(b_{1} - b_{2} \\right)}\\\\0 & e^{i \\left(- r + s - t + u\\right)} \\cos{\\left(b_{1} + b_{2} \\right)} & - i e^{- i \\left(r - s - t + u\\right)} \\sin{\\left(b_{1} + b_{2} \\right)} & 0\\\\0 & - i e^{i \\left(r - s - t + u\\right)} \\sin{\\left(b_{1} + b_{2} \\right)} & e^{i \\left(r - s + t - u\\right)} \\cos{\\left(b_{1} + b_{2} \\right)} & 0\\\\- i e^{i \\left(r + s - t - u\\right)} \\sin{\\left(b_{1} - b_{2} \\right)} & 0 & 0 & e^{i \\left(r + s + t + u\\right)} \\cos{\\left(b_{1} - b_{2} \\right)}\\end{matrix}\\right]$"
      ],
      "text/plain": [
       "Matrix([\n",
       "[  exp(-I*(r + s + t + u))*cos(b1 - b2),                                      0,                                       0, -I*exp(-I*(r + s - t - u))*sin(b1 - b2)],\n",
       "[                                     0,   exp(I*(-r + s - t + u))*cos(b1 + b2), -I*exp(-I*(r - s - t + u))*sin(b1 + b2),                                       0],\n",
       "[                                     0, -I*exp(I*(r - s - t + u))*sin(b1 + b2),     exp(I*(r - s + t - u))*cos(b1 + b2),                                       0],\n",
       "[-I*exp(I*(r + s - t - u))*sin(b1 - b2),                                      0,                                       0,     exp(I*(r + s + t + u))*cos(b1 - b2)]])"
      ]
     },
     "execution_count": 9,
     "metadata": {},
     "output_type": "execute_result"
    }
   ],
   "source": [
    "RHS_XY"
   ]
  },
  {
   "cell_type": "markdown",
   "metadata": {},
   "source": [
    "$$|c_{b_1-b_2}|^2 = |c_{a_1-a_2}|^2$$\n",
    "\n",
    "$$|c_{b_1+b_2}|^2 = |c_{a_1+a_2} - 2s_\\beta^2 c_{a_1+a_2} -2 e^{2i(d-e)} s_\\beta c_\\beta s_{a_1+a_2}|^2$$"
   ]
  },
  {
   "cell_type": "code",
   "execution_count": 10,
   "metadata": {},
   "outputs": [],
   "source": [
    "### Rearrange the above\n",
    "lhs_expr = cos(b1+b2)**2\n",
    "rhs_expr = -2*exp(2*I*(d-e))*sin(beta)*sin(a1 + a2)*cos(beta) - 2*sin(beta)**2*cos(a1 + a2) + cos(a1 + a2)\n",
    "\n",
    "x = - 2*sin(beta)**2*cos(a1 + a2) + cos(a1 + a2)\n",
    "r = -2*sin(beta)*sin(a1 + a2)*cos(beta)\n",
    "theta = 2*(d-e)\n",
    "\n",
    "rhs_expr = x**2 + r**2 + 2*x*r*cos(theta)"
   ]
  },
  {
   "cell_type": "code",
   "execution_count": 11,
   "metadata": {},
   "outputs": [],
   "source": [
    "lhs_expr = (lhs_expr - x**2-r**2)/(2*x*r)"
   ]
  },
  {
   "cell_type": "code",
   "execution_count": 12,
   "metadata": {},
   "outputs": [],
   "source": [
    "rhs_expr = (rhs_expr - x**2-r**2)/(2*x*r)"
   ]
  },
  {
   "cell_type": "code",
   "execution_count": 13,
   "metadata": {},
   "outputs": [],
   "source": [
    "lhs_expr_hypothetical = ((cos(a1+a2)**2 - 2*sin(beta)**2*cos(a1+a2))**2+4*sin(beta)**2*cos(beta)**2*sin(a1+a2)**2 - cos(b1+b2)**2)/(4*(cos(a1+a2)-2*sin(beta)**2*cos(a1+a2))*(sin(beta)*cos(beta)*sin(a1+a2)))"
   ]
  },
  {
   "cell_type": "markdown",
   "metadata": {},
   "source": [
    "### Check correctness"
   ]
  },
  {
   "cell_type": "code",
   "execution_count": 14,
   "metadata": {},
   "outputs": [
    {
     "name": "stdout",
     "output_type": "stream",
     "text": [
      "/Users/minhpham/Documents/Research/laughing-umbrella/xx_synthesis/monodromy/lrslib-071b/lrs\n"
     ]
    }
   ],
   "source": [
    "import numpy as np\n",
    "import sys\n",
    "\n",
    "sys.path.insert(1, \"/Users/minhpham/Documents/Research/laughing-umbrella/xx_synthesis/monodromy\")\n",
    "\n",
    "import monodromy\n",
    "\n",
    "from monodromy.coordinates import unitary_to_monodromy_coordinate, monodromy_to_positive_canonical_coordinate"
   ]
  },
  {
   "cell_type": "markdown",
   "metadata": {},
   "source": [
    "For positive canonical triples $(a_1, a_2, 0)$ and $(b_1, b_2, 0)$ and for $\\beta$ an interaction strength, there exists parameters $d$ and $e$ satisfying\n",
    "\n",
    "$$\\text{CAN}(a_1, a_2, 0) \\cdot (Z_d \\otimes Z_e) \\cdot XY_\\beta \\equiv \\text{CAN}(b_1, b_2, 0)$$\n",
    "\n",
    "if and only if the following inequalities hold:\n",
    "\n",
    "\\begin{align*}b_1-b_2 &= a_1-a_2\\\\\n",
    "a_1+a_2-2\\beta \\leq b_1+b_2 &\\leq \\frac{\\pi}{2} + \\left|a_1+a_2+\\beta-\\frac{\\pi}{2}\\right|.\\end{align*}\n",
    "\n",
    "So we are generating random LHS and check if the canonical coordinate on the RHS matches our hypothesis"
   ]
  },
  {
   "cell_type": "code",
   "execution_count": 15,
   "metadata": {},
   "outputs": [],
   "source": [
    "a1, a2, d, e, beta = symbols('a1, a2, d, e, beta', real = True)"
   ]
  },
  {
   "cell_type": "code",
   "execution_count": 97,
   "metadata": {},
   "outputs": [],
   "source": [
    "good = 0\n",
    "allowable = 0\n",
    "for _ in range(1000):\n",
    "    a = np.random.rand(5)\n",
    "\n",
    "    LHS_mat = np.array(LHS_XY.subs(zip([a1, a2, d, e, beta], a)).evalf()).astype(np.complex128)\n",
    "\n",
    "    b = monodromy_to_positive_canonical_coordinate(*unitary_to_monodromy_coordinate(LHS_mat)[:3])\n",
    "\n",
    "    if a[0]-a[1] >=0:\n",
    "        if (a[0]+a[1]-2*a[-1] <= b[0]+b[1]) and (b[0]+b[1] <= np.pi/2 + np.abs(a[0]+a[1]+a[-1]-np.pi/2)):\n",
    "            allowable +=1\n",
    "            if np.isclose(a[0]-a[1], b[0]-b[1]) or np.isclose(a[0]-a[1], np.pi/2-b[0]-b[1]):\n",
    "                good+=1\n",
    "        \n"
   ]
  },
  {
   "cell_type": "code",
   "execution_count": 98,
   "metadata": {},
   "outputs": [
    {
     "data": {
      "text/plain": [
       "0.8729166666666667"
      ]
     },
     "execution_count": 98,
     "metadata": {},
     "output_type": "execute_result"
    }
   ],
   "source": [
    "good/allowable"
   ]
  }
 ],
 "metadata": {
  "kernelspec": {
   "display_name": "Python 3.10",
   "language": "python",
   "name": "python3.10"
  },
  "language_info": {
   "codemirror_mode": {
    "name": "ipython",
    "version": 3
   },
   "file_extension": ".py",
   "mimetype": "text/x-python",
   "name": "python",
   "nbconvert_exporter": "python",
   "pygments_lexer": "ipython3",
   "version": "3.10.4"
  }
 },
 "nbformat": 4,
 "nbformat_minor": 2
}
