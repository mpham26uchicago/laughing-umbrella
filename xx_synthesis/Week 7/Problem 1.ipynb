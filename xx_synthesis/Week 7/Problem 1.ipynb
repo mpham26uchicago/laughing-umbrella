{
 "cells": [
  {
   "cell_type": "code",
   "execution_count": 1,
   "metadata": {},
   "outputs": [
    {
     "name": "stdout",
     "output_type": "stream",
     "text": [
      "/Users/minhpham/Documents/Research/laughing-umbrella/xx_synthesis/monodromy/lrslib-071b/lrs\n"
     ]
    }
   ],
   "source": [
    "import sys\n",
    "\n",
    "sys.path.insert(1, \"/Users/minhpham/Documents/Work/Python/Qiskit/New Project/FrozenYoghourt/\")\n",
    "\n",
    "from FrozenYoghourt import *\n",
    "from FrozenYoghourt import *\n",
    "from FrozenYoghourt.mode import *\n",
    "from FrozenYoghourt.gates import *\n",
    "from FrozenYoghourt.gates.single import *\n",
    "from FrozenYoghourt.gates.double import *\n",
    "from FrozenYoghourt.gates.multi import *\n",
    "from FrozenYoghourt.maths import *\n",
    "from FrozenYoghourt.quantum import *\n",
    "from FrozenYoghourt.quantum.decomposition import *\n",
    "from FrozenYoghourt.circuit import *\n",
    "from FrozenYoghourt.visualization import *\n",
    "\n",
    "import numpy as np\n",
    "import sys\n",
    "\n",
    "sys.path.insert(1, \"/Users/minhpham/Documents/Research/laughing-umbrella/xx_synthesis/monodromy\")\n",
    "\n",
    "import monodromy\n",
    "\n",
    "from monodromy.coordinates import unitary_to_monodromy_coordinate, monodromy_to_positive_canonical_coordinate\n",
    "\n",
    "from matplotlib import pyplot as plt"
   ]
  },
  {
   "cell_type": "markdown",
   "metadata": {},
   "source": [
    "KAK decomposition gives us \n",
    "\n",
    "$$CAN(a_1, a_2, 0) \\cdot (Z_d \\otimes Z_e) \\cdot (XX_\\beta) = (Z_r \\otimes Z_s) \\cdot CAN(b_1, b_2, 0) \\cdot (Z_t \\otimes Z_u).$$\n",
    "\n",
    "We want to equate these parameters to each other. $\\textbf{Note:}$ We need to multiply everything by 2 to match the convention of the paper. We also need to reverse the order of the circuit\n",
    "\n",
    "We now build numerical circuit to check the correctness of the inequalities of Theorem 5.3. Note that we have $a_1+a_2 \\leq \\frac{\\pi}{2}$, $a_1 \\geq a_2$ and $0 \\leq \\beta \\leq \\frac{\\pi}{4}$."
   ]
  },
  {
   "cell_type": "markdown",
   "metadata": {},
   "source": [
    "Once we have set up our left hand side circuit, we now compute the canonical coordinates for the right hand side circuit"
   ]
  },
  {
   "cell_type": "code",
   "execution_count": 2,
   "metadata": {},
   "outputs": [],
   "source": [
    "def generate_random_a1a2():\n",
    "    # Generate a random value for y in the range [0, pi/4]\n",
    "    a2 = np.random.uniform(0, np.pi / 4)\n",
    "    \n",
    "    # Generate a random value for x in the range [y, pi/2 - y]\n",
    "    low, high = np.sort([a2, np.pi / 2 - a2])\n",
    "    a1 = np.random.uniform(low, high)\n",
    "    \n",
    "    if a1>np.pi/4:\n",
    "        a1 = np.pi/2-a1\n",
    "        a2, a1 = np.sort([a1, a2]) # Since a3 = 0.\n",
    "    \n",
    "    assert a1+a2 <= np.pi/2, \"a1 + a2 is greater than pi/2\"\n",
    "    assert a1>=a2, \"a2 is greater than a1\"\n",
    "    assert a2 >=0, \"a2 is greater than 0\"\n",
    "    assert a1 <= np.pi/4, \"a1 is greater than pi/4\"\n",
    "    \n",
    "    return a1, a2\n",
    "\n",
    "def canonical_coordinate(mat):\n",
    "    # Compute canonical coordinate\n",
    "    return monodromy_to_positive_canonical_coordinate(*unitary_to_monodromy_coordinate(mat)[:3])"
   ]
  },
  {
   "cell_type": "code",
   "execution_count": 345,
   "metadata": {},
   "outputs": [
    {
     "name": "stdout",
     "output_type": "stream",
     "text": [
      "\u001b[1;34mNUMERICAL \u001b[1;32mactivated\n"
     ]
    }
   ],
   "source": [
    "# Left hand side circuit\n",
    "Mode.toggle(\"n\")\n",
    "\n",
    "cause = []\n",
    "fails = []\n",
    "rounds = 10_000\n",
    "\n",
    "for _ in range(rounds):\n",
    "\n",
    "    a1, a2, d, e, beta = *generate_random_a1a2(), *np.random.uniform(0, np.pi, 2), np.random.uniform(0, np.pi/4)\n",
    "\n",
    "    xx_lhs = NumericalCircuit(2)\n",
    "\n",
    "    xx_lhs.rxx(2*beta)\n",
    "    xx_lhs.rz([2*d, 2*e], [0, 1])\n",
    "    xx_lhs.can(2*a1, 2*a2, 0)\n",
    "\n",
    "    b1, b2, b3 = canonical_coordinate(xx_lhs.unitary)\n",
    "\n",
    "    try:\n",
    "        assert np.isclose(b3, 0), \"The z coordinate does not vanish\"\n",
    "        assert b1+b2 >= a1+a2 - beta, \"First inequality not satisfied\"\n",
    "        assert b1+b2 <= np.pi/2- np.abs(np.pi/2-(a1+a2+beta)), \"Second inequality not satisfied\"\n",
    "        assert b1-b2 >= np.abs(a1-a2-beta) or np.pi/2-(b1+b2) >= np.abs(a1-a2-beta), \"Third inequality not satisfied\"\n",
    "        assert b1-b2 <= a1-a2+beta, \"Fourth inequality not satisfied\"\n",
    "    except:\n",
    "        cause.append((a1, a2))\n",
    "        fails.append((b1, b2))"
   ]
  },
  {
   "cell_type": "code",
   "execution_count": 344,
   "metadata": {},
   "outputs": [
    {
     "data": {
      "text/plain": [
       "8767"
      ]
     },
     "execution_count": 344,
     "metadata": {},
     "output_type": "execute_result"
    }
   ],
   "source": [
    "len(fails)"
   ]
  },
  {
   "cell_type": "markdown",
   "metadata": {},
   "source": [
    "It turns out that having\n",
    "\n",
    "$$b_1+b_2 \\geq \\frac{\\pi}{2}-(a_1-a_2-\\beta)$$ fixes everything."
   ]
  },
  {
   "cell_type": "code",
   "execution_count": 42,
   "metadata": {},
   "outputs": [],
   "source": [
    "x, y = zip(*fails)\n",
    "\n",
    "fig, ax = plt.subplots()\n",
    "\n",
    "ax.scatter(x, y, s = 1)"
   ]
  },
  {
   "cell_type": "markdown",
   "metadata": {},
   "source": [
    "What if I construct the right hand side circuit and ask if the canonical coordinate afterwards actually agrees with the one before? This lead me to fixing the issues with the base-congruence."
   ]
  },
  {
   "cell_type": "code",
   "execution_count": 16,
   "metadata": {},
   "outputs": [
    {
     "name": "stdout",
     "output_type": "stream",
     "text": [
      "\u001b[1;34mNUMERICAL \u001b[1;32mactivated\n"
     ]
    }
   ],
   "source": [
    "Mode.toggle(\"n\")\n",
    "\n",
    "for _ in range(10_000):\n",
    "\n",
    "    r, s, t, u, b1, b2 = *np.random.uniform(0, np.pi, 4), *generate_random_a1a2()\n",
    "\n",
    "    xx_rhs = NumericalCircuit(2)\n",
    "    xx_rhs.rz([2*r, 2*s], [0, 1])\n",
    "    xx_rhs.can(2*b1, 2*b2, 0)\n",
    "    xx_rhs.rz([2*t, 2*u], [0, 1])\n",
    "\n",
    "    b1_, b2_, b3_ = canonical_coordinate(xx_rhs.unitary)\n",
    "\n",
    "    assert np.isclose(b1, b1_), \"b1 not close\"\n",
    "    assert np.isclose(b2, b2_), \"b2 not close\"\n",
    "    assert np.isclose(b3, 0), \"b3 not close\""
   ]
  },
  {
   "cell_type": "markdown",
   "metadata": {},
   "source": [
    "Another shot for $XY$? Hehe here goes"
   ]
  },
  {
   "cell_type": "code",
   "execution_count": 351,
   "metadata": {},
   "outputs": [
    {
     "name": "stdout",
     "output_type": "stream",
     "text": [
      "\u001b[1;34mNUMERICAL \u001b[1;32mactivated\n"
     ]
    }
   ],
   "source": [
    "# Left hand side circuit\n",
    "Mode.toggle(\"n\")\n",
    "\n",
    "cause = []\n",
    "fails = []\n",
    "rounds = 10_000\n",
    "\n",
    "for _ in range(rounds):\n",
    "\n",
    "    a1, a2, d, e, beta = *generate_random_a1a2(), *np.random.uniform(\n",
    "        0, np.pi, 2), np.random.uniform(0, np.pi / 4)\n",
    "\n",
    "    xy_lhs = NumericalCircuit(2)\n",
    "\n",
    "    xy_lhs.can(2 * a1, 2 * a2, 0)\n",
    "    xy_lhs.rz([2 * d, 2 * e], [0, 1])\n",
    "    xy_lhs.can(2 * beta, 2 * beta, 0)\n",
    "\n",
    "    b1, b2, b3 = canonical_coordinate(xy_lhs.unitary)\n",
    "\n",
    "    \"\"\"First set of inequalities\n",
    "    if not (np.isclose(a1 - a2, b1 - b2) \\\n",
    "        or np.isclose(a1 - a2, np.pi / 4 - np.abs(np.pi/4-(b1 + b2)))):\n",
    "        cause.append((a1, a2))\n",
    "        fails.append((b1, b2))\n",
    "    \"\"\"\n",
    "    \n",
    "    \"\"\"Second set of inequalties\"\"\"\n",
    "    assert (b1+b2 >= a1+a2-2*beta \\\n",
    "            or b1+b2 <= np.pi/2+np.abs(np.pi/2-(a1+a2+2*beta))), \"Not correct\""
   ]
  },
  {
   "cell_type": "code",
   "execution_count": 350,
   "metadata": {},
   "outputs": [
    {
     "data": {
      "text/plain": [
       "0"
      ]
     },
     "execution_count": 350,
     "metadata": {},
     "output_type": "execute_result"
    }
   ],
   "source": [
    "len(fails)"
   ]
  },
  {
   "cell_type": "markdown",
   "metadata": {},
   "source": [
    "If we let $a_1-a_2 = \\frac{\\pi}{2}-\\left|\\frac{\\pi}{2}-(b_1+b_2)\\right|$, then this seems to solve everything."
   ]
  },
  {
   "cell_type": "markdown",
   "metadata": {},
   "source": [
    "Now think about what Eric said about one dimension"
   ]
  },
  {
   "cell_type": "code",
   "execution_count": null,
   "metadata": {},
   "outputs": [],
   "source": []
  }
 ],
 "metadata": {
  "kernelspec": {
   "display_name": "Python 3.10",
   "language": "python",
   "name": "python3.10"
  },
  "language_info": {
   "codemirror_mode": {
    "name": "ipython",
    "version": 3
   },
   "file_extension": ".py",
   "mimetype": "text/x-python",
   "name": "python",
   "nbconvert_exporter": "python",
   "pygments_lexer": "ipython3",
   "version": "3.10.4"
  }
 },
 "nbformat": 4,
 "nbformat_minor": 2
}
