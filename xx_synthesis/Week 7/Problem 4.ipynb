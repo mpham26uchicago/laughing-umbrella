{
 "cells": [
  {
   "cell_type": "code",
   "execution_count": 81,
   "metadata": {},
   "outputs": [],
   "source": [
    "import sys\n",
    "\n",
    "sys.path.insert(1, \"/Users/minhpham/Documents/Work/Python/Qiskit/New Project/FrozenYoghourt/\")\n",
    "\n",
    "from FrozenYoghourt import *\n",
    "from FrozenYoghourt import *\n",
    "from FrozenYoghourt.mode import *\n",
    "from FrozenYoghourt.gates import *\n",
    "from FrozenYoghourt.gates.single import *\n",
    "from FrozenYoghourt.gates.double import *\n",
    "from FrozenYoghourt.gates.multi import *\n",
    "from FrozenYoghourt.maths import *\n",
    "from FrozenYoghourt.quantum import *\n",
    "from FrozenYoghourt.quantum.decomposition import *\n",
    "from FrozenYoghourt.circuit import *\n",
    "from FrozenYoghourt.visualization import *\n",
    "\n",
    "import numpy as np\n",
    "import sys\n",
    "\n",
    "sys.path.insert(1, \"/Users/minhpham/Documents/Research/laughing-umbrella/xx_synthesis/monodromy\")\n",
    "\n",
    "import monodromy\n",
    "\n",
    "from monodromy.coordinates import unitary_to_monodromy_coordinate, monodromy_to_positive_canonical_coordinate\n",
    "\n",
    "from matplotlib import pyplot as plt\n",
    "\n",
    "from itertools import product\n",
    "from functools import reduce"
   ]
  },
  {
   "cell_type": "code",
   "execution_count": 2,
   "metadata": {},
   "outputs": [],
   "source": [
    "def generate_random_a1a2():\n",
    "    # Generate a random value for y in the range [0, pi/4]\n",
    "    a2 = np.random.uniform(0, np.pi / 4)\n",
    "    \n",
    "    # Generate a random value for x in the range [y, pi/2 - y]\n",
    "    low, high = np.sort([a2, np.pi / 2 - a2])\n",
    "    a1 = np.random.uniform(low, high)\n",
    "    \n",
    "    if a1>np.pi/4:\n",
    "        a1 = np.pi/2-a1\n",
    "        a2, a1 = np.sort([a1, a2]) # Since a3 = 0.\n",
    "    \n",
    "    assert a1+a2 <= np.pi/2, \"a1 + a2 is greater than pi/2\"\n",
    "    assert a1>=a2, \"a2 is greater than a1\"\n",
    "    assert a2 >=0, \"a2 is greater than 0\"\n",
    "    assert a1 <= np.pi/4, \"a1 is greater than pi/4\"\n",
    "    \n",
    "    return a1, a2\n",
    "\n",
    "def canonical_coordinate(mat):\n",
    "    # Compute canonical coordinate\n",
    "    return monodromy_to_positive_canonical_coordinate(*unitary_to_monodromy_coordinate(mat)[:3])"
   ]
  },
  {
   "cell_type": "markdown",
   "metadata": {},
   "source": []
  },
  {
   "cell_type": "markdown",
   "metadata": {},
   "source": [
    "I'm gonna try to swap on Z gates for X gates to see if I get anything interesting"
   ]
  },
  {
   "cell_type": "code",
   "execution_count": 32,
   "metadata": {},
   "outputs": [
    {
     "name": "stdout",
     "output_type": "stream",
     "text": [
      "\u001b[1;34mNUMERICAL \u001b[1;32mactivated\n"
     ]
    },
    {
     "data": {
      "text/plain": [
       "array([[-0.21505452+0.08635128j,  0.72619165-0.51969731j,\n",
       "         0.22011815+0.30757897j,  0.02837412+0.07066466j],\n",
       "       [ 0.3282832 +0.11403868j, -0.04209379-0.09479627j,\n",
       "        -0.16438448+0.14738758j, -0.57730358+0.69745417j],\n",
       "       [ 0.57730358+0.69745417j,  0.16438448+0.14738758j,\n",
       "        -0.04209379+0.09479627j,  0.3282832 -0.11403868j],\n",
       "       [-0.02837412+0.07066466j, -0.22011815+0.30757897j,\n",
       "         0.72619165+0.51969731j, -0.21505452-0.08635128j]])"
      ]
     },
     "execution_count": 32,
     "metadata": {},
     "output_type": "execute_result"
    }
   ],
   "source": [
    "Mode.toggle(\"n\")\n",
    "\n",
    "a1, a2, d, e, beta = *generate_random_a1a2(), *np.random.uniform(0, np.pi, 2), np.random.uniform(0, np.pi/4)\n",
    "\n",
    "f1, f2 = *np.random.uniform(0, np.pi, 1), 0\n",
    "xy_circ = NumericalCircuit(2)\n",
    "xy_circ.can(2*a1, 2*a2, 0)\n",
    "xy_circ.ry(2*d, 0)\n",
    "xy_circ.rz(2*e, 1)\n",
    "\n",
    "# Add new term\n",
    "xy_circ.rx([2*f1, 2*f2], [0, 1])\n",
    "\n",
    "xy_circ.can(2*beta, 2*beta, 0)\n",
    "\n",
    "xy_circ.unitary"
   ]
  },
  {
   "cell_type": "code",
   "execution_count": 33,
   "metadata": {},
   "outputs": [
    {
     "data": {
      "text/plain": [
       "(0.7657243963928414, 0.4029125178042192, 2.615901373506474e-16)"
      ]
     },
     "execution_count": 33,
     "metadata": {},
     "output_type": "execute_result"
    }
   ],
   "source": [
    "canonical_coordinate(xy_circ.unitary)"
   ]
  },
  {
   "cell_type": "markdown",
   "metadata": {},
   "source": [
    "It seems like if we have\n",
    "\n",
    "$$CAN(a_1, a_2, 0) \\cdot \\text{ three rotation gates } \\cdot XY(\\beta),$$\n",
    "\n",
    "then we also get something that is locally equivalent to\n",
    "\n",
    "$$CAN(b_1, b_2, 0)$$\n",
    "\n",
    "Is this actually true?"
   ]
  },
  {
   "cell_type": "markdown",
   "metadata": {},
   "source": [
    "For pauli matrices $A$ and $B$, we have $[A, B] = 2AB$"
   ]
  },
  {
   "cell_type": "code",
   "execution_count": 110,
   "metadata": {},
   "outputs": [
    {
     "name": "stdout",
     "output_type": "stream",
     "text": [
      "{'II': 'I', 'IX': 'X', 'IY': 'Y', 'IZ': 'Z', 'XI': 'X', 'XX': 'I', 'XY': 'iZ', 'XZ': '-iY', 'YI': 'Y', 'YX': '-iZ', 'YY': 'I', 'YZ': 'iX', 'ZI': 'Z', 'ZX': 'iY', 'ZY': '-iX', 'ZZ': 'I'}\n"
     ]
    }
   ],
   "source": [
    "# Create the multiplication dictionary\n",
    "pauli_dict = {\n",
    "    'II': 'I',\n",
    "    'IX': 'X',\n",
    "    'IY': 'Y',\n",
    "    'IZ': 'Z',\n",
    "    'XI': 'X',\n",
    "    'XX': 'I',\n",
    "    'XY': 'iZ',\n",
    "    'XZ': '-iY',\n",
    "    'YI': 'Y',\n",
    "    'YX': '-iZ',\n",
    "    'YY': 'I',\n",
    "    'YZ': 'iX',\n",
    "    'ZI': 'Z',\n",
    "    'ZX': 'iY',\n",
    "    'ZY': '-iX',\n",
    "    'ZZ': 'I'\n",
    "}\n",
    "\n",
    "phase_dict = {\"\": \"\", \"i\": \"i\", \"-i\": \"-i\", \"ii\" :\"-\", \"-i-i\" :\"-\", \"i-i\": \"\", \"-ii\": \"\"}\n",
    "\n",
    "# Print the dictionary\n",
    "print(pauli_dict)"
   ]
  },
  {
   "cell_type": "code",
   "execution_count": 111,
   "metadata": {},
   "outputs": [],
   "source": [
    "two_qubit_products = [reduce(lambda a, b: a+b, elem) for elem in \\\n",
    "                     list(product([\"I\", \"X\", \"Y\", \"Z\"], repeat = 4))]"
   ]
  },
  {
   "cell_type": "code",
   "execution_count": 137,
   "metadata": {},
   "outputs": [],
   "source": [
    "pauli_multiplication_table = dict()\n",
    "\n",
    "for pairs in two_qubit_products:\n",
    "    A0, A1, B0, B1 = pairs\n",
    "    C0L, C1L = pauli_dict[A0+B0], pauli_dict[A1+B1]\n",
    "    phase0 = phase_dict[C0L[:-1]+C1L[:-1]]\n",
    "    C0L, C1L = C0L[-1], C1L[-1]\n",
    "    \n",
    "    C0R, C1R = pauli_dict[B0+A0], pauli_dict[B1+A1]\n",
    "    phase1 = phase_dict[C0R[:-1]+C1R[:-1]]\n",
    "    C0R, C1R = C0R[-1], C1R[-1]\n",
    "    \n",
    "    if abs(len(phase0)-len(phase1))==1:\n",
    "        pauli_multiplication_table[pairs] = C0L+C1L\n",
    "    else:\n",
    "        pauli_multiplication_table[pairs] = \"00\""
   ]
  },
  {
   "cell_type": "code",
   "execution_count": 146,
   "metadata": {},
   "outputs": [],
   "source": [
    "def generating_algebra(generators):\n",
    "    iterating_algebra = set(generators)\n",
    "    \n",
    "    while True:\n",
    "        # Python doesn't like its iterate changing\n",
    "        fixed_algebra = iterating_algebra.copy()\n",
    "        \n",
    "        for A in fixed_algebra:\n",
    "            for B in fixed_algebra:\n",
    "                \n",
    "                # Iterate through and compute\n",
    "                C = pauli_multiplication_table[A+B]\n",
    "                \n",
    "                # Add to existing set\n",
    "                if C != \"00\":\n",
    "                    iterating_algebra.add(C)\n",
    "        \n",
    "        if len(fixed_algebra) == len(iterating_algebra):\n",
    "            print(\"Generation completes\")\n",
    "            return iterating_algebra"
   ]
  },
  {
   "cell_type": "code",
   "execution_count": 147,
   "metadata": {},
   "outputs": [
    {
     "name": "stdout",
     "output_type": "stream",
     "text": [
      "Generation completes\n"
     ]
    },
    {
     "data": {
      "text/plain": [
       "{'IZ', 'XX', 'XY', 'YX', 'YY', 'ZI'}"
      ]
     },
     "execution_count": 147,
     "metadata": {},
     "output_type": "execute_result"
    }
   ],
   "source": [
    "generators = [\"XX\", \"YY\", \"ZI\", \"IZ\"]\n",
    "generating_algebra(generators)"
   ]
  },
  {
   "cell_type": "code",
   "execution_count": 76,
   "metadata": {},
   "outputs": [
    {
     "name": "stdout",
     "output_type": "stream",
     "text": [
      "{'IIII': '0', 'IIIX': '0', 'IIIY': '0', 'IIIZ': '0', 'IIXI': '0', 'IIXX': '0', 'IIXY': '0', 'IIXZ': '0', 'IIYI': '0', 'IIYX': '0', 'IIYY': '0', 'IIYZ': '0', 'IIZI': '0', 'IIZX': '0', 'IIZY': '0', 'IIZZ': '0', 'IXII': '0', 'IXIX': '0', 'IXIY': '0', 'IXIZ': '0', 'IXXI': '0', 'IXXX': '0', 'IXXY': '0', 'IXXZ': '0', 'IXYI': '0', 'IXYX': '0', 'IXYY': '0', 'IXYZ': '0', 'IXZI': '0', 'IXZX': '0', 'IXZY': '0', 'IXZZ': '0', 'IYII': '0', 'IYIX': '0', 'IYIY': '0', 'IYIZ': '0', 'IYXI': '0', 'IYXX': '0', 'IYXY': '0', 'IYXZ': '0', 'IYYI': '0', 'IYYX': '0', 'IYYY': '0', 'IYYZ': '0', 'IYZI': '0', 'IYZX': '0', 'IYZY': '0', 'IYZZ': '0', 'IZII': '0', 'IZIX': '0', 'IZIY': '0', 'IZIZ': '0', 'IZXI': '0', 'IZXX': '0', 'IZXY': '0', 'IZXZ': '0', 'IZYI': '0', 'IZYX': '0', 'IZYY': '0', 'IZYZ': '0', 'IZZI': '0', 'IZZX': '0', 'IZZY': '0', 'IZZZ': '0', 'XIII': '0', 'XIIX': '0', 'XIIY': '0', 'XIIZ': '0', 'XIXI': '0', 'XIXX': '0', 'XIXY': '0', 'XIXZ': '0', 'XIYI': '0', 'XIYX': '0', 'XIYY': '0', 'XIYZ': '0', 'XIZI': '0', 'XIZX': '0', 'XIZY': '0', 'XIZZ': '0', 'XXII': '0', 'XXIX': '0', 'XXIY': '0', 'XXIZ': '0', 'XXXI': '0', 'XXXX': '0', 'XXXY': '0', 'XXXZ': '0', 'XXYI': '0', 'XXYX': '0', 'XXYY': 'ZZ', 'XXYZ': '0', 'XXZI': '0', 'XXZX': '0', 'XXZY': '0', 'XXZZ': 'YY', 'XYII': '0', 'XYIX': '0', 'XYIY': '0', 'XYIZ': '0', 'XYXI': '0', 'XYXX': '0', 'XYXY': '0', 'XYXZ': '0', 'XYYI': '0', 'XYYX': 'ZZ', 'XYYY': '0', 'XYYZ': '0', 'XYZI': '0', 'XYZX': '0', 'XYZY': '0', 'XYZZ': '0', 'XZII': '0', 'XZIX': '0', 'XZIY': '0', 'XZIZ': '0', 'XZXI': '0', 'XZXX': '0', 'XZXY': '0', 'XZXZ': '0', 'XZYI': '0', 'XZYX': '0', 'XZYY': '0', 'XZYZ': '0', 'XZZI': '0', 'XZZX': 'YY', 'XZZY': '0', 'XZZZ': '0', 'YIII': '0', 'YIIX': '0', 'YIIY': '0', 'YIIZ': '0', 'YIXI': '0', 'YIXX': '0', 'YIXY': '0', 'YIXZ': '0', 'YIYI': '0', 'YIYX': '0', 'YIYY': '0', 'YIYZ': '0', 'YIZI': '0', 'YIZX': '0', 'YIZY': '0', 'YIZZ': '0', 'YXII': '0', 'YXIX': '0', 'YXIY': '0', 'YXIZ': '0', 'YXXI': '0', 'YXXX': '0', 'YXXY': 'ZZ', 'YXXZ': '0', 'YXYI': '0', 'YXYX': '0', 'YXYY': '0', 'YXYZ': '0', 'YXZI': '0', 'YXZX': '0', 'YXZY': '0', 'YXZZ': '0', 'YYII': '0', 'YYIX': '0', 'YYIY': '0', 'YYIZ': '0', 'YYXI': '0', 'YYXX': 'ZZ', 'YYXY': '0', 'YYXZ': '0', 'YYYI': '0', 'YYYX': '0', 'YYYY': '0', 'YYYZ': '0', 'YYZI': '0', 'YYZX': '0', 'YYZY': '0', 'YYZZ': 'XX', 'YZII': '0', 'YZIX': '0', 'YZIY': '0', 'YZIZ': '0', 'YZXI': '0', 'YZXX': '0', 'YZXY': '0', 'YZXZ': '0', 'YZYI': '0', 'YZYX': '0', 'YZYY': '0', 'YZYZ': '0', 'YZZI': '0', 'YZZX': '0', 'YZZY': 'XX', 'YZZZ': '0', 'ZIII': '0', 'ZIIX': '0', 'ZIIY': '0', 'ZIIZ': '0', 'ZIXI': '0', 'ZIXX': '0', 'ZIXY': '0', 'ZIXZ': '0', 'ZIYI': '0', 'ZIYX': '0', 'ZIYY': '0', 'ZIYZ': '0', 'ZIZI': '0', 'ZIZX': '0', 'ZIZY': '0', 'ZIZZ': '0', 'ZXII': '0', 'ZXIX': '0', 'ZXIY': '0', 'ZXIZ': '0', 'ZXXI': '0', 'ZXXX': '0', 'ZXXY': '0', 'ZXXZ': 'YY', 'ZXYI': '0', 'ZXYX': '0', 'ZXYY': '0', 'ZXYZ': '0', 'ZXZI': '0', 'ZXZX': '0', 'ZXZY': '0', 'ZXZZ': '0', 'ZYII': '0', 'ZYIX': '0', 'ZYIY': '0', 'ZYIZ': '0', 'ZYXI': '0', 'ZYXX': '0', 'ZYXY': '0', 'ZYXZ': '0', 'ZYYI': '0', 'ZYYX': '0', 'ZYYY': '0', 'ZYYZ': 'XX', 'ZYZI': '0', 'ZYZX': '0', 'ZYZY': '0', 'ZYZZ': '0', 'ZZII': '0', 'ZZIX': '0', 'ZZIY': '0', 'ZZIZ': '0', 'ZZXI': '0', 'ZZXX': 'YY', 'ZZXY': '0', 'ZZXZ': '0', 'ZZYI': '0', 'ZZYX': '0', 'ZZYY': 'XX', 'ZZYZ': '0', 'ZZZI': '0', 'ZZZX': '0', 'ZZZY': '0', 'ZZZZ': '0'}\n"
     ]
    }
   ],
   "source": [
    "# Define the Pauli matrices as strings\n",
    "I = 'I'\n",
    "X = 'X'\n",
    "Y = 'Y'\n",
    "Z = 'Z'\n",
    "\n",
    "# List all possible two-qubit Pauli matrices\n",
    "two_qubit_paulis = [a+b for a in [I, X, Y, Z] for b in [I, X, Y, Z]]\n",
    "\n",
    "# Initialize an empty dictionary to store the commutators\n",
    "commutator_dict = {}\n",
    "\n",
    "# Define a function to compute the commutator of two Pauli matrices\n",
    "def commutator(A, B):\n",
    "    if A == B:\n",
    "        return '0'\n",
    "    elif (A == 'XX' and B == 'YY') or (A == 'YY' and B == 'XX'):\n",
    "        return 'ZZ'\n",
    "    elif (A == 'XX' and B == 'ZZ') or (A == 'ZZ' and B == 'XX'):\n",
    "        return 'YY'\n",
    "    elif (A == 'YY' and B == 'ZZ') or (A == 'ZZ' and B == 'YY'):\n",
    "        return 'XX'\n",
    "    elif (A == 'XY' and B == 'YX') or (A == 'YX' and B == 'XY'):\n",
    "        return 'ZZ'\n",
    "    elif (A == 'XZ' and B == 'ZX') or (A == 'ZX' and B == 'XZ'):\n",
    "        return 'YY'\n",
    "    elif (A == 'YZ' and B == 'ZY') or (A == 'ZY' and B == 'YZ'):\n",
    "        return 'XX'\n",
    "    else:\n",
    "        return '0'\n",
    "\n",
    "# Compute the commutators for all combinations of two-qubit Pauli matrices\n",
    "for pauli1 in two_qubit_paulis:\n",
    "    for pauli2 in two_qubit_paulis:\n",
    "        key = pauli1 + pauli2\n",
    "        commutator_result = commutator(pauli1, pauli2)\n",
    "        commutator_dict[key] = commutator_result\n",
    "\n",
    "# Print the dictionary\n"
   ]
  },
  {
   "cell_type": "code",
   "execution_count": null,
   "metadata": {},
   "outputs": [],
   "source": []
  }
 ],
 "metadata": {
  "kernelspec": {
   "display_name": "Python 3.10",
   "language": "python",
   "name": "python3.10"
  },
  "language_info": {
   "codemirror_mode": {
    "name": "ipython",
    "version": 3
   },
   "file_extension": ".py",
   "mimetype": "text/x-python",
   "name": "python",
   "nbconvert_exporter": "python",
   "pygments_lexer": "ipython3",
   "version": "3.10.4"
  }
 },
 "nbformat": 4,
 "nbformat_minor": 2
}
