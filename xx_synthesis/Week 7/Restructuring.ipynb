{
 "cells": [
  {
   "cell_type": "code",
   "execution_count": 54,
   "metadata": {},
   "outputs": [
    {
     "name": "stdout",
     "output_type": "stream",
     "text": [
      "/Users/minhpham/Documents/Research/laughing-umbrella/xx_synthesis/monodromy/lrslib-071b/lrs\n"
     ]
    }
   ],
   "source": [
    "import sys\n",
    "\n",
    "sys.path.insert(1, \"/Users/minhpham/Documents/Work/Python/Qiskit/New Project/FrozenYoghourt/\")\n",
    "\n",
    "from FrozenYoghourt import *\n",
    "from FrozenYoghourt import *\n",
    "from FrozenYoghourt.mode import *\n",
    "from FrozenYoghourt.gates import *\n",
    "from FrozenYoghourt.gates.single import *\n",
    "from FrozenYoghourt.gates.double import *\n",
    "from FrozenYoghourt.gates.multi import *\n",
    "from FrozenYoghourt.maths import *\n",
    "from FrozenYoghourt.quantum import *\n",
    "from FrozenYoghourt.quantum.decomposition import *\n",
    "from FrozenYoghourt.circuit import *\n",
    "from FrozenYoghourt.visualization import *\n",
    "\n",
    "import numpy as np\n",
    "import sys\n",
    "\n",
    "sys.path.insert(1, \"/Users/minhpham/Documents/Research/laughing-umbrella/xx_synthesis/monodromy\")\n",
    "\n",
    "import monodromy\n",
    "\n",
    "from monodromy.coordinates import unitary_to_monodromy_coordinate, monodromy_to_positive_canonical_coordinate"
   ]
  },
  {
   "cell_type": "markdown",
   "metadata": {},
   "source": [
    "KAK decomposition gives us \n",
    "\n",
    "$$CAN(a_1, a_2, 0) \\cdot (Z_d \\otimes Z_e) \\cdot (XX_\\beta) = (Z_r \\otimes Z_s) \\cdot CAN(b_1, b_2, 0) \\cdot (Z_t \\otimes Z_u).$$\n",
    "\n",
    "We want to equate these parameters to each other. $\\textbf{Note:}$ We need to multiply everything by 2 to match the convention of the paper. We also need to reverse the order of the circuit\n",
    "\n",
    "We now build numerical circuit to check the correctness of the inequalities of Theorem 5.3. Note that we have $a_1+a_2 \\leq \\frac{\\pi}{2}$, $a_1 \\geq a_2$ and $0 \\leq \\beta \\leq \\frac{\\pi}{4}$."
   ]
  },
  {
   "cell_type": "markdown",
   "metadata": {},
   "source": [
    "Once we have set up our left hand side circuit, we now compute the canonical coordinates for the right hand side circuit"
   ]
  },
  {
   "cell_type": "code",
   "execution_count": 109,
   "metadata": {},
   "outputs": [],
   "source": [
    "def generate_random_a1a2():\n",
    "    # Generate a random value for y in the range [0, pi/4]\n",
    "    a2 = np.random.uniform(0, np.pi / 4)\n",
    "    \n",
    "    # Generate a random value for x in the range [y, pi/2 - y]\n",
    "    a1 = np.random.uniform(a2, np.pi / 2 - a2)\n",
    "    \n",
    "    assert a1+a2 <= np.pi/2, \"a1 + a2 is greater than pi/2\"\n",
    "    assert a1>=a2, \"a2 is greater than a1\"\n",
    "    assert a2 >=0, \"a2 is greater than 0\"\n",
    "    \n",
    "    return a1, a2\n",
    "\n",
    "def canonical_coordinate(mat):\n",
    "    # Compute canonical coordinate\n",
    "    return monodromy_to_positive_canonical_coordinate(*unitary_to_monodromy_coordinate(mat)[:3])"
   ]
  },
  {
   "cell_type": "code",
   "execution_count": 113,
   "metadata": {},
   "outputs": [
    {
     "name": "stdout",
     "output_type": "stream",
     "text": [
      "\u001b[1;34mNUMERICAL \u001b[1;32mactivated\n"
     ]
    }
   ],
   "source": [
    "# Left hand side circuit\n",
    "Mode.toggle(\"n\")\n",
    "\n",
    "fail = {\"b3=0\": 0, \"b1+b2≥\": 0, \"b1+b2≤\": 0, \"b1-b2≥\": 0, \"b1-b2≤\": 0}\n",
    "rounds = 1000\n",
    "\n",
    "for _ in range(rounds):\n",
    "\n",
    "    a1, a2, d, e, beta = *generate_random_a1a2(), *np.random.uniform(0, np.pi, 2), np.random.uniform(0, np.pi/4)\n",
    "\n",
    "    xx_lhs = NumericalCircuit(2)\n",
    "\n",
    "    xx_lhs.can(2*a1, 2*a2, 0)\n",
    "    xx_lhs.rz([2*d, 2*e], [0, 1])\n",
    "    xx_lhs.rxx(2*beta)\n",
    "\n",
    "\n",
    "    b1, b2, b3 = canonical_coordinate(xx_lhs.unitary)\n",
    "\n",
    "    try:\n",
    "        assert np.isclose(b3, 0), \"The z coordinate does not vanish\"\n",
    "    except:\n",
    "        fail[\"b3=0\"] +=1\n",
    "    \n",
    "    try:\n",
    "        assert b1+b2 >= a1+a2 - beta, \"First inequality not satisfied\"\n",
    "    except:\n",
    "        fail[\"b1+b2≥\"] +=1\n",
    "\n",
    "    try:\n",
    "        assert b1+b2 <= np.pi/2- np.abs(np.pi/2-(a1+a2+beta)), \"Second inequality not satisfied\"\n",
    "    except:\n",
    "        fail[\"b1+b2≤\"] += 1\n",
    "        \n",
    "    try:\n",
    "        assert b1-b2 >= np.abs(a1-a2-beta), \"Third inequality not satisfied\"\n",
    "    except:\n",
    "        fail[\"b1-b2≥\"] +=1\n",
    "    \n",
    "    try:\n",
    "        assert b1-b2 <= a1-a2+beta, \"Fourth inequality not satisfied\"\n",
    "    except:\n",
    "        fail[\"b1-b2≤\"] +=1"
   ]
  },
  {
   "cell_type": "code",
   "execution_count": 114,
   "metadata": {},
   "outputs": [
    {
     "data": {
      "text/plain": [
       "{'b3=0': 0, 'b1+b2≥': 84, 'b1+b2≤': 133, 'b1-b2≥': 101, 'b1-b2≤': 117}"
      ]
     },
     "execution_count": 114,
     "metadata": {},
     "output_type": "execute_result"
    }
   ],
   "source": [
    "fail"
   ]
  },
  {
   "cell_type": "code",
   "execution_count": null,
   "metadata": {},
   "outputs": [],
   "source": []
  }
 ],
 "metadata": {
  "kernelspec": {
   "display_name": "Python 3.10",
   "language": "python",
   "name": "python3.10"
  },
  "language_info": {
   "codemirror_mode": {
    "name": "ipython",
    "version": 3
   },
   "file_extension": ".py",
   "mimetype": "text/x-python",
   "name": "python",
   "nbconvert_exporter": "python",
   "pygments_lexer": "ipython3",
   "version": "3.10.4"
  }
 },
 "nbformat": 4,
 "nbformat_minor": 2
}
