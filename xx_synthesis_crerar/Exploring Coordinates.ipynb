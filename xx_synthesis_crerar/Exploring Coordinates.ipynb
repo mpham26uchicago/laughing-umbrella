{
 "cells": [
  {
   "cell_type": "markdown",
   "metadata": {},
   "source": [
    "### Modules"
   ]
  },
  {
   "cell_type": "code",
   "execution_count": 138,
   "metadata": {},
   "outputs": [],
   "source": [
    "import numpy as np\n",
    "from scipy.linalg import expm\n",
    "import matplotlib.pyplot as plt\n",
    "from mpl_toolkits.mplot3d import Axes3D\n",
    "\n",
    "epsilon = 1e-6\n",
    "\n",
    "def normalize_logspec_A(coordinate):\n",
    "    \"\"\"\n",
    "    Utility function for rotating a LogSpec tuple (targeting A)\n",
    "    into its normal form.\n",
    "\n",
    "    Expects a sorted input in the range [0, 1].\n",
    "    \"\"\"\n",
    "    total = sum(coordinate)\n",
    "    if total > epsilon:\n",
    "        return normalize_logspec_A([*coordinate[1:], coordinate[0] - 1])\n",
    "    elif total < -epsilon:\n",
    "        raise ValueError(\n",
    "            f\"Over-rotated: {total}. I don't think this should happen.\"\n",
    "        )\n",
    "    else:\n",
    "        return coordinate\n",
    "\n",
    "\n",
    "def normalize_logspec_AC2(coordinate):\n",
    "    \"\"\"\n",
    "    Utility function for rotating a LogSpec tuple (targeting A_{C_2})\n",
    "    into its normal form.\n",
    "\n",
    "    Expects a sorted input in the range [0, 1].\n",
    "    \"\"\"\n",
    "    partially_normalized_coordinate = normalize_logspec_A(coordinate)\n",
    "    if partially_normalized_coordinate[1] >= \\\n",
    "            -partially_normalized_coordinate[2]:\n",
    "        return partially_normalized_coordinate\n",
    "    else:\n",
    "        return [partially_normalized_coordinate[2] + 1 / 2,\n",
    "                partially_normalized_coordinate[3] + 1 / 2,\n",
    "                partially_normalized_coordinate[0] - 1 / 2,\n",
    "                partially_normalized_coordinate[1] - 1 / 2]\n",
    "\n",
    "def unitary_to_monodromy_coordinate(unitary):\n",
    "    \"\"\"\n",
    "    Given a unitary matrix, produces its alcove coordinate.\n",
    "    \"\"\"\n",
    "    unitary = unitary * np.complex128(np.linalg.det(unitary)) ** (-1 / 4)\n",
    "    sysy = np.array([\n",
    "        [0,  0,  0, 1],\n",
    "        [0,  0, -1, 0],\n",
    "        [0, -1,  0, 0],\n",
    "        [1,  0,  0, 0],\n",
    "    ], dtype=complex)\n",
    "    gammaQ = reduce(np.dot, [unitary, sysy, unitary.T, sysy])\n",
    "    logspec_coordinate = np.real(\n",
    "        np.log(np.linalg.eigvals(gammaQ)) / (2 * np.pi * 1j))\n",
    "    return normalize_logspec_AC2(\n",
    "        sorted(np.mod(logspec_coordinate, 1.0), reverse=True)\n",
    "    )\n",
    "\n",
    "def monodromy_to_positive_canonical_coordinate(x, y, z):\n",
    "    \"\"\"\n",
    "    Given a monodromy alcove coordinate, produces its image as an unnormalized positive canonical coordinate. Take the first three of the four monodromy coordinates.\n",
    "    \"\"\"\n",
    "    normalizing_factor = np.pi\n",
    "    return (\n",
    "        (x + y) / 2 * normalizing_factor,\n",
    "        (z + x) / 2 * normalizing_factor,\n",
    "        (y + z) / 2 * normalizing_factor\n",
    "    )"
   ]
  },
  {
   "cell_type": "markdown",
   "metadata": {},
   "source": [
    "### Gates"
   ]
  },
  {
   "cell_type": "code",
   "execution_count": 324,
   "metadata": {},
   "outputs": [],
   "source": [
    "XX = lambda theta: np.array([[np.cos(theta), 0, 0, -1j*np.sin(theta)], \n",
    "                             [0, np.cos(theta), -1j*np.sin(theta), 0], \n",
    "                             [0, -1j*np.sin(theta), np.cos(theta), 0], \n",
    "                             [-1j*np.sin(theta), 0, 0, np.cos(theta)]])\n",
    "\n",
    "YY = lambda theta: np.array([[np.cos(theta), 0, 0, 1j*np.sin(theta)], \n",
    "                             [0, np.cos(theta), -1j*np.sin(theta), 0], \n",
    "                             [0, -1j*np.sin(theta), np.cos(theta), 0], \n",
    "                             [1j*np.sin(theta), 0, 0, np.cos(theta)]])\n",
    "\n",
    "XY = lambda theta: XX(theta)@YY(theta)"
   ]
  },
  {
   "cell_type": "markdown",
   "metadata": {},
   "source": [
    "### XX\n",
    "\n",
    "We have that\n",
    "\n",
    "$$XX(\\alpha) = \\exp(-i\\alpha XX)$$\n",
    "\n",
    "By page 5 of $XX$, we have that $0\\leq \\alpha \\leq \\frac{\\pi}{4}$. By computation, we have that\n",
    "\n",
    "$$\\Pi(XX(\\alpha)) = \\left(\\frac{\\alpha}{\\pi}, \\frac{\\alpha}{\\pi}, - \\frac{\\alpha}{\\pi}, - \\frac{\\alpha}{\\pi}\\right)$$\n",
    "\n",
    "Let $x_1, ..., x_4$ be the monodromy coordinates, we have that the monodromy coordinates for XX satisfies\n",
    "\n",
    "$$0 \\leq x_1 \\leq \\frac{1}{4}, \\quad x_2 = x_1, \\quad x_3 = -x_1.$$\n",
    "\n",
    "### XY\n",
    "\n",
    "We have that\n",
    "\n",
    "$$XY(\\alpha) = \\exp[-i\\alpha (XX+YY)]$$\n",
    "\n",
    "By page 5 of $XX$, we have that $0\\leq \\alpha+\\alpha \\leq \\frac{\\pi}{4}$. By computation, we have that\n",
    "\n",
    "$$\\Pi(XY(\\alpha)) = \\left(\\frac{2\\alpha}{\\pi}, 0, 0, - \\frac{2\\alpha}{\\pi}\\right)$$\n",
    "\n",
    "Let $x_1, ..., x_4$ be the monodromy coordinates, we have that the monodromy coordinates for XY satisfies\n",
    "\n",
    "$$0 \\leq x_1 \\leq \\frac{1}{2}, \\quad x_2 = 0, \\quad x_3 = 0.$$\n"
   ]
  },
  {
   "cell_type": "markdown",
   "metadata": {},
   "source": [
    "### Angles"
   ]
  },
  {
   "cell_type": "code",
   "execution_count": 513,
   "metadata": {},
   "outputs": [
    {
     "data": {
      "text/plain": [
       "[0.49999999999999994, 0.0, 0.0, -0.5]"
      ]
     },
     "execution_count": 513,
     "metadata": {},
     "output_type": "execute_result"
    }
   ],
   "source": [
    "unitary_to_monodromy_coordinate(XY(np.pi/4))"
   ]
  },
  {
   "cell_type": "code",
   "execution_count": 307,
   "metadata": {},
   "outputs": [],
   "source": [
    "# Generate unitary\n",
    "# Convert to monodromy\n",
    "# Convert to positive canonical coordinate\n",
    "# Plot\n",
    "\n",
    "# Example usage\n",
    "n = 4  # Size of the matrix\n",
    "a, b = -4, 5\n",
    "H = a*XX+b*YY\n",
    "\n",
    "coord_list = []\n",
    "for t in np.random.uniform(0, 1/4, 10000):\n",
    "    U = expm(1j*H*np.pi*t)\n",
    "    x, y, z = unitary_to_monodromy_coordinate(U)[:3]\n",
    "    coord_list.append(np.round(monodromy_to_positive_canonical_coordinate(x/np.pi, y/np.pi, z/np.pi), 10))"
   ]
  },
  {
   "cell_type": "code",
   "execution_count": 311,
   "metadata": {},
   "outputs": [
    {
     "data": {
      "text/plain": [
       "<matplotlib.collections.PathCollection at 0x7fddbe1ccf10>"
      ]
     },
     "execution_count": 311,
     "metadata": {},
     "output_type": "execute_result"
    },
    {
     "data": {
      "image/png": "[encoded data removed]",
      "text/plain": [
       "<Figure size 432x288 with 1 Axes>"
      ]
     },
     "metadata": {
      "needs_background": "light"
     },
     "output_type": "display_data"
    }
   ],
   "source": [
    "plt.scatter(x_coord, y_coord, s = 1)"
   ]
  }
 ],
 "metadata": {
  "kernelspec": {
   "display_name": "Python 3.10",
   "language": "python",
   "name": "python3.10"
  },
  "language_info": {
   "codemirror_mode": {
    "name": "ipython",
    "version": 3
   },
   "file_extension": ".py",
   "mimetype": "text/x-python",
   "name": "python",
   "nbconvert_exporter": "python",
   "pygments_lexer": "ipython3",
   "version": "3.10.4"
  }
 },
 "nbformat": 4,
 "nbformat_minor": 2
}
